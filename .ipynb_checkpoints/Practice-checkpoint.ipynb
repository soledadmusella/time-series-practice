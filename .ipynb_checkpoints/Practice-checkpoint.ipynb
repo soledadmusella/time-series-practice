{
 "cells": [
  {
   "cell_type": "markdown",
   "metadata": {
    "ExecuteTime": {
     "end_time": "2020-07-10T15:11:14.826040Z",
     "start_time": "2020-07-10T15:11:14.818122Z"
    }
   },
   "source": [
    "I will do some practice with Time Series. A Series is STATIONARY when the following statical averages are COSTANT:\n",
    "\n",
    "- MEAN\n",
    "- VARIANCE\n",
    "- AUTOCORRELATION"
   ]
  },
  {
   "cell_type": "markdown",
   "metadata": {
    "ExecuteTime": {
     "end_time": "2020-07-10T15:11:27.752208Z",
     "start_time": "2020-07-10T15:11:27.743829Z"
    }
   },
   "source": [
    "If one of theese statistical concepts are not CONSTANT mean that there is not stationarity. \n",
    "Also a TIME SERIES is not STATIONARY if there is a TREND"
   ]
  },
  {
   "cell_type": "code",
   "execution_count": 28,
   "metadata": {
    "ExecuteTime": {
     "end_time": "2020-07-10T16:10:36.276523Z",
     "start_time": "2020-07-10T16:10:36.272583Z"
    }
   },
   "outputs": [],
   "source": [
    "import pandas as pd\n",
    "import numpy as np\n",
    "import matplotlib.pyplot as plt"
   ]
  },
  {
   "cell_type": "code",
   "execution_count": 29,
   "metadata": {
    "ExecuteTime": {
     "end_time": "2020-07-10T16:10:36.652315Z",
     "start_time": "2020-07-10T16:10:36.613432Z"
    }
   },
   "outputs": [
    {
     "data": {
      "text/html": [
       "<div>\n",
       "<style scoped>\n",
       "    .dataframe tbody tr th:only-of-type {\n",
       "        vertical-align: middle;\n",
       "    }\n",
       "\n",
       "    .dataframe tbody tr th {\n",
       "        vertical-align: top;\n",
       "    }\n",
       "\n",
       "    .dataframe thead th {\n",
       "        text-align: right;\n",
       "    }\n",
       "</style>\n",
       "<table border=\"1\" class=\"dataframe\">\n",
       "  <thead>\n",
       "    <tr style=\"text-align: right;\">\n",
       "      <th></th>\n",
       "      <th>date</th>\n",
       "      <th>open</th>\n",
       "      <th>high</th>\n",
       "      <th>low</th>\n",
       "      <th>close</th>\n",
       "      <th>volume</th>\n",
       "    </tr>\n",
       "  </thead>\n",
       "  <tbody>\n",
       "    <tr>\n",
       "      <th>10105</th>\n",
       "      <td>2020-04-13</td>\n",
       "      <td>290950.01</td>\n",
       "      <td>290950.01</td>\n",
       "      <td>279060.00</td>\n",
       "      <td>282800.00</td>\n",
       "      <td>565</td>\n",
       "    </tr>\n",
       "    <tr>\n",
       "      <th>10106</th>\n",
       "      <td>2020-04-14</td>\n",
       "      <td>291400.00</td>\n",
       "      <td>291533.33</td>\n",
       "      <td>286392.75</td>\n",
       "      <td>289730.26</td>\n",
       "      <td>672</td>\n",
       "    </tr>\n",
       "    <tr>\n",
       "      <th>10107</th>\n",
       "      <td>2020-04-15</td>\n",
       "      <td>284500.00</td>\n",
       "      <td>284500.00</td>\n",
       "      <td>281201.01</td>\n",
       "      <td>283750.00</td>\n",
       "      <td>562</td>\n",
       "    </tr>\n",
       "    <tr>\n",
       "      <th>10108</th>\n",
       "      <td>2020-04-16</td>\n",
       "      <td>283750.00</td>\n",
       "      <td>283750.99</td>\n",
       "      <td>278800.00</td>\n",
       "      <td>282281.99</td>\n",
       "      <td>779</td>\n",
       "    </tr>\n",
       "    <tr>\n",
       "      <th>10109</th>\n",
       "      <td>2020-04-17</td>\n",
       "      <td>289585.01</td>\n",
       "      <td>289585.01</td>\n",
       "      <td>283600.00</td>\n",
       "      <td>284400.00</td>\n",
       "      <td>819</td>\n",
       "    </tr>\n",
       "  </tbody>\n",
       "</table>\n",
       "</div>"
      ],
      "text/plain": [
       "             date       open       high        low      close  volume\n",
       "10105  2020-04-13  290950.01  290950.01  279060.00  282800.00     565\n",
       "10106  2020-04-14  291400.00  291533.33  286392.75  289730.26     672\n",
       "10107  2020-04-15  284500.00  284500.00  281201.01  283750.00     562\n",
       "10108  2020-04-16  283750.00  283750.99  278800.00  282281.99     779\n",
       "10109  2020-04-17  289585.01  289585.01  283600.00  284400.00     819"
      ]
     },
     "execution_count": 29,
     "metadata": {},
     "output_type": "execute_result"
    }
   ],
   "source": [
    "brk = pd.read_csv('/Users/soledadmusella/Desktop/time-series-practice/brk_stock_data_ copy.csv',skiprows=14)\n",
    "brk.tail()"
   ]
  },
  {
   "cell_type": "code",
   "execution_count": 30,
   "metadata": {
    "ExecuteTime": {
     "end_time": "2020-07-10T16:10:36.889327Z",
     "start_time": "2020-07-10T16:10:36.879727Z"
    }
   },
   "outputs": [
    {
     "data": {
      "text/plain": [
       "date       object\n",
       "open      float64\n",
       "high      float64\n",
       "low       float64\n",
       "close     float64\n",
       "volume      int64\n",
       "dtype: object"
      ]
     },
     "execution_count": 30,
     "metadata": {},
     "output_type": "execute_result"
    }
   ],
   "source": [
    "brk.dtypes"
   ]
  },
  {
   "cell_type": "markdown",
   "metadata": {},
   "source": [
    "First step is to reversing date format into string"
   ]
  },
  {
   "cell_type": "code",
   "execution_count": 31,
   "metadata": {
    "ExecuteTime": {
     "end_time": "2020-07-10T16:10:37.730732Z",
     "start_time": "2020-07-10T16:10:37.719317Z"
    }
   },
   "outputs": [
    {
     "name": "stdout",
     "output_type": "stream",
     "text": [
      "1980-03-17 00:00:00 datetime64[ns]\n"
     ]
    }
   ],
   "source": [
    "brk['date'] = pd.to_datetime(brk['date'],format='%Y-%m-%d')\n",
    "print(brk['date'][0],brk['date'].dtype)"
   ]
  },
  {
   "cell_type": "markdown",
   "metadata": {},
   "source": [
    "Second step is to set the date as an Index"
   ]
  },
  {
   "cell_type": "code",
   "execution_count": 32,
   "metadata": {
    "ExecuteTime": {
     "end_time": "2020-07-10T16:10:38.563318Z",
     "start_time": "2020-07-10T16:10:38.548150Z"
    }
   },
   "outputs": [
    {
     "data": {
      "text/html": [
       "<div>\n",
       "<style scoped>\n",
       "    .dataframe tbody tr th:only-of-type {\n",
       "        vertical-align: middle;\n",
       "    }\n",
       "\n",
       "    .dataframe tbody tr th {\n",
       "        vertical-align: top;\n",
       "    }\n",
       "\n",
       "    .dataframe thead th {\n",
       "        text-align: right;\n",
       "    }\n",
       "</style>\n",
       "<table border=\"1\" class=\"dataframe\">\n",
       "  <thead>\n",
       "    <tr style=\"text-align: right;\">\n",
       "      <th></th>\n",
       "      <th>open</th>\n",
       "      <th>high</th>\n",
       "      <th>low</th>\n",
       "      <th>close</th>\n",
       "      <th>volume</th>\n",
       "    </tr>\n",
       "    <tr>\n",
       "      <th>date</th>\n",
       "      <th></th>\n",
       "      <th></th>\n",
       "      <th></th>\n",
       "      <th></th>\n",
       "      <th></th>\n",
       "    </tr>\n",
       "  </thead>\n",
       "  <tbody>\n",
       "    <tr>\n",
       "      <th>1980-03-17</th>\n",
       "      <td>290.0</td>\n",
       "      <td>310.0</td>\n",
       "      <td>290.0</td>\n",
       "      <td>290.0</td>\n",
       "      <td>10000</td>\n",
       "    </tr>\n",
       "    <tr>\n",
       "      <th>1980-03-18</th>\n",
       "      <td>290.0</td>\n",
       "      <td>290.0</td>\n",
       "      <td>290.0</td>\n",
       "      <td>290.0</td>\n",
       "      <td>0</td>\n",
       "    </tr>\n",
       "    <tr>\n",
       "      <th>1980-03-19</th>\n",
       "      <td>290.0</td>\n",
       "      <td>310.0</td>\n",
       "      <td>290.0</td>\n",
       "      <td>290.0</td>\n",
       "      <td>20000</td>\n",
       "    </tr>\n",
       "  </tbody>\n",
       "</table>\n",
       "</div>"
      ],
      "text/plain": [
       "             open   high    low  close  volume\n",
       "date                                          \n",
       "1980-03-17  290.0  310.0  290.0  290.0   10000\n",
       "1980-03-18  290.0  290.0  290.0  290.0       0\n",
       "1980-03-19  290.0  310.0  290.0  290.0   20000"
      ]
     },
     "execution_count": 32,
     "metadata": {},
     "output_type": "execute_result"
    }
   ],
   "source": [
    "brk = brk.set_index('date')\n",
    "brk.head(3)"
   ]
  },
  {
   "cell_type": "markdown",
   "metadata": {
    "ExecuteTime": {
     "end_time": "2020-07-10T16:19:07.954127Z",
     "start_time": "2020-07-10T16:19:07.950507Z"
    }
   },
   "source": [
    "### First method to solve NON STATIONARITY: DIFFERENCING"
   ]
  },
  {
   "cell_type": "markdown",
   "metadata": {},
   "source": [
    "Use when there is an existing trend. The drift will became the average\n",
    "- X(t)-X(t-n)\n"
   ]
  },
  {
   "cell_type": "code",
   "execution_count": 41,
   "metadata": {
    "ExecuteTime": {
     "end_time": "2020-07-10T16:23:44.248774Z",
     "start_time": "2020-07-10T16:23:44.229762Z"
    }
   },
   "outputs": [
    {
     "data": {
      "text/html": [
       "<div>\n",
       "<style scoped>\n",
       "    .dataframe tbody tr th:only-of-type {\n",
       "        vertical-align: middle;\n",
       "    }\n",
       "\n",
       "    .dataframe tbody tr th {\n",
       "        vertical-align: top;\n",
       "    }\n",
       "\n",
       "    .dataframe thead th {\n",
       "        text-align: right;\n",
       "    }\n",
       "</style>\n",
       "<table border=\"1\" class=\"dataframe\">\n",
       "  <thead>\n",
       "    <tr style=\"text-align: right;\">\n",
       "      <th></th>\n",
       "      <th>open</th>\n",
       "      <th>high</th>\n",
       "      <th>low</th>\n",
       "      <th>close</th>\n",
       "      <th>volume</th>\n",
       "      <th>volume_diff</th>\n",
       "    </tr>\n",
       "    <tr>\n",
       "      <th>date</th>\n",
       "      <th></th>\n",
       "      <th></th>\n",
       "      <th></th>\n",
       "      <th></th>\n",
       "      <th></th>\n",
       "      <th></th>\n",
       "    </tr>\n",
       "  </thead>\n",
       "  <tbody>\n",
       "    <tr>\n",
       "      <th>1980-03-17</th>\n",
       "      <td>290.0</td>\n",
       "      <td>310.0</td>\n",
       "      <td>290.0</td>\n",
       "      <td>290.0</td>\n",
       "      <td>10000</td>\n",
       "      <td>NaN</td>\n",
       "    </tr>\n",
       "    <tr>\n",
       "      <th>1980-03-18</th>\n",
       "      <td>290.0</td>\n",
       "      <td>290.0</td>\n",
       "      <td>290.0</td>\n",
       "      <td>290.0</td>\n",
       "      <td>0</td>\n",
       "      <td>-10000.0</td>\n",
       "    </tr>\n",
       "    <tr>\n",
       "      <th>1980-03-19</th>\n",
       "      <td>290.0</td>\n",
       "      <td>310.0</td>\n",
       "      <td>290.0</td>\n",
       "      <td>290.0</td>\n",
       "      <td>20000</td>\n",
       "      <td>20000.0</td>\n",
       "    </tr>\n",
       "    <tr>\n",
       "      <th>1980-03-20</th>\n",
       "      <td>290.0</td>\n",
       "      <td>290.0</td>\n",
       "      <td>290.0</td>\n",
       "      <td>290.0</td>\n",
       "      <td>0</td>\n",
       "      <td>-20000.0</td>\n",
       "    </tr>\n",
       "    <tr>\n",
       "      <th>1980-03-21</th>\n",
       "      <td>290.0</td>\n",
       "      <td>290.0</td>\n",
       "      <td>290.0</td>\n",
       "      <td>290.0</td>\n",
       "      <td>0</td>\n",
       "      <td>0.0</td>\n",
       "    </tr>\n",
       "  </tbody>\n",
       "</table>\n",
       "</div>"
      ],
      "text/plain": [
       "             open   high    low  close  volume  volume_diff\n",
       "date                                                       \n",
       "1980-03-17  290.0  310.0  290.0  290.0   10000          NaN\n",
       "1980-03-18  290.0  290.0  290.0  290.0       0     -10000.0\n",
       "1980-03-19  290.0  310.0  290.0  290.0   20000      20000.0\n",
       "1980-03-20  290.0  290.0  290.0  290.0       0     -20000.0\n",
       "1980-03-21  290.0  290.0  290.0  290.0       0          0.0"
      ]
     },
     "execution_count": 41,
     "metadata": {},
     "output_type": "execute_result"
    }
   ],
   "source": [
    "brk['volume_diff'] = brk['volume'].diff(1)\n",
    "brk.head()"
   ]
  },
  {
   "cell_type": "markdown",
   "metadata": {},
   "source": [
    "let's make it as a loop"
   ]
  },
  {
   "cell_type": "code",
   "execution_count": 43,
   "metadata": {
    "ExecuteTime": {
     "end_time": "2020-07-10T16:27:47.237974Z",
     "start_time": "2020-07-10T16:27:47.174547Z"
    }
   },
   "outputs": [
    {
     "data": {
      "text/html": [
       "<div>\n",
       "<style scoped>\n",
       "    .dataframe tbody tr th:only-of-type {\n",
       "        vertical-align: middle;\n",
       "    }\n",
       "\n",
       "    .dataframe tbody tr th {\n",
       "        vertical-align: top;\n",
       "    }\n",
       "\n",
       "    .dataframe thead th {\n",
       "        text-align: right;\n",
       "    }\n",
       "</style>\n",
       "<table border=\"1\" class=\"dataframe\">\n",
       "  <thead>\n",
       "    <tr style=\"text-align: right;\">\n",
       "      <th></th>\n",
       "      <th>close_diff</th>\n",
       "      <th>volume_diff</th>\n",
       "    </tr>\n",
       "    <tr>\n",
       "      <th>date</th>\n",
       "      <th></th>\n",
       "      <th></th>\n",
       "    </tr>\n",
       "  </thead>\n",
       "  <tbody>\n",
       "    <tr>\n",
       "      <th>1980-03-23</th>\n",
       "      <td>NaN</td>\n",
       "      <td>NaN</td>\n",
       "    </tr>\n",
       "    <tr>\n",
       "      <th>1980-03-30</th>\n",
       "      <td>-20.0</td>\n",
       "      <td>-4000.0</td>\n",
       "    </tr>\n",
       "    <tr>\n",
       "      <th>1980-04-06</th>\n",
       "      <td>-10.0</td>\n",
       "      <td>10500.0</td>\n",
       "    </tr>\n",
       "    <tr>\n",
       "      <th>1980-04-13</th>\n",
       "      <td>3.0</td>\n",
       "      <td>11500.0</td>\n",
       "    </tr>\n",
       "    <tr>\n",
       "      <th>1980-04-20</th>\n",
       "      <td>-12.0</td>\n",
       "      <td>-10000.0</td>\n",
       "    </tr>\n",
       "  </tbody>\n",
       "</table>\n",
       "</div>"
      ],
      "text/plain": [
       "            close_diff  volume_diff\n",
       "date                               \n",
       "1980-03-23         NaN          NaN\n",
       "1980-03-30       -20.0      -4000.0\n",
       "1980-04-06       -10.0      10500.0\n",
       "1980-04-13         3.0      11500.0\n",
       "1980-04-20       -12.0     -10000.0"
      ]
     },
     "execution_count": 43,
     "metadata": {},
     "output_type": "execute_result"
    }
   ],
   "source": [
    "brk = brk.resample('1w').mean()\n",
    "for col in list(['close','volume']):\n",
    "    brk[col+'_diff'] = brk[col].diff(1)\n",
    "brk[['close_diff','volume_diff']].head()"
   ]
  },
  {
   "cell_type": "code",
   "execution_count": 44,
   "metadata": {
    "ExecuteTime": {
     "end_time": "2020-07-10T16:30:48.193618Z",
     "start_time": "2020-07-10T16:30:48.180795Z"
    }
   },
   "outputs": [],
   "source": [
    "brk['prev_day_close'] =  brk['close'].shift(1)\n",
    "brk['close_diff'] =  brk['close'] - brk['prev_day_close']\n",
    "brk['daily_returns'] = (brk['close'] / brk['prev_day_close'] -1) *100"
   ]
  },
  {
   "cell_type": "code",
   "execution_count": 45,
   "metadata": {
    "ExecuteTime": {
     "end_time": "2020-07-10T16:30:59.475215Z",
     "start_time": "2020-07-10T16:30:59.455290Z"
    }
   },
   "outputs": [
    {
     "data": {
      "text/html": [
       "<div>\n",
       "<style scoped>\n",
       "    .dataframe tbody tr th:only-of-type {\n",
       "        vertical-align: middle;\n",
       "    }\n",
       "\n",
       "    .dataframe tbody tr th {\n",
       "        vertical-align: top;\n",
       "    }\n",
       "\n",
       "    .dataframe thead th {\n",
       "        text-align: right;\n",
       "    }\n",
       "</style>\n",
       "<table border=\"1\" class=\"dataframe\">\n",
       "  <thead>\n",
       "    <tr style=\"text-align: right;\">\n",
       "      <th></th>\n",
       "      <th>open</th>\n",
       "      <th>high</th>\n",
       "      <th>low</th>\n",
       "      <th>close</th>\n",
       "      <th>volume</th>\n",
       "      <th>volume_diff</th>\n",
       "      <th>close_diff</th>\n",
       "      <th>prev_day_close</th>\n",
       "      <th>daily_returns</th>\n",
       "    </tr>\n",
       "    <tr>\n",
       "      <th>date</th>\n",
       "      <th></th>\n",
       "      <th></th>\n",
       "      <th></th>\n",
       "      <th></th>\n",
       "      <th></th>\n",
       "      <th></th>\n",
       "      <th></th>\n",
       "      <th></th>\n",
       "      <th></th>\n",
       "    </tr>\n",
       "  </thead>\n",
       "  <tbody>\n",
       "    <tr>\n",
       "      <th>1980-03-23</th>\n",
       "      <td>290.0</td>\n",
       "      <td>298.0</td>\n",
       "      <td>290.0</td>\n",
       "      <td>290.0</td>\n",
       "      <td>6000.0</td>\n",
       "      <td>NaN</td>\n",
       "      <td>NaN</td>\n",
       "      <td>NaN</td>\n",
       "      <td>NaN</td>\n",
       "    </tr>\n",
       "    <tr>\n",
       "      <th>1980-03-30</th>\n",
       "      <td>274.0</td>\n",
       "      <td>274.0</td>\n",
       "      <td>270.0</td>\n",
       "      <td>270.0</td>\n",
       "      <td>2000.0</td>\n",
       "      <td>-4000.0</td>\n",
       "      <td>-20.0</td>\n",
       "      <td>290.0</td>\n",
       "      <td>-6.896552</td>\n",
       "    </tr>\n",
       "    <tr>\n",
       "      <th>1980-04-06</th>\n",
       "      <td>262.5</td>\n",
       "      <td>275.0</td>\n",
       "      <td>260.0</td>\n",
       "      <td>260.0</td>\n",
       "      <td>12500.0</td>\n",
       "      <td>10500.0</td>\n",
       "      <td>-10.0</td>\n",
       "      <td>270.0</td>\n",
       "      <td>-3.703704</td>\n",
       "    </tr>\n",
       "    <tr>\n",
       "      <th>1980-04-13</th>\n",
       "      <td>264.0</td>\n",
       "      <td>279.0</td>\n",
       "      <td>263.0</td>\n",
       "      <td>263.0</td>\n",
       "      <td>24000.0</td>\n",
       "      <td>11500.0</td>\n",
       "      <td>3.0</td>\n",
       "      <td>260.0</td>\n",
       "      <td>1.153846</td>\n",
       "    </tr>\n",
       "    <tr>\n",
       "      <th>1980-04-20</th>\n",
       "      <td>254.0</td>\n",
       "      <td>267.0</td>\n",
       "      <td>251.0</td>\n",
       "      <td>251.0</td>\n",
       "      <td>14000.0</td>\n",
       "      <td>-10000.0</td>\n",
       "      <td>-12.0</td>\n",
       "      <td>263.0</td>\n",
       "      <td>-4.562738</td>\n",
       "    </tr>\n",
       "  </tbody>\n",
       "</table>\n",
       "</div>"
      ],
      "text/plain": [
       "             open   high    low  close   volume  volume_diff  close_diff  \\\n",
       "date                                                                       \n",
       "1980-03-23  290.0  298.0  290.0  290.0   6000.0          NaN         NaN   \n",
       "1980-03-30  274.0  274.0  270.0  270.0   2000.0      -4000.0       -20.0   \n",
       "1980-04-06  262.5  275.0  260.0  260.0  12500.0      10500.0       -10.0   \n",
       "1980-04-13  264.0  279.0  263.0  263.0  24000.0      11500.0         3.0   \n",
       "1980-04-20  254.0  267.0  251.0  251.0  14000.0     -10000.0       -12.0   \n",
       "\n",
       "            prev_day_close  daily_returns  \n",
       "date                                       \n",
       "1980-03-23             NaN            NaN  \n",
       "1980-03-30           290.0      -6.896552  \n",
       "1980-04-06           270.0      -3.703704  \n",
       "1980-04-13           260.0       1.153846  \n",
       "1980-04-20           263.0      -4.562738  "
      ]
     },
     "execution_count": 45,
     "metadata": {},
     "output_type": "execute_result"
    }
   ],
   "source": [
    "brk.head()"
   ]
  },
  {
   "cell_type": "code",
   "execution_count": null,
   "metadata": {},
   "outputs": [],
   "source": []
  }
 ],
 "metadata": {
  "kernelspec": {
   "display_name": "Python [conda env:learn-env] *",
   "language": "python",
   "name": "conda-env-learn-env-py"
  },
  "language_info": {
   "codemirror_mode": {
    "name": "ipython",
    "version": 3
   },
   "file_extension": ".py",
   "mimetype": "text/x-python",
   "name": "python",
   "nbconvert_exporter": "python",
   "pygments_lexer": "ipython3",
   "version": "3.6.6"
  }
 },
 "nbformat": 4,
 "nbformat_minor": 2
}
