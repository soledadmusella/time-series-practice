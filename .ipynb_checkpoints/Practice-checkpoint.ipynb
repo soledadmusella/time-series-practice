{
 "cells": [
  {
   "cell_type": "markdown",
   "metadata": {
    "ExecuteTime": {
     "end_time": "2020-07-10T15:11:14.826040Z",
     "start_time": "2020-07-10T15:11:14.818122Z"
    }
   },
   "source": [
    "I will do some practice with Time Series. A Series is STATIONARY when the following statical averages are COSTANT:\n",
    "\n",
    "- MEAN\n",
    "- VARIANCE\n",
    "- AUTOCORRELATION"
   ]
  },
  {
   "cell_type": "markdown",
   "metadata": {
    "ExecuteTime": {
     "end_time": "2020-07-10T15:11:27.752208Z",
     "start_time": "2020-07-10T15:11:27.743829Z"
    }
   },
   "source": [
    "If one of theese statistical concepts are not CONSTANT mean that there is not stationarity. \n",
    "Also a TIME SERIES is not STATIONARY if there is a TREND"
   ]
  },
  {
   "cell_type": "code",
   "execution_count": 3,
   "metadata": {
    "ExecuteTime": {
     "end_time": "2020-07-10T15:11:39.136332Z",
     "start_time": "2020-07-10T15:11:38.487018Z"
    }
   },
   "outputs": [],
   "source": [
    "import pandas as pd\n",
    "import numpy as np\n",
    "import matplotlib.pyplot as plt"
   ]
  },
  {
   "cell_type": "code",
   "execution_count": 8,
   "metadata": {
    "ExecuteTime": {
     "end_time": "2020-07-10T15:15:20.857231Z",
     "start_time": "2020-07-10T15:15:20.810547Z"
    }
   },
   "outputs": [
    {
     "data": {
      "text/html": [
       "<div>\n",
       "<style scoped>\n",
       "    .dataframe tbody tr th:only-of-type {\n",
       "        vertical-align: middle;\n",
       "    }\n",
       "\n",
       "    .dataframe tbody tr th {\n",
       "        vertical-align: top;\n",
       "    }\n",
       "\n",
       "    .dataframe thead th {\n",
       "        text-align: right;\n",
       "    }\n",
       "</style>\n",
       "<table border=\"1\" class=\"dataframe\">\n",
       "  <thead>\n",
       "    <tr style=\"text-align: right;\">\n",
       "      <th></th>\n",
       "      <th>date</th>\n",
       "      <th>open</th>\n",
       "      <th>high</th>\n",
       "      <th>low</th>\n",
       "      <th>close</th>\n",
       "      <th>volume</th>\n",
       "    </tr>\n",
       "  </thead>\n",
       "  <tbody>\n",
       "    <tr>\n",
       "      <th>10105</th>\n",
       "      <td>2020-04-13</td>\n",
       "      <td>290950.01</td>\n",
       "      <td>290950.01</td>\n",
       "      <td>279060.00</td>\n",
       "      <td>282800.00</td>\n",
       "      <td>565</td>\n",
       "    </tr>\n",
       "    <tr>\n",
       "      <th>10106</th>\n",
       "      <td>2020-04-14</td>\n",
       "      <td>291400.00</td>\n",
       "      <td>291533.33</td>\n",
       "      <td>286392.75</td>\n",
       "      <td>289730.26</td>\n",
       "      <td>672</td>\n",
       "    </tr>\n",
       "    <tr>\n",
       "      <th>10107</th>\n",
       "      <td>2020-04-15</td>\n",
       "      <td>284500.00</td>\n",
       "      <td>284500.00</td>\n",
       "      <td>281201.01</td>\n",
       "      <td>283750.00</td>\n",
       "      <td>562</td>\n",
       "    </tr>\n",
       "    <tr>\n",
       "      <th>10108</th>\n",
       "      <td>2020-04-16</td>\n",
       "      <td>283750.00</td>\n",
       "      <td>283750.99</td>\n",
       "      <td>278800.00</td>\n",
       "      <td>282281.99</td>\n",
       "      <td>779</td>\n",
       "    </tr>\n",
       "    <tr>\n",
       "      <th>10109</th>\n",
       "      <td>2020-04-17</td>\n",
       "      <td>289585.01</td>\n",
       "      <td>289585.01</td>\n",
       "      <td>283600.00</td>\n",
       "      <td>284400.00</td>\n",
       "      <td>819</td>\n",
       "    </tr>\n",
       "  </tbody>\n",
       "</table>\n",
       "</div>"
      ],
      "text/plain": [
       "             date       open       high        low      close  volume\n",
       "10105  2020-04-13  290950.01  290950.01  279060.00  282800.00     565\n",
       "10106  2020-04-14  291400.00  291533.33  286392.75  289730.26     672\n",
       "10107  2020-04-15  284500.00  284500.00  281201.01  283750.00     562\n",
       "10108  2020-04-16  283750.00  283750.99  278800.00  282281.99     779\n",
       "10109  2020-04-17  289585.01  289585.01  283600.00  284400.00     819"
      ]
     },
     "execution_count": 8,
     "metadata": {},
     "output_type": "execute_result"
    }
   ],
   "source": [
    "brk = pd.read_csv('/Users/soledadmusella/Desktop/time-series-practice/brk_stock_data_ copy.csv',skiprows=14)\n",
    "brk.tail()"
   ]
  },
  {
   "cell_type": "code",
   "execution_count": null,
   "metadata": {},
   "outputs": [],
   "source": []
  }
 ],
 "metadata": {
  "kernelspec": {
   "display_name": "Python [conda env:learn-env] *",
   "language": "python",
   "name": "conda-env-learn-env-py"
  },
  "language_info": {
   "codemirror_mode": {
    "name": "ipython",
    "version": 3
   },
   "file_extension": ".py",
   "mimetype": "text/x-python",
   "name": "python",
   "nbconvert_exporter": "python",
   "pygments_lexer": "ipython3",
   "version": "3.6.6"
  }
 },
 "nbformat": 4,
 "nbformat_minor": 2
}
