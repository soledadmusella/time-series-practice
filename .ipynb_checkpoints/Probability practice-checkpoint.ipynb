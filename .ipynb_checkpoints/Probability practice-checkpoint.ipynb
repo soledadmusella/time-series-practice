{
 "cells": [
  {
   "cell_type": "code",
   "execution_count": 2,
   "metadata": {
    "ExecuteTime": {
     "end_time": "2020-08-01T09:12:49.275086Z",
     "start_time": "2020-08-01T09:12:49.260214Z"
    }
   },
   "outputs": [],
   "source": [
    "roll_dice = set([1,2,3,4,5,6])"
   ]
  },
  {
   "cell_type": "code",
   "execution_count": 3,
   "metadata": {
    "ExecuteTime": {
     "end_time": "2020-08-01T09:12:49.753417Z",
     "start_time": "2020-08-01T09:12:49.736208Z"
    }
   },
   "outputs": [
    {
     "data": {
      "text/plain": [
       "{1, 2, 3, 4, 5, 6}"
      ]
     },
     "execution_count": 3,
     "metadata": {},
     "output_type": "execute_result"
    }
   ],
   "source": [
    "roll_dice"
   ]
  },
  {
   "cell_type": "markdown",
   "metadata": {},
   "source": [
    "Check the probability to throw a number higher than 4  "
   ]
  },
  {
   "cell_type": "code",
   "execution_count": 5,
   "metadata": {
    "ExecuteTime": {
     "end_time": "2020-08-01T09:16:14.194052Z",
     "start_time": "2020-08-01T09:16:14.189608Z"
    }
   },
   "outputs": [],
   "source": [
    "event = set([5,6])"
   ]
  },
  {
   "cell_type": "code",
   "execution_count": 7,
   "metadata": {
    "ExecuteTime": {
     "end_time": "2020-08-01T09:16:35.558823Z",
     "start_time": "2020-08-01T09:16:35.555107Z"
    }
   },
   "outputs": [],
   "source": [
    "prob_5_6 = len(event)/len(roll_dice)"
   ]
  },
  {
   "cell_type": "code",
   "execution_count": 8,
   "metadata": {
    "ExecuteTime": {
     "end_time": "2020-08-01T09:16:42.518126Z",
     "start_time": "2020-08-01T09:16:42.510151Z"
    }
   },
   "outputs": [
    {
     "data": {
      "text/plain": [
       "0.3333333333333333"
      ]
     },
     "execution_count": 8,
     "metadata": {},
     "output_type": "execute_result"
    }
   ],
   "source": [
    "prob_5_6"
   ]
  },
  {
   "cell_type": "code",
   "execution_count": 9,
   "metadata": {
    "ExecuteTime": {
     "end_time": "2020-08-01T09:35:47.863474Z",
     "start_time": "2020-08-01T09:35:47.205015Z"
    }
   },
   "outputs": [],
   "source": [
    "import numpy as np"
   ]
  },
  {
   "cell_type": "code",
   "execution_count": 15,
   "metadata": {
    "ExecuteTime": {
     "end_time": "2020-08-01T09:37:07.770985Z",
     "start_time": "2020-08-01T09:37:07.766045Z"
    }
   },
   "outputs": [],
   "source": [
    "# getting a random value between 1 and 6"
   ]
  },
  {
   "cell_type": "code",
   "execution_count": 17,
   "metadata": {
    "ExecuteTime": {
     "end_time": "2020-08-01T09:37:10.811114Z",
     "start_time": "2020-08-01T09:37:10.796409Z"
    }
   },
   "outputs": [
    {
     "data": {
      "text/plain": [
       "3"
      ]
     },
     "execution_count": 17,
     "metadata": {},
     "output_type": "execute_result"
    }
   ],
   "source": [
    "np.random.randint(1,7)"
   ]
  },
  {
   "cell_type": "code",
   "execution_count": 18,
   "metadata": {
    "ExecuteTime": {
     "end_time": "2020-08-01T09:39:39.231550Z",
     "start_time": "2020-08-01T09:39:39.224118Z"
    }
   },
   "outputs": [],
   "source": [
    "sample_dice = np.array([(1, 1), (1, 2), (1, 3), (1, 4), (1, 5), (1, 6),\n",
    "              (2, 1), (2, 2), (2, 3), (2, 4), (2, 5), (2, 6),\n",
    "              (3, 1), (3, 2), (3, 3), (3, 4), (3, 5), (3, 6),\n",
    "              (4, 1), (4, 2), (4, 3), (4, 4), (4, 5), (4, 6),\n",
    "              (5, 1), (5, 2), (5, 3), (5, 4), (5, 5), (5, 6),\n",
    "              (6, 1), (6, 2), (6, 3), (6, 4), (6, 5), (6, 6)])"
   ]
  },
  {
   "cell_type": "code",
   "execution_count": 19,
   "metadata": {
    "ExecuteTime": {
     "end_time": "2020-08-01T09:40:28.744466Z",
     "start_time": "2020-08-01T09:40:28.736714Z"
    }
   },
   "outputs": [
    {
     "data": {
      "text/plain": [
       "(36, 2)"
      ]
     },
     "execution_count": 19,
     "metadata": {},
     "output_type": "execute_result"
    }
   ],
   "source": [
    "sample_dice.shape"
   ]
  },
  {
   "cell_type": "markdown",
   "metadata": {},
   "source": [
    " What is the probability of throwing a 5 at least once?"
   ]
  },
  {
   "cell_type": "code",
   "execution_count": null,
   "metadata": {},
   "outputs": [],
   "source": []
  }
 ],
 "metadata": {
  "kernelspec": {
   "display_name": "Python [conda env:learn-env] *",
   "language": "python",
   "name": "conda-env-learn-env-py"
  },
  "language_info": {
   "codemirror_mode": {
    "name": "ipython",
    "version": 3
   },
   "file_extension": ".py",
   "mimetype": "text/x-python",
   "name": "python",
   "nbconvert_exporter": "python",
   "pygments_lexer": "ipython3",
   "version": "3.6.6"
  }
 },
 "nbformat": 4,
 "nbformat_minor": 2
}
