{
 "cells": [
  {
   "cell_type": "code",
   "execution_count": 3,
   "metadata": {
    "ExecuteTime": {
     "end_time": "2020-08-01T13:05:02.225753Z",
     "start_time": "2020-08-01T13:05:02.219272Z"
    }
   },
   "outputs": [],
   "source": [
    "roll_dice = set([1,2,3,4,5,6])"
   ]
  },
  {
   "cell_type": "code",
   "execution_count": 4,
   "metadata": {
    "ExecuteTime": {
     "end_time": "2020-08-01T13:05:02.414788Z",
     "start_time": "2020-08-01T13:05:02.400842Z"
    }
   },
   "outputs": [
    {
     "data": {
      "text/plain": [
       "{1, 2, 3, 4, 5, 6}"
      ]
     },
     "execution_count": 4,
     "metadata": {},
     "output_type": "execute_result"
    }
   ],
   "source": [
    "roll_dice"
   ]
  },
  {
   "cell_type": "markdown",
   "metadata": {},
   "source": [
    "Check the probability to throw a number higher than 4  "
   ]
  },
  {
   "cell_type": "code",
   "execution_count": 5,
   "metadata": {
    "ExecuteTime": {
     "end_time": "2020-08-01T13:05:02.732727Z",
     "start_time": "2020-08-01T13:05:02.728686Z"
    }
   },
   "outputs": [],
   "source": [
    "event = set([5,6])"
   ]
  },
  {
   "cell_type": "code",
   "execution_count": 6,
   "metadata": {
    "ExecuteTime": {
     "end_time": "2020-08-01T13:05:03.123628Z",
     "start_time": "2020-08-01T13:05:03.118276Z"
    }
   },
   "outputs": [],
   "source": [
    "prob_5_6 = len(event)/len(roll_dice)"
   ]
  },
  {
   "cell_type": "code",
   "execution_count": 7,
   "metadata": {
    "ExecuteTime": {
     "end_time": "2020-08-01T13:05:03.336433Z",
     "start_time": "2020-08-01T13:05:03.316938Z"
    }
   },
   "outputs": [
    {
     "data": {
      "text/plain": [
       "0.3333333333333333"
      ]
     },
     "execution_count": 7,
     "metadata": {},
     "output_type": "execute_result"
    }
   ],
   "source": [
    "prob_5_6"
   ]
  },
  {
   "cell_type": "code",
   "execution_count": 8,
   "metadata": {
    "ExecuteTime": {
     "end_time": "2020-08-01T13:05:03.764580Z",
     "start_time": "2020-08-01T13:05:03.484737Z"
    }
   },
   "outputs": [],
   "source": [
    "import numpy as np"
   ]
  },
  {
   "cell_type": "code",
   "execution_count": 9,
   "metadata": {
    "ExecuteTime": {
     "end_time": "2020-08-01T13:05:03.769898Z",
     "start_time": "2020-08-01T13:05:03.766505Z"
    }
   },
   "outputs": [],
   "source": [
    "# getting a random value between 1 and 6"
   ]
  },
  {
   "cell_type": "code",
   "execution_count": 10,
   "metadata": {
    "ExecuteTime": {
     "end_time": "2020-08-01T13:05:03.872713Z",
     "start_time": "2020-08-01T13:05:03.866246Z"
    }
   },
   "outputs": [
    {
     "data": {
      "text/plain": [
       "3"
      ]
     },
     "execution_count": 10,
     "metadata": {},
     "output_type": "execute_result"
    }
   ],
   "source": [
    "np.random.randint(1,7)"
   ]
  },
  {
   "cell_type": "code",
   "execution_count": 11,
   "metadata": {
    "ExecuteTime": {
     "end_time": "2020-08-01T13:05:04.047968Z",
     "start_time": "2020-08-01T13:05:04.036752Z"
    }
   },
   "outputs": [],
   "source": [
    "sample_dice = np.array([(1, 1), (1, 2), (1, 3), (1, 4), (1, 5), (1, 6),\n",
    "              (2, 1), (2, 2), (2, 3), (2, 4), (2, 5), (2, 6),\n",
    "              (3, 1), (3, 2), (3, 3), (3, 4), (3, 5), (3, 6),\n",
    "              (4, 1), (4, 2), (4, 3), (4, 4), (4, 5), (4, 6),\n",
    "              (5, 1), (5, 2), (5, 3), (5, 4), (5, 5), (5, 6),\n",
    "              (6, 1), (6, 2), (6, 3), (6, 4), (6, 5), (6, 6)])"
   ]
  },
  {
   "cell_type": "code",
   "execution_count": 12,
   "metadata": {
    "ExecuteTime": {
     "end_time": "2020-08-01T13:05:04.207334Z",
     "start_time": "2020-08-01T13:05:04.200802Z"
    }
   },
   "outputs": [
    {
     "data": {
      "text/plain": [
       "(36, 2)"
      ]
     },
     "execution_count": 12,
     "metadata": {},
     "output_type": "execute_result"
    }
   ],
   "source": [
    "sample_dice.shape"
   ]
  },
  {
   "cell_type": "markdown",
   "metadata": {},
   "source": [
    " What is the probability of throwing a 5 at least once?"
   ]
  },
  {
   "cell_type": "code",
   "execution_count": 13,
   "metadata": {
    "ExecuteTime": {
     "end_time": "2020-08-01T13:05:04.616899Z",
     "start_time": "2020-08-01T13:05:04.613223Z"
    }
   },
   "outputs": [],
   "source": [
    "set_5 = sample_dice == (5)"
   ]
  },
  {
   "cell_type": "code",
   "execution_count": 14,
   "metadata": {
    "ExecuteTime": {
     "end_time": "2020-08-01T13:05:04.809768Z",
     "start_time": "2020-08-01T13:05:04.805351Z"
    }
   },
   "outputs": [
    {
     "name": "stdout",
     "output_type": "stream",
     "text": [
      "[False False False False  True False False False False False  True False\n",
      " False False False False  True False False False False False  True False\n",
      "  True  True  True  True  True  True False False False False  True False]\n"
     ]
    }
   ],
   "source": [
    "true_5 = np.any(set_5, axis = 1)\n",
    "print(true_5)"
   ]
  },
  {
   "cell_type": "code",
   "execution_count": 15,
   "metadata": {
    "ExecuteTime": {
     "end_time": "2020-08-01T13:05:05.069982Z",
     "start_time": "2020-08-01T13:05:05.064652Z"
    }
   },
   "outputs": [],
   "source": [
    "prob_5 = true_5.sum()/len(sample_dice)"
   ]
  },
  {
   "cell_type": "code",
   "execution_count": 16,
   "metadata": {
    "ExecuteTime": {
     "end_time": "2020-08-01T13:05:05.211637Z",
     "start_time": "2020-08-01T13:05:05.198834Z"
    }
   },
   "outputs": [
    {
     "data": {
      "text/plain": [
       "0.3055555555555556"
      ]
     },
     "execution_count": 16,
     "metadata": {},
     "output_type": "execute_result"
    }
   ],
   "source": [
    "prob_5"
   ]
  },
  {
   "cell_type": "markdown",
   "metadata": {},
   "source": [
    "What is the probability of throwing a 4 or 6 at least once?"
   ]
  },
  {
   "cell_type": "code",
   "execution_count": 17,
   "metadata": {
    "ExecuteTime": {
     "end_time": "2020-08-01T13:05:05.567429Z",
     "start_time": "2020-08-01T13:05:05.562719Z"
    }
   },
   "outputs": [],
   "source": [
    "set_4 =  sample_dice == (4)\n",
    "set_6 = sample_dice == (6)"
   ]
  },
  {
   "cell_type": "code",
   "execution_count": 18,
   "metadata": {
    "ExecuteTime": {
     "end_time": "2020-08-01T13:05:05.751552Z",
     "start_time": "2020-08-01T13:05:05.748236Z"
    }
   },
   "outputs": [],
   "source": [
    "set_4_6 = (set_4+set_6)"
   ]
  },
  {
   "cell_type": "code",
   "execution_count": 19,
   "metadata": {
    "ExecuteTime": {
     "end_time": "2020-08-01T13:05:06.005292Z",
     "start_time": "2020-08-01T13:05:06.000566Z"
    }
   },
   "outputs": [
    {
     "name": "stdout",
     "output_type": "stream",
     "text": [
      "[False False False False  True False False False False False  True False\n",
      " False False False False  True False False False False False  True False\n",
      "  True  True  True  True  True  True False False False False  True False]\n"
     ]
    }
   ],
   "source": [
    "true_4_6 = np.any(set_4_6, axis = 1)\n",
    "print(true_5)"
   ]
  },
  {
   "cell_type": "code",
   "execution_count": 20,
   "metadata": {
    "ExecuteTime": {
     "end_time": "2020-08-01T13:05:06.332702Z",
     "start_time": "2020-08-01T13:05:06.329381Z"
    }
   },
   "outputs": [],
   "source": [
    "prob_4_6 = true_4_6.sum()/len(sample_dice)"
   ]
  },
  {
   "cell_type": "code",
   "execution_count": 21,
   "metadata": {
    "ExecuteTime": {
     "end_time": "2020-08-01T13:05:06.521469Z",
     "start_time": "2020-08-01T13:05:06.514915Z"
    }
   },
   "outputs": [
    {
     "data": {
      "text/plain": [
       "0.5555555555555556"
      ]
     },
     "execution_count": 21,
     "metadata": {},
     "output_type": "execute_result"
    }
   ],
   "source": [
    "prob_4_6"
   ]
  },
  {
   "cell_type": "markdown",
   "metadata": {
    "ExecuteTime": {
     "end_time": "2020-08-01T12:33:16.723511Z",
     "start_time": "2020-08-01T12:33:16.715217Z"
    }
   },
   "source": [
    "What is the probability of the outcome having a sum of exactly 9"
   ]
  },
  {
   "cell_type": "code",
   "execution_count": 22,
   "metadata": {
    "ExecuteTime": {
     "end_time": "2020-08-01T13:05:06.874934Z",
     "start_time": "2020-08-01T13:05:06.871487Z"
    }
   },
   "outputs": [],
   "source": [
    "sum_dice = np.sum(sample_dice, axis = 1)\n",
    "sum_9 = sum(sum_dice == 9)\n"
   ]
  },
  {
   "cell_type": "code",
   "execution_count": 23,
   "metadata": {
    "ExecuteTime": {
     "end_time": "2020-08-01T13:05:30.746392Z",
     "start_time": "2020-08-01T13:05:30.741314Z"
    }
   },
   "outputs": [
    {
     "name": "stdout",
     "output_type": "stream",
     "text": [
      "0.1111111111111111\n"
     ]
    }
   ],
   "source": [
    "prob_sum_9 = sum_9/len(sample_dice)\n",
    "print(prob_sum_9)"
   ]
  },
  {
   "cell_type": "code",
   "execution_count": null,
   "metadata": {},
   "outputs": [],
   "source": []
  }
 ],
 "metadata": {
  "kernelspec": {
   "display_name": "Python [conda env:learn-env] *",
   "language": "python",
   "name": "conda-env-learn-env-py"
  },
  "language_info": {
   "codemirror_mode": {
    "name": "ipython",
    "version": 3
   },
   "file_extension": ".py",
   "mimetype": "text/x-python",
   "name": "python",
   "nbconvert_exporter": "python",
   "pygments_lexer": "ipython3",
   "version": "3.6.6"
  }
 },
 "nbformat": 4,
 "nbformat_minor": 2
}
