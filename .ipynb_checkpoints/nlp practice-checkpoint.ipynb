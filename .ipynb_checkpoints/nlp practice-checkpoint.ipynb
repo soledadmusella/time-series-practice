{
 "cells": [
  {
   "cell_type": "markdown",
   "metadata": {
    "ExecuteTime": {
     "end_time": "2020-07-23T10:25:44.369860Z",
     "start_time": "2020-07-23T10:25:44.361192Z"
    }
   },
   "source": [
    "### SENTIMENT ANALYSIS "
   ]
  },
  {
   "cell_type": "code",
   "execution_count": 6,
   "metadata": {
    "ExecuteTime": {
     "end_time": "2020-07-24T09:54:29.311869Z",
     "start_time": "2020-07-24T09:54:29.306900Z"
    }
   },
   "outputs": [],
   "source": [
    "#!pip install nltk"
   ]
  },
  {
   "cell_type": "code",
   "execution_count": 7,
   "metadata": {
    "ExecuteTime": {
     "end_time": "2020-07-24T09:54:29.664756Z",
     "start_time": "2020-07-24T09:54:29.660539Z"
    }
   },
   "outputs": [],
   "source": [
    "review = 'From the beginning of the movie, it gives the feeling the director is trying to portray something, what I mean to say that instead of the story dictating the style in which the movie should be made, he has gone in the opposite way, he had a type of move that he wanted to make, and wrote a story to suite it. And he has failed in it very badly. I guess he was trying to make a stylish movie. Any way I think this movie is a total waste of time and effort. In the credit of the director, he knows the media that he is working with, what I am trying to say is I have seen worst movies than this. Here at least the director knows to maintain the continuity in the movie. And the actors also have given a decent performance.'"
   ]
  },
  {
   "cell_type": "code",
   "execution_count": 8,
   "metadata": {
    "ExecuteTime": {
     "end_time": "2020-07-24T09:54:30.151033Z",
     "start_time": "2020-07-24T09:54:30.130715Z"
    }
   },
   "outputs": [
    {
     "name": "stderr",
     "output_type": "stream",
     "text": [
      "[nltk_data] Downloading package stopwords to\n",
      "[nltk_data]     /Users/soledadmusella/nltk_data...\n",
      "[nltk_data]   Package stopwords is already up-to-date!\n",
      "[nltk_data] Downloading package punkt to\n",
      "[nltk_data]     /Users/soledadmusella/nltk_data...\n",
      "[nltk_data]   Package punkt is already up-to-date!\n",
      "[nltk_data] Downloading package wordnet to\n",
      "[nltk_data]     /Users/soledadmusella/nltk_data...\n",
      "[nltk_data]   Package wordnet is already up-to-date!\n"
     ]
    },
    {
     "data": {
      "text/plain": [
       "True"
      ]
     },
     "execution_count": 8,
     "metadata": {},
     "output_type": "execute_result"
    }
   ],
   "source": [
    "import nltk\n",
    "import matplotlib.pyplot as plt\n",
    "import pandas as pd\n",
    "from sklearn.feature_extraction.text import CountVectorizer\n",
    "from sklearn.feature_extraction.text import TfidfVectorizer\n",
    "from sklearn.feature_extraction.text import TfidfTransformer\n",
    "from nltk.probability import FreqDist\n",
    "from nltk.corpus import stopwords\n",
    "from nltk.stem import PorterStemmer\n",
    "from sklearn.metrics import confusion_matrix\n",
    "import seaborn as sns\n",
    "from sklearn.naive_bayes import MultinomialNB\n",
    "from sklearn import metrics\n",
    "from sklearn.model_selection import train_test_split\n",
    "from matplotlib import cm\n",
    "import numpy as np\n",
    "from sklearn.ensemble import RandomForestClassifier\n",
    "from sklearn.metrics import accuracy_score\n",
    "from sklearn.metrics import f1_score\n",
    "from sklearn.naive_bayes import GaussianNB\n",
    "\n",
    "nltk.download('stopwords')\n",
    "nltk.download('punkt')\n",
    "nltk.download('wordnet')"
   ]
  },
  {
   "cell_type": "markdown",
   "metadata": {},
   "source": [
    "First step is Tokenization. "
   ]
  },
  {
   "cell_type": "code",
   "execution_count": 9,
   "metadata": {
    "ExecuteTime": {
     "end_time": "2020-07-24T09:54:31.036227Z",
     "start_time": "2020-07-24T09:54:31.032014Z"
    }
   },
   "outputs": [],
   "source": [
    "from nltk.tokenize import RegexpTokenizer\n",
    "tokenizer = RegexpTokenizer(r'[a-zA-Z0-9]+')\n",
    "\n",
    "tokenized_review = tokenizer.tokenize(review)"
   ]
  },
  {
   "cell_type": "code",
   "execution_count": 10,
   "metadata": {
    "ExecuteTime": {
     "end_time": "2020-07-24T09:54:31.490400Z",
     "start_time": "2020-07-24T09:54:31.485764Z"
    }
   },
   "outputs": [
    {
     "name": "stdout",
     "output_type": "stream",
     "text": [
      "['From', 'the', 'beginning', 'of', 'the', 'movie', 'it', 'gives', 'the', 'feeling', 'the', 'director', 'is', 'trying', 'to', 'portray', 'something', 'what', 'I', 'mean', 'to', 'say', 'that', 'instead', 'of', 'the', 'story', 'dictating', 'the', 'style', 'in', 'which', 'the', 'movie', 'should', 'be', 'made', 'he', 'has', 'gone', 'in', 'the', 'opposite', 'way', 'he', 'had', 'a', 'type', 'of', 'move', 'that', 'he', 'wanted', 'to', 'make', 'and', 'wrote', 'a', 'story', 'to', 'suite', 'it', 'And', 'he', 'has', 'failed', 'in', 'it', 'very', 'badly', 'I', 'guess', 'he', 'was', 'trying', 'to', 'make', 'a', 'stylish', 'movie', 'Any', 'way', 'I', 'think', 'this', 'movie', 'is', 'a', 'total', 'waste', 'of', 'time', 'and', 'effort', 'In', 'the', 'credit', 'of', 'the', 'director', 'he', 'knows', 'the', 'media', 'that', 'he', 'is', 'working', 'with', 'what', 'I', 'am', 'trying', 'to', 'say', 'is', 'I', 'have', 'seen', 'worst', 'movies', 'than', 'this', 'Here', 'at', 'least', 'the', 'director', 'knows', 'to', 'maintain', 'the', 'continuity', 'in', 'the', 'movie', 'And', 'the', 'actors', 'also', 'have', 'given', 'a', 'decent', 'performance']\n"
     ]
    }
   ],
   "source": [
    "print(tokenized_review)"
   ]
  },
  {
   "cell_type": "code",
   "execution_count": 11,
   "metadata": {
    "ExecuteTime": {
     "end_time": "2020-07-24T09:54:31.889930Z",
     "start_time": "2020-07-24T09:54:31.883944Z"
    }
   },
   "outputs": [
    {
     "name": "stdout",
     "output_type": "stream",
     "text": [
      "<FreqDist with 78 samples and 145 outcomes>\n"
     ]
    }
   ],
   "source": [
    "fdist = FreqDist(tokenized_review)\n",
    "print(fdist)"
   ]
  },
  {
   "cell_type": "code",
   "execution_count": 12,
   "metadata": {
    "ExecuteTime": {
     "end_time": "2020-07-24T09:54:32.652165Z",
     "start_time": "2020-07-24T09:54:32.304653Z"
    }
   },
   "outputs": [
    {
     "data": {
      "image/png": "[encoded data removed]",
      "text/plain": [
       "<Figure size 720x720 with 1 Axes>"
      ]
     },
     "metadata": {
      "needs_background": "light"
     },
     "output_type": "display_data"
    },
    {
     "data": {
      "text/plain": [
       "<matplotlib.axes._subplots.AxesSubplot at 0x1a1cd62a90>"
      ]
     },
     "execution_count": 12,
     "metadata": {},
     "output_type": "execute_result"
    }
   ],
   "source": [
    "plt.figure(figsize=(10,10))\n",
    "fdist.plot(30)"
   ]
  },
  {
   "cell_type": "code",
   "execution_count": 13,
   "metadata": {
    "ExecuteTime": {
     "end_time": "2020-07-24T09:54:32.726488Z",
     "start_time": "2020-07-24T09:54:32.722718Z"
    }
   },
   "outputs": [],
   "source": [
    "# La Farola example review"
   ]
  },
  {
   "cell_type": "code",
   "execution_count": 14,
   "metadata": {
    "ExecuteTime": {
     "end_time": "2020-07-24T09:54:33.098935Z",
     "start_time": "2020-07-24T09:54:33.094942Z"
    }
   },
   "outputs": [],
   "source": [
    "la_farola_review = \"This place is super busy and you should book a table. We didn’t but we were lucky enough that they had space for us. Originally we were going to sit at the central table but these are bar stools and when staff saw that I was quite heavily pregnant they gave us a table of our own which was very kind.I’ve wanted to try the food here for a while as it is always packed in here and it was really good. We ordered a selection of plates and there are larger dishes like paella available too. The pig cheeks were absolutely delicious and we ordered another plate of them.Hopefully this place will be up and running again after lockdown and we’ll be able to enjoy the food in the sunshine.\""
   ]
  },
  {
   "cell_type": "code",
   "execution_count": 15,
   "metadata": {
    "ExecuteTime": {
     "end_time": "2020-07-24T09:54:33.422632Z",
     "start_time": "2020-07-24T09:54:33.417832Z"
    }
   },
   "outputs": [],
   "source": [
    "tokenizer = RegexpTokenizer(r'[a-zA-Z0-9]+')\n",
    "\n",
    "tokenized_review_la_farola = tokenizer.tokenize(la_farola_review)"
   ]
  },
  {
   "cell_type": "code",
   "execution_count": 16,
   "metadata": {
    "ExecuteTime": {
     "end_time": "2020-07-24T09:54:33.666396Z",
     "start_time": "2020-07-24T09:54:33.661201Z"
    }
   },
   "outputs": [
    {
     "name": "stdout",
     "output_type": "stream",
     "text": [
      "['This', 'place', 'is', 'super', 'busy', 'and', 'you', 'should', 'book', 'a', 'table', 'We', 'didn', 't', 'but', 'we', 'were', 'lucky', 'enough', 'that', 'they', 'had', 'space', 'for', 'us', 'Originally', 'we', 'were', 'going', 'to', 'sit', 'at', 'the', 'central', 'table', 'but', 'these', 'are', 'bar', 'stools', 'and', 'when', 'staff', 'saw', 'that', 'I', 'was', 'quite', 'heavily', 'pregnant', 'they', 'gave', 'us', 'a', 'table', 'of', 'our', 'own', 'which', 'was', 'very', 'kind', 'I', 've', 'wanted', 'to', 'try', 'the', 'food', 'here', 'for', 'a', 'while', 'as', 'it', 'is', 'always', 'packed', 'in', 'here', 'and', 'it', 'was', 'really', 'good', 'We', 'ordered', 'a', 'selection', 'of', 'plates', 'and', 'there', 'are', 'larger', 'dishes', 'like', 'paella', 'available', 'too', 'The', 'pig', 'cheeks', 'were', 'absolutely', 'delicious', 'and', 'we', 'ordered', 'another', 'plate', 'of', 'them', 'Hopefully', 'this', 'place', 'will', 'be', 'up', 'and', 'running', 'again', 'after', 'lockdown', 'and', 'we', 'll', 'be', 'able', 'to', 'enjoy', 'the', 'food', 'in', 'the', 'sunshine']\n"
     ]
    }
   ],
   "source": [
    "print(tokenized_review_la_farola)"
   ]
  },
  {
   "cell_type": "code",
   "execution_count": 17,
   "metadata": {
    "ExecuteTime": {
     "end_time": "2020-07-24T09:54:33.959592Z",
     "start_time": "2020-07-24T09:54:33.950890Z"
    }
   },
   "outputs": [
    {
     "name": "stdout",
     "output_type": "stream",
     "text": [
      "<FreqDist with 95 samples and 136 outcomes>\n"
     ]
    }
   ],
   "source": [
    "fdist = FreqDist(tokenized_review_la_farola)\n",
    "print(fdist)"
   ]
  },
  {
   "cell_type": "code",
   "execution_count": 18,
   "metadata": {
    "ExecuteTime": {
     "end_time": "2020-07-24T09:54:34.618744Z",
     "start_time": "2020-07-24T09:54:34.293167Z"
    }
   },
   "outputs": [
    {
     "data": {
      "image/png": "[encoded data removed]",
      "text/plain": [
       "<Figure size 720x720 with 1 Axes>"
      ]
     },
     "metadata": {
      "needs_background": "light"
     },
     "output_type": "display_data"
    },
    {
     "data": {
      "text/plain": [
       "<matplotlib.axes._subplots.AxesSubplot at 0x1a1d05c0f0>"
      ]
     },
     "execution_count": 18,
     "metadata": {},
     "output_type": "execute_result"
    }
   ],
   "source": [
    "plt.figure(figsize=(10,10))\n",
    "fdist.plot(30)"
   ]
  },
  {
   "cell_type": "markdown",
   "metadata": {},
   "source": [
    "## STOPWORD REMOVAL"
   ]
  },
  {
   "cell_type": "code",
   "execution_count": 23,
   "metadata": {
    "ExecuteTime": {
     "end_time": "2020-07-24T09:58:08.659223Z",
     "start_time": "2020-07-24T09:58:08.656239Z"
    }
   },
   "outputs": [],
   "source": [
    "# remove semantically meaningless words"
   ]
  },
  {
   "cell_type": "code",
   "execution_count": 24,
   "metadata": {
    "ExecuteTime": {
     "end_time": "2020-07-24T09:58:12.350646Z",
     "start_time": "2020-07-24T09:58:12.344147Z"
    }
   },
   "outputs": [
    {
     "name": "stdout",
     "output_type": "stream",
     "text": [
      "{'did', 'once', 'aren', 'out', 'by', 'yourself', 'any', 'does', 'shan', 'herself', 'all', \"she's\", 'needn', 'no', 'a', 'hasn', \"that'll\", 'do', 'myself', 'down', \"hadn't\", 'or', 'll', 'that', 'under', 'ain', 'it', \"weren't\", \"should've\", 'doing', \"shouldn't\", 'shouldn', 'the', 'can', 'mustn', 'them', 'those', 'yours', 'such', 'am', 'same', \"you're\", 'during', 'other', \"you'll\", 'mightn', 'have', 'is', \"aren't\", 'had', \"don't\", 'until', 'hadn', 'own', 'into', 'ma', 'are', 'not', 't', 'you', \"needn't\", 'off', 'haven', 'but', 'most', 's', 'here', 'if', 'they', 'up', \"wasn't\", 'at', 'me', 'how', 'ours', 'nor', \"it's\", 'because', 'her', 'after', \"couldn't\", 'he', 'between', 'his', 'of', 'again', 'few', 'so', 'just', 'has', \"you've\", 'couldn', 'won', 'was', \"doesn't\", 'wouldn', 'ourselves', 'very', 'above', 're', 'with', 'when', 'too', 'below', \"haven't\", 'i', 'before', 'who', 'in', 'while', 'y', 'more', 'our', 'then', 'be', \"shan't\", 'themselves', 'its', 'than', 'your', \"isn't\", 'doesn', \"won't\", 'my', 'each', 'being', 'm', 'their', 'o', \"hasn't\", 'whom', 'now', 'about', 'itself', 'been', 'him', 'yourselves', \"wouldn't\", 'some', 'where', \"didn't\", 'isn', 'what', 'd', 'wasn', 'we', 'an', 'these', 'only', 'should', 'which', 'having', 'and', 'theirs', 'don', 'from', 'will', \"you'd\", 'further', 'hers', 'for', 'over', 'she', 've', 'against', 'to', 'both', 'himself', 'were', 'through', 'there', 'didn', 'weren', 'this', 'as', \"mightn't\", \"mustn't\", 'why', 'on'}\n"
     ]
    }
   ],
   "source": [
    "stop_words=set(stopwords.words(\"english\"))\n",
    "print(stop_words)"
   ]
  },
  {
   "cell_type": "code",
   "execution_count": 25,
   "metadata": {
    "ExecuteTime": {
     "end_time": "2020-07-24T09:58:12.561585Z",
     "start_time": "2020-07-24T09:58:12.545137Z"
    }
   },
   "outputs": [
    {
     "name": "stdout",
     "output_type": "stream",
     "text": [
      "Filterd Sentence: ['This', 'place', 'super', 'busy', 'book', 'table', 'We', 'lucky', 'enough', 'space', 'us', 'Originally', 'going', 'sit', 'central', 'table', 'bar', 'stools', 'staff', 'saw', 'I', 'quite', 'heavily', 'pregnant', 'gave', 'us', 'table', 'kind', 'I', 'wanted', 'try', 'food', 'always', 'packed', 'really', 'good', 'We', 'ordered', 'selection', 'plates', 'larger', 'dishes', 'like', 'paella', 'available', 'The', 'pig', 'cheeks', 'absolutely', 'delicious', 'ordered', 'another', 'plate', 'Hopefully', 'place', 'running', 'lockdown', 'able', 'enjoy', 'food', 'sunshine']\n"
     ]
    }
   ],
   "source": [
    "filtered_review=[]\n",
    "for word in tokenized_review_la_farola:\n",
    "    if word not in stop_words:\n",
    "        filtered_review.append(word)\n",
    "print(\"Filterd Sentence:\",filtered_review)"
   ]
  },
  {
   "cell_type": "code",
   "execution_count": 26,
   "metadata": {
    "ExecuteTime": {
     "end_time": "2020-07-24T09:58:13.066075Z",
     "start_time": "2020-07-24T09:58:12.743122Z"
    }
   },
   "outputs": [
    {
     "data": {
      "image/png": "[encoded data removed]",
      "text/plain": [
       "<Figure size 720x720 with 1 Axes>"
      ]
     },
     "metadata": {
      "needs_background": "light"
     },
     "output_type": "display_data"
    },
    {
     "data": {
      "text/plain": [
       "<matplotlib.axes._subplots.AxesSubplot at 0x107cc2b38>"
      ]
     },
     "execution_count": 26,
     "metadata": {},
     "output_type": "execute_result"
    }
   ],
   "source": [
    "fdist = FreqDist(filtered_review)\n",
    "plt.figure(figsize=(10,10))\n",
    "fdist.plot(10)"
   ]
  },
  {
   "cell_type": "code",
   "execution_count": null,
   "metadata": {},
   "outputs": [],
   "source": []
  }
 ],
 "metadata": {
  "kernelspec": {
   "display_name": "Python [conda env:learn-env] *",
   "language": "python",
   "name": "conda-env-learn-env-py"
  },
  "language_info": {
   "codemirror_mode": {
    "name": "ipython",
    "version": 3
   },
   "file_extension": ".py",
   "mimetype": "text/x-python",
   "name": "python",
   "nbconvert_exporter": "python",
   "pygments_lexer": "ipython3",
   "version": "3.6.6"
  }
 },
 "nbformat": 4,
 "nbformat_minor": 2
}
