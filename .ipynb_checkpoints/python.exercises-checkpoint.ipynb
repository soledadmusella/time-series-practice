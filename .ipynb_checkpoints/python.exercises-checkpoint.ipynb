{
 "cells": [
  {
   "cell_type": "markdown",
   "metadata": {
    "ExecuteTime": {
     "end_time": "2020-08-18T19:55:46.503191Z",
     "start_time": "2020-08-18T19:55:46.473197Z"
    }
   },
   "source": [
    "# Write a Python program to calculate the length of a string"
   ]
  },
  {
   "cell_type": "code",
   "execution_count": 8,
   "metadata": {
    "ExecuteTime": {
     "end_time": "2020-08-18T19:56:49.571457Z",
     "start_time": "2020-08-18T19:56:49.547808Z"
    }
   },
   "outputs": [
    {
     "name": "stdout",
     "output_type": "stream",
     "text": [
      "7\n"
     ]
    }
   ],
   "source": [
    "def string_length(str1):\n",
    "    count = 0\n",
    "    for char in str1:\n",
    "        count += 1\n",
    "    return count\n",
    "print(string_length('soledad'))"
   ]
  },
  {
   "cell_type": "markdown",
   "metadata": {},
   "source": [
    "## Write a Python program to get a single string from two given strings, separated by a space and swap the first two characters of each string"
   ]
  },
  {
   "cell_type": "code",
   "execution_count": 9,
   "metadata": {
    "ExecuteTime": {
     "end_time": "2020-08-18T20:07:31.392407Z",
     "start_time": "2020-08-18T20:07:31.385389Z"
    }
   },
   "outputs": [
    {
     "name": "stdout",
     "output_type": "stream",
     "text": [
      "xyc abz\n"
     ]
    }
   ],
   "source": [
    "def chars_mix_up(a, b):\n",
    "  new_a = b[:2] + a[2:]\n",
    "  new_b = a[:2] + b[2:]\n",
    "\n",
    "  return new_a + ' ' + new_b\n",
    "print(chars_mix_up('abc', 'xyz'))"
   ]
  },
  {
   "cell_type": "markdown",
   "metadata": {
    "ExecuteTime": {
     "end_time": "2020-08-18T20:08:10.303238Z",
     "start_time": "2020-08-18T20:08:10.298771Z"
    }
   },
   "source": [
    "## Write a Python function that takes a list of words and returns the length of the longest one"
   ]
  },
  {
   "cell_type": "code",
   "execution_count": 12,
   "metadata": {
    "ExecuteTime": {
     "end_time": "2020-08-18T20:14:51.668239Z",
     "start_time": "2020-08-18T20:14:51.662044Z"
    }
   },
   "outputs": [
    {
     "name": "stdout",
     "output_type": "stream",
     "text": [
      "SOLEDAD\n"
     ]
    }
   ],
   "source": [
    "def find_longest_word(words_list):\n",
    "    word_len = []\n",
    "    for n in words_list:\n",
    "        word_len.append((len(n), n))\n",
    "    word_len.sort()\n",
    "    return word_len[-1][1]\n",
    "\n",
    "print(find_longest_word([\"SOLEDAD\", \"IRENE\", \"MARIA\"]))"
   ]
  },
  {
   "cell_type": "markdown",
   "metadata": {},
   "source": [
    "## Sum all the items in a list"
   ]
  },
  {
   "cell_type": "code",
   "execution_count": 2,
   "metadata": {
    "ExecuteTime": {
     "end_time": "2020-08-18T20:27:36.736310Z",
     "start_time": "2020-08-18T20:27:36.723552Z"
    }
   },
   "outputs": [
    {
     "name": "stdout",
     "output_type": "stream",
     "text": [
      "-30\n"
     ]
    }
   ],
   "source": [
    "def sum_list(items):\n",
    "    sum_numbers = 0\n",
    "    for x in items:\n",
    "        sum_numbers += x\n",
    "    return sum_numbers\n",
    "print(sum_list([10,40,-80]))"
   ]
  },
  {
   "cell_type": "markdown",
   "metadata": {},
   "source": [
    "## Multiplies all the items in a list"
   ]
  },
  {
   "cell_type": "code",
   "execution_count": 5,
   "metadata": {
    "ExecuteTime": {
     "end_time": "2020-08-18T20:29:22.039181Z",
     "start_time": "2020-08-18T20:29:22.031582Z"
    }
   },
   "outputs": [
    {
     "name": "stdout",
     "output_type": "stream",
     "text": [
      "960\n"
     ]
    }
   ],
   "source": [
    "def multiply_list(items):\n",
    "    tot = 1\n",
    "    for x in items:\n",
    "        tot *= x\n",
    "    return tot\n",
    "print(multiply_list([4,2,-8,5,-3]))"
   ]
  },
  {
   "cell_type": "markdown",
   "metadata": {},
   "source": [
    "## Write a Python program to get the smallest number from a list."
   ]
  },
  {
   "cell_type": "code",
   "execution_count": 1,
   "metadata": {
    "ExecuteTime": {
     "end_time": "2020-08-18T20:49:07.880938Z",
     "start_time": "2020-08-18T20:49:07.869344Z"
    }
   },
   "outputs": [
    {
     "name": "stdout",
     "output_type": "stream",
     "text": [
      "-10\n"
     ]
    }
   ],
   "source": [
    "def smallest_num_in_list( list ):\n",
    "    min = list[ 0 ]\n",
    "    for a in list:\n",
    "        if a < min:\n",
    "            min = a\n",
    "    return min\n",
    "print(smallest_num_in_list([4, 2, -10, 1]))"
   ]
  },
  {
   "cell_type": "markdown",
   "metadata": {},
   "source": [
    "## Write a Python program to remove duplicates from a list"
   ]
  },
  {
   "cell_type": "code",
   "execution_count": 2,
   "metadata": {
    "ExecuteTime": {
     "end_time": "2020-08-18T20:54:11.156109Z",
     "start_time": "2020-08-18T20:54:11.145425Z"
    }
   },
   "outputs": [
    {
     "name": "stdout",
     "output_type": "stream",
     "text": [
      "{40, 10, 80, 50, 20, 60, 30}\n"
     ]
    }
   ],
   "source": [
    "a = [10,20,30,20,10,50,60,40,80,50,40]\n",
    "\n",
    "dup_items = set()\n",
    "uniq_items = []\n",
    "for x in a:\n",
    "    if x not in dup_items:\n",
    "        uniq_items.append(x)\n",
    "        dup_items.add(x)\n",
    "\n",
    "print(dup_items)"
   ]
  },
  {
   "cell_type": "markdown",
   "metadata": {},
   "source": [
    "## Check a list is empty or not"
   ]
  },
  {
   "cell_type": "code",
   "execution_count": 3,
   "metadata": {
    "ExecuteTime": {
     "end_time": "2020-08-18T20:55:40.083546Z",
     "start_time": "2020-08-18T20:55:40.078754Z"
    }
   },
   "outputs": [
    {
     "name": "stdout",
     "output_type": "stream",
     "text": [
      "List is empty\n"
     ]
    }
   ],
   "source": [
    "l = []\n",
    "if not l:\n",
    "  print(\"List is empty\")"
   ]
  },
  {
   "cell_type": "markdown",
   "metadata": {},
   "source": [
    "## Write a Python program to clone or copy a list"
   ]
  },
  {
   "cell_type": "code",
   "execution_count": 1,
   "metadata": {
    "ExecuteTime": {
     "end_time": "2020-08-18T20:59:25.041731Z",
     "start_time": "2020-08-18T20:59:25.029911Z"
    }
   },
   "outputs": [
    {
     "name": "stdout",
     "output_type": "stream",
     "text": [
      "[10, 22, 44, 23, 4]\n",
      "[10, 22, 44, 23, 4]\n"
     ]
    }
   ],
   "source": [
    "original_list = [10, 22, 44, 23, 4]\n",
    "new_list = list(original_list)\n",
    "print(original_list)\n",
    "print(new_list)"
   ]
  },
  {
   "cell_type": "markdown",
   "metadata": {},
   "source": [
    "## Write a Python program to find the list of words that are longer than n from a given list of words"
   ]
  },
  {
   "cell_type": "code",
   "execution_count": 2,
   "metadata": {
    "ExecuteTime": {
     "end_time": "2020-08-18T21:01:36.210167Z",
     "start_time": "2020-08-18T21:01:36.201179Z"
    }
   },
   "outputs": [
    {
     "name": "stdout",
     "output_type": "stream",
     "text": [
      "['quick', 'brown', 'jumps', 'over', 'lazy']\n"
     ]
    }
   ],
   "source": [
    "def long_words(n, str):\n",
    "    word_len = []\n",
    "    txt = str.split(\" \")\n",
    "    for x in txt:\n",
    "        if len(x) > n:\n",
    "            word_len.append(x)\n",
    "    return word_len\t\n",
    "print(long_words(3, \"The quick brown fox jumps over the lazy dog\"))"
   ]
  },
  {
   "cell_type": "markdown",
   "metadata": {},
   "source": [
    "## Write a Python function that takes two lists and returns True if they have at least one common member."
   ]
  },
  {
   "cell_type": "code",
   "execution_count": 3,
   "metadata": {
    "ExecuteTime": {
     "end_time": "2020-08-18T21:05:51.942469Z",
     "start_time": "2020-08-18T21:05:51.936840Z"
    }
   },
   "outputs": [
    {
     "name": "stdout",
     "output_type": "stream",
     "text": [
      "True\n",
      "None\n"
     ]
    }
   ],
   "source": [
    "def common_data(list1, list2):\n",
    "     result = False\n",
    "     for x in list1:\n",
    "         for y in list2:\n",
    "             if x == y:\n",
    "                 result = True\n",
    "                 return result\n",
    "print(common_data([1,2,3,4,5], [5,6,7,8,9]))\n",
    "print(common_data([1,2,3,4,5], [6,7,8,9]))"
   ]
  },
  {
   "cell_type": "markdown",
   "metadata": {
    "ExecuteTime": {
     "end_time": "2020-08-18T21:06:09.252973Z",
     "start_time": "2020-08-18T21:06:09.249280Z"
    }
   },
   "source": [
    "## Write a Python program to print a specified list after removing the 0th, 4th and 5th elements"
   ]
  },
  {
   "cell_type": "code",
   "execution_count": 7,
   "metadata": {
    "ExecuteTime": {
     "end_time": "2020-08-18T21:07:36.606363Z",
     "start_time": "2020-08-18T21:07:36.596341Z"
    }
   },
   "outputs": [],
   "source": [
    "colors = ['Red', 'Green', 'White', 'Black', 'Pink', 'Yellow']"
   ]
  },
  {
   "cell_type": "code",
   "execution_count": 9,
   "metadata": {
    "ExecuteTime": {
     "end_time": "2020-08-18T21:07:44.827672Z",
     "start_time": "2020-08-18T21:07:44.820506Z"
    }
   },
   "outputs": [
    {
     "name": "stdout",
     "output_type": "stream",
     "text": [
      "['Green', 'White', 'Black']\n"
     ]
    }
   ],
   "source": [
    "colors = [x for (i,x) in enumerate(colors) if i not in (0,4,5)]\n",
    "print(colors)"
   ]
  },
  {
   "cell_type": "markdown",
   "metadata": {},
   "source": [
    "## Write a Python program to print the numbers of a specified list after removing even numbers from it."
   ]
  },
  {
   "cell_type": "code",
   "execution_count": 1,
   "metadata": {
    "ExecuteTime": {
     "end_time": "2020-08-18T21:14:22.371927Z",
     "start_time": "2020-08-18T21:14:22.366456Z"
    }
   },
   "outputs": [
    {
     "name": "stdout",
     "output_type": "stream",
     "text": [
      "[7, 25, 27]\n"
     ]
    }
   ],
   "source": [
    "num = [7,8, 120, 25, 44, 20, 27]\n",
    "num = [x for x in num if x%2!=0]\n",
    "print(num)"
   ]
  },
  {
   "cell_type": "markdown",
   "metadata": {},
   "source": [
    "## Write a Python program to generate and print a list of first and last 5 elements where the values are square of numbers between 1 and 30"
   ]
  },
  {
   "cell_type": "code",
   "execution_count": 5,
   "metadata": {
    "ExecuteTime": {
     "end_time": "2020-08-18T21:16:32.037518Z",
     "start_time": "2020-08-18T21:16:32.031035Z"
    }
   },
   "outputs": [
    {
     "ename": "IndentationError",
     "evalue": "expected an indented block (<ipython-input-5-8f6c8d8df985>, line 2)",
     "output_type": "error",
     "traceback": [
      "\u001b[0;36m  File \u001b[0;32m\"<ipython-input-5-8f6c8d8df985>\"\u001b[0;36m, line \u001b[0;32m2\u001b[0m\n\u001b[0;31m    l = list()\u001b[0m\n\u001b[0m    ^\u001b[0m\n\u001b[0;31mIndentationError\u001b[0m\u001b[0;31m:\u001b[0m expected an indented block\n"
     ]
    }
   ],
   "source": [
    "def printValues():\n",
    "l = list()\n",
    "for i in range(1,21):\n",
    "l.append(i**2)\n",
    "print(l[:5])\n",
    "print(l[-5:])\n",
    "\n",
    "printValues()"
   ]
  },
  {
   "cell_type": "markdown",
   "metadata": {},
   "source": [
    "## Write a Python program to get the difference between the two lists."
   ]
  },
  {
   "cell_type": "code",
   "execution_count": 6,
   "metadata": {
    "ExecuteTime": {
     "end_time": "2020-08-18T21:17:51.817952Z",
     "start_time": "2020-08-18T21:17:51.813517Z"
    }
   },
   "outputs": [],
   "source": [
    "list1 = [4, 3, 5, 7, 9]\n",
    "list2=[1, 2, 4, 6, 7, 8]"
   ]
  },
  {
   "cell_type": "code",
   "execution_count": 7,
   "metadata": {
    "ExecuteTime": {
     "end_time": "2020-08-18T21:17:52.282395Z",
     "start_time": "2020-08-18T21:17:52.277075Z"
    }
   },
   "outputs": [
    {
     "name": "stdout",
     "output_type": "stream",
     "text": [
      "[9, 3, 5, 8, 1, 2, 6]\n"
     ]
    }
   ],
   "source": [
    "diff_list1_list2 = list(set(list1) - set(list2))\n",
    "diff_list2_list1 = list(set(list2) - set(list1))\n",
    "total_diff = diff_list1_list2 + diff_list2_list1\n",
    "print(total_diff)"
   ]
  },
  {
   "cell_type": "markdown",
   "metadata": {
    "ExecuteTime": {
     "end_time": "2020-08-25T19:29:51.520172Z",
     "start_time": "2020-08-25T19:29:51.512888Z"
    }
   },
   "source": [
    "## find the sum of all numbers stored in a list"
   ]
  },
  {
   "cell_type": "code",
   "execution_count": 57,
   "metadata": {
    "ExecuteTime": {
     "end_time": "2020-08-25T20:17:29.949619Z",
     "start_time": "2020-08-25T20:17:29.945283Z"
    }
   },
   "outputs": [],
   "source": [
    "c = [1,2,3,4,5,6,7,8,9,10]"
   ]
  },
  {
   "cell_type": "code",
   "execution_count": 58,
   "metadata": {
    "ExecuteTime": {
     "end_time": "2020-08-25T20:17:30.165454Z",
     "start_time": "2020-08-25T20:17:30.161507Z"
    }
   },
   "outputs": [],
   "source": [
    "result=[]"
   ]
  },
  {
   "cell_type": "code",
   "execution_count": 59,
   "metadata": {
    "ExecuteTime": {
     "end_time": "2020-08-25T20:17:30.384737Z",
     "start_time": "2020-08-25T20:17:30.374557Z"
    }
   },
   "outputs": [
    {
     "data": {
      "text/plain": [
       "58"
      ]
     },
     "execution_count": 59,
     "metadata": {},
     "output_type": "execute_result"
    }
   ],
   "source": [
    "for item in c:\n",
    "    result = sum+item\n",
    "result"
   ]
  },
  {
   "cell_type": "markdown",
   "metadata": {
    "ExecuteTime": {
     "end_time": "2020-08-25T20:05:28.877780Z",
     "start_time": "2020-08-25T20:05:28.867146Z"
    }
   },
   "source": [
    "### In your choice of language, write a program that prints the numbers ranging from one to 50."
   ]
  },
  {
   "cell_type": "markdown",
   "metadata": {},
   "source": [
    "But for multiples of three, print \"Fizz\" instead of the number and for the multiples of five, print \"Buzz.\" For numbers which are multiples of both three and five, print \"FizzBuzz\""
   ]
  },
  {
   "cell_type": "code",
   "execution_count": 12,
   "metadata": {
    "ExecuteTime": {
     "end_time": "2020-08-25T21:07:46.600088Z",
     "start_time": "2020-08-25T21:07:46.588690Z"
    }
   },
   "outputs": [
    {
     "name": "stdout",
     "output_type": "stream",
     "text": [
      "FizzBuzz\n",
      "Fizz\n",
      "Buzz\n",
      "Fizz\n",
      "Fizz\n",
      "Buzz\n",
      "Fizz\n",
      "FizzBuzz\n",
      "Fizz\n",
      "Buzz\n",
      "Fizz\n",
      "Fizz\n",
      "Buzz\n",
      "Fizz\n",
      "FizzBuzz\n",
      "Fizz\n",
      "Buzz\n",
      "Fizz\n",
      "Fizz\n",
      "Buzz\n",
      "Fizz\n",
      "FizzBuzz\n",
      "Fizz\n",
      "Buzz\n"
     ]
    },
    {
     "ename": "SyntaxError",
     "evalue": "'return' outside function (<ipython-input-12-ece576e9c62e>, line 8)",
     "output_type": "error",
     "traceback": [
      "\u001b[0;36m  File \u001b[0;32m\"<ipython-input-12-ece576e9c62e>\"\u001b[0;36m, line \u001b[0;32m8\u001b[0m\n\u001b[0;31m    return(item)\u001b[0m\n\u001b[0m                 ^\u001b[0m\n\u001b[0;31mSyntaxError\u001b[0m\u001b[0;31m:\u001b[0m 'return' outside function\n"
     ]
    }
   ],
   "source": [
    "for item in range(51):\n",
    "        if item%3 == 0 and item% 5==0:\n",
    "            print (\"FizzBuzz\") \n",
    "        elif item%3==0:\n",
    "            print (\"Fizz\")\n",
    "        elif item%5==0:\n",
    "            print(\"Buzz\")\n",
    "return(item) \n",
    "            \n",
    "        "
   ]
  },
  {
   "cell_type": "code",
   "execution_count": 1,
   "metadata": {
    "ExecuteTime": {
     "end_time": "2020-08-25T20:55:16.316227Z",
     "start_time": "2020-08-25T20:55:16.310752Z"
    }
   },
   "outputs": [],
   "source": [
    "numbers = list(range(0, 30))"
   ]
  },
  {
   "cell_type": "code",
   "execution_count": 14,
   "metadata": {
    "ExecuteTime": {
     "end_time": "2020-08-25T21:08:15.780702Z",
     "start_time": "2020-08-25T21:08:15.773538Z"
    }
   },
   "outputs": [
    {
     "name": "stdout",
     "output_type": "stream",
     "text": [
      "i never get executed\n",
      "0 is even.\n",
      "i never get executed\n",
      "2 is even.\n",
      "i never get executed\n",
      "4 is even.\n",
      "i never get executed\n",
      "6 is even.\n",
      "i never get executed\n",
      "8 is even.\n",
      "We have enough even numbers in new_list (5). break will stop the for loop now\n"
     ]
    }
   ],
   "source": [
    "new_list = []\n",
    "for num in numbers:\n",
    "    if len(new_list) > 4:\n",
    "        print(f'We have enough even numbers in new_list ({len(new_list)}). break will stop the for loop now')\n",
    "        break\n",
    "    elif num % 2 == 0:\n",
    "        new_list.append(num)\n",
    "    elif num % 2 != 0:\n",
    "        continue \n",
    "    print('i never get executed')\n",
    "    print(num, 'is even.')"
   ]
  },
  {
   "cell_type": "code",
   "execution_count": 8,
   "metadata": {
    "ExecuteTime": {
     "end_time": "2020-08-25T21:05:20.805021Z",
     "start_time": "2020-08-25T21:05:20.798922Z"
    }
   },
   "outputs": [
    {
     "data": {
      "text/plain": [
       "[0, 1, 2, 3, 4]"
      ]
     },
     "execution_count": 8,
     "metadata": {},
     "output_type": "execute_result"
    }
   ],
   "source": [
    "list(range(0,5))"
   ]
  },
  {
   "cell_type": "markdown",
   "metadata": {
    "ExecuteTime": {
     "end_time": "2020-08-25T21:25:42.440374Z",
     "start_time": "2020-08-25T21:25:42.436982Z"
    }
   },
   "source": [
    "### Built-in Functions"
   ]
  },
  {
   "cell_type": "code",
   "execution_count": 16,
   "metadata": {
    "ExecuteTime": {
     "end_time": "2020-08-25T21:29:22.743894Z",
     "start_time": "2020-08-25T21:29:22.738767Z"
    }
   },
   "outputs": [
    {
     "name": "stdout",
     "output_type": "stream",
     "text": [
      "True\n"
     ]
    }
   ],
   "source": [
    "# True since 1,3 and 4 (at least one) is true\n",
    "l = [1, 3, 4, 0]\n",
    "print(any(l))"
   ]
  },
  {
   "cell_type": "code",
   "execution_count": 19,
   "metadata": {
    "ExecuteTime": {
     "end_time": "2020-08-25T21:30:11.505291Z",
     "start_time": "2020-08-25T21:30:11.500510Z"
    }
   },
   "outputs": [
    {
     "name": "stdout",
     "output_type": "stream",
     "text": [
      "False\n"
     ]
    }
   ],
   "source": [
    "m = [0,False]\n",
    "print(any(m))"
   ]
  },
  {
   "cell_type": "markdown",
   "metadata": {
    "ExecuteTime": {
     "end_time": "2020-08-25T21:31:39.351633Z",
     "start_time": "2020-08-25T21:31:39.344412Z"
    }
   },
   "source": [
    "The all() method returns True when all elements in the given iterable are true. If not, it returns False."
   ]
  },
  {
   "cell_type": "code",
   "execution_count": 21,
   "metadata": {
    "ExecuteTime": {
     "end_time": "2020-08-25T21:31:59.365328Z",
     "start_time": "2020-08-25T21:31:59.359975Z"
    }
   },
   "outputs": [],
   "source": [
    "z = [1,2,3,4,5,0]"
   ]
  },
  {
   "cell_type": "code",
   "execution_count": 23,
   "metadata": {
    "ExecuteTime": {
     "end_time": "2020-08-25T21:32:12.748552Z",
     "start_time": "2020-08-25T21:32:12.743480Z"
    }
   },
   "outputs": [
    {
     "name": "stdout",
     "output_type": "stream",
     "text": [
      "False\n"
     ]
    }
   ],
   "source": [
    "print(all(z))"
   ]
  },
  {
   "cell_type": "code",
   "execution_count": 26,
   "metadata": {
    "ExecuteTime": {
     "end_time": "2020-08-25T21:33:07.743554Z",
     "start_time": "2020-08-25T21:33:07.737095Z"
    }
   },
   "outputs": [],
   "source": [
    "q = [1,2,3,4,5]"
   ]
  },
  {
   "cell_type": "code",
   "execution_count": 27,
   "metadata": {
    "ExecuteTime": {
     "end_time": "2020-08-25T21:33:08.138905Z",
     "start_time": "2020-08-25T21:33:08.135354Z"
    }
   },
   "outputs": [
    {
     "name": "stdout",
     "output_type": "stream",
     "text": [
      "True\n"
     ]
    }
   ],
   "source": [
    "print(all(q))"
   ]
  },
  {
   "cell_type": "markdown",
   "metadata": {},
   "source": [
    "The enumerate() method adds counter to an iterable and returns it (the enumerate object)"
   ]
  },
  {
   "cell_type": "code",
   "execution_count": 28,
   "metadata": {
    "ExecuteTime": {
     "end_time": "2020-08-25T21:43:24.919089Z",
     "start_time": "2020-08-25T21:43:24.911633Z"
    }
   },
   "outputs": [
    {
     "name": "stdout",
     "output_type": "stream",
     "text": [
      "(0, 'bread')\n",
      "(1, 'milk')\n",
      "(2, 'butter')\n"
     ]
    }
   ],
   "source": [
    "grocery = ['bread', 'milk', 'butter']\n",
    "\n",
    "for item in enumerate(grocery):\n",
    "  print(item)"
   ]
  },
  {
   "cell_type": "code",
   "execution_count": 31,
   "metadata": {
    "ExecuteTime": {
     "end_time": "2020-08-25T22:07:34.451797Z",
     "start_time": "2020-08-25T22:07:34.444949Z"
    }
   },
   "outputs": [],
   "source": [
    "data_scientist = \"Soledad Musella\""
   ]
  },
  {
   "cell_type": "code",
   "execution_count": 32,
   "metadata": {
    "ExecuteTime": {
     "end_time": "2020-08-25T22:09:09.047187Z",
     "start_time": "2020-08-25T22:09:09.040239Z"
    }
   },
   "outputs": [
    {
     "name": "stdout",
     "output_type": "stream",
     "text": [
      "Hello my name is Soledad Musella\n"
     ]
    }
   ],
   "source": [
    "print(\"Hello my name is {}\".format(data_scientist))"
   ]
  },
  {
   "cell_type": "markdown",
   "metadata": {},
   "source": [
    "Write a Python function to find the Max of three numbers"
   ]
  },
  {
   "cell_type": "code",
   "execution_count": 38,
   "metadata": {
    "ExecuteTime": {
     "end_time": "2020-08-26T09:56:01.388028Z",
     "start_time": "2020-08-26T09:56:01.378209Z"
    }
   },
   "outputs": [],
   "source": [
    "c= [5,7,8]"
   ]
  },
  {
   "cell_type": "code",
   "execution_count": 42,
   "metadata": {
    "ExecuteTime": {
     "end_time": "2020-08-26T09:56:56.436273Z",
     "start_time": "2020-08-26T09:56:56.428767Z"
    }
   },
   "outputs": [],
   "source": [
    "def maxnum():\n",
    "    return max(c)"
   ]
  },
  {
   "cell_type": "code",
   "execution_count": 43,
   "metadata": {
    "ExecuteTime": {
     "end_time": "2020-08-26T09:56:56.915441Z",
     "start_time": "2020-08-26T09:56:56.909142Z"
    }
   },
   "outputs": [
    {
     "data": {
      "text/plain": [
       "8"
      ]
     },
     "execution_count": 43,
     "metadata": {},
     "output_type": "execute_result"
    }
   ],
   "source": [
    "maxnum()"
   ]
  },
  {
   "cell_type": "markdown",
   "metadata": {
    "ExecuteTime": {
     "end_time": "2020-08-26T10:05:10.215178Z",
     "start_time": "2020-08-26T10:05:10.203987Z"
    }
   },
   "source": [
    "Write a Python function to sum all the numbers in a list"
   ]
  },
  {
   "cell_type": "code",
   "execution_count": 45,
   "metadata": {
    "ExecuteTime": {
     "end_time": "2020-08-26T10:05:34.025210Z",
     "start_time": "2020-08-26T10:05:34.017358Z"
    }
   },
   "outputs": [],
   "source": [
    "l = [8, 2, 3, 0, 7]"
   ]
  },
  {
   "cell_type": "code",
   "execution_count": 47,
   "metadata": {
    "ExecuteTime": {
     "end_time": "2020-08-26T10:05:55.104609Z",
     "start_time": "2020-08-26T10:05:55.096583Z"
    }
   },
   "outputs": [],
   "source": [
    "def sumn():\n",
    "    return sum(l)"
   ]
  },
  {
   "cell_type": "code",
   "execution_count": 48,
   "metadata": {
    "ExecuteTime": {
     "end_time": "2020-08-26T10:06:00.819882Z",
     "start_time": "2020-08-26T10:06:00.810002Z"
    }
   },
   "outputs": [
    {
     "data": {
      "text/plain": [
       "20"
      ]
     },
     "execution_count": 48,
     "metadata": {},
     "output_type": "execute_result"
    }
   ],
   "source": [
    "sumn()"
   ]
  },
  {
   "cell_type": "markdown",
   "metadata": {},
   "source": [
    "Write a Python function to multiply all the numbers in a list"
   ]
  },
  {
   "cell_type": "code",
   "execution_count": 51,
   "metadata": {
    "ExecuteTime": {
     "end_time": "2020-08-26T10:07:38.668220Z",
     "start_time": "2020-08-26T10:07:38.637133Z"
    }
   },
   "outputs": [],
   "source": [
    "def mult():\n",
    "    for i in l:\n",
    "        return i*i\n",
    "    "
   ]
  },
  {
   "cell_type": "code",
   "execution_count": 52,
   "metadata": {
    "ExecuteTime": {
     "end_time": "2020-08-26T10:07:57.859750Z",
     "start_time": "2020-08-26T10:07:57.852439Z"
    }
   },
   "outputs": [
    {
     "data": {
      "text/plain": [
       "64"
      ]
     },
     "execution_count": 52,
     "metadata": {},
     "output_type": "execute_result"
    }
   ],
   "source": [
    "mult()"
   ]
  },
  {
   "cell_type": "code",
   "execution_count": 56,
   "metadata": {
    "ExecuteTime": {
     "end_time": "2020-08-26T12:48:29.127853Z",
     "start_time": "2020-08-26T12:48:29.122939Z"
    }
   },
   "outputs": [],
   "source": [
    "number_50 = 50\n",
    "my_number = None\n",
    "if number_50 > 100:\n",
    "    less_than_50 = 100\n",
    "    # if number_50 is greater than 100, assign the `my_number` variable to the number 100\n",
    "elif number_50 > 50:\n",
    "    less_than_50 = 50\n",
    "    # if number_50 is greater than 50, assign the `my_number` variable to the number 50\n",
    "else:\n",
    "    less_than_50 = 0\n",
    "    # else assign the `my_number` variable to 0"
   ]
  },
  {
   "cell_type": "code",
   "execution_count": 58,
   "metadata": {
    "ExecuteTime": {
     "end_time": "2020-08-26T12:51:20.018644Z",
     "start_time": "2020-08-26T12:51:20.012753Z"
    }
   },
   "outputs": [
    {
     "name": "stdout",
     "output_type": "stream",
     "text": [
      "Is hot\n"
     ]
    }
   ],
   "source": [
    "temperature = 85\n",
    "is_it_hot = None\n",
    "if temperature > 80:\n",
    "    print (\"Is hot\")\n",
    "else:\n",
    "    print (\"Not hot\")"
   ]
  },
  {
   "cell_type": "code",
   "execution_count": 2,
   "metadata": {
    "ExecuteTime": {
     "end_time": "2020-08-26T13:48:58.932939Z",
     "start_time": "2020-08-26T13:48:58.929104Z"
    }
   },
   "outputs": [],
   "source": [
    "thisdict = {\n",
    "  \"brand\": \"Ford\",\n",
    "  \"model\": \"Mustang\",\n",
    "  \"year\": 1964\n",
    "}"
   ]
  },
  {
   "cell_type": "code",
   "execution_count": 3,
   "metadata": {
    "ExecuteTime": {
     "end_time": "2020-08-26T13:48:59.293981Z",
     "start_time": "2020-08-26T13:48:59.279129Z"
    }
   },
   "outputs": [
    {
     "data": {
      "text/plain": [
       "'Mustang'"
      ]
     },
     "execution_count": 3,
     "metadata": {},
     "output_type": "execute_result"
    }
   ],
   "source": [
    "thisdict[\"model\"]"
   ]
  },
  {
   "cell_type": "code",
   "execution_count": 4,
   "metadata": {
    "ExecuteTime": {
     "end_time": "2020-08-26T13:49:13.363510Z",
     "start_time": "2020-08-26T13:49:13.358313Z"
    }
   },
   "outputs": [
    {
     "data": {
      "text/plain": [
       "dict_values(['Ford', 'Mustang', 1964])"
      ]
     },
     "execution_count": 4,
     "metadata": {},
     "output_type": "execute_result"
    }
   ],
   "source": [
    "thisdict.values()"
   ]
  },
  {
   "cell_type": "markdown",
   "metadata": {
    "ExecuteTime": {
     "end_time": "2020-08-26T13:49:41.352576Z",
     "start_time": "2020-08-26T13:49:41.340396Z"
    }
   },
   "source": [
    "Change the \"year\" to 2018:\n"
   ]
  },
  {
   "cell_type": "code",
   "execution_count": 9,
   "metadata": {
    "ExecuteTime": {
     "end_time": "2020-08-26T13:53:30.933786Z",
     "start_time": "2020-08-26T13:53:30.929394Z"
    }
   },
   "outputs": [],
   "source": [
    "thisdict[\"year\"]=2018"
   ]
  },
  {
   "cell_type": "code",
   "execution_count": 10,
   "metadata": {
    "ExecuteTime": {
     "end_time": "2020-08-26T13:53:43.333512Z",
     "start_time": "2020-08-26T13:53:43.325770Z"
    }
   },
   "outputs": [
    {
     "data": {
      "text/plain": [
       "dict_values(['Ford', 'Mustang', 2018])"
      ]
     },
     "execution_count": 10,
     "metadata": {},
     "output_type": "execute_result"
    }
   ],
   "source": [
    "thisdict.values()"
   ]
  },
  {
   "cell_type": "markdown",
   "metadata": {},
   "source": [
    "Print all key names in the dictionary, one by one:"
   ]
  },
  {
   "cell_type": "code",
   "execution_count": 23,
   "metadata": {
    "ExecuteTime": {
     "end_time": "2020-08-26T14:19:03.088798Z",
     "start_time": "2020-08-26T14:19:03.083555Z"
    }
   },
   "outputs": [
    {
     "name": "stdout",
     "output_type": "stream",
     "text": [
      "brand\n",
      "model\n",
      "color\n"
     ]
    }
   ],
   "source": [
    "for key in thisdict:\n",
    "    print (key)"
   ]
  },
  {
   "cell_type": "code",
   "execution_count": 15,
   "metadata": {
    "ExecuteTime": {
     "end_time": "2020-08-26T14:06:52.597096Z",
     "start_time": "2020-08-26T14:06:52.582409Z"
    }
   },
   "outputs": [
    {
     "data": {
      "text/plain": [
       "3"
      ]
     },
     "execution_count": 15,
     "metadata": {},
     "output_type": "execute_result"
    }
   ],
   "source": [
    "len(thisdict)"
   ]
  },
  {
   "cell_type": "code",
   "execution_count": 17,
   "metadata": {
    "ExecuteTime": {
     "end_time": "2020-08-26T14:09:09.101537Z",
     "start_time": "2020-08-26T14:09:09.098099Z"
    }
   },
   "outputs": [],
   "source": [
    "thisdict[\"color\"]=\"red\""
   ]
  },
  {
   "cell_type": "code",
   "execution_count": 18,
   "metadata": {
    "ExecuteTime": {
     "end_time": "2020-08-26T14:09:13.859853Z",
     "start_time": "2020-08-26T14:09:13.852309Z"
    }
   },
   "outputs": [
    {
     "data": {
      "text/plain": [
       "{'brand': 'Ford', 'model': 'Mustang', 'year': 2018, 'color': 'red'}"
      ]
     },
     "execution_count": 18,
     "metadata": {},
     "output_type": "execute_result"
    }
   ],
   "source": [
    "thisdict"
   ]
  },
  {
   "cell_type": "code",
   "execution_count": 19,
   "metadata": {
    "ExecuteTime": {
     "end_time": "2020-08-26T14:09:36.664896Z",
     "start_time": "2020-08-26T14:09:36.658197Z"
    }
   },
   "outputs": [
    {
     "data": {
      "text/plain": [
       "2018"
      ]
     },
     "execution_count": 19,
     "metadata": {},
     "output_type": "execute_result"
    }
   ],
   "source": [
    "thisdict.pop('year')"
   ]
  },
  {
   "cell_type": "code",
   "execution_count": 20,
   "metadata": {
    "ExecuteTime": {
     "end_time": "2020-08-26T14:09:46.502199Z",
     "start_time": "2020-08-26T14:09:46.493260Z"
    }
   },
   "outputs": [
    {
     "data": {
      "text/plain": [
       "{'brand': 'Ford', 'model': 'Mustang', 'color': 'red'}"
      ]
     },
     "execution_count": 20,
     "metadata": {},
     "output_type": "execute_result"
    }
   ],
   "source": [
    "thisdict"
   ]
  },
  {
   "cell_type": "code",
   "execution_count": 22,
   "metadata": {
    "ExecuteTime": {
     "end_time": "2020-08-26T14:14:35.268618Z",
     "start_time": "2020-08-26T14:14:35.262116Z"
    }
   },
   "outputs": [
    {
     "data": {
      "text/plain": [
       "True"
      ]
     },
     "execution_count": 22,
     "metadata": {},
     "output_type": "execute_result"
    }
   ],
   "source": [
    "9!=8\n"
   ]
  },
  {
   "cell_type": "code",
   "execution_count": 24,
   "metadata": {
    "ExecuteTime": {
     "end_time": "2020-08-26T21:56:55.326859Z",
     "start_time": "2020-08-26T21:56:55.316107Z"
    }
   },
   "outputs": [],
   "source": [
    "# modulus operator\n"
   ]
  },
  {
   "cell_type": "code",
   "execution_count": 25,
   "metadata": {
    "ExecuteTime": {
     "end_time": "2020-08-26T21:58:10.423754Z",
     "start_time": "2020-08-26T21:58:10.415500Z"
    }
   },
   "outputs": [
    {
     "data": {
      "text/plain": [
       "0"
      ]
     },
     "execution_count": 25,
     "metadata": {},
     "output_type": "execute_result"
    }
   ],
   "source": [
    "40%2"
   ]
  },
  {
   "cell_type": "code",
   "execution_count": 26,
   "metadata": {
    "ExecuteTime": {
     "end_time": "2020-08-26T21:58:18.875178Z",
     "start_time": "2020-08-26T21:58:18.868967Z"
    }
   },
   "outputs": [
    {
     "data": {
      "text/plain": [
       "1"
      ]
     },
     "execution_count": 26,
     "metadata": {},
     "output_type": "execute_result"
    }
   ],
   "source": [
    "40%3"
   ]
  },
  {
   "cell_type": "code",
   "execution_count": 20,
   "metadata": {
    "ExecuteTime": {
     "end_time": "2020-08-28T12:34:04.804610Z",
     "start_time": "2020-08-28T12:34:04.800778Z"
    }
   },
   "outputs": [],
   "source": [
    "a = [\"a\",\"v\",\"c\",\"v\",\"z\",\"e\",\"r\",\"t\",\"b\"]"
   ]
  },
  {
   "cell_type": "code",
   "execution_count": 21,
   "metadata": {
    "ExecuteTime": {
     "end_time": "2020-08-28T12:34:05.159301Z",
     "start_time": "2020-08-28T12:34:05.154813Z"
    }
   },
   "outputs": [
    {
     "name": "stdout",
     "output_type": "stream",
     "text": [
      "[(0, 'a'), (1, 'v'), (2, 'c'), (3, 'v'), (4, 'z'), (5, 'e'), (6, 'r'), (7, 't'), (8, 'b')]\n"
     ]
    }
   ],
   "source": [
    "print(list(enumerate(a)))"
   ]
  },
  {
   "cell_type": "code",
   "execution_count": 22,
   "metadata": {
    "ExecuteTime": {
     "end_time": "2020-08-28T12:34:05.526616Z",
     "start_time": "2020-08-28T12:34:05.518961Z"
    }
   },
   "outputs": [
    {
     "data": {
      "text/plain": [
       "['a', 'b', 'c', 'e', 'r', 't', 'v', 'v', 'z']"
      ]
     },
     "execution_count": 22,
     "metadata": {},
     "output_type": "execute_result"
    }
   ],
   "source": [
    "sorted(a)"
   ]
  },
  {
   "cell_type": "code",
   "execution_count": 23,
   "metadata": {
    "ExecuteTime": {
     "end_time": "2020-08-28T12:34:38.320593Z",
     "start_time": "2020-08-28T12:34:38.316819Z"
    }
   },
   "outputs": [],
   "source": [
    "v = [1,2,33,54,51,6,77,8,19,9,11,12,]"
   ]
  },
  {
   "cell_type": "code",
   "execution_count": 24,
   "metadata": {
    "ExecuteTime": {
     "end_time": "2020-08-28T12:34:46.593333Z",
     "start_time": "2020-08-28T12:34:46.586197Z"
    }
   },
   "outputs": [
    {
     "data": {
      "text/plain": [
       "[1, 2, 6, 8, 9, 11, 12, 19, 33, 51, 54, 77]"
      ]
     },
     "execution_count": 24,
     "metadata": {},
     "output_type": "execute_result"
    }
   ],
   "source": [
    "sorted(v)"
   ]
  },
  {
   "cell_type": "code",
   "execution_count": 26,
   "metadata": {
    "ExecuteTime": {
     "end_time": "2020-08-28T12:35:23.624062Z",
     "start_time": "2020-08-28T12:35:23.615495Z"
    }
   },
   "outputs": [
    {
     "data": {
      "text/plain": [
       "[2, 33]"
      ]
     },
     "execution_count": 26,
     "metadata": {},
     "output_type": "execute_result"
    }
   ],
   "source": [
    "v[1:3]"
   ]
  },
  {
   "cell_type": "code",
   "execution_count": 27,
   "metadata": {
    "ExecuteTime": {
     "end_time": "2020-08-28T12:41:20.545651Z",
     "start_time": "2020-08-28T12:41:20.538302Z"
    }
   },
   "outputs": [
    {
     "data": {
      "text/plain": [
       "283"
      ]
     },
     "execution_count": 27,
     "metadata": {},
     "output_type": "execute_result"
    }
   ],
   "source": [
    "sum(v)"
   ]
  },
  {
   "cell_type": "code",
   "execution_count": 28,
   "metadata": {
    "ExecuteTime": {
     "end_time": "2020-08-29T10:54:00.585423Z",
     "start_time": "2020-08-29T10:54:00.552122Z"
    }
   },
   "outputs": [],
   "source": [
    "def zip(*iterables):\n",
    "    # zip('ABCD', 'xy') --> Ax By\n",
    "    sentinel = object()\n",
    "    iterators = [iter(it) for it in iterables]\n",
    "    while iterators:\n",
    "        result = []\n",
    "        for it in iterators:\n",
    "            elem = next(it, sentinel)\n",
    "            if elem is sentinel:\n",
    "                return\n",
    "            result.append(elem)\n",
    "        yield tuple(result)"
   ]
  },
  {
   "cell_type": "code",
   "execution_count": 1,
   "metadata": {
    "ExecuteTime": {
     "end_time": "2020-08-29T10:58:51.846076Z",
     "start_time": "2020-08-29T10:58:51.837767Z"
    }
   },
   "outputs": [
    {
     "name": "stdout",
     "output_type": "stream",
     "text": [
      "[[1, 2, 3], [4, 5, 6], [7, 8, 9]]\n",
      "[[10, 20, 30], [400, 500, 600], [7000, 8000, 9000]]\n"
     ]
    }
   ],
   "source": [
    "A = [[1, 2, 3], [4, 5, 6], [7, 8, 9]]\n",
    "f = 1\n",
    "print(A)\n",
    "for i in range(0, 3):\n",
    "    f *= 10\n",
    "    for j in range(0, 3):\n",
    "       A[i][j] *= f\n",
    "print(A)"
   ]
  },
  {
   "cell_type": "code",
   "execution_count": 3,
   "metadata": {
    "ExecuteTime": {
     "end_time": "2020-08-29T11:08:33.509660Z",
     "start_time": "2020-08-29T11:08:33.500702Z"
    }
   },
   "outputs": [
    {
     "name": "stdout",
     "output_type": "stream",
     "text": [
      "Current Letter : a\n",
      "Current Letter : b\n",
      "Current Letter : c\n",
      "Current Letter : d\n",
      "Current Letter : f\n",
      "Current Letter : g\n",
      "Current Letter : h\n",
      "Current Letter : i\n",
      "Current Letter : l\n",
      "Current Letter : m\n",
      "Current Letter : n\n",
      "Current Letter : o\n",
      "Current Letter : p\n",
      "Current Letter : q\n",
      "Current Letter : r\n",
      "Current Letter : t\n",
      "Current Letter : u\n",
      "Current Letter : v\n",
      "Current Letter : z\n"
     ]
    }
   ],
   "source": [
    "for letter in 'abcdefghilmnopqrstuvz':  \n",
    "    if letter == 'e' or letter == 's': \n",
    "         continue\n",
    "    print ('Current Letter :', letter)\n",
    " "
   ]
  },
  {
   "cell_type": "code",
   "execution_count": 4,
   "metadata": {
    "ExecuteTime": {
     "end_time": "2020-08-29T13:40:16.855219Z",
     "start_time": "2020-08-29T13:40:16.848698Z"
    }
   },
   "outputs": [
    {
     "name": "stdout",
     "output_type": "stream",
     "text": [
      "The sum is 190\n"
     ]
    }
   ],
   "source": [
    "# List of numbers\n",
    "numbers = [5, 4, 1, 20, 44, 32, 5, 14, 65]\n",
    "\n",
    "# variable to store the sum\n",
    "sum = 0\n",
    "\n",
    "# iterate over the list\n",
    "for val in numbers:\n",
    "\tsum = sum+val\n",
    "\n",
    "    \n",
    "print(\"The sum is\", sum)\n"
   ]
  },
  {
   "cell_type": "code",
   "execution_count": 7,
   "metadata": {
    "ExecuteTime": {
     "end_time": "2020-08-29T14:12:36.676188Z",
     "start_time": "2020-08-29T14:12:36.666580Z"
    }
   },
   "outputs": [
    {
     "name": "stdout",
     "output_type": "stream",
     "text": [
      "5\n",
      "school\n",
      "pen\n",
      "nation\n",
      "cold\n",
      "8\n",
      "school\n",
      "pen\n",
      "nation\n",
      "cold\n",
      "9\n",
      "school\n",
      "pen\n",
      "nation\n",
      "cold\n",
      "10\n",
      "school\n",
      "pen\n",
      "nation\n",
      "cold\n",
      "15\n",
      "school\n",
      "pen\n",
      "nation\n",
      "cold\n"
     ]
    }
   ],
   "source": [
    "numbers_list = [5, 8, 9,10,15]\n",
    "words_list = ['school', 'pen', 'nation',\"cold\"]\n",
    "\n",
    "for number in numbers_list:\n",
    "    print(number)\n",
    "    for letter in words_list:\n",
    "        print(letter)"
   ]
  },
  {
   "cell_type": "code",
   "execution_count": 9,
   "metadata": {
    "ExecuteTime": {
     "end_time": "2020-08-29T14:22:33.120931Z",
     "start_time": "2020-08-29T14:22:33.114351Z"
    }
   },
   "outputs": [
    {
     "name": "stdout",
     "output_type": "stream",
     "text": [
      "horses\n",
      "bears\n",
      "dogs\n",
      "cats\n",
      "rabbits\n",
      "7\n",
      "3\n",
      "9\n",
      "0.3\n",
      "0.7\n",
      "0.4\n"
     ]
    }
   ],
   "source": [
    "list_of_lists = [['horses', 'bears', 'dogs','cats',\"rabbits\"],[7, 3, 9],[0.3, 0.7, 0.4]]\n",
    "\n",
    "for list in list_of_lists:\n",
    "    for item in list:\n",
    "        print(item)"
   ]
  },
  {
   "cell_type": "code",
   "execution_count": 2,
   "metadata": {
    "ExecuteTime": {
     "end_time": "2020-09-03T14:10:37.016805Z",
     "start_time": "2020-09-03T14:10:36.827718Z"
    }
   },
   "outputs": [],
   "source": [
    "soccer_match = [\n",
    "  { \"home_team\": True,\n",
    "    \"away_team\": False,\n",
    "    \"country\": \"France\",\n",
    "    \"num_passes\": 484,\n",
    "    \"passes_completed\": 423,\n",
    "    \"fouls_committed\": 16,\n",
    "    \"colors\": [\"blue\", \"white\", \"red\"],\n",
    "    \"players\": [\n",
    "      {\n",
    "        \"name\": \"Hugo LLORIS\",\n",
    "        \"captain\": True,\n",
    "        \"shirt_number\": 1,\n",
    "        \"position\": \"Goalie\"\n",
    "      },\n",
    "      {\n",
    "        \"name\": \"Benjamin PAVARD\",\n",
    "        \"captain\": False,\"shirt_number\": 2,\n",
    "        \"position\": \"Defender\"\n",
    "      },\n",
    "      {\n",
    "        \"name\": \"Raphael VARANE\",\n",
    "        \"captain\": False,\n",
    "        \"shirt_number\": 4,\n",
    "        \"position\": \"Defender\"\n",
    "      },\n",
    "      {\n",
    "        \"name\": \"Samuel UMTITI\",\n",
    "        \"captain\": False,\n",
    "        \"shirt_number\": 5,\n",
    "        \"position\": \"Defender\"\n",
    "      },\n",
    "      {\n",
    "        \"name\": \"Paul POGBA\",\n",
    "        \"captain\": False,\"shirt_number\": 6,\n",
    "        \"position\": \"Midfield\"\n",
    "      },\n",
    "      {\n",
    "        \"name\": \"Antoine GRIEZMANN\",\n",
    "        \"captain\": False,\n",
    "        \"shirt_number\": 7,\n",
    "        \"position\": \"Forward\"\n",
    "      },\n",
    "      {\n",
    "        \"name\": \"Kylian MBAPPE\",\n",
    "        \"captain\": False,\n",
    "        \"shirt_number\": 10,\n",
    "        \"position\": \"Forward\"\n",
    "      },\n",
    "      {\n",
    "        \"name\": \"Ousmane DEMBELE\",\n",
    "        \"captain\": False,\n",
    "        \"shirt_number\": 11, \"position\": \"Forward\"\n",
    "      },\n",
    "      {\n",
    "        \"name\": \"Corentin TOLISSO\",\n",
    "        \"captain\": False,\n",
    "        \"shirt_number\": 12,\n",
    "        \"position\": \"Midfield\"\n",
    "      },\n",
    "      {\n",
    "        \"name\": \"Ngolo KANTE\",\n",
    "        \"captain\": False,\n",
    "        \"shirt_number\": 13,\n",
    "        \"position\": \"Midfield\"\n",
    "      },\n",
    "      {\n",
    "        \"name\": \"Lucas HERNANDEZ\",\n",
    "        \"captain\": False,\n",
    "        \"shirt_number\": 21,\n",
    "        \"position\": \"Defender\" }\n",
    "    ],\n",
    "  },\n",
    "  { \"home_team\": False,\n",
    "    \"away_team\": True,\n",
    "    \"country\": \"Australia\",\n",
    "    \"num_passes\": 390,\n",
    "    \"passes_completed\": 332,\n",
    "    \"fouls_committed\": 19,\n",
    "    \"colors\": [\"green\", \"gold\"],\n",
    "    \"players\": [\n",
    "      {\n",
    "        \"name\": \"Mathew RYAN\",\n",
    "        \"captain\": False,\n",
    "        \"shirt_number\": 1,\n",
    "        \"position\": \"Goalie\"\n",
    "      },{\n",
    "        \"name\": \"Mark MILLIGAN\",\n",
    "        \"captain\": False,\n",
    "        \"shirt_number\": 5,\n",
    "        \"position\": \"Defender\"\n",
    "      },\n",
    "      {\n",
    "        \"name\": \"Mathew LECKIE\",\n",
    "        \"captain\": False,\n",
    "        \"shirt_number\": 7,\n",
    "        \"position\": \"Forward\"\n",
    "      },\n",
    "      {\n",
    "        \"name\": \"Robbie KRUSE\",\n",
    "        \"captain\": False,\n",
    "        \"shirt_number\": 10,\n",
    "        \"position\": \"Forward\"\n",
    "      }, {\n",
    "        \"name\": \"Andrew NABBOUT\",\n",
    "        \"captain\": False,\n",
    "        \"shirt_number\": 11,\n",
    "        \"position\": \"Forward\"\n",
    "      },\n",
    "      {\n",
    "        \"name\": \"Aaron MOOY\",\n",
    "        \"captain\": False,\n",
    "        \"shirt_number\": 13,\n",
    "        \"position\": \"Midfield\"\n",
    "      },\n",
    "      {\n",
    "        \"name\": \"Mile JEDINAK\",\n",
    "        \"captain\": True,\n",
    "        \"shirt_number\": 15,\n",
    "        \"position\": \"Midfield\"\n",
    "      },\n",
    "      {  \"name\": \"Aziz BEHICH\",\n",
    "        \"captain\": False,\n",
    "        \"shirt_number\": 16,\n",
    "        \"position\": \"Defender\"\n",
    "      },\n",
    "      {\n",
    "        \"name\": \"Joshua RISDON\",\n",
    "        \"captain\": False,\n",
    "        \"shirt_number\": 19,\n",
    "        \"position\": \"Defender\"\n",
    "      },\n",
    "      {\n",
    "        \"name\": \"Trent SAINSBURY\",\n",
    "        \"captain\": False,\n",
    "        \"shirt_number\": 20,\"position\": \"Defender\"\n",
    "      },\n",
    "      {\n",
    "        \"name\": \"Tom ROGIC\",\n",
    "        \"captain\": False,\n",
    "        \"shirt_number\": 23,\n",
    "        \"position\": \"Midfield\"\n",
    "      }\n",
    "    ]\n",
    "  }\n",
    "]"
   ]
  },
  {
   "cell_type": "markdown",
   "metadata": {},
   "source": [
    "iterate over the soccer_match list to create a new list with the name of the country for each team."
   ]
  },
  {
   "cell_type": "code",
   "execution_count": 7,
   "metadata": {
    "ExecuteTime": {
     "end_time": "2020-09-03T14:25:45.046807Z",
     "start_time": "2020-09-03T14:25:45.039466Z"
    }
   },
   "outputs": [
    {
     "data": {
      "text/plain": [
       "['France', 'Australia']"
      ]
     },
     "execution_count": 7,
     "metadata": {},
     "output_type": "execute_result"
    }
   ],
   "source": [
    "countries=[]\n",
    "for country in soccer_match:\n",
    "    countries.append(country[\"country\"]) \n",
    "countries"
   ]
  },
  {
   "cell_type": "markdown",
   "metadata": {},
   "source": [
    "Iterate over the soccer_match list to create a new list with the colors for each team this should be only one list containing strings for each of the country's colors."
   ]
  },
  {
   "cell_type": "code",
   "execution_count": 8,
   "metadata": {
    "ExecuteTime": {
     "end_time": "2020-09-03T14:36:26.909903Z",
     "start_time": "2020-09-03T14:36:26.903231Z"
    }
   },
   "outputs": [
    {
     "data": {
      "text/plain": [
       "[['blue', 'white', 'red'], ['green', 'gold']]"
      ]
     },
     "execution_count": 8,
     "metadata": {},
     "output_type": "execute_result"
    }
   ],
   "source": [
    "colors=[]\n",
    "for col in soccer_match:\n",
    "    colors.append(col[\"colors\"])\n",
    "\n",
    "colors\n",
    "\n",
    "\n"
   ]
  },
  {
   "cell_type": "markdown",
   "metadata": {},
   "source": [
    "Iterate over the soccer_match list to create a new list with the players from each team. players should be a single list containing the dictionaries for each of the country's players."
   ]
  },
  {
   "cell_type": "code",
   "execution_count": 9,
   "metadata": {
    "ExecuteTime": {
     "end_time": "2020-09-03T14:40:39.375282Z",
     "start_time": "2020-09-03T14:40:39.371306Z"
    }
   },
   "outputs": [],
   "source": [
    "players=[]"
   ]
  },
  {
   "cell_type": "code",
   "execution_count": 10,
   "metadata": {
    "ExecuteTime": {
     "end_time": "2020-09-03T14:59:53.574728Z",
     "start_time": "2020-09-03T14:59:53.565460Z"
    }
   },
   "outputs": [
    {
     "data": {
      "text/plain": [
       "[{'name': 'Hugo LLORIS',\n",
       "  'captain': True,\n",
       "  'shirt_number': 1,\n",
       "  'position': 'Goalie'},\n",
       " {'name': 'Benjamin PAVARD',\n",
       "  'captain': False,\n",
       "  'shirt_number': 2,\n",
       "  'position': 'Defender'},\n",
       " {'name': 'Raphael VARANE',\n",
       "  'captain': False,\n",
       "  'shirt_number': 4,\n",
       "  'position': 'Defender'},\n",
       " {'name': 'Samuel UMTITI',\n",
       "  'captain': False,\n",
       "  'shirt_number': 5,\n",
       "  'position': 'Defender'},\n",
       " {'name': 'Paul POGBA',\n",
       "  'captain': False,\n",
       "  'shirt_number': 6,\n",
       "  'position': 'Midfield'},\n",
       " {'name': 'Antoine GRIEZMANN',\n",
       "  'captain': False,\n",
       "  'shirt_number': 7,\n",
       "  'position': 'Forward'},\n",
       " {'name': 'Kylian MBAPPE',\n",
       "  'captain': False,\n",
       "  'shirt_number': 10,\n",
       "  'position': 'Forward'},\n",
       " {'name': 'Ousmane DEMBELE',\n",
       "  'captain': False,\n",
       "  'shirt_number': 11,\n",
       "  'position': 'Forward'},\n",
       " {'name': 'Corentin TOLISSO',\n",
       "  'captain': False,\n",
       "  'shirt_number': 12,\n",
       "  'position': 'Midfield'},\n",
       " {'name': 'Ngolo KANTE',\n",
       "  'captain': False,\n",
       "  'shirt_number': 13,\n",
       "  'position': 'Midfield'},\n",
       " {'name': 'Lucas HERNANDEZ',\n",
       "  'captain': False,\n",
       "  'shirt_number': 21,\n",
       "  'position': 'Defender'},\n",
       " {'name': 'Mathew RYAN',\n",
       "  'captain': False,\n",
       "  'shirt_number': 1,\n",
       "  'position': 'Goalie'},\n",
       " {'name': 'Mark MILLIGAN',\n",
       "  'captain': False,\n",
       "  'shirt_number': 5,\n",
       "  'position': 'Defender'},\n",
       " {'name': 'Mathew LECKIE',\n",
       "  'captain': False,\n",
       "  'shirt_number': 7,\n",
       "  'position': 'Forward'},\n",
       " {'name': 'Robbie KRUSE',\n",
       "  'captain': False,\n",
       "  'shirt_number': 10,\n",
       "  'position': 'Forward'},\n",
       " {'name': 'Andrew NABBOUT',\n",
       "  'captain': False,\n",
       "  'shirt_number': 11,\n",
       "  'position': 'Forward'},\n",
       " {'name': 'Aaron MOOY',\n",
       "  'captain': False,\n",
       "  'shirt_number': 13,\n",
       "  'position': 'Midfield'},\n",
       " {'name': 'Mile JEDINAK',\n",
       "  'captain': True,\n",
       "  'shirt_number': 15,\n",
       "  'position': 'Midfield'},\n",
       " {'name': 'Aziz BEHICH',\n",
       "  'captain': False,\n",
       "  'shirt_number': 16,\n",
       "  'position': 'Defender'},\n",
       " {'name': 'Joshua RISDON',\n",
       "  'captain': False,\n",
       "  'shirt_number': 19,\n",
       "  'position': 'Defender'},\n",
       " {'name': 'Trent SAINSBURY',\n",
       "  'captain': False,\n",
       "  'shirt_number': 20,\n",
       "  'position': 'Defender'},\n",
       " {'name': 'Tom ROGIC',\n",
       "  'captain': False,\n",
       "  'shirt_number': 23,\n",
       "  'position': 'Midfield'}]"
      ]
     },
     "execution_count": 10,
     "metadata": {},
     "output_type": "execute_result"
    }
   ],
   "source": [
    "players = []\n",
    "\n",
    "for team in soccer_match:\n",
    "    for player in team['players']:\n",
    "        players.append(player)\n",
    "players"
   ]
  },
  {
   "cell_type": "markdown",
   "metadata": {},
   "source": [
    "You are asked to square every digit of a number and concatenate them."
   ]
  },
  {
   "cell_type": "code",
   "execution_count": 48,
   "metadata": {
    "ExecuteTime": {
     "end_time": "2020-09-03T17:02:09.738550Z",
     "start_time": "2020-09-03T17:02:09.734682Z"
    }
   },
   "outputs": [],
   "source": [
    "def square_digits(num):\n",
    "    ret = \"\"\n",
    "    for x in str(num):\n",
    "        ret += str(int(x)**2)\n",
    "    return int(ret)"
   ]
  },
  {
   "cell_type": "code",
   "execution_count": 49,
   "metadata": {
    "ExecuteTime": {
     "end_time": "2020-09-03T17:02:09.994644Z",
     "start_time": "2020-09-03T17:02:09.983327Z"
    }
   },
   "outputs": [
    {
     "data": {
      "text/plain": [
       "8144"
      ]
     },
     "execution_count": 49,
     "metadata": {},
     "output_type": "execute_result"
    }
   ],
   "source": [
    "square_digits(922)"
   ]
  },
  {
   "cell_type": "markdown",
   "metadata": {},
   "source": [
    "You are going to be given a word. Your job is to return the middle character of the word. If the word's length is odd, return the middle character. If the word's length is even, return the middle 2 characters."
   ]
  },
  {
   "cell_type": "code",
   "execution_count": 52,
   "metadata": {
    "ExecuteTime": {
     "end_time": "2020-09-03T17:03:29.935928Z",
     "start_time": "2020-09-03T17:03:29.932369Z"
    }
   },
   "outputs": [],
   "source": [
    "def get_middle(s):\n",
    "    strLen = len(s)\n",
    "    if(strLen%2==0):#even\n",
    "        return s[strLen/2-1:strLen/2+1]\n",
    "    else:#odd\n",
    "        return s[strLen/2]"
   ]
  },
  {
   "cell_type": "code",
   "execution_count": 53,
   "metadata": {
    "ExecuteTime": {
     "end_time": "2020-09-03T17:03:30.162050Z",
     "start_time": "2020-09-03T17:03:30.140343Z"
    }
   },
   "outputs": [
    {
     "ename": "TypeError",
     "evalue": "slice indices must be integers or None or have an __index__ method",
     "output_type": "error",
     "traceback": [
      "\u001b[0;31m---------------------------------------------------------------------------\u001b[0m",
      "\u001b[0;31mTypeError\u001b[0m                                 Traceback (most recent call last)",
      "\u001b[0;32m<ipython-input-53-843297e18af1>\u001b[0m in \u001b[0;36m<module>\u001b[0;34m()\u001b[0m\n\u001b[0;32m----> 1\u001b[0;31m \u001b[0mget_middle\u001b[0m\u001b[0;34m(\u001b[0m\u001b[0;34m\"word\"\u001b[0m\u001b[0;34m)\u001b[0m\u001b[0;34m\u001b[0m\u001b[0m\n\u001b[0m",
      "\u001b[0;32m<ipython-input-52-dd5d77f5a3e7>\u001b[0m in \u001b[0;36mget_middle\u001b[0;34m(s)\u001b[0m\n\u001b[1;32m      2\u001b[0m     \u001b[0mstrLen\u001b[0m \u001b[0;34m=\u001b[0m \u001b[0mlen\u001b[0m\u001b[0;34m(\u001b[0m\u001b[0ms\u001b[0m\u001b[0;34m)\u001b[0m\u001b[0;34m\u001b[0m\u001b[0m\n\u001b[1;32m      3\u001b[0m     \u001b[0;32mif\u001b[0m\u001b[0;34m(\u001b[0m\u001b[0mstrLen\u001b[0m\u001b[0;34m%\u001b[0m\u001b[0;36m2\u001b[0m\u001b[0;34m==\u001b[0m\u001b[0;36m0\u001b[0m\u001b[0;34m)\u001b[0m\u001b[0;34m:\u001b[0m\u001b[0;31m#even\u001b[0m\u001b[0;34m\u001b[0m\u001b[0m\n\u001b[0;32m----> 4\u001b[0;31m         \u001b[0;32mreturn\u001b[0m \u001b[0ms\u001b[0m\u001b[0;34m[\u001b[0m\u001b[0mstrLen\u001b[0m\u001b[0;34m/\u001b[0m\u001b[0;36m2\u001b[0m\u001b[0;34m-\u001b[0m\u001b[0;36m1\u001b[0m\u001b[0;34m:\u001b[0m\u001b[0mstrLen\u001b[0m\u001b[0;34m/\u001b[0m\u001b[0;36m2\u001b[0m\u001b[0;34m+\u001b[0m\u001b[0;36m1\u001b[0m\u001b[0;34m]\u001b[0m\u001b[0;34m\u001b[0m\u001b[0m\n\u001b[0m\u001b[1;32m      5\u001b[0m     \u001b[0;32melse\u001b[0m\u001b[0;34m:\u001b[0m\u001b[0;31m#odd\u001b[0m\u001b[0;34m\u001b[0m\u001b[0m\n\u001b[1;32m      6\u001b[0m         \u001b[0;32mreturn\u001b[0m \u001b[0ms\u001b[0m\u001b[0;34m[\u001b[0m\u001b[0mstrLen\u001b[0m\u001b[0;34m/\u001b[0m\u001b[0;36m2\u001b[0m\u001b[0;34m]\u001b[0m\u001b[0;34m\u001b[0m\u001b[0m\n",
      "\u001b[0;31mTypeError\u001b[0m: slice indices must be integers or None or have an __index__ method"
     ]
    }
   ],
   "source": [
    "get_middle(\"word\")"
   ]
  },
  {
   "cell_type": "code",
   "execution_count": 66,
   "metadata": {
    "ExecuteTime": {
     "end_time": "2020-09-03T17:19:05.382974Z",
     "start_time": "2020-09-03T17:19:05.379016Z"
    }
   },
   "outputs": [],
   "source": [
    "def get_middle(s):\n",
    "    if len(s) % 2 == 0:\n",
    "        iA = int((len(s) / 2) - 1)\n",
    "        iB = int((len(s) / 2) + 1)\n",
    "        return s[iA:iB] \n",
    "    else: return s[int(len(s) / 2)] "
   ]
  },
  {
   "cell_type": "code",
   "execution_count": 67,
   "metadata": {
    "ExecuteTime": {
     "end_time": "2020-09-03T17:19:06.539875Z",
     "start_time": "2020-09-03T17:19:06.533601Z"
    }
   },
   "outputs": [
    {
     "data": {
      "text/plain": [
       "'e'"
      ]
     },
     "execution_count": 67,
     "metadata": {},
     "output_type": "execute_result"
    }
   ],
   "source": [
    "get_middle(\"soledad\")"
   ]
  },
  {
   "cell_type": "code",
   "execution_count": 57,
   "metadata": {
    "ExecuteTime": {
     "end_time": "2020-09-03T17:05:37.429215Z",
     "start_time": "2020-09-03T17:05:37.421027Z"
    }
   },
   "outputs": [
    {
     "data": {
      "text/plain": [
       "'ti'"
      ]
     },
     "execution_count": 57,
     "metadata": {},
     "output_type": "execute_result"
    }
   ],
   "source": [
    "get_middle(\"flatiron\")"
   ]
  },
  {
   "cell_type": "code",
   "execution_count": 68,
   "metadata": {
    "ExecuteTime": {
     "end_time": "2020-09-03T20:35:15.514416Z",
     "start_time": "2020-09-03T20:35:15.504273Z"
    }
   },
   "outputs": [],
   "source": [
    "# concat"
   ]
  },
  {
   "cell_type": "code",
   "execution_count": 70,
   "metadata": {
    "ExecuteTime": {
     "end_time": "2020-09-03T20:38:50.635789Z",
     "start_time": "2020-09-03T20:38:49.245827Z"
    }
   },
   "outputs": [],
   "source": [
    "import pandas as pd"
   ]
  },
  {
   "cell_type": "code",
   "execution_count": 81,
   "metadata": {
    "ExecuteTime": {
     "end_time": "2020-09-03T20:51:44.383918Z",
     "start_time": "2020-09-03T20:51:44.374459Z"
    },
    "scrolled": true
   },
   "outputs": [],
   "source": [
    "color = pd.DataFrame({'A': ['yellow', 'green', 'red', 'blue'],\n",
    "                     'B': ['purple', 'orange', 'silver', \"black\"],\n",
    "                     'C': ['white', 'pink', 'gold', 'grey']},\n",
    "                     index=[0, 1, 2,3])\n",
    "\n",
    "countries = pd.DataFrame({'A': ['Italy', 'Greece', 'Spain', 'France'],\n",
    "                     'B': ['Germany', 'UK', 'Japan', \"China\"],\n",
    "                     'C': ['Portugal', 'Russia', 'US', 'Netherlands']},\n",
    "                     index=[4, 5, 6,7])\n",
    "\n",
    "cars = pd.DataFrame({'A': ['Ferrari', 'Maserati', 'Mercedes', 'Pagani'],\n",
    "                     'B': ['Jaguar', 'Volvo', 'Lamborghini', \"Seat\"],\n",
    "                     'C': ['Renoult', 'Fiat', 'Nissan', 'Toyota']},\n",
    "                     index=[8, 9, 10,11])"
   ]
  },
  {
   "cell_type": "code",
   "execution_count": 82,
   "metadata": {
    "ExecuteTime": {
     "end_time": "2020-09-03T20:57:56.534221Z",
     "start_time": "2020-09-03T20:57:56.523160Z"
    }
   },
   "outputs": [
    {
     "data": {
      "text/html": [
       "<div>\n",
       "<style scoped>\n",
       "    .dataframe tbody tr th:only-of-type {\n",
       "        vertical-align: middle;\n",
       "    }\n",
       "\n",
       "    .dataframe tbody tr th {\n",
       "        vertical-align: top;\n",
       "    }\n",
       "\n",
       "    .dataframe thead th {\n",
       "        text-align: right;\n",
       "    }\n",
       "</style>\n",
       "<table border=\"1\" class=\"dataframe\">\n",
       "  <thead>\n",
       "    <tr style=\"text-align: right;\">\n",
       "      <th></th>\n",
       "      <th>A</th>\n",
       "      <th>B</th>\n",
       "      <th>C</th>\n",
       "    </tr>\n",
       "  </thead>\n",
       "  <tbody>\n",
       "    <tr>\n",
       "      <th>0</th>\n",
       "      <td>yellow</td>\n",
       "      <td>purple</td>\n",
       "      <td>white</td>\n",
       "    </tr>\n",
       "    <tr>\n",
       "      <th>1</th>\n",
       "      <td>green</td>\n",
       "      <td>orange</td>\n",
       "      <td>pink</td>\n",
       "    </tr>\n",
       "    <tr>\n",
       "      <th>2</th>\n",
       "      <td>red</td>\n",
       "      <td>silver</td>\n",
       "      <td>gold</td>\n",
       "    </tr>\n",
       "    <tr>\n",
       "      <th>3</th>\n",
       "      <td>blue</td>\n",
       "      <td>black</td>\n",
       "      <td>grey</td>\n",
       "    </tr>\n",
       "  </tbody>\n",
       "</table>\n",
       "</div>"
      ],
      "text/plain": [
       "        A       B      C\n",
       "0  yellow  purple  white\n",
       "1   green  orange   pink\n",
       "2     red  silver   gold\n",
       "3    blue   black   grey"
      ]
     },
     "execution_count": 82,
     "metadata": {},
     "output_type": "execute_result"
    }
   ],
   "source": [
    "color"
   ]
  },
  {
   "cell_type": "code",
   "execution_count": 83,
   "metadata": {
    "ExecuteTime": {
     "end_time": "2020-09-03T20:57:58.074528Z",
     "start_time": "2020-09-03T20:57:58.063951Z"
    }
   },
   "outputs": [
    {
     "data": {
      "text/html": [
       "<div>\n",
       "<style scoped>\n",
       "    .dataframe tbody tr th:only-of-type {\n",
       "        vertical-align: middle;\n",
       "    }\n",
       "\n",
       "    .dataframe tbody tr th {\n",
       "        vertical-align: top;\n",
       "    }\n",
       "\n",
       "    .dataframe thead th {\n",
       "        text-align: right;\n",
       "    }\n",
       "</style>\n",
       "<table border=\"1\" class=\"dataframe\">\n",
       "  <thead>\n",
       "    <tr style=\"text-align: right;\">\n",
       "      <th></th>\n",
       "      <th>A</th>\n",
       "      <th>B</th>\n",
       "      <th>C</th>\n",
       "    </tr>\n",
       "  </thead>\n",
       "  <tbody>\n",
       "    <tr>\n",
       "      <th>4</th>\n",
       "      <td>Italy</td>\n",
       "      <td>Germany</td>\n",
       "      <td>Portugal</td>\n",
       "    </tr>\n",
       "    <tr>\n",
       "      <th>5</th>\n",
       "      <td>Greece</td>\n",
       "      <td>UK</td>\n",
       "      <td>Russia</td>\n",
       "    </tr>\n",
       "    <tr>\n",
       "      <th>6</th>\n",
       "      <td>Spain</td>\n",
       "      <td>Japan</td>\n",
       "      <td>US</td>\n",
       "    </tr>\n",
       "    <tr>\n",
       "      <th>7</th>\n",
       "      <td>France</td>\n",
       "      <td>China</td>\n",
       "      <td>Netherlands</td>\n",
       "    </tr>\n",
       "  </tbody>\n",
       "</table>\n",
       "</div>"
      ],
      "text/plain": [
       "        A        B            C\n",
       "4   Italy  Germany     Portugal\n",
       "5  Greece       UK       Russia\n",
       "6   Spain    Japan           US\n",
       "7  France    China  Netherlands"
      ]
     },
     "execution_count": 83,
     "metadata": {},
     "output_type": "execute_result"
    }
   ],
   "source": [
    "countries"
   ]
  },
  {
   "cell_type": "code",
   "execution_count": 84,
   "metadata": {
    "ExecuteTime": {
     "end_time": "2020-09-03T20:57:59.501794Z",
     "start_time": "2020-09-03T20:57:59.491024Z"
    }
   },
   "outputs": [
    {
     "data": {
      "text/html": [
       "<div>\n",
       "<style scoped>\n",
       "    .dataframe tbody tr th:only-of-type {\n",
       "        vertical-align: middle;\n",
       "    }\n",
       "\n",
       "    .dataframe tbody tr th {\n",
       "        vertical-align: top;\n",
       "    }\n",
       "\n",
       "    .dataframe thead th {\n",
       "        text-align: right;\n",
       "    }\n",
       "</style>\n",
       "<table border=\"1\" class=\"dataframe\">\n",
       "  <thead>\n",
       "    <tr style=\"text-align: right;\">\n",
       "      <th></th>\n",
       "      <th>A</th>\n",
       "      <th>B</th>\n",
       "      <th>C</th>\n",
       "    </tr>\n",
       "  </thead>\n",
       "  <tbody>\n",
       "    <tr>\n",
       "      <th>8</th>\n",
       "      <td>Ferrari</td>\n",
       "      <td>Jaguar</td>\n",
       "      <td>Renoult</td>\n",
       "    </tr>\n",
       "    <tr>\n",
       "      <th>9</th>\n",
       "      <td>Maserati</td>\n",
       "      <td>Volvo</td>\n",
       "      <td>Fiat</td>\n",
       "    </tr>\n",
       "    <tr>\n",
       "      <th>10</th>\n",
       "      <td>Mercedes</td>\n",
       "      <td>Lamborghini</td>\n",
       "      <td>Nissan</td>\n",
       "    </tr>\n",
       "    <tr>\n",
       "      <th>11</th>\n",
       "      <td>Pagani</td>\n",
       "      <td>Seat</td>\n",
       "      <td>Toyota</td>\n",
       "    </tr>\n",
       "  </tbody>\n",
       "</table>\n",
       "</div>"
      ],
      "text/plain": [
       "           A            B        C\n",
       "8    Ferrari       Jaguar  Renoult\n",
       "9   Maserati        Volvo     Fiat\n",
       "10  Mercedes  Lamborghini   Nissan\n",
       "11    Pagani         Seat   Toyota"
      ]
     },
     "execution_count": 84,
     "metadata": {},
     "output_type": "execute_result"
    }
   ],
   "source": [
    "cars"
   ]
  },
  {
   "cell_type": "code",
   "execution_count": 94,
   "metadata": {
    "ExecuteTime": {
     "end_time": "2020-09-03T21:20:55.554583Z",
     "start_time": "2020-09-03T21:20:55.549566Z"
    }
   },
   "outputs": [],
   "source": [
    "frames = [color,countries,cars]"
   ]
  },
  {
   "cell_type": "code",
   "execution_count": 95,
   "metadata": {
    "ExecuteTime": {
     "end_time": "2020-09-03T21:20:56.067942Z",
     "start_time": "2020-09-03T21:20:56.057212Z"
    }
   },
   "outputs": [],
   "source": [
    "result= pd.concat([color,countries,cars], axis=1, join=\"inner\")"
   ]
  },
  {
   "cell_type": "code",
   "execution_count": 100,
   "metadata": {
    "ExecuteTime": {
     "end_time": "2020-09-03T21:54:00.768134Z",
     "start_time": "2020-09-03T21:54:00.762034Z"
    }
   },
   "outputs": [
    {
     "name": "stdout",
     "output_type": "stream",
     "text": [
      "[46, 6, 2, 16]\n"
     ]
    }
   ],
   "source": [
    "# Program to filter out only the even items from a list\n",
    "numbers = [46, 51, 33, 6, 25, 47, 2, 16]\n",
    "\n",
    "my_list = list(filter(lambda x: (x%2 == 0) , numbers))\n",
    "\n",
    "print(my_list)"
   ]
  },
  {
   "cell_type": "code",
   "execution_count": 102,
   "metadata": {
    "ExecuteTime": {
     "end_time": "2020-09-03T22:01:13.067581Z",
     "start_time": "2020-09-03T22:01:13.061800Z"
    }
   },
   "outputs": [
    {
     "name": "stdout",
     "output_type": "stream",
     "text": [
      "[2, 6, 12, 14, 20, 26, 28, 34]\n"
     ]
    }
   ],
   "source": [
    "# Program to double each item in a list using map()\n",
    "\n",
    "numbers_2 = [1, 3, 6, 7, 10, 13, 14, 17]\n",
    "\n",
    "my_list_2 = list(map(lambda x: x * 2 , numbers_2))\n",
    "\n",
    "print(my_list_2)"
   ]
  },
  {
   "cell_type": "code",
   "execution_count": 1,
   "metadata": {
    "ExecuteTime": {
     "end_time": "2020-09-04T07:50:54.557178Z",
     "start_time": "2020-09-04T07:50:54.550236Z"
    }
   },
   "outputs": [
    {
     "ename": "SyntaxError",
     "evalue": "invalid syntax (<ipython-input-1-4f0b4bdbaaab>, line 1)",
     "output_type": "error",
     "traceback": [
      "\u001b[0;36m  File \u001b[0;32m\"<ipython-input-1-4f0b4bdbaaab>\"\u001b[0;36m, line \u001b[0;32m1\u001b[0m\n\u001b[0;31m    if 5 > 4\u001b[0m\n\u001b[0m            ^\u001b[0m\n\u001b[0;31mSyntaxError\u001b[0m\u001b[0;31m:\u001b[0m invalid syntax\n"
     ]
    }
   ],
   "source": [
    "if 5 > 4\n",
    "print (\"maggiore\")"
   ]
  },
  {
   "cell_type": "code",
   "execution_count": 2,
   "metadata": {
    "ExecuteTime": {
     "end_time": "2020-09-04T08:08:28.012324Z",
     "start_time": "2020-09-04T08:08:27.989520Z"
    }
   },
   "outputs": [
    {
     "data": {
      "text/plain": [
       "datetime.datetime(2020, 9, 4, 9, 8, 27, 993913)"
      ]
     },
     "execution_count": 2,
     "metadata": {},
     "output_type": "execute_result"
    }
   ],
   "source": [
    "import datetime\n",
    "x = datetime.datetime.now()\n",
    "x"
   ]
  },
  {
   "cell_type": "code",
   "execution_count": 3,
   "metadata": {
    "ExecuteTime": {
     "end_time": "2020-09-04T08:15:29.079906Z",
     "start_time": "2020-09-04T08:15:27.936601Z"
    }
   },
   "outputs": [],
   "source": [
    "import pandas as pd\n",
    "df1 = pd.DataFrame({'A': ['A0', 'A1', 'A2', 'A3'],\n",
    "                    'B': ['B0', 'B1', 'B2', 'B3'],\n",
    "                    'C': ['C0', 'C1', 'C2', 'C3'],\n",
    "                    'D': ['D0', 'D1', 'D2', 'D3']},\n",
    "                    index=[0, 1, 2, 3])\n",
    "\n",
    "\n",
    "df2 = pd.DataFrame({'A': ['A4', 'A5', 'A6', 'A7'],\n",
    "                    'B': ['B4', 'B5', 'B6', 'B7'],\n",
    "                    'C': ['C4', 'C5', 'C6', 'C7'],\n",
    "                    'D': ['D4', 'D5', 'D6', 'D7']},\n",
    "                    index=[4, 5, 6, 7])\n",
    "\n",
    "df3 = pd.DataFrame({'A': ['A8', 'A9', 'A10', 'A11'],\n",
    "                    'B': ['B8', 'B9', 'B10', 'B11'],\n",
    "                    'C': ['C8', 'C9', 'C10', 'C11'], \n",
    "                    'D': ['D8', 'D9', 'D10', 'D11']},\n",
    "                    index=[8, 9, 10, 11])"
   ]
  },
  {
   "cell_type": "code",
   "execution_count": 7,
   "metadata": {
    "ExecuteTime": {
     "end_time": "2020-09-04T09:06:35.446014Z",
     "start_time": "2020-09-04T09:06:35.434128Z"
    }
   },
   "outputs": [],
   "source": [
    "combined_df = pd.concat([df1,df2,df3])"
   ]
  },
  {
   "cell_type": "code",
   "execution_count": 8,
   "metadata": {
    "ExecuteTime": {
     "end_time": "2020-09-04T09:06:41.025923Z",
     "start_time": "2020-09-04T09:06:40.969041Z"
    }
   },
   "outputs": [
    {
     "data": {
      "text/html": [
       "<div>\n",
       "<style scoped>\n",
       "    .dataframe tbody tr th:only-of-type {\n",
       "        vertical-align: middle;\n",
       "    }\n",
       "\n",
       "    .dataframe tbody tr th {\n",
       "        vertical-align: top;\n",
       "    }\n",
       "\n",
       "    .dataframe thead th {\n",
       "        text-align: right;\n",
       "    }\n",
       "</style>\n",
       "<table border=\"1\" class=\"dataframe\">\n",
       "  <thead>\n",
       "    <tr style=\"text-align: right;\">\n",
       "      <th></th>\n",
       "      <th>A</th>\n",
       "      <th>B</th>\n",
       "      <th>C</th>\n",
       "      <th>D</th>\n",
       "    </tr>\n",
       "  </thead>\n",
       "  <tbody>\n",
       "    <tr>\n",
       "      <th>0</th>\n",
       "      <td>A0</td>\n",
       "      <td>B0</td>\n",
       "      <td>C0</td>\n",
       "      <td>D0</td>\n",
       "    </tr>\n",
       "    <tr>\n",
       "      <th>1</th>\n",
       "      <td>A1</td>\n",
       "      <td>B1</td>\n",
       "      <td>C1</td>\n",
       "      <td>D1</td>\n",
       "    </tr>\n",
       "    <tr>\n",
       "      <th>2</th>\n",
       "      <td>A2</td>\n",
       "      <td>B2</td>\n",
       "      <td>C2</td>\n",
       "      <td>D2</td>\n",
       "    </tr>\n",
       "    <tr>\n",
       "      <th>3</th>\n",
       "      <td>A3</td>\n",
       "      <td>B3</td>\n",
       "      <td>C3</td>\n",
       "      <td>D3</td>\n",
       "    </tr>\n",
       "    <tr>\n",
       "      <th>4</th>\n",
       "      <td>A4</td>\n",
       "      <td>B4</td>\n",
       "      <td>C4</td>\n",
       "      <td>D4</td>\n",
       "    </tr>\n",
       "    <tr>\n",
       "      <th>5</th>\n",
       "      <td>A5</td>\n",
       "      <td>B5</td>\n",
       "      <td>C5</td>\n",
       "      <td>D5</td>\n",
       "    </tr>\n",
       "    <tr>\n",
       "      <th>6</th>\n",
       "      <td>A6</td>\n",
       "      <td>B6</td>\n",
       "      <td>C6</td>\n",
       "      <td>D6</td>\n",
       "    </tr>\n",
       "    <tr>\n",
       "      <th>7</th>\n",
       "      <td>A7</td>\n",
       "      <td>B7</td>\n",
       "      <td>C7</td>\n",
       "      <td>D7</td>\n",
       "    </tr>\n",
       "    <tr>\n",
       "      <th>8</th>\n",
       "      <td>A8</td>\n",
       "      <td>B8</td>\n",
       "      <td>C8</td>\n",
       "      <td>D8</td>\n",
       "    </tr>\n",
       "    <tr>\n",
       "      <th>9</th>\n",
       "      <td>A9</td>\n",
       "      <td>B9</td>\n",
       "      <td>C9</td>\n",
       "      <td>D9</td>\n",
       "    </tr>\n",
       "    <tr>\n",
       "      <th>10</th>\n",
       "      <td>A10</td>\n",
       "      <td>B10</td>\n",
       "      <td>C10</td>\n",
       "      <td>D10</td>\n",
       "    </tr>\n",
       "    <tr>\n",
       "      <th>11</th>\n",
       "      <td>A11</td>\n",
       "      <td>B11</td>\n",
       "      <td>C11</td>\n",
       "      <td>D11</td>\n",
       "    </tr>\n",
       "  </tbody>\n",
       "</table>\n",
       "</div>"
      ],
      "text/plain": [
       "      A    B    C    D\n",
       "0    A0   B0   C0   D0\n",
       "1    A1   B1   C1   D1\n",
       "2    A2   B2   C2   D2\n",
       "3    A3   B3   C3   D3\n",
       "4    A4   B4   C4   D4\n",
       "5    A5   B5   C5   D5\n",
       "6    A6   B6   C6   D6\n",
       "7    A7   B7   C7   D7\n",
       "8    A8   B8   C8   D8\n",
       "9    A9   B9   C9   D9\n",
       "10  A10  B10  C10  D10\n",
       "11  A11  B11  C11  D11"
      ]
     },
     "execution_count": 8,
     "metadata": {},
     "output_type": "execute_result"
    }
   ],
   "source": [
    "combined_df"
   ]
  },
  {
   "cell_type": "code",
   "execution_count": 9,
   "metadata": {
    "ExecuteTime": {
     "end_time": "2020-09-04T09:09:08.802690Z",
     "start_time": "2020-09-04T09:09:08.796092Z"
    }
   },
   "outputs": [],
   "source": [
    "df4 = pd.DataFrame({'B': ['B2', 'B3', 'B6', 'B7'],\n",
    "                    'D': ['D2', 'D3', 'D6', 'D7'],\n",
    "                    'F': ['F2', 'F3', 'F6', 'F7']},\n",
    "                    index=[2, 3, 6, 7])"
   ]
  },
  {
   "cell_type": "code",
   "execution_count": 11,
   "metadata": {
    "ExecuteTime": {
     "end_time": "2020-09-04T09:12:29.328219Z",
     "start_time": "2020-09-04T09:12:29.316395Z"
    }
   },
   "outputs": [],
   "source": [
    "df1_df4=pd.concat([df1,df4],join=\"inner\",axis=1)"
   ]
  },
  {
   "cell_type": "code",
   "execution_count": 12,
   "metadata": {
    "ExecuteTime": {
     "end_time": "2020-09-04T09:12:34.410850Z",
     "start_time": "2020-09-04T09:12:34.397060Z"
    }
   },
   "outputs": [
    {
     "data": {
      "text/html": [
       "<div>\n",
       "<style scoped>\n",
       "    .dataframe tbody tr th:only-of-type {\n",
       "        vertical-align: middle;\n",
       "    }\n",
       "\n",
       "    .dataframe tbody tr th {\n",
       "        vertical-align: top;\n",
       "    }\n",
       "\n",
       "    .dataframe thead th {\n",
       "        text-align: right;\n",
       "    }\n",
       "</style>\n",
       "<table border=\"1\" class=\"dataframe\">\n",
       "  <thead>\n",
       "    <tr style=\"text-align: right;\">\n",
       "      <th></th>\n",
       "      <th>A</th>\n",
       "      <th>B</th>\n",
       "      <th>C</th>\n",
       "      <th>D</th>\n",
       "      <th>B</th>\n",
       "      <th>D</th>\n",
       "      <th>F</th>\n",
       "    </tr>\n",
       "  </thead>\n",
       "  <tbody>\n",
       "    <tr>\n",
       "      <th>2</th>\n",
       "      <td>A2</td>\n",
       "      <td>B2</td>\n",
       "      <td>C2</td>\n",
       "      <td>D2</td>\n",
       "      <td>B2</td>\n",
       "      <td>D2</td>\n",
       "      <td>F2</td>\n",
       "    </tr>\n",
       "    <tr>\n",
       "      <th>3</th>\n",
       "      <td>A3</td>\n",
       "      <td>B3</td>\n",
       "      <td>C3</td>\n",
       "      <td>D3</td>\n",
       "      <td>B3</td>\n",
       "      <td>D3</td>\n",
       "      <td>F3</td>\n",
       "    </tr>\n",
       "  </tbody>\n",
       "</table>\n",
       "</div>"
      ],
      "text/plain": [
       "    A   B   C   D   B   D   F\n",
       "2  A2  B2  C2  D2  B2  D2  F2\n",
       "3  A3  B3  C3  D3  B3  D3  F3"
      ]
     },
     "execution_count": 12,
     "metadata": {},
     "output_type": "execute_result"
    }
   ],
   "source": [
    "df1_df4"
   ]
  },
  {
   "cell_type": "code",
   "execution_count": 71,
   "metadata": {
    "ExecuteTime": {
     "end_time": "2020-09-04T10:16:22.225818Z",
     "start_time": "2020-09-04T10:16:22.221333Z"
    }
   },
   "outputs": [],
   "source": [
    "import pandas as pd"
   ]
  },
  {
   "cell_type": "code",
   "execution_count": 72,
   "metadata": {
    "ExecuteTime": {
     "end_time": "2020-09-04T10:16:22.715788Z",
     "start_time": "2020-09-04T10:16:22.666214Z"
    }
   },
   "outputs": [],
   "source": [
    "cards_df = pd.read_csv(\"/Users/soledadmusella/Desktop/218_1177_bundle_archive/cards.csv\",encoding='latin1')\n",
    "dust_df = pd.read_csv(\"/Users/soledadmusella/Desktop/218_1177_bundle_archive/dust_costs.csv\",encoding='latin1')\n",
    "entourages_df = pd.read_csv(\"/Users/soledadmusella/Desktop/218_1177_bundle_archive/entourages.csv\",encoding='latin1')\n",
    "mechanics_df = pd.read_csv(\"/Users/soledadmusella/Desktop/218_1177_bundle_archive/mechanics.csv\",encoding='latin1')\n",
    "play_requirements_df = pd.read_csv(\"/Users/soledadmusella/Desktop/218_1177_bundle_archive/play_requirements.csv\",encoding='latin1')"
   ]
  },
  {
   "cell_type": "code",
   "execution_count": 73,
   "metadata": {
    "ExecuteTime": {
     "end_time": "2020-09-04T10:16:23.454727Z",
     "start_time": "2020-09-04T10:16:23.450795Z"
    }
   },
   "outputs": [],
   "source": [
    "columns=[cards_df,dust_df,entourages_df,mechanics_df,play_requirements_df]"
   ]
  },
  {
   "cell_type": "code",
   "execution_count": 74,
   "metadata": {
    "ExecuteTime": {
     "end_time": "2020-09-04T10:16:24.119307Z",
     "start_time": "2020-09-04T10:16:24.112152Z"
    }
   },
   "outputs": [],
   "source": [
    "for x in columns:\n",
    "    x.set_index(\"card_id\",inplace=True)\n"
   ]
  },
  {
   "cell_type": "code",
   "execution_count": 75,
   "metadata": {
    "ExecuteTime": {
     "end_time": "2020-09-04T10:16:46.629570Z",
     "start_time": "2020-09-04T10:16:46.577807Z"
    },
    "scrolled": true
   },
   "outputs": [
    {
     "data": {
      "text/html": [
       "<div>\n",
       "<style scoped>\n",
       "    .dataframe tbody tr th:only-of-type {\n",
       "        vertical-align: middle;\n",
       "    }\n",
       "\n",
       "    .dataframe tbody tr th {\n",
       "        vertical-align: top;\n",
       "    }\n",
       "\n",
       "    .dataframe thead th {\n",
       "        text-align: right;\n",
       "    }\n",
       "</style>\n",
       "<table border=\"1\" class=\"dataframe\">\n",
       "  <thead>\n",
       "    <tr style=\"text-align: right;\">\n",
       "      <th></th>\n",
       "      <th>playerClass</th>\n",
       "      <th>type</th>\n",
       "      <th>name</th>\n",
       "      <th>set</th>\n",
       "      <th>text</th>\n",
       "      <th>cost</th>\n",
       "      <th>attack</th>\n",
       "      <th>health</th>\n",
       "      <th>rarity</th>\n",
       "      <th>collectible</th>\n",
       "      <th>flavor</th>\n",
       "      <th>race</th>\n",
       "      <th>how_to_earn</th>\n",
       "      <th>how_to_earn_golden</th>\n",
       "      <th>targeting_arrow_text</th>\n",
       "      <th>faction</th>\n",
       "      <th>durability</th>\n",
       "    </tr>\n",
       "    <tr>\n",
       "      <th>card_id</th>\n",
       "      <th></th>\n",
       "      <th></th>\n",
       "      <th></th>\n",
       "      <th></th>\n",
       "      <th></th>\n",
       "      <th></th>\n",
       "      <th></th>\n",
       "      <th></th>\n",
       "      <th></th>\n",
       "      <th></th>\n",
       "      <th></th>\n",
       "      <th></th>\n",
       "      <th></th>\n",
       "      <th></th>\n",
       "      <th></th>\n",
       "      <th></th>\n",
       "      <th></th>\n",
       "    </tr>\n",
       "  </thead>\n",
       "  <tbody>\n",
       "    <tr>\n",
       "      <th>KARA_00_07</th>\n",
       "      <td>MAGE</td>\n",
       "      <td>SPELL</td>\n",
       "      <td>Astral Portal</td>\n",
       "      <td>KARA</td>\n",
       "      <td>Summon a random &lt;b&gt;Legendary&lt;/b&gt; minion.</td>\n",
       "      <td>1.0</td>\n",
       "      <td>NaN</td>\n",
       "      <td>NaN</td>\n",
       "      <td>NaN</td>\n",
       "      <td>NaN</td>\n",
       "      <td>NaN</td>\n",
       "      <td>NaN</td>\n",
       "      <td>NaN</td>\n",
       "      <td>NaN</td>\n",
       "      <td>NaN</td>\n",
       "      <td>NaN</td>\n",
       "      <td>NaN</td>\n",
       "    </tr>\n",
       "    <tr>\n",
       "      <th>NEW1_008a</th>\n",
       "      <td>DRUID</td>\n",
       "      <td>SPELL</td>\n",
       "      <td>Ancient Teachings</td>\n",
       "      <td>EXPERT1</td>\n",
       "      <td>Draw a card.</td>\n",
       "      <td>0.0</td>\n",
       "      <td>NaN</td>\n",
       "      <td>NaN</td>\n",
       "      <td>NaN</td>\n",
       "      <td>NaN</td>\n",
       "      <td>NaN</td>\n",
       "      <td>NaN</td>\n",
       "      <td>NaN</td>\n",
       "      <td>NaN</td>\n",
       "      <td>NaN</td>\n",
       "      <td>NaN</td>\n",
       "      <td>NaN</td>\n",
       "    </tr>\n",
       "    <tr>\n",
       "      <th>BRM_010t2</th>\n",
       "      <td>DRUID</td>\n",
       "      <td>MINION</td>\n",
       "      <td>Druid of the Flame</td>\n",
       "      <td>BRM</td>\n",
       "      <td>NaN</td>\n",
       "      <td>3.0</td>\n",
       "      <td>2.0</td>\n",
       "      <td>5.0</td>\n",
       "      <td>COMMON</td>\n",
       "      <td>NaN</td>\n",
       "      <td>NaN</td>\n",
       "      <td>BEAST</td>\n",
       "      <td>NaN</td>\n",
       "      <td>NaN</td>\n",
       "      <td>NaN</td>\n",
       "      <td>NaN</td>\n",
       "      <td>NaN</td>\n",
       "    </tr>\n",
       "    <tr>\n",
       "      <th>AT_132</th>\n",
       "      <td>NEUTRAL</td>\n",
       "      <td>MINION</td>\n",
       "      <td>Justicar Trueheart</td>\n",
       "      <td>TGT</td>\n",
       "      <td>&lt;b&gt;Battlecry:&lt;/b&gt; Replace your starting Hero P...</td>\n",
       "      <td>6.0</td>\n",
       "      <td>6.0</td>\n",
       "      <td>3.0</td>\n",
       "      <td>LEGENDARY</td>\n",
       "      <td>True</td>\n",
       "      <td>It's like putting racing stripes and a giant s...</td>\n",
       "      <td>NaN</td>\n",
       "      <td>NaN</td>\n",
       "      <td>NaN</td>\n",
       "      <td>NaN</td>\n",
       "      <td>NaN</td>\n",
       "      <td>NaN</td>\n",
       "    </tr>\n",
       "    <tr>\n",
       "      <th>OG_141</th>\n",
       "      <td>NEUTRAL</td>\n",
       "      <td>MINION</td>\n",
       "      <td>Faceless Behemoth</td>\n",
       "      <td>OG</td>\n",
       "      <td>NaN</td>\n",
       "      <td>10.0</td>\n",
       "      <td>10.0</td>\n",
       "      <td>10.0</td>\n",
       "      <td>COMMON</td>\n",
       "      <td>True</td>\n",
       "      <td>Rejected names: Forty-Foot Faceless, Big ol' N...</td>\n",
       "      <td>NaN</td>\n",
       "      <td>NaN</td>\n",
       "      <td>NaN</td>\n",
       "      <td>NaN</td>\n",
       "      <td>NaN</td>\n",
       "      <td>NaN</td>\n",
       "    </tr>\n",
       "  </tbody>\n",
       "</table>\n",
       "</div>"
      ],
      "text/plain": [
       "           playerClass    type                name      set  \\\n",
       "card_id                                                       \n",
       "KARA_00_07        MAGE   SPELL       Astral Portal     KARA   \n",
       "NEW1_008a        DRUID   SPELL   Ancient Teachings  EXPERT1   \n",
       "BRM_010t2        DRUID  MINION  Druid of the Flame      BRM   \n",
       "AT_132         NEUTRAL  MINION  Justicar Trueheart      TGT   \n",
       "OG_141         NEUTRAL  MINION   Faceless Behemoth       OG   \n",
       "\n",
       "                                                         text  cost  attack  \\\n",
       "card_id                                                                       \n",
       "KARA_00_07           Summon a random <b>Legendary</b> minion.   1.0     NaN   \n",
       "NEW1_008a                                        Draw a card.   0.0     NaN   \n",
       "BRM_010t2                                                 NaN   3.0     2.0   \n",
       "AT_132      <b>Battlecry:</b> Replace your starting Hero P...   6.0     6.0   \n",
       "OG_141                                                    NaN  10.0    10.0   \n",
       "\n",
       "            health     rarity collectible  \\\n",
       "card_id                                     \n",
       "KARA_00_07     NaN        NaN         NaN   \n",
       "NEW1_008a      NaN        NaN         NaN   \n",
       "BRM_010t2      5.0     COMMON         NaN   \n",
       "AT_132         3.0  LEGENDARY        True   \n",
       "OG_141        10.0     COMMON        True   \n",
       "\n",
       "                                                       flavor   race  \\\n",
       "card_id                                                                \n",
       "KARA_00_07                                                NaN    NaN   \n",
       "NEW1_008a                                                 NaN    NaN   \n",
       "BRM_010t2                                                 NaN  BEAST   \n",
       "AT_132      It's like putting racing stripes and a giant s...    NaN   \n",
       "OG_141      Rejected names: Forty-Foot Faceless, Big ol' N...    NaN   \n",
       "\n",
       "           how_to_earn how_to_earn_golden targeting_arrow_text faction  \\\n",
       "card_id                                                                  \n",
       "KARA_00_07         NaN                NaN                  NaN     NaN   \n",
       "NEW1_008a          NaN                NaN                  NaN     NaN   \n",
       "BRM_010t2          NaN                NaN                  NaN     NaN   \n",
       "AT_132             NaN                NaN                  NaN     NaN   \n",
       "OG_141             NaN                NaN                  NaN     NaN   \n",
       "\n",
       "            durability  \n",
       "card_id                 \n",
       "KARA_00_07         NaN  \n",
       "NEW1_008a          NaN  \n",
       "BRM_010t2          NaN  \n",
       "AT_132             NaN  \n",
       "OG_141             NaN  "
      ]
     },
     "execution_count": 75,
     "metadata": {},
     "output_type": "execute_result"
    }
   ],
   "source": [
    "cards_df.head()"
   ]
  },
  {
   "cell_type": "code",
   "execution_count": 90,
   "metadata": {
    "ExecuteTime": {
     "end_time": "2020-09-04T10:33:15.915062Z",
     "start_time": "2020-09-04T10:33:15.906436Z"
    }
   },
   "outputs": [
    {
     "data": {
      "text/plain": [
       "<pandas.core.groupby.groupby.DataFrameGroupBy object at 0x11d0c5438>"
      ]
     },
     "execution_count": 90,
     "metadata": {},
     "output_type": "execute_result"
    }
   ],
   "source": [
    "cards_df.groupby(\"name\")"
   ]
  },
  {
   "cell_type": "code",
   "execution_count": 76,
   "metadata": {
    "ExecuteTime": {
     "end_time": "2020-09-04T10:16:57.153060Z",
     "start_time": "2020-09-04T10:16:57.140326Z"
    }
   },
   "outputs": [
    {
     "data": {
      "text/html": [
       "<div>\n",
       "<style scoped>\n",
       "    .dataframe tbody tr th:only-of-type {\n",
       "        vertical-align: middle;\n",
       "    }\n",
       "\n",
       "    .dataframe tbody tr th {\n",
       "        vertical-align: top;\n",
       "    }\n",
       "\n",
       "    .dataframe thead th {\n",
       "        text-align: right;\n",
       "    }\n",
       "</style>\n",
       "<table border=\"1\" class=\"dataframe\">\n",
       "  <thead>\n",
       "    <tr style=\"text-align: right;\">\n",
       "      <th></th>\n",
       "      <th>action</th>\n",
       "      <th>cost</th>\n",
       "    </tr>\n",
       "    <tr>\n",
       "      <th>card_id</th>\n",
       "      <th></th>\n",
       "      <th></th>\n",
       "    </tr>\n",
       "  </thead>\n",
       "  <tbody>\n",
       "    <tr>\n",
       "      <th>BRM_010t2</th>\n",
       "      <td>CRAFTING_NORMAL</td>\n",
       "      <td>40</td>\n",
       "    </tr>\n",
       "    <tr>\n",
       "      <th>BRM_010t2</th>\n",
       "      <td>CRAFTING_GOLDEN</td>\n",
       "      <td>400</td>\n",
       "    </tr>\n",
       "    <tr>\n",
       "      <th>BRM_010t2</th>\n",
       "      <td>DISENCHANT_NORMAL</td>\n",
       "      <td>5</td>\n",
       "    </tr>\n",
       "    <tr>\n",
       "      <th>BRM_010t2</th>\n",
       "      <td>DISENCHANT_GOLDEN</td>\n",
       "      <td>50</td>\n",
       "    </tr>\n",
       "    <tr>\n",
       "      <th>AT_132</th>\n",
       "      <td>CRAFTING_NORMAL</td>\n",
       "      <td>1600</td>\n",
       "    </tr>\n",
       "  </tbody>\n",
       "</table>\n",
       "</div>"
      ],
      "text/plain": [
       "                      action  cost\n",
       "card_id                           \n",
       "BRM_010t2    CRAFTING_NORMAL    40\n",
       "BRM_010t2    CRAFTING_GOLDEN   400\n",
       "BRM_010t2  DISENCHANT_NORMAL     5\n",
       "BRM_010t2  DISENCHANT_GOLDEN    50\n",
       "AT_132       CRAFTING_NORMAL  1600"
      ]
     },
     "execution_count": 76,
     "metadata": {},
     "output_type": "execute_result"
    }
   ],
   "source": [
    "dust_df.head()"
   ]
  },
  {
   "cell_type": "code",
   "execution_count": 77,
   "metadata": {
    "ExecuteTime": {
     "end_time": "2020-09-04T10:17:09.559335Z",
     "start_time": "2020-09-04T10:17:09.550675Z"
    }
   },
   "outputs": [
    {
     "data": {
      "text/html": [
       "<div>\n",
       "<style scoped>\n",
       "    .dataframe tbody tr th:only-of-type {\n",
       "        vertical-align: middle;\n",
       "    }\n",
       "\n",
       "    .dataframe tbody tr th {\n",
       "        vertical-align: top;\n",
       "    }\n",
       "\n",
       "    .dataframe thead th {\n",
       "        text-align: right;\n",
       "    }\n",
       "</style>\n",
       "<table border=\"1\" class=\"dataframe\">\n",
       "  <thead>\n",
       "    <tr style=\"text-align: right;\">\n",
       "      <th></th>\n",
       "      <th>entourage_card_id</th>\n",
       "    </tr>\n",
       "    <tr>\n",
       "      <th>card_id</th>\n",
       "      <th></th>\n",
       "    </tr>\n",
       "  </thead>\n",
       "  <tbody>\n",
       "    <tr>\n",
       "      <th>KAR_A10_22</th>\n",
       "      <td>KAR_A10_09</td>\n",
       "    </tr>\n",
       "    <tr>\n",
       "      <th>KAR_A10_22</th>\n",
       "      <td>KAR_A10_02</td>\n",
       "    </tr>\n",
       "    <tr>\n",
       "      <th>KAR_A10_22</th>\n",
       "      <td>KAR_A10_08</td>\n",
       "    </tr>\n",
       "    <tr>\n",
       "      <th>KAR_A10_22</th>\n",
       "      <td>KAR_A10_04</td>\n",
       "    </tr>\n",
       "    <tr>\n",
       "      <th>KAR_A10_22</th>\n",
       "      <td>KAR_A10_05</td>\n",
       "    </tr>\n",
       "  </tbody>\n",
       "</table>\n",
       "</div>"
      ],
      "text/plain": [
       "           entourage_card_id\n",
       "card_id                     \n",
       "KAR_A10_22        KAR_A10_09\n",
       "KAR_A10_22        KAR_A10_02\n",
       "KAR_A10_22        KAR_A10_08\n",
       "KAR_A10_22        KAR_A10_04\n",
       "KAR_A10_22        KAR_A10_05"
      ]
     },
     "execution_count": 77,
     "metadata": {},
     "output_type": "execute_result"
    }
   ],
   "source": [
    "entourages_df.head()"
   ]
  },
  {
   "cell_type": "code",
   "execution_count": 78,
   "metadata": {
    "ExecuteTime": {
     "end_time": "2020-09-04T10:17:42.175040Z",
     "start_time": "2020-09-04T10:17:42.166646Z"
    }
   },
   "outputs": [
    {
     "data": {
      "text/html": [
       "<div>\n",
       "<style scoped>\n",
       "    .dataframe tbody tr th:only-of-type {\n",
       "        vertical-align: middle;\n",
       "    }\n",
       "\n",
       "    .dataframe tbody tr th {\n",
       "        vertical-align: top;\n",
       "    }\n",
       "\n",
       "    .dataframe thead th {\n",
       "        text-align: right;\n",
       "    }\n",
       "</style>\n",
       "<table border=\"1\" class=\"dataframe\">\n",
       "  <thead>\n",
       "    <tr style=\"text-align: right;\">\n",
       "      <th></th>\n",
       "      <th>mechanic</th>\n",
       "    </tr>\n",
       "    <tr>\n",
       "      <th>card_id</th>\n",
       "      <th></th>\n",
       "    </tr>\n",
       "  </thead>\n",
       "  <tbody>\n",
       "    <tr>\n",
       "      <th>AT_132</th>\n",
       "      <td>BATTLECRY</td>\n",
       "    </tr>\n",
       "    <tr>\n",
       "      <th>GVG_011a</th>\n",
       "      <td>TAG_ONE_TURN_EFFECT</td>\n",
       "    </tr>\n",
       "    <tr>\n",
       "      <th>EX1_583</th>\n",
       "      <td>BATTLECRY</td>\n",
       "    </tr>\n",
       "    <tr>\n",
       "      <th>LOE_007t</th>\n",
       "      <td>EVIL_GLOW</td>\n",
       "    </tr>\n",
       "    <tr>\n",
       "      <th>LOE_007t</th>\n",
       "      <td>ImmuneToSpellpower</td>\n",
       "    </tr>\n",
       "  </tbody>\n",
       "</table>\n",
       "</div>"
      ],
      "text/plain": [
       "                     mechanic\n",
       "card_id                      \n",
       "AT_132              BATTLECRY\n",
       "GVG_011a  TAG_ONE_TURN_EFFECT\n",
       "EX1_583             BATTLECRY\n",
       "LOE_007t            EVIL_GLOW\n",
       "LOE_007t   ImmuneToSpellpower"
      ]
     },
     "execution_count": 78,
     "metadata": {},
     "output_type": "execute_result"
    }
   ],
   "source": [
    "mechanics_df.head()"
   ]
  },
  {
   "cell_type": "code",
   "execution_count": 79,
   "metadata": {
    "ExecuteTime": {
     "end_time": "2020-09-04T10:18:31.598003Z",
     "start_time": "2020-09-04T10:18:31.587191Z"
    }
   },
   "outputs": [
    {
     "data": {
      "text/html": [
       "<div>\n",
       "<style scoped>\n",
       "    .dataframe tbody tr th:only-of-type {\n",
       "        vertical-align: middle;\n",
       "    }\n",
       "\n",
       "    .dataframe tbody tr th {\n",
       "        vertical-align: top;\n",
       "    }\n",
       "\n",
       "    .dataframe thead th {\n",
       "        text-align: right;\n",
       "    }\n",
       "</style>\n",
       "<table border=\"1\" class=\"dataframe\">\n",
       "  <thead>\n",
       "    <tr style=\"text-align: right;\">\n",
       "      <th></th>\n",
       "      <th>play_requirement</th>\n",
       "      <th>value</th>\n",
       "    </tr>\n",
       "    <tr>\n",
       "      <th>card_id</th>\n",
       "      <th></th>\n",
       "      <th></th>\n",
       "    </tr>\n",
       "  </thead>\n",
       "  <tbody>\n",
       "    <tr>\n",
       "      <th>KARA_00_07</th>\n",
       "      <td>REQ_NUM_MINION_SLOTS</td>\n",
       "      <td>1</td>\n",
       "    </tr>\n",
       "    <tr>\n",
       "      <th>PRO_001a</th>\n",
       "      <td>REQ_NUM_MINION_SLOTS</td>\n",
       "      <td>1</td>\n",
       "    </tr>\n",
       "    <tr>\n",
       "      <th>NAX1_01</th>\n",
       "      <td>REQ_NUM_MINION_SLOTS</td>\n",
       "      <td>1</td>\n",
       "    </tr>\n",
       "    <tr>\n",
       "      <th>DS1h_292_H1</th>\n",
       "      <td>REQ_STEADY_SHOT</td>\n",
       "      <td>0</td>\n",
       "    </tr>\n",
       "    <tr>\n",
       "      <th>DS1h_292_H1</th>\n",
       "      <td>REQ_MINION_OR_ENEMY_HERO</td>\n",
       "      <td>0</td>\n",
       "    </tr>\n",
       "  </tbody>\n",
       "</table>\n",
       "</div>"
      ],
      "text/plain": [
       "                     play_requirement  value\n",
       "card_id                                     \n",
       "KARA_00_07       REQ_NUM_MINION_SLOTS      1\n",
       "PRO_001a         REQ_NUM_MINION_SLOTS      1\n",
       "NAX1_01          REQ_NUM_MINION_SLOTS      1\n",
       "DS1h_292_H1           REQ_STEADY_SHOT      0\n",
       "DS1h_292_H1  REQ_MINION_OR_ENEMY_HERO      0"
      ]
     },
     "execution_count": 79,
     "metadata": {},
     "output_type": "execute_result"
    }
   ],
   "source": [
    "play_requirements_df.head()"
   ]
  },
  {
   "cell_type": "code",
   "execution_count": 91,
   "metadata": {
    "ExecuteTime": {
     "end_time": "2020-09-04T10:52:40.339098Z",
     "start_time": "2020-09-04T10:52:40.276394Z"
    }
   },
   "outputs": [],
   "source": [
    "cards_with_mechanics_df = cards_df.join(mechanics_df,how=\"inner\")"
   ]
  },
  {
   "cell_type": "code",
   "execution_count": 92,
   "metadata": {
    "ExecuteTime": {
     "end_time": "2020-09-04T10:52:59.209065Z",
     "start_time": "2020-09-04T10:52:59.180621Z"
    }
   },
   "outputs": [
    {
     "data": {
      "text/html": [
       "<div>\n",
       "<style scoped>\n",
       "    .dataframe tbody tr th:only-of-type {\n",
       "        vertical-align: middle;\n",
       "    }\n",
       "\n",
       "    .dataframe tbody tr th {\n",
       "        vertical-align: top;\n",
       "    }\n",
       "\n",
       "    .dataframe thead th {\n",
       "        text-align: right;\n",
       "    }\n",
       "</style>\n",
       "<table border=\"1\" class=\"dataframe\">\n",
       "  <thead>\n",
       "    <tr style=\"text-align: right;\">\n",
       "      <th></th>\n",
       "      <th>playerClass</th>\n",
       "      <th>type</th>\n",
       "      <th>name</th>\n",
       "      <th>set</th>\n",
       "      <th>text</th>\n",
       "      <th>cost</th>\n",
       "      <th>attack</th>\n",
       "      <th>health</th>\n",
       "      <th>rarity</th>\n",
       "      <th>collectible</th>\n",
       "      <th>flavor</th>\n",
       "      <th>race</th>\n",
       "      <th>how_to_earn</th>\n",
       "      <th>how_to_earn_golden</th>\n",
       "      <th>targeting_arrow_text</th>\n",
       "      <th>faction</th>\n",
       "      <th>durability</th>\n",
       "      <th>mechanic</th>\n",
       "    </tr>\n",
       "    <tr>\n",
       "      <th>card_id</th>\n",
       "      <th></th>\n",
       "      <th></th>\n",
       "      <th></th>\n",
       "      <th></th>\n",
       "      <th></th>\n",
       "      <th></th>\n",
       "      <th></th>\n",
       "      <th></th>\n",
       "      <th></th>\n",
       "      <th></th>\n",
       "      <th></th>\n",
       "      <th></th>\n",
       "      <th></th>\n",
       "      <th></th>\n",
       "      <th></th>\n",
       "      <th></th>\n",
       "      <th></th>\n",
       "      <th></th>\n",
       "    </tr>\n",
       "  </thead>\n",
       "  <tbody>\n",
       "    <tr>\n",
       "      <th>AT_002</th>\n",
       "      <td>MAGE</td>\n",
       "      <td>SPELL</td>\n",
       "      <td>Effigy</td>\n",
       "      <td>TGT</td>\n",
       "      <td>&lt;b&gt;Secret:&lt;/b&gt; When a friendly minion dies, su...</td>\n",
       "      <td>3.0</td>\n",
       "      <td>NaN</td>\n",
       "      <td>NaN</td>\n",
       "      <td>RARE</td>\n",
       "      <td>True</td>\n",
       "      <td>Burning man, brah.</td>\n",
       "      <td>NaN</td>\n",
       "      <td>NaN</td>\n",
       "      <td>NaN</td>\n",
       "      <td>NaN</td>\n",
       "      <td>NaN</td>\n",
       "      <td>NaN</td>\n",
       "      <td>SECRET</td>\n",
       "    </tr>\n",
       "    <tr>\n",
       "      <th>AT_005t</th>\n",
       "      <td>NEUTRAL</td>\n",
       "      <td>MINION</td>\n",
       "      <td>Boar</td>\n",
       "      <td>TGT</td>\n",
       "      <td>&lt;b&gt;Charge&lt;/b&gt;</td>\n",
       "      <td>3.0</td>\n",
       "      <td>4.0</td>\n",
       "      <td>2.0</td>\n",
       "      <td>NaN</td>\n",
       "      <td>NaN</td>\n",
       "      <td>NaN</td>\n",
       "      <td>BEAST</td>\n",
       "      <td>NaN</td>\n",
       "      <td>NaN</td>\n",
       "      <td>NaN</td>\n",
       "      <td>NaN</td>\n",
       "      <td>NaN</td>\n",
       "      <td>CHARGE</td>\n",
       "    </tr>\n",
       "    <tr>\n",
       "      <th>AT_006</th>\n",
       "      <td>MAGE</td>\n",
       "      <td>MINION</td>\n",
       "      <td>Dalaran Aspirant</td>\n",
       "      <td>TGT</td>\n",
       "      <td>&lt;b&gt;Inspire:&lt;/b&gt; Gain &lt;b&gt;Spell Damage +1&lt;/b&gt;.</td>\n",
       "      <td>4.0</td>\n",
       "      <td>3.0</td>\n",
       "      <td>5.0</td>\n",
       "      <td>COMMON</td>\n",
       "      <td>True</td>\n",
       "      <td>Is he aspiring or inspiring?  Make up your mind!</td>\n",
       "      <td>NaN</td>\n",
       "      <td>NaN</td>\n",
       "      <td>NaN</td>\n",
       "      <td>NaN</td>\n",
       "      <td>NaN</td>\n",
       "      <td>NaN</td>\n",
       "      <td>INSPIRE</td>\n",
       "    </tr>\n",
       "    <tr>\n",
       "      <th>AT_007</th>\n",
       "      <td>MAGE</td>\n",
       "      <td>MINION</td>\n",
       "      <td>Spellslinger</td>\n",
       "      <td>TGT</td>\n",
       "      <td>&lt;b&gt;Battlecry:&lt;/b&gt; Add a random spell to each p...</td>\n",
       "      <td>3.0</td>\n",
       "      <td>3.0</td>\n",
       "      <td>4.0</td>\n",
       "      <td>COMMON</td>\n",
       "      <td>True</td>\n",
       "      <td>Does he sling spells, or do his spells linger ...</td>\n",
       "      <td>NaN</td>\n",
       "      <td>NaN</td>\n",
       "      <td>NaN</td>\n",
       "      <td>NaN</td>\n",
       "      <td>NaN</td>\n",
       "      <td>NaN</td>\n",
       "      <td>BATTLECRY</td>\n",
       "    </tr>\n",
       "    <tr>\n",
       "      <th>AT_009</th>\n",
       "      <td>MAGE</td>\n",
       "      <td>MINION</td>\n",
       "      <td>Rhonin</td>\n",
       "      <td>TGT</td>\n",
       "      <td>&lt;b&gt;Deathrattle:&lt;/b&gt; Add 3 copies of Arcane Mis...</td>\n",
       "      <td>8.0</td>\n",
       "      <td>7.0</td>\n",
       "      <td>7.0</td>\n",
       "      <td>LEGENDARY</td>\n",
       "      <td>True</td>\n",
       "      <td>A masterless shamurai.</td>\n",
       "      <td>NaN</td>\n",
       "      <td>NaN</td>\n",
       "      <td>NaN</td>\n",
       "      <td>NaN</td>\n",
       "      <td>NaN</td>\n",
       "      <td>NaN</td>\n",
       "      <td>DEATHRATTLE</td>\n",
       "    </tr>\n",
       "  </tbody>\n",
       "</table>\n",
       "</div>"
      ],
      "text/plain": [
       "        playerClass    type              name  set  \\\n",
       "card_id                                              \n",
       "AT_002         MAGE   SPELL            Effigy  TGT   \n",
       "AT_005t     NEUTRAL  MINION              Boar  TGT   \n",
       "AT_006         MAGE  MINION  Dalaran Aspirant  TGT   \n",
       "AT_007         MAGE  MINION      Spellslinger  TGT   \n",
       "AT_009         MAGE  MINION            Rhonin  TGT   \n",
       "\n",
       "                                                      text  cost  attack  \\\n",
       "card_id                                                                    \n",
       "AT_002   <b>Secret:</b> When a friendly minion dies, su...   3.0     NaN   \n",
       "AT_005t                                      <b>Charge</b>   3.0     4.0   \n",
       "AT_006        <b>Inspire:</b> Gain <b>Spell Damage +1</b>.   4.0     3.0   \n",
       "AT_007   <b>Battlecry:</b> Add a random spell to each p...   3.0     3.0   \n",
       "AT_009   <b>Deathrattle:</b> Add 3 copies of Arcane Mis...   8.0     7.0   \n",
       "\n",
       "         health     rarity collectible  \\\n",
       "card_id                                  \n",
       "AT_002      NaN       RARE        True   \n",
       "AT_005t     2.0        NaN         NaN   \n",
       "AT_006      5.0     COMMON        True   \n",
       "AT_007      4.0     COMMON        True   \n",
       "AT_009      7.0  LEGENDARY        True   \n",
       "\n",
       "                                                    flavor   race how_to_earn  \\\n",
       "card_id                                                                         \n",
       "AT_002                                  Burning man, brah.    NaN         NaN   \n",
       "AT_005t                                                NaN  BEAST         NaN   \n",
       "AT_006    Is he aspiring or inspiring?  Make up your mind!    NaN         NaN   \n",
       "AT_007   Does he sling spells, or do his spells linger ...    NaN         NaN   \n",
       "AT_009                              A masterless shamurai.    NaN         NaN   \n",
       "\n",
       "        how_to_earn_golden targeting_arrow_text faction  durability  \\\n",
       "card_id                                                               \n",
       "AT_002                 NaN                  NaN     NaN         NaN   \n",
       "AT_005t                NaN                  NaN     NaN         NaN   \n",
       "AT_006                 NaN                  NaN     NaN         NaN   \n",
       "AT_007                 NaN                  NaN     NaN         NaN   \n",
       "AT_009                 NaN                  NaN     NaN         NaN   \n",
       "\n",
       "            mechanic  \n",
       "card_id               \n",
       "AT_002        SECRET  \n",
       "AT_005t       CHARGE  \n",
       "AT_006       INSPIRE  \n",
       "AT_007     BATTLECRY  \n",
       "AT_009   DEATHRATTLE  "
      ]
     },
     "execution_count": 92,
     "metadata": {},
     "output_type": "execute_result"
    }
   ],
   "source": [
    "cards_with_mechanics_df.head()"
   ]
  },
  {
   "cell_type": "code",
   "execution_count": 4,
   "metadata": {
    "ExecuteTime": {
     "end_time": "2020-09-05T19:17:43.183605Z",
     "start_time": "2020-09-05T19:17:35.889254Z"
    }
   },
   "outputs": [
    {
     "name": "stdout",
     "output_type": "stream",
     "text": [
      "5\n",
      "0\n",
      "1\n",
      "4\n",
      "9\n",
      "16\n"
     ]
    }
   ],
   "source": [
    "n=int(input())\n",
    "for i in range(n):\n",
    "    print (i**2)"
   ]
  },
  {
   "cell_type": "code",
   "execution_count": 2,
   "metadata": {
    "ExecuteTime": {
     "end_time": "2020-09-05T19:54:53.587344Z",
     "start_time": "2020-09-05T19:54:53.582085Z"
    }
   },
   "outputs": [],
   "source": [
    "def is_leap(year):\n",
    "    leap = False\n",
    "    \n",
    "    # Write your logic here\n",
    "    if year%4==0:\n",
    "        if year%100==0 and year%400==0:\n",
    "            leap = True\n",
    "        else:\n",
    "            leap = False\n",
    "    else:\n",
    "        leap = False\n",
    "    return leap"
   ]
  },
  {
   "cell_type": "code",
   "execution_count": 4,
   "metadata": {
    "ExecuteTime": {
     "end_time": "2020-09-05T19:55:04.876616Z",
     "start_time": "2020-09-05T19:55:04.864152Z"
    }
   },
   "outputs": [
    {
     "data": {
      "text/plain": [
       "False"
      ]
     },
     "execution_count": 4,
     "metadata": {},
     "output_type": "execute_result"
    }
   ],
   "source": [
    "is_leap(40)"
   ]
  },
  {
   "cell_type": "code",
   "execution_count": 5,
   "metadata": {
    "ExecuteTime": {
     "end_time": "2020-09-05T20:32:16.364276Z",
     "start_time": "2020-09-05T20:32:16.352732Z"
    }
   },
   "outputs": [],
   "source": [
    "import math\n",
    "def is_square(n):\n",
    "    return n > -1 and math.sqrt(n) % 1 == 0"
   ]
  },
  {
   "cell_type": "code",
   "execution_count": 6,
   "metadata": {
    "ExecuteTime": {
     "end_time": "2020-09-05T20:32:25.475531Z",
     "start_time": "2020-09-05T20:32:25.467950Z"
    }
   },
   "outputs": [
    {
     "data": {
      "text/plain": [
       "True"
      ]
     },
     "execution_count": 6,
     "metadata": {},
     "output_type": "execute_result"
    }
   ],
   "source": [
    "is_square(4)"
   ]
  },
  {
   "cell_type": "markdown",
   "metadata": {},
   "source": [
    "Create a function named divisors/Divisors that takes an integer n > 1 and returns an array with all of the integer's divisors(except for 1 and the number itself), from smallest to largest. If the number is prime return the string '(integer) is prime'.\n"
   ]
  },
  {
   "cell_type": "code",
   "execution_count": 7,
   "metadata": {
    "ExecuteTime": {
     "end_time": "2020-09-05T20:36:01.022075Z",
     "start_time": "2020-09-05T20:36:01.016156Z"
    }
   },
   "outputs": [],
   "source": [
    "def divisors(num):\n",
    "    l = [a for a in range(2,num) if num%a == 0]\n",
    "    if len(l) == 0:\n",
    "        return str(num) + \" is prime\"\n",
    "    return l"
   ]
  },
  {
   "cell_type": "code",
   "execution_count": 8,
   "metadata": {
    "ExecuteTime": {
     "end_time": "2020-09-05T20:36:06.388547Z",
     "start_time": "2020-09-05T20:36:06.381163Z"
    }
   },
   "outputs": [
    {
     "data": {
      "text/plain": [
       "[2, 3, 4, 5, 6, 10, 12, 15, 20, 30]"
      ]
     },
     "execution_count": 8,
     "metadata": {},
     "output_type": "execute_result"
    }
   ],
   "source": [
    "divisors(60)"
   ]
  },
  {
   "cell_type": "markdown",
   "metadata": {},
   "source": [
    "## ----------------------------------------------------------------------------------------"
   ]
  },
  {
   "cell_type": "markdown",
   "metadata": {},
   "source": [
    "Given two integers a and b, which can be positive or negative, find the sum of all the numbers between including them too and return it. If the two numbers are equal return a or b.\n",
    "\n"
   ]
  },
  {
   "cell_type": "code",
   "execution_count": 5,
   "metadata": {
    "ExecuteTime": {
     "end_time": "2020-09-11T09:42:08.355187Z",
     "start_time": "2020-09-11T09:42:08.351704Z"
    }
   },
   "outputs": [],
   "source": [
    "# 1\n",
    "def get_sum(a,b):\n",
    "    return sum(range(min(a,b), max(a,b)+1))"
   ]
  },
  {
   "cell_type": "code",
   "execution_count": 6,
   "metadata": {
    "ExecuteTime": {
     "end_time": "2020-09-11T09:42:08.717333Z",
     "start_time": "2020-09-11T09:42:08.706071Z"
    }
   },
   "outputs": [
    {
     "data": {
      "text/plain": [
       "240"
      ]
     },
     "execution_count": 6,
     "metadata": {},
     "output_type": "execute_result"
    }
   ],
   "source": [
    "get_sum(50,-45)"
   ]
  },
  {
   "cell_type": "code",
   "execution_count": 7,
   "metadata": {
    "ExecuteTime": {
     "end_time": "2020-09-11T09:42:22.252538Z",
     "start_time": "2020-09-11T09:42:22.245614Z"
    }
   },
   "outputs": [
    {
     "data": {
      "text/plain": [
       "780"
      ]
     },
     "execution_count": 7,
     "metadata": {},
     "output_type": "execute_result"
    }
   ],
   "source": [
    "get_sum(45,59)"
   ]
  },
  {
   "cell_type": "code",
   "execution_count": 10,
   "metadata": {
    "ExecuteTime": {
     "end_time": "2020-09-11T09:45:42.905508Z",
     "start_time": "2020-09-11T09:45:42.902366Z"
    }
   },
   "outputs": [],
   "source": [
    "#2\n",
    "def get_sum_second(a, b):\n",
    "    return (a + b) * (abs(a - b) + 1) // 2 # abs returns the absolute value"
   ]
  },
  {
   "cell_type": "code",
   "execution_count": 14,
   "metadata": {
    "ExecuteTime": {
     "end_time": "2020-09-11T09:45:56.037586Z",
     "start_time": "2020-09-11T09:45:56.032112Z"
    }
   },
   "outputs": [
    {
     "data": {
      "text/plain": [
       "240"
      ]
     },
     "execution_count": 14,
     "metadata": {},
     "output_type": "execute_result"
    }
   ],
   "source": [
    "get_sum_second(50,-45)"
   ]
  },
  {
   "cell_type": "code",
   "execution_count": 15,
   "metadata": {
    "ExecuteTime": {
     "end_time": "2020-09-11T09:47:26.004264Z",
     "start_time": "2020-09-11T09:47:25.997965Z"
    }
   },
   "outputs": [
    {
     "data": {
      "text/plain": [
       "780"
      ]
     },
     "execution_count": 15,
     "metadata": {},
     "output_type": "execute_result"
    }
   ],
   "source": [
    "get_sum_second(45,59)"
   ]
  },
  {
   "cell_type": "code",
   "execution_count": 18,
   "metadata": {
    "ExecuteTime": {
     "end_time": "2020-09-11T09:50:03.017081Z",
     "start_time": "2020-09-11T09:50:03.013025Z"
    }
   },
   "outputs": [],
   "source": [
    "#3\n",
    "def get_sum_third(a,b):\n",
    "    if a>b : a,b = b,a\n",
    "    return sum(range(a,b+1))"
   ]
  },
  {
   "cell_type": "code",
   "execution_count": 19,
   "metadata": {
    "ExecuteTime": {
     "end_time": "2020-09-11T09:50:03.296259Z",
     "start_time": "2020-09-11T09:50:03.286362Z"
    }
   },
   "outputs": [
    {
     "data": {
      "text/plain": [
       "240"
      ]
     },
     "execution_count": 19,
     "metadata": {},
     "output_type": "execute_result"
    }
   ],
   "source": [
    "get_sum_third(50,-45)"
   ]
  },
  {
   "cell_type": "code",
   "execution_count": 20,
   "metadata": {
    "ExecuteTime": {
     "end_time": "2020-09-11T09:50:22.226632Z",
     "start_time": "2020-09-11T09:50:22.220628Z"
    }
   },
   "outputs": [
    {
     "data": {
      "text/plain": [
       "780"
      ]
     },
     "execution_count": 20,
     "metadata": {},
     "output_type": "execute_result"
    }
   ],
   "source": [
    "get_sum_third(45,59)"
   ]
  },
  {
   "cell_type": "markdown",
   "metadata": {},
   "source": [
    "## ----------------------------------------------------------------------------------------"
   ]
  },
  {
   "cell_type": "markdown",
   "metadata": {},
   "source": [
    "You are given an odd-length array of integers, in which all of them are the same, except for one single number.\n",
    "\n",
    "Complete the method which accepts such an array, and returns that single different number."
   ]
  },
  {
   "cell_type": "code",
   "execution_count": 21,
   "metadata": {
    "ExecuteTime": {
     "end_time": "2020-09-11T14:41:59.625639Z",
     "start_time": "2020-09-11T14:41:59.621837Z"
    }
   },
   "outputs": [],
   "source": [
    "def stray(arr):\n",
    "    for x in arr:\n",
    "        if arr.count(x) >2:\n",
    "            return x"
   ]
  },
  {
   "cell_type": "code",
   "execution_count": 22,
   "metadata": {
    "ExecuteTime": {
     "end_time": "2020-09-11T14:42:00.340103Z",
     "start_time": "2020-09-11T14:42:00.333898Z"
    }
   },
   "outputs": [
    {
     "data": {
      "text/plain": [
       "3"
      ]
     },
     "execution_count": 22,
     "metadata": {},
     "output_type": "execute_result"
    }
   ],
   "source": [
    "stray([3,3,78,3,3,78,78,78,3])"
   ]
  },
  {
   "cell_type": "code",
   "execution_count": 25,
   "metadata": {
    "ExecuteTime": {
     "end_time": "2020-09-11T14:49:05.777778Z",
     "start_time": "2020-09-11T14:49:05.771980Z"
    }
   },
   "outputs": [],
   "source": [
    "def stray1(arr):\n",
    "    a, b, c = arr[:3]\n",
    "    if a == b:\n",
    "        return c\n",
    "    elif b == c:\n",
    "        return a\n",
    "    else:\n",
    "        return b\n"
   ]
  },
  {
   "cell_type": "code",
   "execution_count": 27,
   "metadata": {
    "ExecuteTime": {
     "end_time": "2020-09-11T14:49:18.669089Z",
     "start_time": "2020-09-11T14:49:18.660385Z"
    }
   },
   "outputs": [
    {
     "data": {
      "text/plain": [
       "78"
      ]
     },
     "execution_count": 27,
     "metadata": {},
     "output_type": "execute_result"
    }
   ],
   "source": [
    "stray1([3,3,78,3,3,78,78,78,3])"
   ]
  },
  {
   "cell_type": "code",
   "execution_count": 14,
   "metadata": {
    "ExecuteTime": {
     "end_time": "2020-09-11T14:36:23.866126Z",
     "start_time": "2020-09-11T14:36:23.862858Z"
    }
   },
   "outputs": [],
   "source": [
    "def stray(arr):\n",
    "    return [x for x in set(arr) if arr.count(x) == 1][0]"
   ]
  },
  {
   "cell_type": "code",
   "execution_count": 5,
   "metadata": {
    "ExecuteTime": {
     "end_time": "2020-09-11T10:03:53.901927Z",
     "start_time": "2020-09-11T10:03:53.893579Z"
    },
    "scrolled": true
   },
   "outputs": [
    {
     "data": {
      "text/plain": [
       "78"
      ]
     },
     "execution_count": 5,
     "metadata": {},
     "output_type": "execute_result"
    }
   ],
   "source": [
    "stray([3,3,78,3,3])"
   ]
  },
  {
   "cell_type": "markdown",
   "metadata": {
    "ExecuteTime": {
     "end_time": "2020-09-11T10:23:35.231618Z",
     "start_time": "2020-09-11T10:23:35.218976Z"
    }
   },
   "source": [
    "## ----------------------------------------------------------------------------------------"
   ]
  },
  {
   "cell_type": "markdown",
   "metadata": {},
   "source": [
    "Your task is to write a function which returns the sum of following series upto nth term(parameter)."
   ]
  },
  {
   "cell_type": "code",
   "execution_count": 4,
   "metadata": {
    "ExecuteTime": {
     "end_time": "2020-09-11T10:30:55.008373Z",
     "start_time": "2020-09-11T10:30:54.143386Z"
    }
   },
   "outputs": [],
   "source": [
    "import numpy as np\n",
    "import pandas as pd"
   ]
  },
  {
   "cell_type": "code",
   "execution_count": 23,
   "metadata": {
    "ExecuteTime": {
     "end_time": "2020-09-11T10:35:10.742995Z",
     "start_time": "2020-09-11T10:35:10.738848Z"
    }
   },
   "outputs": [],
   "source": [
    "n= np.array([1 + 1/4 + 1/7 + 1/10 + 1/13 + 1/16]).astype(int)"
   ]
  },
  {
   "cell_type": "code",
   "execution_count": 24,
   "metadata": {
    "ExecuteTime": {
     "end_time": "2020-09-11T10:35:11.662989Z",
     "start_time": "2020-09-11T10:35:11.659764Z"
    }
   },
   "outputs": [],
   "source": [
    "def series_sum(n):\n",
    "    return '{:.2f}'.format(sum(1.0/(3 * i + 1) for i in range(n)))"
   ]
  },
  {
   "cell_type": "code",
   "execution_count": 25,
   "metadata": {
    "ExecuteTime": {
     "end_time": "2020-09-11T10:35:12.273093Z",
     "start_time": "2020-09-11T10:35:12.259484Z"
    }
   },
   "outputs": [
    {
     "ename": "TypeError",
     "evalue": "only integer scalar arrays can be converted to a scalar index",
     "output_type": "error",
     "traceback": [
      "\u001b[0;31m---------------------------------------------------------------------------\u001b[0m",
      "\u001b[0;31mTypeError\u001b[0m                                 Traceback (most recent call last)",
      "\u001b[0;32m<ipython-input-25-03e01ff4162f>\u001b[0m in \u001b[0;36m<module>\u001b[0;34m()\u001b[0m\n\u001b[0;32m----> 1\u001b[0;31m \u001b[0mseries_sum\u001b[0m\u001b[0;34m(\u001b[0m\u001b[0mn\u001b[0m\u001b[0;34m)\u001b[0m\u001b[0;34m\u001b[0m\u001b[0m\n\u001b[0m",
      "\u001b[0;32m<ipython-input-24-85bbcd5a92ed>\u001b[0m in \u001b[0;36mseries_sum\u001b[0;34m(n)\u001b[0m\n\u001b[1;32m      1\u001b[0m \u001b[0;32mdef\u001b[0m \u001b[0mseries_sum\u001b[0m\u001b[0;34m(\u001b[0m\u001b[0mn\u001b[0m\u001b[0;34m)\u001b[0m\u001b[0;34m:\u001b[0m\u001b[0;34m\u001b[0m\u001b[0m\n\u001b[0;32m----> 2\u001b[0;31m     \u001b[0;32mreturn\u001b[0m \u001b[0;34m'{:.2f}'\u001b[0m\u001b[0;34m.\u001b[0m\u001b[0mformat\u001b[0m\u001b[0;34m(\u001b[0m\u001b[0msum\u001b[0m\u001b[0;34m(\u001b[0m\u001b[0;36m1.0\u001b[0m\u001b[0;34m/\u001b[0m\u001b[0;34m(\u001b[0m\u001b[0;36m3\u001b[0m \u001b[0;34m*\u001b[0m \u001b[0mi\u001b[0m \u001b[0;34m+\u001b[0m \u001b[0;36m1\u001b[0m\u001b[0;34m)\u001b[0m \u001b[0;32mfor\u001b[0m \u001b[0mi\u001b[0m \u001b[0;32min\u001b[0m \u001b[0mrange\u001b[0m\u001b[0;34m(\u001b[0m\u001b[0mn\u001b[0m\u001b[0;34m)\u001b[0m\u001b[0;34m)\u001b[0m\u001b[0;34m)\u001b[0m\u001b[0;34m\u001b[0m\u001b[0m\n\u001b[0m",
      "\u001b[0;31mTypeError\u001b[0m: only integer scalar arrays can be converted to a scalar index"
     ]
    }
   ],
   "source": [
    "series_sum(n)"
   ]
  },
  {
   "cell_type": "code",
   "execution_count": 26,
   "metadata": {
    "ExecuteTime": {
     "end_time": "2020-09-11T10:36:05.258018Z",
     "start_time": "2020-09-11T10:36:05.253555Z"
    }
   },
   "outputs": [],
   "source": [
    "def series_sum(n):\n",
    "    sum = 0.0\n",
    "    for i in range(0,n):\n",
    "        sum += 1 / (1 + 3 * float(i))\n",
    "    return '%.2f' % sum"
   ]
  },
  {
   "cell_type": "markdown",
   "metadata": {},
   "source": [
    "## ----------------------------------------------------------------------------------------"
   ]
  },
  {
   "cell_type": "markdown",
   "metadata": {},
   "source": [
    "The parameter of accum is a string which includes only letters from a..z and A..Z."
   ]
  },
  {
   "cell_type": "code",
   "execution_count": 2,
   "metadata": {
    "ExecuteTime": {
     "end_time": "2020-09-11T10:45:27.505842Z",
     "start_time": "2020-09-11T10:45:27.501715Z"
    }
   },
   "outputs": [],
   "source": [
    "def accum(s):\n",
    "    return '-'.join(c.upper() + c.lower() * i for i, c in enumerate(s))"
   ]
  },
  {
   "cell_type": "code",
   "execution_count": 3,
   "metadata": {
    "ExecuteTime": {
     "end_time": "2020-09-11T10:45:48.380587Z",
     "start_time": "2020-09-11T10:45:48.374502Z"
    }
   },
   "outputs": [],
   "source": [
    "def accum(s):\n",
    "    output = \"\"\n",
    "    for i in range(len(s)):\n",
    "        output+=(s[i]*(i+1))+\"-\"\n",
    "    return output.title()[:-1]"
   ]
  },
  {
   "cell_type": "markdown",
   "metadata": {},
   "source": [
    "Your task is to make function, which returns the sum of a sequence of integers.\n",
    "\n",
    "The sequence is defined by 3 non-negative values: begin, end, step.\n",
    "\n",
    "If begin value is greater than the end, function should returns 0"
   ]
  },
  {
   "cell_type": "code",
   "execution_count": 5,
   "metadata": {
    "ExecuteTime": {
     "end_time": "2020-09-11T10:49:02.523747Z",
     "start_time": "2020-09-11T10:49:02.519916Z"
    }
   },
   "outputs": [],
   "source": [
    "def sequence_sum(start, end, step):\n",
    "    return sum(range(start, end+1, step))"
   ]
  },
  {
   "cell_type": "code",
   "execution_count": 6,
   "metadata": {
    "ExecuteTime": {
     "end_time": "2020-09-11T10:49:33.643530Z",
     "start_time": "2020-09-11T10:49:33.629101Z"
    }
   },
   "outputs": [
    {
     "data": {
      "text/plain": [
       "0"
      ]
     },
     "execution_count": 6,
     "metadata": {},
     "output_type": "execute_result"
    }
   ],
   "source": [
    "sequence_sum(6, 3, 1)"
   ]
  },
  {
   "cell_type": "code",
   "execution_count": 9,
   "metadata": {
    "ExecuteTime": {
     "end_time": "2020-09-11T10:50:07.619835Z",
     "start_time": "2020-09-11T10:50:07.614767Z"
    }
   },
   "outputs": [
    {
     "data": {
      "text/plain": [
       "1"
      ]
     },
     "execution_count": 9,
     "metadata": {},
     "output_type": "execute_result"
    }
   ],
   "source": [
    "sequence_sum(1, 3, 6)"
   ]
  },
  {
   "cell_type": "code",
   "execution_count": 14,
   "metadata": {
    "ExecuteTime": {
     "end_time": "2020-09-11T10:51:44.795114Z",
     "start_time": "2020-09-11T10:51:44.791594Z"
    }
   },
   "outputs": [],
   "source": [
    "def sequence_sum_again(begin, end, step):\n",
    "    if begin > end:\n",
    "        return 0\n",
    "    else:\n",
    "        return 1"
   ]
  },
  {
   "cell_type": "code",
   "execution_count": 15,
   "metadata": {
    "ExecuteTime": {
     "end_time": "2020-09-11T10:51:45.427069Z",
     "start_time": "2020-09-11T10:51:45.421507Z"
    }
   },
   "outputs": [
    {
     "data": {
      "text/plain": [
       "0"
      ]
     },
     "execution_count": 15,
     "metadata": {},
     "output_type": "execute_result"
    }
   ],
   "source": [
    "sequence_sum_again(6, 3, 1)"
   ]
  },
  {
   "cell_type": "code",
   "execution_count": 16,
   "metadata": {
    "ExecuteTime": {
     "end_time": "2020-09-11T10:51:55.336373Z",
     "start_time": "2020-09-11T10:51:55.330169Z"
    }
   },
   "outputs": [
    {
     "data": {
      "text/plain": [
       "1"
      ]
     },
     "execution_count": 16,
     "metadata": {},
     "output_type": "execute_result"
    }
   ],
   "source": [
    "sequence_sum(1, 3, 6)"
   ]
  },
  {
   "cell_type": "markdown",
   "metadata": {},
   "source": [
    "## ----------------------------------------------------------------------------------------"
   ]
  },
  {
   "cell_type": "markdown",
   "metadata": {},
   "source": [
    "Complete the function that accepts a string parameter, and reverses each word in the string. All spaces in the string should be retained."
   ]
  },
  {
   "cell_type": "code",
   "execution_count": 3,
   "metadata": {
    "ExecuteTime": {
     "end_time": "2020-09-11T11:01:07.067336Z",
     "start_time": "2020-09-11T11:01:07.060193Z"
    }
   },
   "outputs": [],
   "source": [
    "def reverse_words_1(str):\n",
    "    return ' '.join(s[::-1] for s in str.split(' '))"
   ]
  },
  {
   "cell_type": "code",
   "execution_count": 4,
   "metadata": {
    "ExecuteTime": {
     "end_time": "2020-09-11T11:01:29.893818Z",
     "start_time": "2020-09-11T11:01:29.881292Z"
    }
   },
   "outputs": [
    {
     "data": {
      "text/plain": [
       "'dadelos'"
      ]
     },
     "execution_count": 4,
     "metadata": {},
     "output_type": "execute_result"
    }
   ],
   "source": [
    "reverse_words_1(\"soledad\")"
   ]
  },
  {
   "cell_type": "code",
   "execution_count": 7,
   "metadata": {
    "ExecuteTime": {
     "end_time": "2020-09-11T11:01:53.411722Z",
     "start_time": "2020-09-11T11:01:53.407783Z"
    }
   },
   "outputs": [],
   "source": [
    "def reverse_words_2(str):\n",
    "  return ' '.join(w[::-1] for w in str.split(' '))"
   ]
  },
  {
   "cell_type": "code",
   "execution_count": 8,
   "metadata": {
    "ExecuteTime": {
     "end_time": "2020-09-11T11:01:56.376111Z",
     "start_time": "2020-09-11T11:01:56.369350Z"
    }
   },
   "outputs": [
    {
     "data": {
      "text/plain": [
       "'dadelos'"
      ]
     },
     "execution_count": 8,
     "metadata": {},
     "output_type": "execute_result"
    }
   ],
   "source": [
    "reverse_words_2(\"soledad\")"
   ]
  },
  {
   "cell_type": "code",
   "execution_count": 10,
   "metadata": {
    "ExecuteTime": {
     "end_time": "2020-09-11T11:03:42.669892Z",
     "start_time": "2020-09-11T11:03:42.665999Z"
    }
   },
   "outputs": [],
   "source": [
    "def reverse_words_3(str):\n",
    "  \n",
    "  newStr = []\n",
    "  for i in str.split(' '):\n",
    "      newStr.append(i[::-1])\n",
    "  return ' '.join(newStr)"
   ]
  },
  {
   "cell_type": "code",
   "execution_count": 11,
   "metadata": {
    "ExecuteTime": {
     "end_time": "2020-09-11T11:03:46.619922Z",
     "start_time": "2020-09-11T11:03:46.611171Z"
    }
   },
   "outputs": [
    {
     "data": {
      "text/plain": [
       "'og rof ti'"
      ]
     },
     "execution_count": 11,
     "metadata": {},
     "output_type": "execute_result"
    }
   ],
   "source": [
    "reverse_words_3(\"go for it\")"
   ]
  },
  {
   "cell_type": "code",
   "execution_count": 39,
   "metadata": {
    "ExecuteTime": {
     "end_time": "2020-09-11T15:35:18.997736Z",
     "start_time": "2020-09-11T15:35:18.986814Z"
    }
   },
   "outputs": [],
   "source": [
    "def number():\n",
    "    if n % 3 == 0:\n",
    "        print(\"Weird\")\n",
    "    \n",
    "    else:\n",
    "        print(\"ok\")\n",
    "    "
   ]
  },
  {
   "cell_type": "code",
   "execution_count": 40,
   "metadata": {
    "ExecuteTime": {
     "end_time": "2020-09-11T15:35:19.334083Z",
     "start_time": "2020-09-11T15:35:19.322341Z"
    }
   },
   "outputs": [
    {
     "ename": "TypeError",
     "evalue": "number() takes 0 positional arguments but 1 was given",
     "output_type": "error",
     "traceback": [
      "\u001b[0;31m---------------------------------------------------------------------------\u001b[0m",
      "\u001b[0;31mTypeError\u001b[0m                                 Traceback (most recent call last)",
      "\u001b[0;32m<ipython-input-40-efc66147faff>\u001b[0m in \u001b[0;36m<module>\u001b[0;34m()\u001b[0m\n\u001b[0;32m----> 1\u001b[0;31m \u001b[0mnumber\u001b[0m\u001b[0;34m(\u001b[0m\u001b[0;36m15\u001b[0m\u001b[0;34m)\u001b[0m\u001b[0;34m\u001b[0m\u001b[0m\n\u001b[0m",
      "\u001b[0;31mTypeError\u001b[0m: number() takes 0 positional arguments but 1 was given"
     ]
    }
   ],
   "source": [
    "number(15)"
   ]
  },
  {
   "cell_type": "markdown",
   "metadata": {},
   "source": [
    "## ----------------------------------------------------------------------------------------"
   ]
  },
  {
   "cell_type": "markdown",
   "metadata": {},
   "source": [
    "Complete the solution so that it returns the greatest sequence of five consecutive digits found within the number given. The number will be passed in as a string of only digits. It should return a five digit integer. The number passed may be as large as 1000 digits."
   ]
  },
  {
   "cell_type": "code",
   "execution_count": 18,
   "metadata": {
    "ExecuteTime": {
     "end_time": "2020-09-18T14:52:09.622170Z",
     "start_time": "2020-09-18T14:52:09.619103Z"
    }
   },
   "outputs": [],
   "source": [
    "def solution(digits):\n",
    "    numlist = [int(digits[i:i+5]) for i in range(0,len(digits)-4)]\n",
    "    return max(numlist)"
   ]
  },
  {
   "cell_type": "code",
   "execution_count": 19,
   "metadata": {
    "ExecuteTime": {
     "end_time": "2020-09-18T14:52:09.946047Z",
     "start_time": "2020-09-18T14:52:09.919745Z"
    }
   },
   "outputs": [
    {
     "ename": "TypeError",
     "evalue": "object of type 'int' has no len()",
     "output_type": "error",
     "traceback": [
      "\u001b[0;31m---------------------------------------------------------------------------\u001b[0m",
      "\u001b[0;31mTypeError\u001b[0m                                 Traceback (most recent call last)",
      "\u001b[0;32m<ipython-input-19-6746208ca018>\u001b[0m in \u001b[0;36m<module>\u001b[0;34m()\u001b[0m\n\u001b[0;32m----> 1\u001b[0;31m \u001b[0msolution\u001b[0m\u001b[0;34m(\u001b[0m\u001b[0mlen\u001b[0m\u001b[0;34m(\u001b[0m\u001b[0;36m364973847433\u001b[0m\u001b[0;34m)\u001b[0m\u001b[0;34m)\u001b[0m\u001b[0;34m\u001b[0m\u001b[0m\n\u001b[0m",
      "\u001b[0;31mTypeError\u001b[0m: object of type 'int' has no len()"
     ]
    }
   ],
   "source": [
    "solution(364973847433)"
   ]
  },
  {
   "cell_type": "code",
   "execution_count": 6,
   "metadata": {
    "ExecuteTime": {
     "end_time": "2020-09-18T14:47:28.706715Z",
     "start_time": "2020-09-18T14:47:28.703405Z"
    }
   },
   "outputs": [],
   "source": [
    "def solution(digits):\n",
    "    return int(max(digits[a:a + 5] for a in range(len(digits) - 4)))"
   ]
  },
  {
   "cell_type": "code",
   "execution_count": 7,
   "metadata": {
    "ExecuteTime": {
     "end_time": "2020-09-18T14:47:29.056970Z",
     "start_time": "2020-09-18T14:47:29.045080Z"
    }
   },
   "outputs": [
    {
     "ename": "TypeError",
     "evalue": "object of type 'int' has no len()",
     "output_type": "error",
     "traceback": [
      "\u001b[0;31m---------------------------------------------------------------------------\u001b[0m",
      "\u001b[0;31mTypeError\u001b[0m                                 Traceback (most recent call last)",
      "\u001b[0;32m<ipython-input-7-055b98caaacf>\u001b[0m in \u001b[0;36m<module>\u001b[0;34m()\u001b[0m\n\u001b[0;32m----> 1\u001b[0;31m \u001b[0msolution\u001b[0m\u001b[0;34m(\u001b[0m\u001b[0;36m36497383396\u001b[0m\u001b[0;34m)\u001b[0m\u001b[0;34m\u001b[0m\u001b[0m\n\u001b[0m",
      "\u001b[0;32m<ipython-input-6-a10f3f0db8d1>\u001b[0m in \u001b[0;36msolution\u001b[0;34m(digits)\u001b[0m\n\u001b[1;32m      1\u001b[0m \u001b[0;32mdef\u001b[0m \u001b[0msolution\u001b[0m\u001b[0;34m(\u001b[0m\u001b[0mdigits\u001b[0m\u001b[0;34m)\u001b[0m\u001b[0;34m:\u001b[0m\u001b[0;34m\u001b[0m\u001b[0m\n\u001b[0;32m----> 2\u001b[0;31m     \u001b[0;32mreturn\u001b[0m \u001b[0mint\u001b[0m\u001b[0;34m(\u001b[0m\u001b[0mmax\u001b[0m\u001b[0;34m(\u001b[0m\u001b[0mdigits\u001b[0m\u001b[0;34m[\u001b[0m\u001b[0ma\u001b[0m\u001b[0;34m:\u001b[0m\u001b[0ma\u001b[0m \u001b[0;34m+\u001b[0m \u001b[0;36m5\u001b[0m\u001b[0;34m]\u001b[0m \u001b[0;32mfor\u001b[0m \u001b[0ma\u001b[0m \u001b[0;32min\u001b[0m \u001b[0mrange\u001b[0m\u001b[0;34m(\u001b[0m\u001b[0mlen\u001b[0m\u001b[0;34m(\u001b[0m\u001b[0mdigits\u001b[0m\u001b[0;34m)\u001b[0m \u001b[0;34m-\u001b[0m \u001b[0;36m4\u001b[0m\u001b[0;34m)\u001b[0m\u001b[0;34m)\u001b[0m\u001b[0;34m)\u001b[0m\u001b[0;34m\u001b[0m\u001b[0m\n\u001b[0m",
      "\u001b[0;31mTypeError\u001b[0m: object of type 'int' has no len()"
     ]
    }
   ],
   "source": [
    "solution(364973847473396)"
   ]
  },
  {
   "cell_type": "code",
   "execution_count": 10,
   "metadata": {
    "ExecuteTime": {
     "end_time": "2020-09-18T14:49:59.698675Z",
     "start_time": "2020-09-18T14:49:59.693422Z"
    }
   },
   "outputs": [],
   "source": [
    "def solution(digits):\n",
    "    maxNum = 0\n",
    "    for i in range(len(digits)-4):\n",
    "        curNum = int(digits[i:i+5])\n",
    "        if curNum > maxNum:\n",
    "            maxNum = curNum\n",
    "    return maxNum"
   ]
  },
  {
   "cell_type": "code",
   "execution_count": 11,
   "metadata": {
    "ExecuteTime": {
     "end_time": "2020-09-18T14:50:10.028968Z",
     "start_time": "2020-09-18T14:50:10.014342Z"
    }
   },
   "outputs": [
    {
     "ename": "TypeError",
     "evalue": "object of type 'int' has no len()",
     "output_type": "error",
     "traceback": [
      "\u001b[0;31m---------------------------------------------------------------------------\u001b[0m",
      "\u001b[0;31mTypeError\u001b[0m                                 Traceback (most recent call last)",
      "\u001b[0;32m<ipython-input-11-e2e2ff825dd4>\u001b[0m in \u001b[0;36m<module>\u001b[0;34m()\u001b[0m\n\u001b[0;32m----> 1\u001b[0;31m \u001b[0msolution\u001b[0m\u001b[0;34m(\u001b[0m\u001b[0;36m2536\u001b[0m\u001b[0;34m)\u001b[0m\u001b[0;34m\u001b[0m\u001b[0m\n\u001b[0m",
      "\u001b[0;32m<ipython-input-10-5ef78c8d1479>\u001b[0m in \u001b[0;36msolution\u001b[0;34m(digits)\u001b[0m\n\u001b[1;32m      1\u001b[0m \u001b[0;32mdef\u001b[0m \u001b[0msolution\u001b[0m\u001b[0;34m(\u001b[0m\u001b[0mdigits\u001b[0m\u001b[0;34m)\u001b[0m\u001b[0;34m:\u001b[0m\u001b[0;34m\u001b[0m\u001b[0m\n\u001b[1;32m      2\u001b[0m     \u001b[0mmaxNum\u001b[0m \u001b[0;34m=\u001b[0m \u001b[0;36m0\u001b[0m\u001b[0;34m\u001b[0m\u001b[0m\n\u001b[0;32m----> 3\u001b[0;31m     \u001b[0;32mfor\u001b[0m \u001b[0mi\u001b[0m \u001b[0;32min\u001b[0m \u001b[0mrange\u001b[0m\u001b[0;34m(\u001b[0m\u001b[0mlen\u001b[0m\u001b[0;34m(\u001b[0m\u001b[0mdigits\u001b[0m\u001b[0;34m)\u001b[0m\u001b[0;34m-\u001b[0m\u001b[0;36m4\u001b[0m\u001b[0;34m)\u001b[0m\u001b[0;34m:\u001b[0m\u001b[0;34m\u001b[0m\u001b[0m\n\u001b[0m\u001b[1;32m      4\u001b[0m         \u001b[0mcurNum\u001b[0m \u001b[0;34m=\u001b[0m \u001b[0mint\u001b[0m\u001b[0;34m(\u001b[0m\u001b[0mdigits\u001b[0m\u001b[0;34m[\u001b[0m\u001b[0mi\u001b[0m\u001b[0;34m:\u001b[0m\u001b[0mi\u001b[0m\u001b[0;34m+\u001b[0m\u001b[0;36m5\u001b[0m\u001b[0;34m]\u001b[0m\u001b[0;34m)\u001b[0m\u001b[0;34m\u001b[0m\u001b[0m\n\u001b[1;32m      5\u001b[0m         \u001b[0;32mif\u001b[0m \u001b[0mcurNum\u001b[0m \u001b[0;34m>\u001b[0m \u001b[0mmaxNum\u001b[0m\u001b[0;34m:\u001b[0m\u001b[0;34m\u001b[0m\u001b[0m\n",
      "\u001b[0;31mTypeError\u001b[0m: object of type 'int' has no len()"
     ]
    }
   ],
   "source": [
    "solution(2536)"
   ]
  },
  {
   "cell_type": "markdown",
   "metadata": {
    "ExecuteTime": {
     "end_time": "2020-09-18T15:03:29.139289Z",
     "start_time": "2020-09-18T15:03:29.135308Z"
    }
   },
   "source": [
    "## ----------------------------------------------------------------------------------------"
   ]
  },
  {
   "cell_type": "markdown",
   "metadata": {},
   "source": [
    "Given two numbers and an arithmetic operator (the name of it, as a string), return the result of the two numbers having that operator used on them.\n",
    "\n",
    "a and b will both be positive integers, and a will always be the first number in the operation, and b always the second.\n",
    "\n",
    "The four operators are \"add\", \"subtract\", \"divide\", \"multiply\"."
   ]
  },
  {
   "cell_type": "code",
   "execution_count": 8,
   "metadata": {
    "ExecuteTime": {
     "end_time": "2020-09-18T15:07:53.466386Z",
     "start_time": "2020-09-18T15:07:53.462253Z"
    }
   },
   "outputs": [],
   "source": [
    "def arithmetic(a, b, operator):\n",
    "    if operator == \"add\":\n",
    "        return a + b\n",
    "    elif operator == \"subtract\":\n",
    "        return a - b\n",
    "    elif operator == \"multiply\":\n",
    "        return a * b\n",
    "    elif operator == \"divide\":\n",
    "        return a / (b * 1.0)"
   ]
  },
  {
   "cell_type": "code",
   "execution_count": 10,
   "metadata": {
    "ExecuteTime": {
     "end_time": "2020-09-18T15:08:07.698404Z",
     "start_time": "2020-09-18T15:08:07.685894Z"
    }
   },
   "outputs": [
    {
     "data": {
      "text/plain": [
       "25"
      ]
     },
     "execution_count": 10,
     "metadata": {},
     "output_type": "execute_result"
    }
   ],
   "source": [
    "arithmetic(10, 15, \"add\")"
   ]
  },
  {
   "cell_type": "code",
   "execution_count": 11,
   "metadata": {
    "ExecuteTime": {
     "end_time": "2020-09-18T15:10:14.580457Z",
     "start_time": "2020-09-18T15:10:14.575192Z"
    }
   },
   "outputs": [
    {
     "data": {
      "text/plain": [
       "-5"
      ]
     },
     "execution_count": 11,
     "metadata": {},
     "output_type": "execute_result"
    }
   ],
   "source": [
    "arithmetic(10, 15, \"subtract\")"
   ]
  },
  {
   "cell_type": "code",
   "execution_count": 16,
   "metadata": {
    "ExecuteTime": {
     "end_time": "2020-09-18T15:22:48.718079Z",
     "start_time": "2020-09-18T15:22:48.711798Z"
    }
   },
   "outputs": [],
   "source": [
    "from operator import add, mul, sub, truediv\n"
   ]
  },
  {
   "cell_type": "code",
   "execution_count": 17,
   "metadata": {
    "ExecuteTime": {
     "end_time": "2020-09-18T15:22:49.215177Z",
     "start_time": "2020-09-18T15:22:49.210942Z"
    }
   },
   "outputs": [],
   "source": [
    "def arithmetic1(a, b, operator):\n",
    "    ops = {'add': add, 'subtract': sub, 'multiply': mul, 'divide': truediv}\n",
    "    return ops[operator](a, b)"
   ]
  },
  {
   "cell_type": "code",
   "execution_count": 18,
   "metadata": {
    "ExecuteTime": {
     "end_time": "2020-09-18T15:22:49.731015Z",
     "start_time": "2020-09-18T15:22:49.723624Z"
    }
   },
   "outputs": [
    {
     "data": {
      "text/plain": [
       "1.3333333333333333"
      ]
     },
     "execution_count": 18,
     "metadata": {},
     "output_type": "execute_result"
    }
   ],
   "source": [
    "arithmetic1(40, 30, \"divide\")"
   ]
  },
  {
   "cell_type": "code",
   "execution_count": 20,
   "metadata": {
    "ExecuteTime": {
     "end_time": "2020-09-18T15:23:48.237598Z",
     "start_time": "2020-09-18T15:23:48.231205Z"
    }
   },
   "outputs": [
    {
     "data": {
      "text/plain": [
       "1200"
      ]
     },
     "execution_count": 20,
     "metadata": {},
     "output_type": "execute_result"
    }
   ],
   "source": [
    "arithmetic1(40, 30, \"multiply\")"
   ]
  },
  {
   "cell_type": "markdown",
   "metadata": {
    "ExecuteTime": {
     "end_time": "2020-09-18T15:32:04.818091Z",
     "start_time": "2020-09-18T15:32:04.814363Z"
    }
   },
   "source": [
    "## ----------------------------------------------------------------------------------------"
   ]
  },
  {
   "cell_type": "markdown",
   "metadata": {},
   "source": [
    "Write a function named sumDigits which takes a number as input and returns the sum of the absolute value of each of the number's decimal digits."
   ]
  },
  {
   "cell_type": "code",
   "execution_count": 2,
   "metadata": {
    "ExecuteTime": {
     "end_time": "2020-09-18T15:37:04.161089Z",
     "start_time": "2020-09-18T15:37:04.151320Z"
    }
   },
   "outputs": [],
   "source": [
    "def sumDigits(number):\n",
    "    return sum(int(d) for d in str(abs(number)))"
   ]
  },
  {
   "cell_type": "code",
   "execution_count": 3,
   "metadata": {
    "ExecuteTime": {
     "end_time": "2020-09-18T15:37:51.262138Z",
     "start_time": "2020-09-18T15:37:51.248602Z"
    }
   },
   "outputs": [
    {
     "data": {
      "text/plain": [
       "25"
      ]
     },
     "execution_count": 3,
     "metadata": {},
     "output_type": "execute_result"
    }
   ],
   "source": [
    "sumDigits(-236446)"
   ]
  },
  {
   "cell_type": "code",
   "execution_count": 4,
   "metadata": {
    "ExecuteTime": {
     "end_time": "2020-09-18T15:38:11.800924Z",
     "start_time": "2020-09-18T15:38:11.796102Z"
    }
   },
   "outputs": [],
   "source": [
    "def sumDigits(number):\n",
    "    number = abs(number)\n",
    "    return_number = 0\n",
    "    \n",
    "    while number > 0:\n",
    "        return_number += number % 10\n",
    "        number = int(number / 10)\n",
    "        \n",
    "    return return_number"
   ]
  },
  {
   "cell_type": "code",
   "execution_count": 5,
   "metadata": {
    "ExecuteTime": {
     "end_time": "2020-09-18T15:38:22.105034Z",
     "start_time": "2020-09-18T15:38:22.096192Z"
    }
   },
   "outputs": [
    {
     "data": {
      "text/plain": [
       "34"
      ]
     },
     "execution_count": 5,
     "metadata": {},
     "output_type": "execute_result"
    }
   ],
   "source": [
    "sumDigits(4647337)"
   ]
  },
  {
   "cell_type": "code",
   "execution_count": 6,
   "metadata": {
    "ExecuteTime": {
     "end_time": "2020-09-18T15:38:51.068117Z",
     "start_time": "2020-09-18T15:38:51.064696Z"
    }
   },
   "outputs": [],
   "source": [
    "def sumDigits(number):\n",
    "    sum = 0\n",
    "    for s in str(abs(number)):\n",
    "        sum+=int(s)\n",
    "    return sum"
   ]
  },
  {
   "cell_type": "code",
   "execution_count": 8,
   "metadata": {
    "ExecuteTime": {
     "end_time": "2020-09-18T15:42:16.734719Z",
     "start_time": "2020-09-18T15:42:16.728812Z"
    }
   },
   "outputs": [
    {
     "data": {
      "text/plain": [
       "25"
      ]
     },
     "execution_count": 8,
     "metadata": {},
     "output_type": "execute_result"
    }
   ],
   "source": [
    "sumDigits(-5758)"
   ]
  },
  {
   "cell_type": "code",
   "execution_count": 9,
   "metadata": {
    "ExecuteTime": {
     "end_time": "2020-09-18T15:42:34.668312Z",
     "start_time": "2020-09-18T15:42:34.663895Z"
    }
   },
   "outputs": [],
   "source": [
    "def sumDigits(n):\n",
    "    n = n if n > 0 else -n\n",
    "    if n==0: return 0\n",
    "    sum = 0\n",
    "    while n>0:\n",
    "        sum += n%10\n",
    "        n//=10\n",
    "    return sum"
   ]
  },
  {
   "cell_type": "code",
   "execution_count": 10,
   "metadata": {
    "ExecuteTime": {
     "end_time": "2020-09-18T15:42:44.925444Z",
     "start_time": "2020-09-18T15:42:44.911706Z"
    }
   },
   "outputs": [
    {
     "data": {
      "text/plain": [
       "33"
      ]
     },
     "execution_count": 10,
     "metadata": {},
     "output_type": "execute_result"
    }
   ],
   "source": [
    "sumDigits(373839)"
   ]
  },
  {
   "cell_type": "markdown",
   "metadata": {
    "ExecuteTime": {
     "end_time": "2020-09-18T15:47:25.558755Z",
     "start_time": "2020-09-18T15:47:25.550293Z"
    }
   },
   "source": [
    "## ----------------------------------------------------------------------------------------"
   ]
  },
  {
   "cell_type": "markdown",
   "metadata": {},
   "source": [
    "Make a program that filters a list of strings and returns a list with only your friends name in it.\n",
    "\n",
    "If a name has exactly 4 letters in it, you can be sure that it has to be a friend of yours! Otherwise, you can be sure he's not..."
   ]
  },
  {
   "cell_type": "code",
   "execution_count": 11,
   "metadata": {
    "ExecuteTime": {
     "end_time": "2020-09-19T12:49:53.890589Z",
     "start_time": "2020-09-19T12:49:53.887035Z"
    }
   },
   "outputs": [],
   "source": [
    "def friend(x):\n",
    "    #Code\n",
    "    names = []\n",
    "    for name in x:\n",
    "        if len(name) == 4:\n",
    "            names.append(name)\n",
    "    return names"
   ]
  },
  {
   "cell_type": "code",
   "execution_count": 12,
   "metadata": {
    "ExecuteTime": {
     "end_time": "2020-09-19T12:49:54.118178Z",
     "start_time": "2020-09-19T12:49:54.109006Z"
    }
   },
   "outputs": [
    {
     "data": {
      "text/plain": [
       "['sole']"
      ]
     },
     "execution_count": 12,
     "metadata": {},
     "output_type": "execute_result"
    }
   ],
   "source": [
    "friend([\"sole\",\"ciccio\",\"irene\",\"simona\"])"
   ]
  },
  {
   "cell_type": "code",
   "execution_count": 13,
   "metadata": {
    "ExecuteTime": {
     "end_time": "2020-09-19T12:51:59.707918Z",
     "start_time": "2020-09-19T12:51:59.704712Z"
    }
   },
   "outputs": [],
   "source": [
    "def friend(x):\n",
    "    return [i for i in x if len(i) == 4]"
   ]
  },
  {
   "cell_type": "code",
   "execution_count": 14,
   "metadata": {
    "ExecuteTime": {
     "end_time": "2020-09-19T12:52:08.868656Z",
     "start_time": "2020-09-19T12:52:08.862320Z"
    }
   },
   "outputs": [
    {
     "data": {
      "text/plain": [
       "['sole']"
      ]
     },
     "execution_count": 14,
     "metadata": {},
     "output_type": "execute_result"
    }
   ],
   "source": [
    "friend([\"sole\",\"ciccio\",\"irene\",\"simona\"])"
   ]
  },
  {
   "cell_type": "code",
   "execution_count": 8,
   "metadata": {
    "ExecuteTime": {
     "end_time": "2020-09-18T15:55:28.700561Z",
     "start_time": "2020-09-18T15:55:28.697544Z"
    }
   },
   "outputs": [],
   "source": [
    "def friend(x):\n",
    "    return [each for each in x if len(each) == 4]"
   ]
  },
  {
   "cell_type": "markdown",
   "metadata": {
    "ExecuteTime": {
     "end_time": "2020-09-18T15:47:25.558755Z",
     "start_time": "2020-09-18T15:47:25.550293Z"
    }
   },
   "source": [
    "## ----------------------------------------------------------------------------------------"
   ]
  },
  {
   "cell_type": "markdown",
   "metadata": {},
   "source": [
    "Mr. Scrooge has a sum of money 'P' that he wants to invest. Before he does, he wants to know how many years 'Y' this sum 'P' has to be kept in the bank in order for it to amount to a desired sum of money 'D'.\n",
    "\n",
    "The sum is kept for 'Y' years in the bank where interest 'I' is paid yearly. After paying taxes 'T' for the year the new sum is re-invested.\n",
    "\n",
    "Note to Tax: not the invested principal is taxed, but only the year's accrued interest"
   ]
  },
  {
   "cell_type": "code",
   "execution_count": 2,
   "metadata": {
    "ExecuteTime": {
     "end_time": "2020-09-18T17:10:10.484670Z",
     "start_time": "2020-09-18T17:10:10.479862Z"
    }
   },
   "outputs": [],
   "source": [
    "def calculate_years(principal, interest, tax, desired):\n",
    "    years = 0\n",
    "    \n",
    "    while principal < desired:\n",
    "        principal += (interest * principal) * (1 - tax)\n",
    "        years += 1\n",
    "        \n",
    "    return years"
   ]
  },
  {
   "cell_type": "code",
   "execution_count": 4,
   "metadata": {
    "ExecuteTime": {
     "end_time": "2020-09-18T17:10:17.927226Z",
     "start_time": "2020-09-18T17:10:17.915583Z"
    }
   },
   "outputs": [
    {
     "data": {
      "text/plain": [
       "2"
      ]
     },
     "execution_count": 4,
     "metadata": {},
     "output_type": "execute_result"
    }
   ],
   "source": [
    "calculate_years(1000, 10, 30, 1550)"
   ]
  },
  {
   "cell_type": "code",
   "execution_count": 2,
   "metadata": {
    "ExecuteTime": {
     "end_time": "2020-09-19T12:15:05.769689Z",
     "start_time": "2020-09-19T12:15:05.762034Z"
    }
   },
   "outputs": [],
   "source": [
    "def calculate_years(principal, interest, tax, desired):\n",
    "    years = 0\n",
    "    if principal == desired:\n",
    "        return years\n",
    "    while principal < desired:\n",
    "        x = principal * interest\n",
    "        y = x * tax\n",
    "        principal = principal + x - y\n",
    "        years += 1\n",
    "    return years"
   ]
  },
  {
   "cell_type": "code",
   "execution_count": 3,
   "metadata": {
    "ExecuteTime": {
     "end_time": "2020-09-19T12:15:06.268798Z",
     "start_time": "2020-09-19T12:15:06.252192Z"
    }
   },
   "outputs": [
    {
     "data": {
      "text/plain": [
       "2"
      ]
     },
     "execution_count": 3,
     "metadata": {},
     "output_type": "execute_result"
    }
   ],
   "source": [
    "calculate_years(1000, 10, 30, 1550)"
   ]
  },
  {
   "cell_type": "code",
   "execution_count": 4,
   "metadata": {
    "ExecuteTime": {
     "end_time": "2020-09-19T12:31:05.141610Z",
     "start_time": "2020-09-19T12:31:05.133955Z"
    }
   },
   "outputs": [
    {
     "name": "stdout",
     "output_type": "stream",
     "text": [
      "Soledad has 7 characters\n"
     ]
    }
   ],
   "source": [
    "name = 'Soledad'\n",
    "print('Soledad has ' + str(len(name)) + ' characters')"
   ]
  },
  {
   "cell_type": "code",
   "execution_count": 5,
   "metadata": {
    "ExecuteTime": {
     "end_time": "2020-09-19T12:36:55.383458Z",
     "start_time": "2020-09-19T12:36:55.377366Z"
    }
   },
   "outputs": [
    {
     "name": "stdout",
     "output_type": "stream",
     "text": [
      "range(0, 30)\n",
      "30\n"
     ]
    }
   ],
   "source": [
    "school_mates = range(30)\n",
    "print(school_mates)\n",
    "print(len(school_mates))"
   ]
  },
  {
   "cell_type": "code",
   "execution_count": 6,
   "metadata": {
    "ExecuteTime": {
     "end_time": "2020-09-19T12:39:36.282899Z",
     "start_time": "2020-09-19T12:39:36.276747Z"
    }
   },
   "outputs": [
    {
     "name": "stdout",
     "output_type": "stream",
     "text": [
      "[0, 1, 2, 3, 4, 5, 6, 7, 8, 9, 10, 11, 12, 13, 14, 15, 16, 17, 18, 19, 20, 21, 22, 23, 24, 25, 26, 27, 28, 29]\n"
     ]
    }
   ],
   "source": [
    "print(list(school_mates))"
   ]
  },
  {
   "cell_type": "code",
   "execution_count": 7,
   "metadata": {
    "ExecuteTime": {
     "end_time": "2020-09-19T12:41:43.366971Z",
     "start_time": "2020-09-19T12:41:43.319662Z"
    }
   },
   "outputs": [
    {
     "name": "stdout",
     "output_type": "stream",
     "text": [
      "Mate 0\n",
      "Mate 1\n",
      "Mate 2\n",
      "Mate 3\n",
      "Mate 4\n",
      "Mate 5\n",
      "Mate 6\n",
      "Mate 7\n",
      "Mate 8\n",
      "Mate 9\n",
      "Mate 10\n",
      "Mate 11\n",
      "Mate 12\n",
      "Mate 13\n",
      "Mate 14\n",
      "Mate 15\n",
      "Mate 16\n",
      "Mate 17\n",
      "Mate 18\n",
      "Mate 19\n",
      "Mate 20\n",
      "Mate 21\n",
      "Mate 22\n",
      "Mate 23\n",
      "Mate 24\n",
      "Mate 25\n",
      "Mate 26\n",
      "Mate 27\n",
      "Mate 28\n",
      "Mate 29\n"
     ]
    }
   ],
   "source": [
    "for mate in list(school_mates):\n",
    "    print('Mate ' + str(mate))"
   ]
  },
  {
   "cell_type": "code",
   "execution_count": 9,
   "metadata": {
    "ExecuteTime": {
     "end_time": "2020-09-19T12:45:21.903086Z",
     "start_time": "2020-09-19T12:45:21.895583Z"
    }
   },
   "outputs": [
    {
     "name": "stdout",
     "output_type": "stream",
     "text": [
      "34\n",
      "-34\n"
     ]
    }
   ],
   "source": [
    "print(max(-34, -2, -7, -4, 3, 19, 25, 34, 4, 2))\n",
    "print(min(-34, -2, -7, -4, 3, 19, 25, 34, 4, 2))"
   ]
  },
  {
   "cell_type": "code",
   "execution_count": 16,
   "metadata": {
    "ExecuteTime": {
     "end_time": "2020-09-19T13:06:41.807786Z",
     "start_time": "2020-09-19T13:06:41.798086Z"
    }
   },
   "outputs": [
    {
     "name": "stdout",
     "output_type": "stream",
     "text": [
      "[100, 4, 64, 49, 25, 16, 9, 121, 0, 1]\n"
     ]
    }
   ],
   "source": [
    "sequences = [10,2,8,7,5,4,3,11,0, 1]\n",
    "filtered_result = map (lambda x: x*x, sequences) \n",
    "print(list(filtered_result))"
   ]
  },
  {
   "cell_type": "code",
   "execution_count": 17,
   "metadata": {
    "ExecuteTime": {
     "end_time": "2020-09-19T13:07:57.901942Z",
     "start_time": "2020-09-19T13:07:57.896276Z"
    }
   },
   "outputs": [
    {
     "name": "stdout",
     "output_type": "stream",
     "text": [
      "120\n"
     ]
    }
   ],
   "source": [
    "from functools import reduce\n",
    "sequences = [1,2,3,4,5]\n",
    "product = reduce (lambda x, y: x*y, sequences)\n",
    "print(product)\n"
   ]
  },
  {
   "cell_type": "markdown",
   "metadata": {
    "ExecuteTime": {
     "end_time": "2020-09-24T10:41:18.122172Z",
     "start_time": "2020-09-24T10:41:18.116343Z"
    }
   },
   "source": [
    "## ----------------------------------------------------------------------------------------"
   ]
  },
  {
   "cell_type": "markdown",
   "metadata": {},
   "source": [
    "## Exercise 1\n",
    "How many seconds are there in a century?"
   ]
  },
  {
   "cell_type": "code",
   "execution_count": 3,
   "metadata": {
    "ExecuteTime": {
     "end_time": "2020-09-24T10:53:56.237156Z",
     "start_time": "2020-09-24T10:53:56.230787Z"
    }
   },
   "outputs": [
    {
     "data": {
      "text/plain": [
       "3153600000"
      ]
     },
     "execution_count": 3,
     "metadata": {},
     "output_type": "execute_result"
    }
   ],
   "source": [
    "60*60*24*365*100"
   ]
  },
  {
   "cell_type": "markdown",
   "metadata": {
    "ExecuteTime": {
     "end_time": "2020-09-24T11:00:52.775871Z",
     "start_time": "2020-09-24T11:00:52.770702Z"
    }
   },
   "source": [
    "## Exercise 2\n",
    "Write an expression to find the amount of money (as a whole number rounded down to the nearest integer) that each person would get if a one-million dollar lottery was divided equally amongst 436 people."
   ]
  },
  {
   "cell_type": "code",
   "execution_count": 8,
   "metadata": {
    "ExecuteTime": {
     "end_time": "2020-09-24T11:03:16.556097Z",
     "start_time": "2020-09-24T11:03:16.549753Z"
    }
   },
   "outputs": [
    {
     "data": {
      "text/plain": [
       "2293"
      ]
     },
     "execution_count": 8,
     "metadata": {},
     "output_type": "execute_result"
    }
   ],
   "source": [
    "1000000//436"
   ]
  },
  {
   "cell_type": "markdown",
   "metadata": {},
   "source": [
    "## Exercise 3\n",
    "Repeat exercise 2, except use one-trillion dollars. Use the exponentiation operator instead of writing lots of 0's."
   ]
  },
  {
   "cell_type": "code",
   "execution_count": 12,
   "metadata": {
    "ExecuteTime": {
     "end_time": "2020-09-24T11:06:27.924199Z",
     "start_time": "2020-09-24T11:06:27.918452Z"
    }
   },
   "outputs": [
    {
     "data": {
      "text/plain": [
       "2293577981"
      ]
     },
     "execution_count": 12,
     "metadata": {},
     "output_type": "execute_result"
    }
   ],
   "source": [
    "10**12//436"
   ]
  },
  {
   "cell_type": "markdown",
   "metadata": {
    "ExecuteTime": {
     "end_time": "2020-09-24T11:07:37.840318Z",
     "start_time": "2020-09-24T11:07:37.835876Z"
    }
   },
   "source": [
    "## Exercise 4\n",
    "Which is greater: 245 times 99 or 8 raised to the 5th power?"
   ]
  },
  {
   "cell_type": "code",
   "execution_count": 28,
   "metadata": {
    "ExecuteTime": {
     "end_time": "2020-09-24T11:26:48.619830Z",
     "start_time": "2020-09-24T11:26:48.606647Z"
    }
   },
   "outputs": [
    {
     "data": {
      "text/plain": [
       "False"
      ]
     },
     "execution_count": 28,
     "metadata": {},
     "output_type": "execute_result"
    }
   ],
   "source": [
    "245*99>8**5"
   ]
  },
  {
   "cell_type": "markdown",
   "metadata": {},
   "source": [
    "## Exercise 6\n",
    "Used a chained comparison to show that 2 raised to the 10th power is greater than 10 raised to the 3rd power which is greater than 31 squared."
   ]
  },
  {
   "cell_type": "code",
   "execution_count": 1,
   "metadata": {
    "ExecuteTime": {
     "end_time": "2020-09-24T11:43:25.757000Z",
     "start_time": "2020-09-24T11:43:25.738256Z"
    }
   },
   "outputs": [
    {
     "data": {
      "text/plain": [
       "True"
      ]
     },
     "execution_count": 1,
     "metadata": {},
     "output_type": "execute_result"
    }
   ],
   "source": [
    "2**10>10**3>31**2"
   ]
  },
  {
   "cell_type": "markdown",
   "metadata": {
    "ExecuteTime": {
     "end_time": "2020-09-24T11:45:03.130097Z",
     "start_time": "2020-09-24T11:45:03.124244Z"
    }
   },
   "source": [
    "## Exercise 9\n",
    "You purchase a phone for 99 dollars. There is 8 percent sales tax. Compute the total price. Use at least three variables to store the information for this problem. Output all the variables at the same time."
   ]
  },
  {
   "cell_type": "code",
   "execution_count": 9,
   "metadata": {
    "ExecuteTime": {
     "end_time": "2020-09-24T11:50:02.679699Z",
     "start_time": "2020-09-24T11:50:02.675150Z"
    }
   },
   "outputs": [
    {
     "name": "stdout",
     "output_type": "stream",
     "text": [
      "99 0.08 106.92\n"
     ]
    }
   ],
   "source": [
    "phone = 99\n",
    "tax = 0.08\n",
    "phone_price = phone * tax + phone\n",
    "print(phone,tax,phone_price)"
   ]
  },
  {
   "cell_type": "markdown",
   "metadata": {
    "ExecuteTime": {
     "end_time": "2020-09-24T10:41:18.122172Z",
     "start_time": "2020-09-24T10:41:18.116343Z"
    }
   },
   "source": [
    "## ----------------------------------------------------------------------------------------"
   ]
  },
  {
   "cell_type": "markdown",
   "metadata": {},
   "source": [
    "You have to write a function printer_error which given a string will return the error rate of the printer as a string representing a rational whose numerator is the number of errors and the denominator the length of the control string. Don't reduce this fraction to a simpler expression."
   ]
  },
  {
   "cell_type": "code",
   "execution_count": 10,
   "metadata": {
    "ExecuteTime": {
     "end_time": "2020-09-24T15:22:20.450975Z",
     "start_time": "2020-09-24T15:22:20.439355Z"
    }
   },
   "outputs": [],
   "source": [
    "from re import sub\n",
    "def printer_error(s):\n",
    "    return \"{}/{}\".format(len(sub(\"[a-m]\",'',s)),len(s))"
   ]
  },
  {
   "cell_type": "code",
   "execution_count": 12,
   "metadata": {
    "ExecuteTime": {
     "end_time": "2020-09-24T15:23:14.431657Z",
     "start_time": "2020-09-24T15:23:14.427514Z"
    }
   },
   "outputs": [],
   "source": [
    "def printer_error(s):\n",
    "    errors = 0\n",
    "    count = len(s)\n",
    "    for i in s:\n",
    "        if i > \"m\":\n",
    "            errors += 1\n",
    "    return str(errors) + \"/\" + str(count)\n",
    "\n"
   ]
  },
  {
   "cell_type": "markdown",
   "metadata": {},
   "source": [
    "## Exercise 10\n",
    "Concatenate two strings together that both have length greater than 1."
   ]
  },
  {
   "cell_type": "code",
   "execution_count": 13,
   "metadata": {
    "ExecuteTime": {
     "end_time": "2020-09-24T15:25:30.726079Z",
     "start_time": "2020-09-24T15:25:30.719845Z"
    }
   },
   "outputs": [
    {
     "data": {
      "text/plain": [
       "'soledad'"
      ]
     },
     "execution_count": 13,
     "metadata": {},
     "output_type": "execute_result"
    }
   ],
   "source": [
    "\"sole\"+\"dad\""
   ]
  },
  {
   "cell_type": "markdown",
   "metadata": {
    "ExecuteTime": {
     "end_time": "2020-09-24T15:25:48.163212Z",
     "start_time": "2020-09-24T15:25:48.156758Z"
    }
   },
   "source": [
    "## Exercise 11\n",
    "Concatenate a non-empty string to an empty string."
   ]
  },
  {
   "cell_type": "code",
   "execution_count": 15,
   "metadata": {
    "ExecuteTime": {
     "end_time": "2020-09-24T15:26:06.717355Z",
     "start_time": "2020-09-24T15:26:06.706113Z"
    }
   },
   "outputs": [
    {
     "data": {
      "text/plain": [
       "'sole'"
      ]
     },
     "execution_count": 15,
     "metadata": {},
     "output_type": "execute_result"
    }
   ],
   "source": [
    "\"sole\"+\"\""
   ]
  },
  {
   "cell_type": "markdown",
   "metadata": {
    "ExecuteTime": {
     "end_time": "2020-09-24T15:26:30.589961Z",
     "start_time": "2020-09-24T15:26:30.584234Z"
    }
   },
   "source": [
    "## Exercise 12\n",
    "Replace each occurrence of 'in' with 'out' in the following string."
   ]
  },
  {
   "cell_type": "code",
   "execution_count": 17,
   "metadata": {
    "ExecuteTime": {
     "end_time": "2020-09-24T15:30:55.151801Z",
     "start_time": "2020-09-24T15:30:55.143654Z"
    }
   },
   "outputs": [
    {
     "data": {
      "text/plain": [
       "'it is startoutg to raout on the outside'"
      ]
     },
     "execution_count": 17,
     "metadata": {},
     "output_type": "execute_result"
    }
   ],
   "source": [
    "replace_string = 'it is starting to rain on the inside'\n",
    "replace_string.replace(\"in\", \"out\")"
   ]
  },
  {
   "cell_type": "markdown",
   "metadata": {
    "ExecuteTime": {
     "end_time": "2020-09-25T09:35:30.073365Z",
     "start_time": "2020-09-25T09:35:30.006669Z"
    }
   },
   "source": [
    "## Exercise 1\n",
    "Is the following if statement written with correct syntax? If not, why?"
   ]
  },
  {
   "cell_type": "code",
   "execution_count": 2,
   "metadata": {
    "ExecuteTime": {
     "end_time": "2020-09-25T09:38:50.659945Z",
     "start_time": "2020-09-25T09:38:50.648523Z"
    }
   },
   "outputs": [
    {
     "ename": "IndentationError",
     "evalue": "expected an indented block (<ipython-input-2-fe4f05932bc6>, line 3)",
     "output_type": "error",
     "traceback": [
      "\u001b[0;36m  File \u001b[0;32m\"<ipython-input-2-fe4f05932bc6>\"\u001b[0;36m, line \u001b[0;32m3\u001b[0m\n\u001b[0;31m    print('x is positive')\u001b[0m\n\u001b[0m        ^\u001b[0m\n\u001b[0;31mIndentationError\u001b[0m\u001b[0;31m:\u001b[0m expected an indented block\n"
     ]
    }
   ],
   "source": [
    "x = 5\n",
    "if x > 0:\n",
    "print('x is positive')"
   ]
  },
  {
   "cell_type": "code",
   "execution_count": 3,
   "metadata": {
    "ExecuteTime": {
     "end_time": "2020-09-25T09:39:15.019887Z",
     "start_time": "2020-09-25T09:39:15.014259Z"
    }
   },
   "outputs": [],
   "source": [
    "# indetation missing"
   ]
  },
  {
   "cell_type": "markdown",
   "metadata": {},
   "source": [
    "## Exercise 2\n",
    "Is the following if statement written with correct syntax? If not, why?\n",
    "\n",
    "x = 5\n",
    "if x > 0\n",
    "    print('x is positive')"
   ]
  },
  {
   "cell_type": "code",
   "execution_count": 4,
   "metadata": {
    "ExecuteTime": {
     "end_time": "2020-09-25T09:40:00.531581Z",
     "start_time": "2020-09-25T09:40:00.528968Z"
    }
   },
   "outputs": [],
   "source": [
    "# column missing"
   ]
  },
  {
   "cell_type": "markdown",
   "metadata": {},
   "source": [
    "## Exercise 3\n",
    "Create an if statement with a condition that evaluates as True. Use the print function as the only line its code block to print a message to the screen."
   ]
  },
  {
   "cell_type": "code",
   "execution_count": 8,
   "metadata": {
    "ExecuteTime": {
     "end_time": "2020-09-25T10:31:42.070490Z",
     "start_time": "2020-09-25T10:31:42.064964Z"
    }
   },
   "outputs": [
    {
     "name": "stdout",
     "output_type": "stream",
     "text": [
      "X is positive\n"
     ]
    }
   ],
   "source": [
    "x = 34\n",
    "if  x > 6:\n",
    "    print (\"X is positive\")"
   ]
  },
  {
   "cell_type": "markdown",
   "metadata": {
    "ExecuteTime": {
     "end_time": "2020-09-25T10:41:20.852419Z",
     "start_time": "2020-09-25T10:41:20.832875Z"
    }
   },
   "source": [
    "## Exercise 4\n",
    "Change the value of test_string so that the first print function gets triggered."
   ]
  },
  {
   "cell_type": "code",
   "execution_count": 2,
   "metadata": {
    "ExecuteTime": {
     "end_time": "2020-09-25T10:43:44.820428Z",
     "start_time": "2020-09-25T10:43:44.815205Z"
    }
   },
   "outputs": [
    {
     "name": "stdout",
     "output_type": "stream",
     "text": [
      "There are more than 4 a's in your string\n"
     ]
    }
   ],
   "source": [
    "test_string = 'alfalfa tastes alright'\n",
    "if test_string.count('a') > 4:\n",
    "    print(\"There are more than 4 a's in your string\")\n",
    "elif test_string.find('k') > 10:\n",
    "    print(\"The first k occurs after the 11th element\")\n",
    "else:\n",
    "    print(\"No info on your string. Please change it\")"
   ]
  },
  {
   "cell_type": "markdown",
   "metadata": {
    "ExecuteTime": {
     "end_time": "2020-09-25T10:49:56.019547Z",
     "start_time": "2020-09-25T10:49:56.014705Z"
    }
   },
   "source": [
    "## Exercise 5\n",
    "Change the value of test_string so that the second print function gets triggered."
   ]
  },
  {
   "cell_type": "code",
   "execution_count": 4,
   "metadata": {
    "ExecuteTime": {
     "end_time": "2020-09-25T10:55:07.544499Z",
     "start_time": "2020-09-25T10:55:07.538800Z"
    }
   },
   "outputs": [
    {
     "name": "stdout",
     "output_type": "stream",
     "text": [
      "there us 1 h\n"
     ]
    }
   ],
   "source": [
    "test_string = 'alfalfa tastes alright'\n",
    "if test_string.count(\"f\")>9:\n",
    "    print(\"there are a lot of f\")\n",
    "elif test_string.count(\"h\")==1:\n",
    "    print(\"there us 1 h\")\n",
    "else:\n",
    "    print(\"No info on your string. Please change it\")"
   ]
  },
  {
   "cell_type": "markdown",
   "metadata": {
    "ExecuteTime": {
     "end_time": "2020-09-25T10:55:34.330874Z",
     "start_time": "2020-09-25T10:55:34.323733Z"
    }
   },
   "source": [
    "## Exercise 6\n",
    "Assign an integer to x. Then, write an expression that returns True if x is either greater than 10 or divisible by 7."
   ]
  },
  {
   "cell_type": "code",
   "execution_count": 9,
   "metadata": {
    "ExecuteTime": {
     "end_time": "2020-09-25T11:02:22.906184Z",
     "start_time": "2020-09-25T11:02:22.901797Z"
    }
   },
   "outputs": [
    {
     "name": "stdout",
     "output_type": "stream",
     "text": [
      "True\n"
     ]
    }
   ],
   "source": [
    "x= 70\n",
    "if x > 10 or x//7:\n",
    "    print (\"True\")\n",
    "else:\n",
    "    print (\"not True\")\n",
    "    \n",
    "    "
   ]
  },
  {
   "cell_type": "markdown",
   "metadata": {
    "ExecuteTime": {
     "end_time": "2020-09-25T11:02:48.321500Z",
     "start_time": "2020-09-25T11:02:48.303991Z"
    }
   },
   "source": [
    "## Exercise 7\n",
    "Write an expression that returns True if the last character of a string is not 'a'."
   ]
  },
  {
   "cell_type": "code",
   "execution_count": 12,
   "metadata": {
    "ExecuteTime": {
     "end_time": "2020-09-25T11:11:16.725577Z",
     "start_time": "2020-09-25T11:11:16.720747Z"
    }
   },
   "outputs": [
    {
     "name": "stdout",
     "output_type": "stream",
     "text": [
      "True\n"
     ]
    }
   ],
   "source": [
    "name = \"Soledad\"\n",
    "if name[-1]== \"a\":\n",
    "    print (\"False\")\n",
    "else:\n",
    "    print (\"True\")"
   ]
  },
  {
   "cell_type": "code",
   "execution_count": 1,
   "metadata": {
    "ExecuteTime": {
     "end_time": "2020-09-25T11:16:53.819474Z",
     "start_time": "2020-09-25T11:16:53.790727Z"
    }
   },
   "outputs": [
    {
     "data": {
      "text/plain": [
       "True"
      ]
     },
     "execution_count": 1,
     "metadata": {},
     "output_type": "execute_result"
    }
   ],
   "source": [
    "s = 'Soledad'\n",
    "s[-1] != 'a'"
   ]
  },
  {
   "cell_type": "code",
   "execution_count": 2,
   "metadata": {
    "ExecuteTime": {
     "end_time": "2020-09-25T11:17:15.686086Z",
     "start_time": "2020-09-25T11:17:15.679885Z"
    }
   },
   "outputs": [
    {
     "data": {
      "text/plain": [
       "False"
      ]
     },
     "execution_count": 2,
     "metadata": {},
     "output_type": "execute_result"
    }
   ],
   "source": [
    "s.endswith(\"a\")"
   ]
  },
  {
   "cell_type": "markdown",
   "metadata": {},
   "source": [
    "## Exercise 8\n",
    "Write a simple program that determines whether someone has enough money to pay for rent. If they have enough money, print out how much is left in the account. If they don't have enough, print out how much they owe. If they have the exact rent, print out a different message. Test your code with different values of rent."
   ]
  },
  {
   "cell_type": "code",
   "execution_count": 21,
   "metadata": {
    "ExecuteTime": {
     "end_time": "2020-09-25T11:37:28.765426Z",
     "start_time": "2020-09-25T11:37:28.761220Z"
    }
   },
   "outputs": [],
   "source": [
    "def rent_to_pay(rent):\n",
    "    salary = 1000\n",
    "    if rent > salary:\n",
    "        print (\"500 left in the b.a\")\n",
    "    elif rent == salary:\n",
    "        print (\"0 left in b.a\")\n",
    "    else:\n",
    "        print (\"200 to own\")"
   ]
  },
  {
   "cell_type": "code",
   "execution_count": 22,
   "metadata": {
    "ExecuteTime": {
     "end_time": "2020-09-25T11:37:31.035514Z",
     "start_time": "2020-09-25T11:37:31.029066Z"
    }
   },
   "outputs": [
    {
     "name": "stdout",
     "output_type": "stream",
     "text": [
      "500 left in the b.a\n"
     ]
    }
   ],
   "source": [
    "rent_to_pay(10000)"
   ]
  },
  {
   "cell_type": "code",
   "execution_count": 8,
   "metadata": {
    "ExecuteTime": {
     "end_time": "2020-09-25T11:31:19.064670Z",
     "start_time": "2020-09-25T11:31:19.056797Z"
    }
   },
   "outputs": [
    {
     "name": "stdout",
     "output_type": "stream",
     "text": [
      "You can pay rent. You have 190.34 left\n"
     ]
    }
   ],
   "source": [
    "rent = 454.88\n",
    "account = 645.22\n",
    "\n",
    "if account > rent:\n",
    "    print(f'You can pay rent. You have {account - rent:.2f} left')\n",
    "elif account < rent:\n",
    "    print(f'You cannot pay rent. You owe {rent - account:.2f} left')\n",
    "else:\n",
    "    print('You have exactly enough to pay rent. You have 0!')"
   ]
  },
  {
   "cell_type": "markdown",
   "metadata": {
    "ExecuteTime": {
     "end_time": "2020-09-25T11:31:54.089987Z",
     "start_time": "2020-09-25T11:31:54.082340Z"
    }
   },
   "source": [
    "## Exercise 9\n",
    "Use a for-loop to sum up all the numbers from 1 to 1,000."
   ]
  },
  {
   "cell_type": "code",
   "execution_count": 12,
   "metadata": {
    "ExecuteTime": {
     "end_time": "2020-09-25T11:32:47.689793Z",
     "start_time": "2020-09-25T11:32:47.683729Z"
    }
   },
   "outputs": [
    {
     "data": {
      "text/plain": [
       "[1, 2, 3, 4, 5, 6, 7, 8, 9]"
      ]
     },
     "execution_count": 12,
     "metadata": {},
     "output_type": "execute_result"
    }
   ],
   "source": [
    "list(range(1,10))"
   ]
  },
  {
   "cell_type": "code",
   "execution_count": 15,
   "metadata": {
    "ExecuteTime": {
     "end_time": "2020-09-25T11:35:24.690013Z",
     "start_time": "2020-09-25T11:35:24.684160Z"
    }
   },
   "outputs": [
    {
     "data": {
      "text/plain": [
       "500500"
      ]
     },
     "execution_count": 15,
     "metadata": {},
     "output_type": "execute_result"
    }
   ],
   "source": [
    "total=0\n",
    "for i in range(1001):\n",
    "    total +=i\n",
    "total\n",
    "    "
   ]
  },
  {
   "cell_type": "markdown",
   "metadata": {
    "ExecuteTime": {
     "end_time": "2020-09-25T11:43:11.350747Z",
     "start_time": "2020-09-25T11:43:11.339552Z"
    }
   },
   "source": [
    "## Exercise 10\n",
    "Use a for-loop to calculate the mean (average) from the given list of values."
   ]
  },
  {
   "cell_type": "code",
   "execution_count": 25,
   "metadata": {
    "ExecuteTime": {
     "end_time": "2020-09-25T11:46:18.855978Z",
     "start_time": "2020-09-25T11:46:18.850109Z"
    }
   },
   "outputs": [
    {
     "data": {
      "text/plain": [
       "6.0"
      ]
     },
     "execution_count": 25,
     "metadata": {},
     "output_type": "execute_result"
    }
   ],
   "source": [
    "s = [3,4,6,8,9]\n",
    "total = 0\n",
    "for i in s:\n",
    "    total +=i\n",
    "total/len(s)\n",
    "    \n",
    "    "
   ]
  },
  {
   "cell_type": "markdown",
   "metadata": {
    "ExecuteTime": {
     "end_time": "2020-09-28T11:25:07.023224Z",
     "start_time": "2020-09-28T11:25:07.016837Z"
    }
   },
   "source": [
    "## Exercise 5\n",
    "Assign the third item in list a a different value of the same type. Output the list."
   ]
  },
  {
   "cell_type": "code",
   "execution_count": 5,
   "metadata": {
    "ExecuteTime": {
     "end_time": "2020-09-28T11:26:10.770539Z",
     "start_time": "2020-09-28T11:26:10.767305Z"
    }
   },
   "outputs": [],
   "source": [
    "a = [-99, 3.14, True, 'python']"
   ]
  },
  {
   "cell_type": "code",
   "execution_count": 8,
   "metadata": {
    "ExecuteTime": {
     "end_time": "2020-09-28T11:26:52.041088Z",
     "start_time": "2020-09-28T11:26:52.037429Z"
    }
   },
   "outputs": [],
   "source": [
    "a[2]=False"
   ]
  },
  {
   "cell_type": "code",
   "execution_count": 9,
   "metadata": {
    "ExecuteTime": {
     "end_time": "2020-09-28T11:26:52.453788Z",
     "start_time": "2020-09-28T11:26:52.443622Z"
    }
   },
   "outputs": [
    {
     "data": {
      "text/plain": [
       "[-99, 3.14, False, 'python']"
      ]
     },
     "execution_count": 9,
     "metadata": {},
     "output_type": "execute_result"
    }
   ],
   "source": [
    "a"
   ]
  },
  {
   "cell_type": "markdown",
   "metadata": {},
   "source": [
    "## Exercise 12\n",
    "Create a list then use the extend method to add items to it."
   ]
  },
  {
   "cell_type": "code",
   "execution_count": 10,
   "metadata": {
    "ExecuteTime": {
     "end_time": "2020-09-28T11:36:51.227823Z",
     "start_time": "2020-09-28T11:36:51.221109Z"
    }
   },
   "outputs": [
    {
     "data": {
      "text/plain": [
       "[1, 2, 3, 'more', 'items', 'to', 'add']"
      ]
     },
     "execution_count": 10,
     "metadata": {},
     "output_type": "execute_result"
    }
   ],
   "source": [
    "test_list = [1, 2, 3]\n",
    "test_list.extend(['more', 'items', 'to', 'add'])\n",
    "test_list"
   ]
  },
  {
   "cell_type": "markdown",
   "metadata": {
    "ExecuteTime": {
     "end_time": "2020-09-29T11:11:57.731800Z",
     "start_time": "2020-09-29T11:11:57.722161Z"
    }
   },
   "source": [
    "## Exercise 28\n",
    "Assign a float to the variable a that has at least 5 digits to the right of the decimal. Create an f-string that uses left-alignment with a width of 20 and a precision of 2 and uses a fixed-point float. Fill any unused width with the '@' character.\n"
   ]
  },
  {
   "cell_type": "code",
   "execution_count": 13,
   "metadata": {
    "ExecuteTime": {
     "end_time": "2020-09-29T11:12:17.887163Z",
     "start_time": "2020-09-29T11:12:17.872750Z"
    }
   },
   "outputs": [
    {
     "data": {
      "text/plain": [
       "'156.89@@@@@@@@@@@@@@'"
      ]
     },
     "execution_count": 13,
     "metadata": {},
     "output_type": "execute_result"
    }
   ],
   "source": [
    "\n",
    "1\n",
    "a = 156.887347\n",
    "2\n",
    "f'{a:@<20.2f}'\n",
    "'156.89@@@@@@@@@@@@@@'"
   ]
  },
  {
   "cell_type": "markdown",
   "metadata": {
    "ExecuteTime": {
     "end_time": "2020-09-29T11:18:19.158523Z",
     "start_time": "2020-09-29T11:18:19.149759Z"
    }
   },
   "source": [
    "## Exercise 13\n",
    "Create a list of three items and assign it to variable a. Concatenate it to itself 4 times."
   ]
  },
  {
   "cell_type": "code",
   "execution_count": 17,
   "metadata": {
    "ExecuteTime": {
     "end_time": "2020-09-29T11:18:40.530669Z",
     "start_time": "2020-09-29T11:18:40.515335Z"
    }
   },
   "outputs": [
    {
     "data": {
      "text/plain": [
       "[3, 4, 5, 3, 4, 5, 3, 4, 5, 3, 4, 5]"
      ]
     },
     "execution_count": 17,
     "metadata": {},
     "output_type": "execute_result"
    }
   ],
   "source": [
    "a = [3,4,5]\n",
    "a*4"
   ]
  },
  {
   "cell_type": "markdown",
   "metadata": {
    "ExecuteTime": {
     "end_time": "2020-09-29T11:38:30.769655Z",
     "start_time": "2020-09-29T11:38:30.742269Z"
    }
   },
   "source": [
    "## Exercise 11\n",
    "Calculate the sum of the squared values of each of the first 100 positive integers."
   ]
  },
  {
   "cell_type": "code",
   "execution_count": 4,
   "metadata": {
    "ExecuteTime": {
     "end_time": "2020-09-29T11:47:05.094911Z",
     "start_time": "2020-09-29T11:47:05.087371Z"
    }
   },
   "outputs": [],
   "source": [
    "squares = 0\n",
    "for i in range(101):\n",
    "    squares += i ** 2"
   ]
  },
  {
   "cell_type": "code",
   "execution_count": 5,
   "metadata": {
    "ExecuteTime": {
     "end_time": "2020-09-29T11:47:05.711606Z",
     "start_time": "2020-09-29T11:47:05.706765Z"
    }
   },
   "outputs": [
    {
     "data": {
      "text/plain": [
       "338350"
      ]
     },
     "execution_count": 5,
     "metadata": {},
     "output_type": "execute_result"
    }
   ],
   "source": [
    "squares"
   ]
  },
  {
   "cell_type": "markdown",
   "metadata": {
    "ExecuteTime": {
     "end_time": "2020-09-24T10:41:18.122172Z",
     "start_time": "2020-09-24T10:41:18.116343Z"
    }
   },
   "source": [
    "## ----------------------------------------------------------------------------------------"
   ]
  },
  {
   "cell_type": "markdown",
   "metadata": {},
   "source": [
    "In this kata you will create a function that takes a list of non-negative integers and strings and returns a new list with the strings filtered out."
   ]
  },
  {
   "cell_type": "code",
   "execution_count": 8,
   "metadata": {
    "ExecuteTime": {
     "end_time": "2020-10-02T19:06:04.729217Z",
     "start_time": "2020-10-02T19:06:04.724722Z"
    }
   },
   "outputs": [],
   "source": [
    "l = [-2,-3,-4,\"sole\",\"dad\"]"
   ]
  },
  {
   "cell_type": "code",
   "execution_count": 9,
   "metadata": {
    "ExecuteTime": {
     "end_time": "2020-10-02T19:06:05.515953Z",
     "start_time": "2020-10-02T19:06:05.512522Z"
    }
   },
   "outputs": [],
   "source": [
    "def filter_list(l):\n",
    "  'return a new list with the strings filtered out'\n",
    "  return [i for i in l if not isinstance(i, str)]"
   ]
  },
  {
   "cell_type": "code",
   "execution_count": 10,
   "metadata": {
    "ExecuteTime": {
     "end_time": "2020-10-02T19:06:06.197956Z",
     "start_time": "2020-10-02T19:06:06.184500Z"
    }
   },
   "outputs": [
    {
     "data": {
      "text/plain": [
       "[-2, -3, -4]"
      ]
     },
     "execution_count": 10,
     "metadata": {},
     "output_type": "execute_result"
    }
   ],
   "source": [
    "filter_list(l)"
   ]
  },
  {
   "cell_type": "code",
   "execution_count": 12,
   "metadata": {
    "ExecuteTime": {
     "end_time": "2020-10-02T19:07:03.545330Z",
     "start_time": "2020-10-02T19:07:03.530786Z"
    }
   },
   "outputs": [],
   "source": [
    "q = [-24,-56,\"sun\",\"sky\"]"
   ]
  },
  {
   "cell_type": "code",
   "execution_count": 13,
   "metadata": {
    "ExecuteTime": {
     "end_time": "2020-10-02T19:07:04.133134Z",
     "start_time": "2020-10-02T19:07:04.128948Z"
    }
   },
   "outputs": [],
   "source": [
    "def filter_list(q):\n",
    "  'return a new list with the strings filtered out'\n",
    "  return [e for e in l if isinstance(e, int)]"
   ]
  },
  {
   "cell_type": "code",
   "execution_count": 14,
   "metadata": {
    "ExecuteTime": {
     "end_time": "2020-10-02T19:07:31.082379Z",
     "start_time": "2020-10-02T19:07:31.073838Z"
    }
   },
   "outputs": [
    {
     "data": {
      "text/plain": [
       "[-2, -3, -4]"
      ]
     },
     "execution_count": 14,
     "metadata": {},
     "output_type": "execute_result"
    }
   ],
   "source": [
    "filter_list(q)"
   ]
  },
  {
   "cell_type": "markdown",
   "metadata": {
    "ExecuteTime": {
     "end_time": "2020-10-02T19:12:23.554887Z",
     "start_time": "2020-10-02T19:12:23.550414Z"
    }
   },
   "source": [
    "## ----------------------------------------------------------------------------------------"
   ]
  },
  {
   "cell_type": "markdown",
   "metadata": {},
   "source": [
    "Create a function that returns the sum of the two lowest positive numbers given an array of minimum 4 positive integers. No floats or non-positive integers will be passed."
   ]
  },
  {
   "cell_type": "code",
   "execution_count": 3,
   "metadata": {
    "ExecuteTime": {
     "end_time": "2020-10-02T19:29:21.346613Z",
     "start_time": "2020-10-02T19:29:20.926340Z"
    }
   },
   "outputs": [],
   "source": [
    "import numpy as np"
   ]
  },
  {
   "cell_type": "code",
   "execution_count": 4,
   "metadata": {
    "ExecuteTime": {
     "end_time": "2020-10-02T19:29:24.041391Z",
     "start_time": "2020-10-02T19:29:24.038674Z"
    }
   },
   "outputs": [],
   "source": [
    "numbers = np.array([3,4,5,7,8,9])"
   ]
  },
  {
   "cell_type": "code",
   "execution_count": 6,
   "metadata": {
    "ExecuteTime": {
     "end_time": "2020-10-02T19:20:09.772829Z",
     "start_time": "2020-10-02T19:20:09.769060Z"
    }
   },
   "outputs": [],
   "source": [
    "def sum_two_smallest_numbers(numbers):\n",
    "    return sum(sorted(numbers)[:2])"
   ]
  },
  {
   "cell_type": "code",
   "execution_count": 7,
   "metadata": {
    "ExecuteTime": {
     "end_time": "2020-10-02T19:20:22.558625Z",
     "start_time": "2020-10-02T19:20:22.541150Z"
    }
   },
   "outputs": [
    {
     "data": {
      "text/plain": [
       "7"
      ]
     },
     "execution_count": 7,
     "metadata": {},
     "output_type": "execute_result"
    }
   ],
   "source": [
    "sum_two_smallest_numbers(numbers)"
   ]
  },
  {
   "cell_type": "markdown",
   "metadata": {
    "ExecuteTime": {
     "end_time": "2020-10-02T19:21:19.616058Z",
     "start_time": "2020-10-02T19:21:19.613351Z"
    }
   },
   "source": [
    "## ----------------------------------------------------------------------------------------"
   ]
  },
  {
   "cell_type": "code",
   "execution_count": 9,
   "metadata": {
    "ExecuteTime": {
     "end_time": "2020-10-02T19:21:27.395887Z",
     "start_time": "2020-10-02T19:21:27.390806Z"
    }
   },
   "outputs": [],
   "source": [
    "def sum_two_smallest_numbers(numbers):\n",
    "    smallest1 = None\n",
    "    smallest2 = None \n",
    "    for n in numbers: \n",
    "        if not smallest1 or n < smallest1: \n",
    "            smallest2 = smallest1\n",
    "            smallest1 = n \n",
    "        elif not smallest2 or n < smallest2: \n",
    "            smallest2 = n \n",
    "    return smallest1 + smallest2"
   ]
  },
  {
   "cell_type": "markdown",
   "metadata": {
    "ExecuteTime": {
     "end_time": "2020-10-02T19:27:55.147594Z",
     "start_time": "2020-10-02T19:27:55.131190Z"
    }
   },
   "source": [
    "## ----------------------------------------------------------------------------------------"
   ]
  },
  {
   "cell_type": "markdown",
   "metadata": {},
   "source": [
    "Write a function that returns both the minimum and maximum number of the given list/array."
   ]
  },
  {
   "cell_type": "code",
   "execution_count": 7,
   "metadata": {
    "ExecuteTime": {
     "end_time": "2020-10-02T19:32:26.888900Z",
     "start_time": "2020-10-02T19:32:26.881972Z"
    }
   },
   "outputs": [],
   "source": [
    "a = [3,34,567,2,4,5,6,789,12,2,3,45]"
   ]
  },
  {
   "cell_type": "code",
   "execution_count": 10,
   "metadata": {
    "ExecuteTime": {
     "end_time": "2020-10-02T19:32:57.486205Z",
     "start_time": "2020-10-02T19:32:57.482242Z"
    }
   },
   "outputs": [],
   "source": [
    "def min_max(a):\n",
    "  return [min(a), max(a)]"
   ]
  },
  {
   "cell_type": "code",
   "execution_count": 11,
   "metadata": {
    "ExecuteTime": {
     "end_time": "2020-10-02T19:32:58.283012Z",
     "start_time": "2020-10-02T19:32:58.269930Z"
    }
   },
   "outputs": [
    {
     "data": {
      "text/plain": [
       "[2, 789]"
      ]
     },
     "execution_count": 11,
     "metadata": {},
     "output_type": "execute_result"
    }
   ],
   "source": [
    "min_max(a)"
   ]
  },
  {
   "cell_type": "code",
   "execution_count": 12,
   "metadata": {
    "ExecuteTime": {
     "end_time": "2020-10-02T19:33:26.868102Z",
     "start_time": "2020-10-02T19:33:26.861292Z"
    }
   },
   "outputs": [],
   "source": [
    "def min_max(a):\n",
    "  # Too easy, but requires two pases\n",
    "  # return[min(lst), max(lst)]\n",
    "  \n",
    "  # Single pass:\n",
    "  l, u = None, None\n",
    "  for n in lst:\n",
    "      if l is None or n < l:\n",
    "          l = n\n",
    "      if u is None or n > u:\n",
    "          u = n\n",
    "  return [l, u]"
   ]
  },
  {
   "cell_type": "code",
   "execution_count": 13,
   "metadata": {
    "ExecuteTime": {
     "end_time": "2020-10-02T19:34:20.823959Z",
     "start_time": "2020-10-02T19:34:20.819742Z"
    }
   },
   "outputs": [],
   "source": [
    "def min_max(a):\n",
    "  min, max = a[0], a[0]\n",
    "  \n",
    "  for x in a:\n",
    "    if x > max:\n",
    "      max = x\n",
    "    elif x < min:\n",
    "      min = x\n",
    "  \n",
    "  return [min, max]"
   ]
  },
  {
   "cell_type": "code",
   "execution_count": 14,
   "metadata": {
    "ExecuteTime": {
     "end_time": "2020-10-02T19:34:34.105143Z",
     "start_time": "2020-10-02T19:34:34.097187Z"
    }
   },
   "outputs": [
    {
     "data": {
      "text/plain": [
       "[2, 789]"
      ]
     },
     "execution_count": 14,
     "metadata": {},
     "output_type": "execute_result"
    }
   ],
   "source": [
    "min_max(a)"
   ]
  },
  {
   "cell_type": "markdown",
   "metadata": {},
   "source": [
    "## ----------------------------------------------------------------------------------------"
   ]
  },
  {
   "cell_type": "markdown",
   "metadata": {},
   "source": [
    "In this Kata, your function receives an array of integers as input. Your task is to determine whether the numbers are in ascending order. An array is said to be in ascending order if there are no two adjacent integers where the left integer exceeds the right integer in value.\n",
    "\n",
    "For the purposes of this Kata, you may assume that all inputs are valid, i.e. non-empty arrays containing only integers.\n",
    "\n",
    "Note that an array of 1 integer is automatically considered to be sorted in ascending order since all (zero) adjacent pairs of integers satisfy the condition that the left integer does not exceed the right integer in value. An empty list is considered a degenerate case and therefore will not be tested in this Kata - feel free to raise an Issue if you see such a list being tested.\n",
    "\n"
   ]
  },
  {
   "cell_type": "code",
   "execution_count": 15,
   "metadata": {
    "ExecuteTime": {
     "end_time": "2020-10-02T19:45:31.315234Z",
     "start_time": "2020-10-02T19:45:31.312775Z"
    }
   },
   "outputs": [],
   "source": [
    "def in_asc_order(arr):\n",
    "    return arr == sorted(arr)"
   ]
  },
  {
   "cell_type": "code",
   "execution_count": 16,
   "metadata": {
    "ExecuteTime": {
     "end_time": "2020-10-02T19:46:29.421551Z",
     "start_time": "2020-10-02T19:46:29.418458Z"
    }
   },
   "outputs": [],
   "source": [
    "def in_asc_order(arr):\n",
    "    return sorted(arr) == arr"
   ]
  },
  {
   "cell_type": "markdown",
   "metadata": {},
   "source": [
    "## ----------------------------------------------------------------------------------------"
   ]
  },
  {
   "cell_type": "markdown",
   "metadata": {},
   "source": [
    "Write a function that takes an array of strings as an argument and returns a sorted array containing the same strings, ordered from shortest to longest.\n"
   ]
  },
  {
   "cell_type": "code",
   "execution_count": 4,
   "metadata": {
    "ExecuteTime": {
     "end_time": "2020-10-02T19:57:31.708356Z",
     "start_time": "2020-10-02T19:57:31.703804Z"
    }
   },
   "outputs": [],
   "source": [
    "arr = [\"sole\",\"dad\",\"sky\",\"blue\",\"computer\",\"london\"]"
   ]
  },
  {
   "cell_type": "code",
   "execution_count": 3,
   "metadata": {
    "ExecuteTime": {
     "end_time": "2020-10-02T19:57:13.172025Z",
     "start_time": "2020-10-02T19:57:13.168341Z"
    }
   },
   "outputs": [],
   "source": [
    "def sort_by_length(arr):\n",
    "    return sorted(arr, key=len)"
   ]
  },
  {
   "cell_type": "code",
   "execution_count": 6,
   "metadata": {
    "ExecuteTime": {
     "end_time": "2020-10-02T19:57:45.299273Z",
     "start_time": "2020-10-02T19:57:45.285544Z"
    }
   },
   "outputs": [
    {
     "data": {
      "text/plain": [
       "['dad', 'sky', 'sole', 'blue', 'london', 'computer']"
      ]
     },
     "execution_count": 6,
     "metadata": {},
     "output_type": "execute_result"
    }
   ],
   "source": [
    "sort_by_length(arr)"
   ]
  },
  {
   "cell_type": "markdown",
   "metadata": {},
   "source": [
    "Your task is to write function findSum.\n",
    "\n",
    "Upto and including n, this function will return the sum of all multiples of 3 and 5."
   ]
  },
  {
   "cell_type": "code",
   "execution_count": 7,
   "metadata": {
    "ExecuteTime": {
     "end_time": "2020-10-02T20:00:39.507390Z",
     "start_time": "2020-10-02T20:00:39.504448Z"
    }
   },
   "outputs": [],
   "source": [
    "def find(n):\n",
    "    return sum(e for e in range(1, n+1) if e % 3 == 0 or e % 5 == 0)"
   ]
  },
  {
   "cell_type": "markdown",
   "metadata": {},
   "source": [
    "## ----------------------------------------------------------------------------------------"
   ]
  },
  {
   "cell_type": "markdown",
   "metadata": {},
   "source": [
    "## Exercise 3\n",
    "\n",
    "Create a range that defines a sequence of every fourth integer from 100 to, but not including 200."
   ]
  },
  {
   "cell_type": "code",
   "execution_count": 1,
   "metadata": {
    "ExecuteTime": {
     "end_time": "2020-10-06T09:05:57.414170Z",
     "start_time": "2020-10-06T09:05:57.396664Z"
    }
   },
   "outputs": [
    {
     "data": {
      "text/plain": [
       "range(100, 200, 4)"
      ]
     },
     "execution_count": 1,
     "metadata": {},
     "output_type": "execute_result"
    }
   ],
   "source": [
    "range(100, 200, 4)"
   ]
  },
  {
   "cell_type": "markdown",
   "metadata": {},
   "source": [
    "## Exercise 4\n",
    "Create a range that defines a sequence of every 20th integer from 0 to, but not including 200."
   ]
  },
  {
   "cell_type": "code",
   "execution_count": 3,
   "metadata": {
    "ExecuteTime": {
     "end_time": "2020-10-06T09:08:08.804759Z",
     "start_time": "2020-10-06T09:08:08.795428Z"
    }
   },
   "outputs": [
    {
     "data": {
      "text/plain": [
       "[0, 20, 40, 60, 80, 100, 120, 140, 160, 180]"
      ]
     },
     "execution_count": 3,
     "metadata": {},
     "output_type": "execute_result"
    }
   ],
   "source": [
    "list(range(0,200,20))"
   ]
  },
  {
   "cell_type": "markdown",
   "metadata": {
    "ExecuteTime": {
     "end_time": "2020-10-06T09:08:48.215231Z",
     "start_time": "2020-10-06T09:08:48.209896Z"
    }
   },
   "source": [
    "## Exercise 5\n",
    "Is the number 87,649 a member of a sequence defined as every 113th integer from 0 to 100,000"
   ]
  },
  {
   "cell_type": "code",
   "execution_count": 5,
   "metadata": {
    "ExecuteTime": {
     "end_time": "2020-10-06T09:10:03.991600Z",
     "start_time": "2020-10-06T09:10:03.975230Z"
    }
   },
   "outputs": [
    {
     "data": {
      "text/plain": [
       "(False, 649)"
      ]
     },
     "execution_count": 5,
     "metadata": {},
     "output_type": "execute_result"
    }
   ],
   "source": [
    "range(0,100,113) == 87,649 "
   ]
  },
  {
   "cell_type": "code",
   "execution_count": 8,
   "metadata": {
    "ExecuteTime": {
     "end_time": "2020-10-06T09:11:24.131670Z",
     "start_time": "2020-10-06T09:11:24.128658Z"
    }
   },
   "outputs": [],
   "source": [
    "r = range(0,100,113)"
   ]
  },
  {
   "cell_type": "code",
   "execution_count": 9,
   "metadata": {
    "ExecuteTime": {
     "end_time": "2020-10-06T09:11:24.797853Z",
     "start_time": "2020-10-06T09:11:24.785983Z"
    }
   },
   "outputs": [
    {
     "data": {
      "text/plain": [
       "(87, False)"
      ]
     },
     "execution_count": 9,
     "metadata": {},
     "output_type": "execute_result"
    }
   ],
   "source": [
    "87,649 in r"
   ]
  },
  {
   "cell_type": "markdown",
   "metadata": {},
   "source": [
    "## Exercise 6\n",
    "What is the 100th integer from the sequence defined as every 113th integer from 0 to 100,000"
   ]
  },
  {
   "cell_type": "code",
   "execution_count": 14,
   "metadata": {
    "ExecuteTime": {
     "end_time": "2020-10-06T09:20:12.404261Z",
     "start_time": "2020-10-06T09:20:12.400748Z"
    }
   },
   "outputs": [],
   "source": [
    "r = range(0,100000,113)"
   ]
  },
  {
   "cell_type": "code",
   "execution_count": 15,
   "metadata": {
    "ExecuteTime": {
     "end_time": "2020-10-06T09:20:13.124422Z",
     "start_time": "2020-10-06T09:20:13.117078Z"
    }
   },
   "outputs": [
    {
     "data": {
      "text/plain": [
       "11300"
      ]
     },
     "execution_count": 15,
     "metadata": {},
     "output_type": "execute_result"
    }
   ],
   "source": [
    "r[100]"
   ]
  },
  {
   "cell_type": "markdown",
   "metadata": {
    "ExecuteTime": {
     "end_time": "2020-10-06T10:26:33.265067Z",
     "start_time": "2020-10-06T10:26:33.243240Z"
    }
   },
   "source": [
    "## Exercise 9\n",
    "Turn the string s into the integer 4 using two constructors."
   ]
  },
  {
   "cell_type": "code",
   "execution_count": 2,
   "metadata": {
    "ExecuteTime": {
     "end_time": "2020-10-06T10:27:59.282387Z",
     "start_time": "2020-10-06T10:27:59.278291Z"
    }
   },
   "outputs": [],
   "source": [
    "s = \"4.6\""
   ]
  },
  {
   "cell_type": "code",
   "execution_count": 4,
   "metadata": {
    "ExecuteTime": {
     "end_time": "2020-10-06T10:29:29.408554Z",
     "start_time": "2020-10-06T10:29:29.396906Z"
    }
   },
   "outputs": [
    {
     "data": {
      "text/plain": [
       "4"
      ]
     },
     "execution_count": 4,
     "metadata": {},
     "output_type": "execute_result"
    }
   ],
   "source": [
    "int(float(s))"
   ]
  },
  {
   "cell_type": "markdown",
   "metadata": {},
   "source": [
    "## Exercise 12\n",
    "\n",
    "What is the 50th number in the integer sequence that begins at 813 and steps up by 41."
   ]
  },
  {
   "cell_type": "code",
   "execution_count": 9,
   "metadata": {
    "ExecuteTime": {
     "end_time": "2020-10-06T10:33:15.479194Z",
     "start_time": "2020-10-06T10:33:15.462182Z"
    }
   },
   "outputs": [
    {
     "data": {
      "text/plain": [
       "2863"
      ]
     },
     "execution_count": 9,
     "metadata": {},
     "output_type": "execute_result"
    }
   ],
   "source": [
    "b = range(813,10000,41)\n",
    "b[50]"
   ]
  },
  {
   "cell_type": "markdown",
   "metadata": {
    "ExecuteTime": {
     "end_time": "2020-10-06T10:36:05.960013Z",
     "start_time": "2020-10-06T10:36:05.950837Z"
    }
   },
   "source": [
    "## Exercise 3\n",
    "\n",
    "Create an if statement with a condition that evaluates as True. Use the print function as the only line its code block to print a message to the screen."
   ]
  },
  {
   "cell_type": "code",
   "execution_count": 15,
   "metadata": {
    "ExecuteTime": {
     "end_time": "2020-10-06T10:41:48.463060Z",
     "start_time": "2020-10-06T10:41:48.451143Z"
    }
   },
   "outputs": [
    {
     "name": "stdout",
     "output_type": "stream",
     "text": [
      "x is positive\n"
     ]
    }
   ],
   "source": [
    "x = 5\n",
    "if x == 5:\n",
    "    print (\"x is positive\")"
   ]
  },
  {
   "cell_type": "markdown",
   "metadata": {},
   "source": [
    "## Exercise 6\n",
    "\n",
    "Assign an integer to x. Then, write an expression that returns True if x is either greater than 10 or divisible by 7."
   ]
  },
  {
   "cell_type": "code",
   "execution_count": 23,
   "metadata": {
    "ExecuteTime": {
     "end_time": "2020-10-06T10:45:31.690906Z",
     "start_time": "2020-10-06T10:45:31.685689Z"
    }
   },
   "outputs": [
    {
     "name": "stdout",
     "output_type": "stream",
     "text": [
      "True\n"
     ]
    }
   ],
   "source": [
    "x = 28\n",
    "if x> 10 or x // 7:\n",
    "    print (\"True\")"
   ]
  },
  {
   "cell_type": "markdown",
   "metadata": {
    "ExecuteTime": {
     "end_time": "2020-10-06T10:54:08.251635Z",
     "start_time": "2020-10-06T10:54:08.235401Z"
    }
   },
   "source": [
    "## Exercise 7\n",
    "\n",
    "Write an expression that returns True if the last character of a string is not 'a'."
   ]
  },
  {
   "cell_type": "code",
   "execution_count": 25,
   "metadata": {
    "ExecuteTime": {
     "end_time": "2020-10-06T11:03:25.911983Z",
     "start_time": "2020-10-06T11:03:25.907555Z"
    }
   },
   "outputs": [
    {
     "name": "stdout",
     "output_type": "stream",
     "text": [
      "True\n"
     ]
    }
   ],
   "source": [
    "name = \"Soledad\"\n",
    "if name[-1]!= \"a\":\n",
    "    print (\"True\")"
   ]
  },
  {
   "cell_type": "markdown",
   "metadata": {
    "ExecuteTime": {
     "end_time": "2020-10-06T11:06:54.789628Z",
     "start_time": "2020-10-06T11:06:54.777980Z"
    }
   },
   "source": [
    "## Exercise 9\n",
    "\n",
    "Use a for-loop to sum up all the numbers from 1 to 1,000."
   ]
  },
  {
   "cell_type": "code",
   "execution_count": 5,
   "metadata": {
    "ExecuteTime": {
     "end_time": "2020-10-06T11:14:44.837910Z",
     "start_time": "2020-10-06T11:14:44.822257Z"
    }
   },
   "outputs": [
    {
     "data": {
      "text/plain": [
       "500500"
      ]
     },
     "execution_count": 5,
     "metadata": {},
     "output_type": "execute_result"
    }
   ],
   "source": [
    "total = 0\n",
    "for i in range(1,1001):\n",
    "    total += i\n",
    "total"
   ]
  },
  {
   "cell_type": "markdown",
   "metadata": {
    "ExecuteTime": {
     "end_time": "2020-10-06T11:18:04.735583Z",
     "start_time": "2020-10-06T11:18:04.730831Z"
    }
   },
   "source": [
    "## Exercise 10\n",
    "\n",
    "Use a for-loop to calculate the mean (average) from the given list of values."
   ]
  },
  {
   "cell_type": "code",
   "execution_count": 38,
   "metadata": {
    "ExecuteTime": {
     "end_time": "2020-10-06T11:41:10.788858Z",
     "start_time": "2020-10-06T11:41:10.783417Z"
    }
   },
   "outputs": [
    {
     "data": {
      "text/plain": [
       "171.5"
      ]
     },
     "execution_count": 38,
     "metadata": {},
     "output_type": "execute_result"
    }
   ],
   "source": [
    "aver = 0\n",
    "v = [99, 143, 32, 412]\n",
    "for i in v:\n",
    "    aver += i\n",
    "aver/len(v)"
   ]
  },
  {
   "cell_type": "markdown",
   "metadata": {
    "ExecuteTime": {
     "end_time": "2020-10-06T11:42:27.540748Z",
     "start_time": "2020-10-06T11:42:27.534220Z"
    }
   },
   "source": [
    "## Exercise 11\n",
    "\n",
    "Calculate the sum of the squared values of each of the first 100 positive integers."
   ]
  },
  {
   "cell_type": "code",
   "execution_count": 42,
   "metadata": {
    "ExecuteTime": {
     "end_time": "2020-10-06T12:18:05.069980Z",
     "start_time": "2020-10-06T12:18:05.066155Z"
    }
   },
   "outputs": [],
   "source": [
    "total = 0\n",
    "for i in range(101):\n",
    "    total+= i**2\n",
    "    "
   ]
  },
  {
   "cell_type": "code",
   "execution_count": 43,
   "metadata": {
    "ExecuteTime": {
     "end_time": "2020-10-06T12:18:05.754403Z",
     "start_time": "2020-10-06T12:18:05.749670Z"
    }
   },
   "outputs": [
    {
     "data": {
      "text/plain": [
       "338350"
      ]
     },
     "execution_count": 43,
     "metadata": {},
     "output_type": "execute_result"
    }
   ],
   "source": [
    "total"
   ]
  },
  {
   "cell_type": "markdown",
   "metadata": {
    "ExecuteTime": {
     "end_time": "2020-10-06T12:18:28.198233Z",
     "start_time": "2020-10-06T12:18:28.191291Z"
    }
   },
   "source": [
    "## Exercise 12\n",
    "\n",
    "Use a for-loop to iterate over the first 10 positive integers, printing out their squared value only if the value is greater than 50."
   ]
  },
  {
   "cell_type": "code",
   "execution_count": 50,
   "metadata": {
    "ExecuteTime": {
     "end_time": "2020-10-06T13:35:00.353768Z",
     "start_time": "2020-10-06T13:35:00.348211Z"
    }
   },
   "outputs": [
    {
     "name": "stdout",
     "output_type": "stream",
     "text": [
      "64\n",
      "81\n",
      "100\n"
     ]
    }
   ],
   "source": [
    "for i in range(11):\n",
    "    value = i**2\n",
    "    if value > 50:\n",
    "        print (value)\n",
    "    "
   ]
  },
  {
   "cell_type": "markdown",
   "metadata": {
    "ExecuteTime": {
     "end_time": "2020-10-06T13:35:43.442662Z",
     "start_time": "2020-10-06T13:35:43.438051Z"
    }
   },
   "source": [
    "## Exercise 13\n",
    "\n",
    "Use a for-loop to iterate over every 25th positive integer up to 200, appending its squared value to a list."
   ]
  },
  {
   "cell_type": "code",
   "execution_count": 53,
   "metadata": {
    "ExecuteTime": {
     "end_time": "2020-10-06T13:37:21.466270Z",
     "start_time": "2020-10-06T13:37:21.462797Z"
    }
   },
   "outputs": [],
   "source": [
    "a = []\n",
    "for i in range(1,201,25):\n",
    "    a.append(i**2)"
   ]
  },
  {
   "cell_type": "code",
   "execution_count": 54,
   "metadata": {
    "ExecuteTime": {
     "end_time": "2020-10-06T13:37:25.691311Z",
     "start_time": "2020-10-06T13:37:25.684849Z"
    }
   },
   "outputs": [
    {
     "data": {
      "text/plain": [
       "[1, 676, 2601, 5776, 10201, 15876, 22801, 30976]"
      ]
     },
     "execution_count": 54,
     "metadata": {},
     "output_type": "execute_result"
    }
   ],
   "source": [
    "a"
   ]
  },
  {
   "cell_type": "markdown",
   "metadata": {},
   "source": [
    "## Exercise 14\n",
    "\n",
    "Calculate the variance of the following list of values. To calculate the variance, first calculate the mean and assign it to a variable. Then, iterate through each value and find the difference between it and the mean. Square this difference. Finally, sum the squares of all these differences and divide by the total number of values."
   ]
  },
  {
   "cell_type": "code",
   "execution_count": 3,
   "metadata": {},
   "outputs": [],
   "source": [
    "v = [3,4,5,6,7,8,9,2]\n",
    "for i in v:\n",
    "    mean = 0\n",
    "    mean += i\n",
    "m = mean/len(v)"
   ]
  },
  {
   "cell_type": "code",
   "execution_count": 4,
   "metadata": {},
   "outputs": [
    {
     "data": {
      "text/plain": [
       "0.25"
      ]
     },
     "execution_count": 4,
     "metadata": {},
     "output_type": "execute_result"
    }
   ],
   "source": [
    "m"
   ]
  },
  {
   "cell_type": "code",
   "execution_count": 14,
   "metadata": {},
   "outputs": [],
   "source": [
    "for i in v:\n",
    "    diff = []\n",
    "    diff.append(i - m)"
   ]
  },
  {
   "cell_type": "code",
   "execution_count": 15,
   "metadata": {},
   "outputs": [
    {
     "data": {
      "text/plain": [
       "[1.75]"
      ]
     },
     "execution_count": 15,
     "metadata": {},
     "output_type": "execute_result"
    }
   ],
   "source": [
    "diff"
   ]
  },
  {
   "cell_type": "markdown",
   "metadata": {},
   "source": [
    "## Exercise 15\n",
    "\n",
    "Use a for-loop to iterate over every integer from 100 to 999. Assign the first and last digits to variables (Hint: use integer division and the modulus operator). Create a list of only the numbers where the first digit is exactly 7 more than the last digit. Output the first and last 5 numbers of this list to verify that it is correct."
   ]
  },
  {
   "cell_type": "code",
   "execution_count": 28,
   "metadata": {},
   "outputs": [
    {
     "data": {
      "text/plain": [
       "[700, 710, 720, 730, 740]"
      ]
     },
     "execution_count": 28,
     "metadata": {},
     "output_type": "execute_result"
    }
   ],
   "source": [
    "a = []\n",
    "for i in range(100, 1000):\n",
    "    first = i//100\n",
    "    last = i % 10\n",
    "    if first == last + 7:\n",
    "        a.append(i)\n",
    "a[:5]"
   ]
  },
  {
   "cell_type": "markdown",
   "metadata": {},
   "source": [
    "## Exercise 16\n",
    "\n",
    "Use a while loop to find the sum of all integers between 0 and a given integer x. Output result."
   ]
  },
  {
   "cell_type": "code",
   "execution_count": 33,
   "metadata": {},
   "outputs": [
    {
     "data": {
      "text/plain": [
       "210"
      ]
     },
     "execution_count": 33,
     "metadata": {},
     "output_type": "execute_result"
    }
   ],
   "source": [
    "x = 20\n",
    "total = 0\n",
    "while x > 0:\n",
    "    total += x\n",
    "    x -= 1\n",
    "total"
   ]
  },
  {
   "cell_type": "markdown",
   "metadata": {},
   "source": [
    "## Exercise 17\n",
    "\n",
    "Assign 'x' a positive integer. Use a while loop to find the sum of all integers between half of x and x."
   ]
  },
  {
   "cell_type": "code",
   "execution_count": 1,
   "metadata": {
    "ExecuteTime": {
     "end_time": "2020-10-06T15:37:15.736574Z",
     "start_time": "2020-10-06T15:37:15.719799Z"
    }
   },
   "outputs": [
    {
     "data": {
      "text/plain": [
       "92"
      ]
     },
     "execution_count": 1,
     "metadata": {},
     "output_type": "execute_result"
    }
   ],
   "source": [
    "x = 15\n",
    "half = x / 2\n",
    "total = 0\n",
    "while x >= half:\n",
    "    total += x\n",
    "    x -= 1\n",
    "total"
   ]
  },
  {
   "cell_type": "markdown",
   "metadata": {},
   "source": [
    "## Exercise 18\n",
    "\n",
    "Use nested for-loops in this exercise. Write an outer for-loop to iterate over the integers 0 through 9. Within this for-loop, write an inner for-loop to iterate over the integers 0 through 4. Create two separate variables to count the total number of iterations for each loop and output their values. Is it what you expect?"
   ]
  },
  {
   "cell_type": "code",
   "execution_count": 3,
   "metadata": {
    "ExecuteTime": {
     "end_time": "2020-10-06T15:45:05.959263Z",
     "start_time": "2020-10-06T15:45:05.953521Z"
    }
   },
   "outputs": [
    {
     "data": {
      "text/plain": [
       "(10, 50)"
      ]
     },
     "execution_count": 3,
     "metadata": {},
     "output_type": "execute_result"
    }
   ],
   "source": [
    "count_outer = 0\n",
    "count_inner = 0\n",
    "for i in range(10):\n",
    "    count_outer += 1\n",
    "    for j in range (5):\n",
    "        count_inner +=1\n",
    "count_outer,count_inner"
   ]
  },
  {
   "cell_type": "markdown",
   "metadata": {},
   "source": [
    "## Exercise 19\n",
    "\n",
    "A well-known property of right triangles is that the hypotenuse squared equals the sum of the squares of the other two sides. This is known as the Pythagorean theorem and is usually written as  𝑎2+𝑏2=𝑐2 . A Pythagorean triple is a set of three integers that satisfy the theorem. For instance, 3, 4, and 5 are a Pythagorean triple as 9 + 16 = 25. Can you find all the Pythagorean triples where all sides are less than 20."
   ]
  },
  {
   "cell_type": "code",
   "execution_count": 5,
   "metadata": {
    "ExecuteTime": {
     "end_time": "2020-10-07T08:21:20.541639Z",
     "start_time": "2020-10-07T08:21:20.514841Z"
    }
   },
   "outputs": [
    {
     "name": "stdout",
     "output_type": "stream",
     "text": [
      "3 4 5\n",
      "4 3 5\n",
      "5 12 13\n",
      "6 8 10\n",
      "8 6 10\n",
      "8 15 17\n",
      "9 12 15\n",
      "12 5 13\n",
      "12 9 15\n",
      "15 8 17\n"
     ]
    }
   ],
   "source": [
    "for a in range (1,20):\n",
    "    for b in range (1,20):\n",
    "        for c in range(1,20):\n",
    "            if a**2+b**2 == c**2:\n",
    "                print (a,b,c)"
   ]
  },
  {
   "cell_type": "markdown",
   "metadata": {},
   "source": [
    "## Exercise 20\n",
    "\n",
    "When rolling two dice, there are six combinations that make a total of 7 and two combinations that make a total of 11. Theoretically, 7 should be rolled three times as often as 11 (6 vs 2 combinations). Simulate the rolling of 1,000 dice to verify that this ratio is likely correct"
   ]
  },
  {
   "cell_type": "code",
   "execution_count": 15,
   "metadata": {
    "ExecuteTime": {
     "end_time": "2020-10-07T09:22:25.731525Z",
     "start_time": "2020-10-07T09:22:25.720287Z"
    }
   },
   "outputs": [
    {
     "name": "stdout",
     "output_type": "stream",
     "text": [
      "7 is rolled:168 ,11 is rolled:61\n"
     ]
    }
   ],
   "source": [
    "import random\n",
    "count_7 = 0\n",
    "count_11 = 0\n",
    "for i in range(1,1001):\n",
    "        total = random.randint(1, 6) + random.randint(1, 6)\n",
    "        if total == 7:\n",
    "            count_7  1\n",
    "        if total == 11:\n",
    "            count_11 += 1\n",
    "print (f\"7 is rolled:{count_7} ,11 is rolled:{count_11}\")\n",
    "    "
   ]
  },
  {
   "cell_type": "markdown",
   "metadata": {
    "ExecuteTime": {
     "end_time": "2020-10-07T09:57:04.487101Z",
     "start_time": "2020-10-07T09:57:04.471992Z"
    }
   },
   "source": [
    "## Exercise 21\n",
    "\n",
    "Create a simulation to estimate the average number of rolls of two dice it takes until you get a total of 7 or 11. This will require nested loops."
   ]
  },
  {
   "cell_type": "code",
   "execution_count": 3,
   "metadata": {
    "ExecuteTime": {
     "end_time": "2020-10-07T10:11:01.106271Z",
     "start_time": "2020-10-07T10:11:01.086915Z"
    }
   },
   "outputs": [
    {
     "name": "stdout",
     "output_type": "stream",
     "text": [
      "Estimated Average 4.514\n"
     ]
    }
   ],
   "source": [
    "import random\n",
    "rolls = 0\n",
    "n = 1000\n",
    "for i in range(n):\n",
    "    count = 0\n",
    "    while True:\n",
    "        count += 1\n",
    "        total = random.randint(1, 6) + random.randint(1, 6)\n",
    "        if total in [7, 11]:\n",
    "            rolls += count\n",
    "            break\n",
    "        \n",
    "print(f\"Estimated Average {rolls / n}\")"
   ]
  },
  {
   "cell_type": "markdown",
   "metadata": {},
   "source": [
    "## Exercise 24\n",
    "\n",
    "Use a list comprehension to create a list that divides each of the integers 0 through 9 by 4."
   ]
  },
  {
   "cell_type": "code",
   "execution_count": 4,
   "metadata": {
    "ExecuteTime": {
     "end_time": "2020-10-07T10:30:12.487071Z",
     "start_time": "2020-10-07T10:30:12.472802Z"
    }
   },
   "outputs": [
    {
     "data": {
      "text/plain": [
       "[0.0, 0.25, 0.5, 0.75, 1.0, 1.25, 1.5, 1.75, 2.0, 2.25]"
      ]
     },
     "execution_count": 4,
     "metadata": {},
     "output_type": "execute_result"
    }
   ],
   "source": [
    "[x/4 for x in range(10)]"
   ]
  },
  {
   "cell_type": "markdown",
   "metadata": {},
   "source": [
    "## Exercise 1\n",
    "\n",
    "Create three different variables with three different data types then use the type function to verify that the types are indeed different"
   ]
  },
  {
   "cell_type": "code",
   "execution_count": 8,
   "metadata": {
    "ExecuteTime": {
     "end_time": "2020-10-07T10:50:53.297057Z",
     "start_time": "2020-10-07T10:50:53.290689Z"
    }
   },
   "outputs": [
    {
     "data": {
      "text/plain": [
       "(bool, int, float)"
      ]
     },
     "execution_count": 8,
     "metadata": {},
     "output_type": "execute_result"
    }
   ],
   "source": [
    "a = True\n",
    "b = 4\n",
    "c = 4.5\n",
    "\n",
    "type(a), type(b), type(c)"
   ]
  },
  {
   "cell_type": "markdown",
   "metadata": {},
   "source": [
    "So, essentially, we can use continue to skip operation on elements and code below continue. We can then use break when we have a condition that tells us we want to stop the process altogether.\n",
    "\n"
   ]
  },
  {
   "cell_type": "markdown",
   "metadata": {},
   "source": [
    "## ----------------------------------------------------------------------------------------"
   ]
  },
  {
   "cell_type": "markdown",
   "metadata": {},
   "source": [
    "While loop execises"
   ]
  },
  {
   "cell_type": "code",
   "execution_count": 9,
   "metadata": {
    "ExecuteTime": {
     "end_time": "2020-10-12T10:28:44.478738Z",
     "start_time": "2020-10-12T10:28:44.442575Z"
    }
   },
   "outputs": [
    {
     "name": "stdout",
     "output_type": "stream",
     "text": [
      "Another slice eaten!\n",
      "Now eaten 1 slices!\n",
      "Another slice eaten!\n",
      "Now eaten 2 slices!\n",
      "Another slice eaten!\n",
      "Now eaten 3 slices!\n",
      "Another slice eaten!\n",
      "Now eaten 4 slices!\n",
      "Another slice eaten!\n",
      "Now eaten 5 slices!\n",
      "Another slice eaten!\n",
      "Now eaten 6 slices!\n"
     ]
    }
   ],
   "source": [
    "slices_of_pie = 6\n",
    "slices_eaten = 0\n",
    "\n",
    "for slice in range(slices_of_pie):\n",
    "    print('Another slice eaten!')\n",
    "    slices_eaten += 1\n",
    "    print('Now eaten {} slices!'.format(slices_eaten))"
   ]
  },
  {
   "cell_type": "code",
   "execution_count": 15,
   "metadata": {
    "ExecuteTime": {
     "end_time": "2020-10-12T11:36:29.941791Z",
     "start_time": "2020-10-12T11:36:29.935475Z"
    }
   },
   "outputs": [
    {
     "name": "stdout",
     "output_type": "stream",
     "text": [
      "Another slice eaten!\n",
      "Now eaten 1 slices!\n",
      "Another slice eaten!\n",
      "Now eaten 2 slices!\n",
      "Another slice eaten!\n",
      "Now eaten 3 slices!\n",
      "Another slice eaten!\n",
      "Now eaten 4 slices!\n",
      "Another slice eaten!\n",
      "Now eaten 5 slices!\n",
      "Another slice eaten!\n",
      "Now eaten 6 slices!\n"
     ]
    }
   ],
   "source": [
    "slices_of_pie = 6\n",
    "slices_eaten = 0\n",
    "\n",
    "while slices_eaten < slices_of_pie:\n",
    "    print('Another slice eaten!')\n",
    "    slices_eaten += 1\n",
    "    print (\"Now eaten {} slices!\".format(slices_eaten))"
   ]
  },
  {
   "cell_type": "markdown",
   "metadata": {
    "ExecuteTime": {
     "end_time": "2020-10-12T11:36:53.903967Z",
     "start_time": "2020-10-12T11:36:53.897344Z"
    }
   },
   "source": [
    "## ----------------------------------------------------------------------------------------"
   ]
  },
  {
   "cell_type": "markdown",
   "metadata": {},
   "source": [
    "Agnes has 1468 seconds allotted for breakfast today\n",
    "Agnes will be making herself 5 pancakes\n",
    "Each pancake takes 27 seconds to cook on each side\n",
    "It takes an average of 5 seconds to either flip a pancake, add it or remove it from the pan\n",
    "There is only room for one pancake at a time on the frying pan\n",
    "Remember there are two sides to every pancake!\n",
    "After Agnes cooks the 5 pancakes, how much time will she have left over to eat them? Use a while loop to find out below"
   ]
  },
  {
   "cell_type": "code",
   "execution_count": 21,
   "metadata": {
    "ExecuteTime": {
     "end_time": "2020-10-12T12:01:29.084520Z",
     "start_time": "2020-10-12T12:01:29.077944Z"
    }
   },
   "outputs": [
    {
     "data": {
      "text/plain": [
       "1123"
      ]
     },
     "execution_count": 21,
     "metadata": {},
     "output_type": "execute_result"
    }
   ],
   "source": [
    "time_for_breakfast = 1468 \n",
    "number_of_cooked_pancakes = 0\n",
    "\n",
    "while time_for_breakfast > 0 and number_of_cooked_pancakes < 5:\n",
    "    \n",
    "    time_for_breakfast -= sum([5,27,5,27,5]) \n",
    "    number_of_cooked_pancakes += 1\n",
    "time_for_breakfast\n",
    "    "
   ]
  },
  {
   "cell_type": "code",
   "execution_count": 22,
   "metadata": {
    "ExecuteTime": {
     "end_time": "2020-10-12T12:01:37.170414Z",
     "start_time": "2020-10-12T12:01:37.167165Z"
    }
   },
   "outputs": [],
   "source": [
    "  time_for_breakfast -= sum([5,27,5,27,5]) "
   ]
  },
  {
   "cell_type": "code",
   "execution_count": 23,
   "metadata": {
    "ExecuteTime": {
     "end_time": "2020-10-12T12:01:42.646157Z",
     "start_time": "2020-10-12T12:01:42.639948Z"
    }
   },
   "outputs": [
    {
     "data": {
      "text/plain": [
       "1054"
      ]
     },
     "execution_count": 23,
     "metadata": {},
     "output_type": "execute_result"
    }
   ],
   "source": [
    "  time_for_breakfast"
   ]
  },
  {
   "cell_type": "code",
   "execution_count": 24,
   "metadata": {
    "ExecuteTime": {
     "end_time": "2020-10-12T12:02:57.953630Z",
     "start_time": "2020-10-12T12:02:57.948244Z"
    }
   },
   "outputs": [
    {
     "data": {
      "text/plain": [
       "69"
      ]
     },
     "execution_count": 24,
     "metadata": {},
     "output_type": "execute_result"
    }
   ],
   "source": [
    "sum([5,27,5,27,5])"
   ]
  },
  {
   "cell_type": "code",
   "execution_count": 25,
   "metadata": {
    "ExecuteTime": {
     "end_time": "2020-10-12T12:03:37.333902Z",
     "start_time": "2020-10-12T12:03:37.319799Z"
    }
   },
   "outputs": [
    {
     "data": {
      "text/plain": [
       "1399"
      ]
     },
     "execution_count": 25,
     "metadata": {},
     "output_type": "execute_result"
    }
   ],
   "source": [
    "1468 - sum([5,27,5,27,5]) "
   ]
  },
  {
   "cell_type": "code",
   "execution_count": 1,
   "metadata": {},
   "outputs": [
    {
     "data": {
      "text/plain": [
       "270"
      ]
     },
     "execution_count": 1,
     "metadata": {},
     "output_type": "execute_result"
    }
   ],
   "source": [
    "270"
   ]
  },
  {
   "cell_type": "markdown",
   "metadata": {},
   "source": [
    "## For Loops\n",
    "Fast forward 5 years, and Agnes has become an international competitive eating superstar. Using her starpower, she decides to open up a restaurant chain. As part of a promotional deal, at a grand opening, she tells her fans that if they are part of the first 30 people to the restaurant, there is a 50% chance that they'll receive free food. Agnes executes this by giving each of the first 30 people a number ranging from 0-29. All people who have an even number will receive free food, and all those with odd numbers will sadly remain hungry. Use a while loop to create two lists below of:"
   ]
  },
  {
   "cell_type": "code",
   "execution_count": 5,
   "metadata": {},
   "outputs": [
    {
     "name": "stdout",
     "output_type": "stream",
     "text": [
      "Those hungry: [1, 3, 5, 7, 9, 11, 13, 15, 17, 19, 21, 23, 25, 27, 29]\n",
      "Those fed: [0, 2, 4, 6, 8, 10, 12, 14, 16, 18, 20, 22, 24, 26, 28]\n"
     ]
    }
   ],
   "source": [
    "line_of_hungry_patrons = list(range(0,30))\n",
    "fed_patrons = []\n",
    "for patron in line_of_hungry_patrons:\n",
    "    if patron % 2 == 0:\n",
    "        line_of_hungry_patrons.remove(patron)\n",
    "        fed_patrons.append(patron)\n",
    "print('Those hungry:', line_of_hungry_patrons)\n",
    "print('Those fed:', fed_patrons)"
   ]
  },
  {
   "cell_type": "markdown",
   "metadata": {},
   "source": [
    "## Break And continue Statements"
   ]
  },
  {
   "cell_type": "code",
   "execution_count": 1,
   "metadata": {},
   "outputs": [],
   "source": [
    "people = [\n",
    "    {'name': \"Daniel\", 'age': 29, 'job': \"Engineer\", 'pet': \"Cat\", 'pet_name': \"Gato\"}, \n",
    "    {'name': \"Katie\", 'age': 30, 'job': \"Teacher\", 'pet': \"Dog\", 'pet_name': \"Frank\"},\n",
    "    {'name': \"Owen\", 'age': 26, 'job': \"Sales person\", 'pet': \"Cat\", 'pet_name': \"Cosmo\"},\n",
    "    {'name': \"Josh\", 'age': 22, 'job': \"Student\", 'pet': \"Cat\", 'pet_name': \"Chat\"},\n",
    "    {'name': \"Estelle\", 'age': 35, 'job': \"French Diplomat\", 'pet': \"Dog\", 'pet_name': \"Gabby\"},\n",
    "    {'name': \"Gustav\", 'age': 24, 'job': \"Brewer\", 'pet': \"Dog\", 'pet_name': \"Helen\"}\n",
    "]"
   ]
  },
  {
   "cell_type": "markdown",
   "metadata": {},
   "source": [
    "Use a for loop to find the first person in the list of people that has a dog as their pet. The iteration count shouldn't exceed 2. In your loop add a print statement that says"
   ]
  },
  {
   "cell_type": "markdown",
   "metadata": {},
   "source": [
    " \"{person} has a dog! Had to check {number} of records to find a dog owner.\""
   ]
  },
  {
   "cell_type": "code",
   "execution_count": 3,
   "metadata": {},
   "outputs": [
    {
     "name": "stdout",
     "output_type": "stream",
     "text": [
      "Katie has a dog! Had to check 2 records to find a dog owner.\n"
     ]
    }
   ],
   "source": [
    "first_dog_person = None\n",
    "iteration_count = 0\n",
    "for person in people:\n",
    "    iteration_count += 1\n",
    "    if person['pet'] == 'Dog':\n",
    "        print('{} has a dog! Had to check {} records to find a dog owner.'.format(person['name'], iteration_count))\n",
    "        break"
   ]
  },
  {
   "cell_type": "markdown",
   "metadata": {},
   "source": [
    "Now, use a for loop to create a list of all the cat owners who are under the age of 28."
   ]
  },
  {
   "cell_type": "code",
   "execution_count": 12,
   "metadata": {},
   "outputs": [
    {
     "data": {
      "text/plain": [
       "[{'name': 'Owen',\n",
       "  'age': 26,\n",
       "  'job': 'Sales person',\n",
       "  'pet': 'Cat',\n",
       "  'pet_name': 'Cosmo'},\n",
       " {'name': 'Josh',\n",
       "  'age': 22,\n",
       "  'job': 'Student',\n",
       "  'pet': 'Cat',\n",
       "  'pet_name': 'Chat'}]"
      ]
     },
     "execution_count": 12,
     "metadata": {},
     "output_type": "execute_result"
    }
   ],
   "source": [
    "cat_owner = []\n",
    "for person in people:\n",
    "    if person[\"pet\"]== \"Cat\" and person[\"age\"]< 28:\n",
    "        cat_owner.append(person)\n",
    "cat_owner "
   ]
  }
 ],
 "metadata": {
  "kernelspec": {
   "display_name": "Python [conda env:learn-env] *",
   "language": "python",
   "name": "conda-env-learn-env-py"
  },
  "language_info": {
   "codemirror_mode": {
    "name": "ipython",
    "version": 3
   },
   "file_extension": ".py",
   "mimetype": "text/x-python",
   "name": "python",
   "nbconvert_exporter": "python",
   "pygments_lexer": "ipython3",
   "version": "3.6.6"
  }
 },
 "nbformat": 4,
 "nbformat_minor": 2
}
