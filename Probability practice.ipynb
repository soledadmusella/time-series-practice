{
 "cells": [
  {
   "cell_type": "code",
   "execution_count": 2,
   "metadata": {
    "ExecuteTime": {
     "end_time": "2020-08-01T14:04:10.684273Z",
     "start_time": "2020-08-01T14:04:10.681006Z"
    }
   },
   "outputs": [],
   "source": [
    "roll_dice = set([1,2,3,4,5,6])"
   ]
  },
  {
   "cell_type": "code",
   "execution_count": 3,
   "metadata": {
    "ExecuteTime": {
     "end_time": "2020-08-01T14:04:10.876439Z",
     "start_time": "2020-08-01T14:04:10.860203Z"
    }
   },
   "outputs": [
    {
     "data": {
      "text/plain": [
       "{1, 2, 3, 4, 5, 6}"
      ]
     },
     "execution_count": 3,
     "metadata": {},
     "output_type": "execute_result"
    }
   ],
   "source": [
    "roll_dice"
   ]
  },
  {
   "cell_type": "markdown",
   "metadata": {},
   "source": [
    "Check the probability to throw a number higher than 4  "
   ]
  },
  {
   "cell_type": "code",
   "execution_count": 4,
   "metadata": {
    "ExecuteTime": {
     "end_time": "2020-08-01T14:04:11.182502Z",
     "start_time": "2020-08-01T14:04:11.179279Z"
    }
   },
   "outputs": [],
   "source": [
    "event = set([5,6])"
   ]
  },
  {
   "cell_type": "code",
   "execution_count": 5,
   "metadata": {
    "ExecuteTime": {
     "end_time": "2020-08-01T14:04:11.342947Z",
     "start_time": "2020-08-01T14:04:11.338909Z"
    }
   },
   "outputs": [],
   "source": [
    "prob_5_6 = len(event)/len(roll_dice)"
   ]
  },
  {
   "cell_type": "code",
   "execution_count": 6,
   "metadata": {
    "ExecuteTime": {
     "end_time": "2020-08-01T14:04:11.527747Z",
     "start_time": "2020-08-01T14:04:11.521794Z"
    }
   },
   "outputs": [
    {
     "data": {
      "text/plain": [
       "0.3333333333333333"
      ]
     },
     "execution_count": 6,
     "metadata": {},
     "output_type": "execute_result"
    }
   ],
   "source": [
    "prob_5_6"
   ]
  },
  {
   "cell_type": "code",
   "execution_count": 7,
   "metadata": {
    "ExecuteTime": {
     "end_time": "2020-08-01T14:04:11.997489Z",
     "start_time": "2020-08-01T14:04:11.683009Z"
    }
   },
   "outputs": [],
   "source": [
    "import numpy as np"
   ]
  },
  {
   "cell_type": "code",
   "execution_count": 8,
   "metadata": {
    "ExecuteTime": {
     "end_time": "2020-08-01T14:04:12.021066Z",
     "start_time": "2020-08-01T14:04:11.999498Z"
    }
   },
   "outputs": [],
   "source": [
    "# getting a random value between 1 and 6"
   ]
  },
  {
   "cell_type": "code",
   "execution_count": 9,
   "metadata": {
    "ExecuteTime": {
     "end_time": "2020-08-01T14:04:12.040787Z",
     "start_time": "2020-08-01T14:04:12.032616Z"
    }
   },
   "outputs": [
    {
     "data": {
      "text/plain": [
       "5"
      ]
     },
     "execution_count": 9,
     "metadata": {},
     "output_type": "execute_result"
    }
   ],
   "source": [
    "np.random.randint(1,7)"
   ]
  },
  {
   "cell_type": "code",
   "execution_count": 10,
   "metadata": {
    "ExecuteTime": {
     "end_time": "2020-08-01T14:04:12.197043Z",
     "start_time": "2020-08-01T14:04:12.181773Z"
    }
   },
   "outputs": [],
   "source": [
    "sample_dice = np.array([(1, 1), (1, 2), (1, 3), (1, 4), (1, 5), (1, 6),\n",
    "              (2, 1), (2, 2), (2, 3), (2, 4), (2, 5), (2, 6),\n",
    "              (3, 1), (3, 2), (3, 3), (3, 4), (3, 5), (3, 6),\n",
    "              (4, 1), (4, 2), (4, 3), (4, 4), (4, 5), (4, 6),\n",
    "              (5, 1), (5, 2), (5, 3), (5, 4), (5, 5), (5, 6),\n",
    "              (6, 1), (6, 2), (6, 3), (6, 4), (6, 5), (6, 6)])"
   ]
  },
  {
   "cell_type": "code",
   "execution_count": 11,
   "metadata": {
    "ExecuteTime": {
     "end_time": "2020-08-01T14:04:12.360101Z",
     "start_time": "2020-08-01T14:04:12.351207Z"
    }
   },
   "outputs": [
    {
     "data": {
      "text/plain": [
       "(36, 2)"
      ]
     },
     "execution_count": 11,
     "metadata": {},
     "output_type": "execute_result"
    }
   ],
   "source": [
    "sample_dice.shape"
   ]
  },
  {
   "cell_type": "markdown",
   "metadata": {},
   "source": [
    " What is the probability of throwing a 5 at least once?"
   ]
  },
  {
   "cell_type": "code",
   "execution_count": 12,
   "metadata": {
    "ExecuteTime": {
     "end_time": "2020-08-01T14:04:12.716352Z",
     "start_time": "2020-08-01T14:04:12.712773Z"
    }
   },
   "outputs": [],
   "source": [
    "set_5 = sample_dice == (5)"
   ]
  },
  {
   "cell_type": "code",
   "execution_count": 13,
   "metadata": {
    "ExecuteTime": {
     "end_time": "2020-08-01T14:04:12.903374Z",
     "start_time": "2020-08-01T14:04:12.896402Z"
    }
   },
   "outputs": [
    {
     "name": "stdout",
     "output_type": "stream",
     "text": [
      "[False False False False  True False False False False False  True False\n",
      " False False False False  True False False False False False  True False\n",
      "  True  True  True  True  True  True False False False False  True False]\n"
     ]
    }
   ],
   "source": [
    "true_5 = np.any(set_5, axis = 1)\n",
    "print(true_5)"
   ]
  },
  {
   "cell_type": "code",
   "execution_count": 14,
   "metadata": {
    "ExecuteTime": {
     "end_time": "2020-08-01T14:04:13.073770Z",
     "start_time": "2020-08-01T14:04:13.066721Z"
    }
   },
   "outputs": [],
   "source": [
    "prob_5 = true_5.sum()/len(sample_dice)"
   ]
  },
  {
   "cell_type": "code",
   "execution_count": 15,
   "metadata": {
    "ExecuteTime": {
     "end_time": "2020-08-01T14:04:13.257996Z",
     "start_time": "2020-08-01T14:04:13.247849Z"
    }
   },
   "outputs": [
    {
     "data": {
      "text/plain": [
       "0.3055555555555556"
      ]
     },
     "execution_count": 15,
     "metadata": {},
     "output_type": "execute_result"
    }
   ],
   "source": [
    "prob_5"
   ]
  },
  {
   "cell_type": "markdown",
   "metadata": {},
   "source": [
    "What is the probability of throwing a 4 or 6 at least once?"
   ]
  },
  {
   "cell_type": "code",
   "execution_count": 16,
   "metadata": {
    "ExecuteTime": {
     "end_time": "2020-08-01T14:04:13.593756Z",
     "start_time": "2020-08-01T14:04:13.589127Z"
    }
   },
   "outputs": [],
   "source": [
    "set_4 =  sample_dice == (4)\n",
    "set_6 = sample_dice == (6)"
   ]
  },
  {
   "cell_type": "code",
   "execution_count": 17,
   "metadata": {
    "ExecuteTime": {
     "end_time": "2020-08-01T14:04:13.756082Z",
     "start_time": "2020-08-01T14:04:13.751591Z"
    }
   },
   "outputs": [],
   "source": [
    "set_4_6 = (set_4+set_6)"
   ]
  },
  {
   "cell_type": "code",
   "execution_count": 18,
   "metadata": {
    "ExecuteTime": {
     "end_time": "2020-08-01T14:04:13.935276Z",
     "start_time": "2020-08-01T14:04:13.931385Z"
    }
   },
   "outputs": [
    {
     "name": "stdout",
     "output_type": "stream",
     "text": [
      "[False False False False  True False False False False False  True False\n",
      " False False False False  True False False False False False  True False\n",
      "  True  True  True  True  True  True False False False False  True False]\n"
     ]
    }
   ],
   "source": [
    "true_4_6 = np.any(set_4_6, axis = 1)\n",
    "print(true_5)"
   ]
  },
  {
   "cell_type": "code",
   "execution_count": 19,
   "metadata": {
    "ExecuteTime": {
     "end_time": "2020-08-01T14:04:14.117291Z",
     "start_time": "2020-08-01T14:04:14.112772Z"
    }
   },
   "outputs": [],
   "source": [
    "prob_4_6 = true_4_6.sum()/len(sample_dice)"
   ]
  },
  {
   "cell_type": "code",
   "execution_count": 20,
   "metadata": {
    "ExecuteTime": {
     "end_time": "2020-08-01T14:04:14.294544Z",
     "start_time": "2020-08-01T14:04:14.280974Z"
    }
   },
   "outputs": [
    {
     "data": {
      "text/plain": [
       "0.5555555555555556"
      ]
     },
     "execution_count": 20,
     "metadata": {},
     "output_type": "execute_result"
    }
   ],
   "source": [
    "prob_4_6"
   ]
  },
  {
   "cell_type": "markdown",
   "metadata": {
    "ExecuteTime": {
     "end_time": "2020-08-01T12:33:16.723511Z",
     "start_time": "2020-08-01T12:33:16.715217Z"
    }
   },
   "source": [
    "What is the probability of the outcome having a sum of exactly 9"
   ]
  },
  {
   "cell_type": "code",
   "execution_count": 21,
   "metadata": {
    "ExecuteTime": {
     "end_time": "2020-08-01T14:04:14.637028Z",
     "start_time": "2020-08-01T14:04:14.630732Z"
    }
   },
   "outputs": [],
   "source": [
    "sum_dice = np.sum(sample_dice, axis = 1)\n",
    "sum_9 = sum(sum_dice == 9)\n"
   ]
  },
  {
   "cell_type": "code",
   "execution_count": 22,
   "metadata": {
    "ExecuteTime": {
     "end_time": "2020-08-01T14:04:14.805327Z",
     "start_time": "2020-08-01T14:04:14.798505Z"
    }
   },
   "outputs": [
    {
     "name": "stdout",
     "output_type": "stream",
     "text": [
      "0.1111111111111111\n"
     ]
    }
   ],
   "source": [
    "prob_sum_9 = sum_9/len(sample_dice)\n",
    "print(prob_sum_9)"
   ]
  },
  {
   "cell_type": "code",
   "execution_count": 23,
   "metadata": {
    "ExecuteTime": {
     "end_time": "2020-08-01T14:04:14.994108Z",
     "start_time": "2020-08-01T14:04:14.981564Z"
    }
   },
   "outputs": [
    {
     "data": {
      "text/plain": [
       "array([1, 5])"
      ]
     },
     "execution_count": 23,
     "metadata": {},
     "output_type": "execute_result"
    }
   ],
   "source": [
    "np.array([1,5])"
   ]
  },
  {
   "cell_type": "markdown",
   "metadata": {},
   "source": [
    "# Bayes Theorem"
   ]
  },
  {
   "cell_type": "markdown",
   "metadata": {},
   "source": [
    "𝑃(𝐴|𝐵) = 𝑃(𝐵|𝐴) / 𝑃(𝐴)𝑃(𝐵)"
   ]
  },
  {
   "cell_type": "code",
   "execution_count": 24,
   "metadata": {
    "ExecuteTime": {
     "end_time": "2020-08-01T14:04:15.621300Z",
     "start_time": "2020-08-01T14:04:15.612431Z"
    }
   },
   "outputs": [],
   "source": [
    "def bayes(P_a, P_b, P_b_given_a):\n",
    "\n",
    "    P_a_given_b = (P_b_given_a * P_a)/P_b\n",
    "    return P_a_given_b"
   ]
  },
  {
   "cell_type": "markdown",
   "metadata": {},
   "source": [
    "After a physical exam, a doctor observes a blemish on a client's arm. The doctor is concerned that the blemish could be cancerous, but tells the patient to be calm and that it's probably benign. Of those with skin cancer, 100% have such blemishes. However, 20% of those without skin cancer also have such blemishes. If 15% of the population has skin cancer, what's the probability that this patient has skin cancer?"
   ]
  },
  {
   "cell_type": "code",
   "execution_count": 25,
   "metadata": {
    "ExecuteTime": {
     "end_time": "2020-08-01T14:04:16.137079Z",
     "start_time": "2020-08-01T14:04:16.131757Z"
    }
   },
   "outputs": [
    {
     "name": "stdout",
     "output_type": "stream",
     "text": [
      "0.46875\n"
     ]
    }
   ],
   "source": [
    "P_b = .15 + .85*.2\n",
    "P_cancer_given_blemish = bayes(.15, P_b, 1)\n",
    "print(P_cancer_given_blemish)"
   ]
  },
  {
   "cell_type": "markdown",
   "metadata": {},
   "source": [
    "A couple has two children, the older of which is a boy. What is the probability that they have two boys?"
   ]
  },
  {
   "cell_type": "code",
   "execution_count": 26,
   "metadata": {
    "ExecuteTime": {
     "end_time": "2020-08-01T14:04:16.520004Z",
     "start_time": "2020-08-01T14:04:16.510853Z"
    }
   },
   "outputs": [
    {
     "data": {
      "text/plain": [
       "0.5"
      ]
     },
     "execution_count": 26,
     "metadata": {},
     "output_type": "execute_result"
    }
   ],
   "source": [
    "P_a = 1/4 # Probability of 2 boys\n",
    "P_b = .5 # Probability older child is a boy\n",
    "P_b_given_a = 1 # Probability older child is a boy if 2 boys\n",
    "bayes(P_a, P_b, P_b_given_a)"
   ]
  },
  {
   "cell_type": "markdown",
   "metadata": {
    "ExecuteTime": {
     "end_time": "2020-08-01T14:05:03.730447Z",
     "start_time": "2020-08-01T14:05:03.725465Z"
    }
   },
   "source": [
    "A couple has two children, one of which is a boy. What is the probability that they have two boys?"
   ]
  },
  {
   "cell_type": "code",
   "execution_count": 28,
   "metadata": {
    "ExecuteTime": {
     "end_time": "2020-08-01T14:08:31.067025Z",
     "start_time": "2020-08-01T14:08:31.058059Z"
    }
   },
   "outputs": [
    {
     "data": {
      "text/plain": [
       "0.3333333333333333"
      ]
     },
     "execution_count": 28,
     "metadata": {},
     "output_type": "execute_result"
    }
   ],
   "source": [
    "P_a = 1/4 # Probability of 2 boys\n",
    "P_b = 3/4 # Probability 1 of 2 children is a boy\n",
    "P_b_given_a  = 1 # Probability of 1 of 2 children being a boy, given both are boys\n",
    "bayes(P_a, P_b, P_b_given_a)\n"
   ]
  },
  {
   "cell_type": "code",
   "execution_count": null,
   "metadata": {},
   "outputs": [],
   "source": []
  }
 ],
 "metadata": {
  "kernelspec": {
   "display_name": "Python [conda env:learn-env] *",
   "language": "python",
   "name": "conda-env-learn-env-py"
  },
  "language_info": {
   "codemirror_mode": {
    "name": "ipython",
    "version": 3
   },
   "file_extension": ".py",
   "mimetype": "text/x-python",
   "name": "python",
   "nbconvert_exporter": "python",
   "pygments_lexer": "ipython3",
   "version": "3.6.6"
  }
 },
 "nbformat": 4,
 "nbformat_minor": 2
}
