{
 "cells": [
  {
   "cell_type": "code",
   "execution_count": 1,
   "metadata": {
    "ExecuteTime": {
     "end_time": "2020-08-01T10:59:55.461083Z",
     "start_time": "2020-08-01T10:59:55.455402Z"
    }
   },
   "outputs": [],
   "source": [
    "roll_dice = set([1,2,3,4,5,6])"
   ]
  },
  {
   "cell_type": "code",
   "execution_count": 2,
   "metadata": {
    "ExecuteTime": {
     "end_time": "2020-08-01T10:59:55.658279Z",
     "start_time": "2020-08-01T10:59:55.642095Z"
    }
   },
   "outputs": [
    {
     "data": {
      "text/plain": [
       "{1, 2, 3, 4, 5, 6}"
      ]
     },
     "execution_count": 2,
     "metadata": {},
     "output_type": "execute_result"
    }
   ],
   "source": [
    "roll_dice"
   ]
  },
  {
   "cell_type": "markdown",
   "metadata": {},
   "source": [
    "Check the probability to throw a number higher than 4  "
   ]
  },
  {
   "cell_type": "code",
   "execution_count": 3,
   "metadata": {
    "ExecuteTime": {
     "end_time": "2020-08-01T10:59:55.986288Z",
     "start_time": "2020-08-01T10:59:55.982725Z"
    }
   },
   "outputs": [],
   "source": [
    "event = set([5,6])"
   ]
  },
  {
   "cell_type": "code",
   "execution_count": 4,
   "metadata": {
    "ExecuteTime": {
     "end_time": "2020-08-01T10:59:56.158317Z",
     "start_time": "2020-08-01T10:59:56.154892Z"
    }
   },
   "outputs": [],
   "source": [
    "prob_5_6 = len(event)/len(roll_dice)"
   ]
  },
  {
   "cell_type": "code",
   "execution_count": 5,
   "metadata": {
    "ExecuteTime": {
     "end_time": "2020-08-01T10:59:56.343274Z",
     "start_time": "2020-08-01T10:59:56.336229Z"
    }
   },
   "outputs": [
    {
     "data": {
      "text/plain": [
       "0.3333333333333333"
      ]
     },
     "execution_count": 5,
     "metadata": {},
     "output_type": "execute_result"
    }
   ],
   "source": [
    "prob_5_6"
   ]
  },
  {
   "cell_type": "code",
   "execution_count": 6,
   "metadata": {
    "ExecuteTime": {
     "end_time": "2020-08-01T10:59:56.851497Z",
     "start_time": "2020-08-01T10:59:56.546805Z"
    }
   },
   "outputs": [],
   "source": [
    "import numpy as np"
   ]
  },
  {
   "cell_type": "code",
   "execution_count": 7,
   "metadata": {
    "ExecuteTime": {
     "end_time": "2020-08-01T10:59:56.857560Z",
     "start_time": "2020-08-01T10:59:56.853375Z"
    }
   },
   "outputs": [],
   "source": [
    "# getting a random value between 1 and 6"
   ]
  },
  {
   "cell_type": "code",
   "execution_count": 8,
   "metadata": {
    "ExecuteTime": {
     "end_time": "2020-08-01T10:59:56.923145Z",
     "start_time": "2020-08-01T10:59:56.916533Z"
    }
   },
   "outputs": [
    {
     "data": {
      "text/plain": [
       "3"
      ]
     },
     "execution_count": 8,
     "metadata": {},
     "output_type": "execute_result"
    }
   ],
   "source": [
    "np.random.randint(1,7)"
   ]
  },
  {
   "cell_type": "code",
   "execution_count": 9,
   "metadata": {
    "ExecuteTime": {
     "end_time": "2020-08-01T10:59:57.096433Z",
     "start_time": "2020-08-01T10:59:57.087430Z"
    }
   },
   "outputs": [],
   "source": [
    "sample_dice = np.array([(1, 1), (1, 2), (1, 3), (1, 4), (1, 5), (1, 6),\n",
    "              (2, 1), (2, 2), (2, 3), (2, 4), (2, 5), (2, 6),\n",
    "              (3, 1), (3, 2), (3, 3), (3, 4), (3, 5), (3, 6),\n",
    "              (4, 1), (4, 2), (4, 3), (4, 4), (4, 5), (4, 6),\n",
    "              (5, 1), (5, 2), (5, 3), (5, 4), (5, 5), (5, 6),\n",
    "              (6, 1), (6, 2), (6, 3), (6, 4), (6, 5), (6, 6)])"
   ]
  },
  {
   "cell_type": "code",
   "execution_count": 10,
   "metadata": {
    "ExecuteTime": {
     "end_time": "2020-08-01T10:59:57.275581Z",
     "start_time": "2020-08-01T10:59:57.267207Z"
    }
   },
   "outputs": [
    {
     "data": {
      "text/plain": [
       "(36, 2)"
      ]
     },
     "execution_count": 10,
     "metadata": {},
     "output_type": "execute_result"
    }
   ],
   "source": [
    "sample_dice.shape"
   ]
  },
  {
   "cell_type": "markdown",
   "metadata": {},
   "source": [
    " What is the probability of throwing a 5 at least once?"
   ]
  },
  {
   "cell_type": "code",
   "execution_count": 11,
   "metadata": {
    "ExecuteTime": {
     "end_time": "2020-08-01T11:00:03.412453Z",
     "start_time": "2020-08-01T11:00:03.406536Z"
    }
   },
   "outputs": [],
   "source": [
    "set_5 = sample_dice == (5)"
   ]
  },
  {
   "cell_type": "code",
   "execution_count": 12,
   "metadata": {
    "ExecuteTime": {
     "end_time": "2020-08-01T11:11:04.265725Z",
     "start_time": "2020-08-01T11:11:04.258201Z"
    }
   },
   "outputs": [
    {
     "name": "stdout",
     "output_type": "stream",
     "text": [
      "[False False False False  True False False False False False  True False\n",
      " False False False False  True False False False False False  True False\n",
      "  True  True  True  True  True  True False False False False  True False]\n"
     ]
    }
   ],
   "source": [
    "true_5 = np.any(set_5, axis = 1)\n",
    "print(true_5)"
   ]
  },
  {
   "cell_type": "code",
   "execution_count": 13,
   "metadata": {
    "ExecuteTime": {
     "end_time": "2020-08-01T11:12:55.275334Z",
     "start_time": "2020-08-01T11:12:55.270838Z"
    }
   },
   "outputs": [],
   "source": [
    "prob_5 = true_5.sum()/len(sample_dice)"
   ]
  },
  {
   "cell_type": "code",
   "execution_count": 14,
   "metadata": {
    "ExecuteTime": {
     "end_time": "2020-08-01T11:13:01.542181Z",
     "start_time": "2020-08-01T11:13:01.534492Z"
    }
   },
   "outputs": [
    {
     "data": {
      "text/plain": [
       "0.3055555555555556"
      ]
     },
     "execution_count": 14,
     "metadata": {},
     "output_type": "execute_result"
    }
   ],
   "source": [
    "prob_5"
   ]
  },
  {
   "cell_type": "markdown",
   "metadata": {},
   "source": [
    "What is the probability of throwing a 4 or 6 at least once?"
   ]
  },
  {
   "cell_type": "code",
   "execution_count": 17,
   "metadata": {
    "ExecuteTime": {
     "end_time": "2020-08-01T11:29:13.215263Z",
     "start_time": "2020-08-01T11:29:13.210869Z"
    }
   },
   "outputs": [],
   "source": [
    "set_4 =  sample_dice == (4)\n",
    "set_6 = sample_dice == (6)"
   ]
  },
  {
   "cell_type": "code",
   "execution_count": 18,
   "metadata": {
    "ExecuteTime": {
     "end_time": "2020-08-01T11:29:13.741611Z",
     "start_time": "2020-08-01T11:29:13.737162Z"
    }
   },
   "outputs": [],
   "source": [
    "set_4_6 = (set_4+set_6)"
   ]
  },
  {
   "cell_type": "code",
   "execution_count": 19,
   "metadata": {
    "ExecuteTime": {
     "end_time": "2020-08-01T11:30:09.141367Z",
     "start_time": "2020-08-01T11:30:09.135693Z"
    }
   },
   "outputs": [
    {
     "name": "stdout",
     "output_type": "stream",
     "text": [
      "[False False False False  True False False False False False  True False\n",
      " False False False False  True False False False False False  True False\n",
      "  True  True  True  True  True  True False False False False  True False]\n"
     ]
    }
   ],
   "source": [
    "true_4_6 = np.any(set_4_6, axis = 1)\n",
    "print(true_5)"
   ]
  },
  {
   "cell_type": "code",
   "execution_count": 20,
   "metadata": {
    "ExecuteTime": {
     "end_time": "2020-08-01T11:32:22.983555Z",
     "start_time": "2020-08-01T11:32:22.977680Z"
    }
   },
   "outputs": [],
   "source": [
    "prob_4_6 = true_4_6.sum()/len(sample_dice)"
   ]
  },
  {
   "cell_type": "code",
   "execution_count": 21,
   "metadata": {
    "ExecuteTime": {
     "end_time": "2020-08-01T11:32:27.769317Z",
     "start_time": "2020-08-01T11:32:27.762594Z"
    }
   },
   "outputs": [
    {
     "data": {
      "text/plain": [
       "0.5555555555555556"
      ]
     },
     "execution_count": 21,
     "metadata": {},
     "output_type": "execute_result"
    }
   ],
   "source": [
    "prob_4_6"
   ]
  },
  {
   "cell_type": "code",
   "execution_count": null,
   "metadata": {},
   "outputs": [],
   "source": []
  }
 ],
 "metadata": {
  "kernelspec": {
   "display_name": "Python [conda env:learn-env] *",
   "language": "python",
   "name": "conda-env-learn-env-py"
  },
  "language_info": {
   "codemirror_mode": {
    "name": "ipython",
    "version": 3
   },
   "file_extension": ".py",
   "mimetype": "text/x-python",
   "name": "python",
   "nbconvert_exporter": "python",
   "pygments_lexer": "ipython3",
   "version": "3.6.6"
  }
 },
 "nbformat": 4,
 "nbformat_minor": 2
}
