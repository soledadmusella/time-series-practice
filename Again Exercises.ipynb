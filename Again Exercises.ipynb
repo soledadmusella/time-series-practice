{
 "cells": [
  {
   "cell_type": "markdown",
   "metadata": {},
   "source": [
    "## Write a program that prints the numbers ranging from one to 50.\n",
    "But for multiples of three, print \"Fizz\" instead of the number and for the multiples of five, print \"Buzz.\" For numbers which are multiples of both three and five, print \"FizzBuzz\""
   ]
  },
  {
   "cell_type": "code",
   "execution_count": 3,
   "metadata": {
    "ExecuteTime": {
     "end_time": "2020-10-28T11:53:53.917740Z",
     "start_time": "2020-10-28T11:53:53.910985Z"
    }
   },
   "outputs": [
    {
     "data": {
      "text/plain": [
       "[0,\n",
       " 1,\n",
       " 2,\n",
       " 3,\n",
       " 4,\n",
       " 5,\n",
       " 6,\n",
       " 7,\n",
       " 8,\n",
       " 9,\n",
       " 10,\n",
       " 11,\n",
       " 12,\n",
       " 13,\n",
       " 14,\n",
       " 15,\n",
       " 16,\n",
       " 17,\n",
       " 18,\n",
       " 19,\n",
       " 20,\n",
       " 21,\n",
       " 22,\n",
       " 23,\n",
       " 24,\n",
       " 25,\n",
       " 26,\n",
       " 27,\n",
       " 28,\n",
       " 29,\n",
       " 30,\n",
       " 31,\n",
       " 32,\n",
       " 33,\n",
       " 34,\n",
       " 35,\n",
       " 36,\n",
       " 37,\n",
       " 38,\n",
       " 39,\n",
       " 40,\n",
       " 41,\n",
       " 42,\n",
       " 43,\n",
       " 44,\n",
       " 45,\n",
       " 46,\n",
       " 47,\n",
       " 48,\n",
       " 49,\n",
       " 50]"
      ]
     },
     "execution_count": 3,
     "metadata": {},
     "output_type": "execute_result"
    }
   ],
   "source": [
    "list(range(1,51))"
   ]
  },
  {
   "cell_type": "code",
   "execution_count": 8,
   "metadata": {
    "ExecuteTime": {
     "end_time": "2020-10-28T11:57:21.172022Z",
     "start_time": "2020-10-28T11:57:21.155138Z"
    }
   },
   "outputs": [
    {
     "name": "stdout",
     "output_type": "stream",
     "text": [
      "1\n",
      "2\n",
      "Fizz\n",
      "3\n",
      "4\n",
      "Buzz\n",
      "5\n",
      "Fizz\n",
      "6\n",
      "7\n",
      "8\n",
      "Fizz\n",
      "9\n",
      "Buzz\n",
      "10\n",
      "11\n",
      "Fizz\n",
      "12\n",
      "13\n",
      "14\n",
      "FizzBuzz\n",
      "15\n",
      "16\n",
      "17\n",
      "Fizz\n",
      "18\n",
      "19\n",
      "Buzz\n",
      "20\n",
      "Fizz\n",
      "21\n",
      "22\n",
      "23\n",
      "Fizz\n",
      "24\n",
      "Buzz\n",
      "25\n",
      "26\n",
      "Fizz\n",
      "27\n",
      "28\n",
      "29\n",
      "FizzBuzz\n",
      "30\n",
      "31\n",
      "32\n",
      "Fizz\n",
      "33\n",
      "34\n",
      "Buzz\n",
      "35\n",
      "Fizz\n",
      "36\n",
      "37\n",
      "38\n",
      "Fizz\n",
      "39\n",
      "Buzz\n",
      "40\n",
      "41\n",
      "Fizz\n",
      "42\n",
      "43\n",
      "44\n",
      "FizzBuzz\n",
      "45\n",
      "46\n",
      "47\n",
      "Fizz\n",
      "48\n",
      "49\n",
      "Buzz\n",
      "50\n"
     ]
    }
   ],
   "source": [
    "for i in range(1,51):\n",
    "    if i % 3 == 0 and i % 5 == 0:\n",
    "        print (\"FizzBuzz\")\n",
    "    elif i % 3 == 0:\n",
    "        print (\"Fizz\")\n",
    "    elif i % 5 == 0:\n",
    "        print (\"Buzz\")\n",
    "    print (i)\n"
   ]
  },
  {
   "cell_type": "markdown",
   "metadata": {},
   "source": [
    "## Exercise 7\n",
    "Write an expression that returns True if the last character of a string is not 'a'."
   ]
  },
  {
   "cell_type": "code",
   "execution_count": 11,
   "metadata": {
    "ExecuteTime": {
     "end_time": "2020-10-28T12:06:36.036389Z",
     "start_time": "2020-10-28T12:06:36.032227Z"
    }
   },
   "outputs": [
    {
     "name": "stdout",
     "output_type": "stream",
     "text": [
      "True\n"
     ]
    }
   ],
   "source": [
    "s = \"soledad\"\n",
    "if s[-1] != \"a\":\n",
    "    print (\"True\")"
   ]
  },
  {
   "cell_type": "code",
   "execution_count": 12,
   "metadata": {
    "ExecuteTime": {
     "end_time": "2020-10-28T12:07:07.931780Z",
     "start_time": "2020-10-28T12:07:07.924753Z"
    }
   },
   "outputs": [
    {
     "data": {
      "text/plain": [
       "True"
      ]
     },
     "execution_count": 12,
     "metadata": {},
     "output_type": "execute_result"
    }
   ],
   "source": [
    "s[-1] != \"a\""
   ]
  },
  {
   "cell_type": "markdown",
   "metadata": {},
   "source": [
    "## Exercise 8\n",
    "Write a simple program that determines whether someone has enough money to pay for rent. If they have enough money, print out how much is left in the account. If they don't have enough, print out how much they owe. If they have the exact rent, print out a different message. Test your code with different values of rent."
   ]
  },
  {
   "cell_type": "code",
   "execution_count": 9,
   "metadata": {
    "ExecuteTime": {
     "end_time": "2020-10-29T11:13:21.420349Z",
     "start_time": "2020-10-29T11:13:21.414566Z"
    }
   },
   "outputs": [
    {
     "name": "stdout",
     "output_type": "stream",
     "text": [
      "Your finances are really awful!\n"
     ]
    }
   ],
   "source": [
    "rent = 1000\n",
    "account = 1000\n",
    "\n",
    "if account > rent:\n",
    "    print (f\"You can pay the rent. You have {account - rent} left\")\n",
    "if account < rent :\n",
    "    print(f\"You cannot pay the rent. You have minus{account-rent}\")\n",
    "if account == rent:\n",
    "    print(\"Your finances are really awful!\")\n"
   ]
  },
  {
   "cell_type": "markdown",
   "metadata": {
    "ExecuteTime": {
     "end_time": "2020-10-29T11:13:43.916206Z",
     "start_time": "2020-10-29T11:13:43.910357Z"
    }
   },
   "source": [
    "## Exercise 9\n",
    "Use a for-loop to sum up all the numbers from 1 to 1,000."
   ]
  },
  {
   "cell_type": "code",
   "execution_count": 22,
   "metadata": {
    "ExecuteTime": {
     "end_time": "2020-10-29T11:18:29.824025Z",
     "start_time": "2020-10-29T11:18:29.816432Z"
    }
   },
   "outputs": [
    {
     "data": {
      "text/plain": [
       "500500"
      ]
     },
     "execution_count": 22,
     "metadata": {},
     "output_type": "execute_result"
    }
   ],
   "source": [
    "suma = 0\n",
    "for i in range (1001):\n",
    "    suma += i\n",
    "suma"
   ]
  },
  {
   "cell_type": "markdown",
   "metadata": {},
   "source": [
    "## Exercise 10\n",
    "Use a for-loop to calculate the mean (average) from the given list of values."
   ]
  },
  {
   "cell_type": "code",
   "execution_count": 25,
   "metadata": {
    "ExecuteTime": {
     "end_time": "2020-10-29T12:24:33.441505Z",
     "start_time": "2020-10-29T12:24:33.432098Z"
    }
   },
   "outputs": [
    {
     "data": {
      "text/plain": [
       "5.6"
      ]
     },
     "execution_count": 25,
     "metadata": {},
     "output_type": "execute_result"
    }
   ],
   "source": [
    "numbers = [2,5,6,7,8]\n",
    "aver = 0\n",
    "for i in numbers :\n",
    "    aver += i\n",
    "aver/len(numbers)\n"
   ]
  },
  {
   "cell_type": "markdown",
   "metadata": {
    "ExecuteTime": {
     "end_time": "2020-10-29T12:31:48.603482Z",
     "start_time": "2020-10-29T12:31:48.594631Z"
    }
   },
   "source": [
    "## Exercise 11\n",
    "Calculate the sum of the squared values of each of the first 100 positive integers."
   ]
  },
  {
   "cell_type": "code",
   "execution_count": 5,
   "metadata": {
    "ExecuteTime": {
     "end_time": "2020-10-29T15:13:55.466682Z",
     "start_time": "2020-10-29T15:13:55.450622Z"
    }
   },
   "outputs": [
    {
     "data": {
      "text/plain": [
       "171.5"
      ]
     },
     "execution_count": 5,
     "metadata": {},
     "output_type": "execute_result"
    }
   ],
   "source": [
    "values = [99, 143, 32, 412]\n",
    "total = 0\n",
    "for v in values:\n",
    "    total += v\n",
    "total / len(values)"
   ]
  },
  {
   "cell_type": "markdown",
   "metadata": {},
   "source": [
    "## Exercise 12\n",
    "Use a for-loop to iterate over the first 10 positive integers, printing out their squared value only if the value is greater than 50."
   ]
  },
  {
   "cell_type": "code",
   "execution_count": 13,
   "metadata": {
    "ExecuteTime": {
     "end_time": "2020-10-29T17:06:37.483614Z",
     "start_time": "2020-10-29T17:06:37.478378Z"
    }
   },
   "outputs": [
    {
     "name": "stdout",
     "output_type": "stream",
     "text": [
      "64\n",
      "81\n"
     ]
    }
   ],
   "source": [
    "for i in range (10):\n",
    "    suquared = i ** 2 \n",
    "    if suquared >50:\n",
    "        print (suquared)"
   ]
  },
  {
   "cell_type": "markdown",
   "metadata": {},
   "source": [
    "## Exercise 13\n",
    "Use a for-loop to iterate over every 25th positive integer up to 200, appending its squared value to a list."
   ]
  },
  {
   "cell_type": "code",
   "execution_count": 2,
   "metadata": {
    "ExecuteTime": {
     "end_time": "2020-10-29T17:36:05.345871Z",
     "start_time": "2020-10-29T17:36:05.338303Z"
    }
   },
   "outputs": [
    {
     "data": {
      "text/plain": [
       "[1, 676, 2601, 5776, 10201, 15876, 22801, 30976]"
      ]
     },
     "execution_count": 2,
     "metadata": {},
     "output_type": "execute_result"
    }
   ],
   "source": [
    "s =[]\n",
    "for i in range(1,201,25):\n",
    "    s.append(i**2)\n",
    "s"
   ]
  },
  {
   "cell_type": "markdown",
   "metadata": {},
   "source": [
    "## Exercise 16\n",
    "Use a while loop to find the sum of all integers between 0 and a given integer x. Output result."
   ]
  },
  {
   "cell_type": "code",
   "execution_count": 4,
   "metadata": {
    "ExecuteTime": {
     "end_time": "2020-10-29T17:38:32.512557Z",
     "start_time": "2020-10-29T17:38:32.505892Z"
    }
   },
   "outputs": [
    {
     "data": {
      "text/plain": [
       "210"
      ]
     },
     "execution_count": 4,
     "metadata": {},
     "output_type": "execute_result"
    }
   ],
   "source": [
    "x = 20\n",
    "total = 0\n",
    "while x > 0:\n",
    "    total += x\n",
    "    x -= 1\n",
    "total"
   ]
  },
  {
   "cell_type": "markdown",
   "metadata": {},
   "source": [
    "## Exercise 17\n",
    "Assign 'x' a positive integer. Use a while loop to find the sum of all integers between half of x and x."
   ]
  },
  {
   "cell_type": "code",
   "execution_count": null,
   "metadata": {},
   "outputs": [],
   "source": [
    "x = 20\n",
    "total = 0\n",
    "half = x/2\n",
    "while x > half:\n",
    "    total +=x\n",
    "    "
   ]
  },
  {
   "cell_type": "markdown",
   "metadata": {},
   "source": [
    "## Exercise 18\n",
    "Use nested for-loops in this exercise. Write an outer for-loop to iterate over the integers 0 through 9. Within this for-loop, write an inner for-loop to iterate over the integers 0 through 4. Create two separate variables to count the total number of iterations for each loop and output their values. Is it what you expect?"
   ]
  },
  {
   "cell_type": "code",
   "execution_count": 1,
   "metadata": {
    "ExecuteTime": {
     "end_time": "2020-10-30T12:11:26.641383Z",
     "start_time": "2020-10-30T12:11:26.600292Z"
    }
   },
   "outputs": [
    {
     "data": {
      "text/plain": [
       "(10, 50)"
      ]
     },
     "execution_count": 1,
     "metadata": {},
     "output_type": "execute_result"
    }
   ],
   "source": [
    "count_outer = 0\n",
    "count_inner = 0\n",
    "for i in range(10):\n",
    "    count_outer += 1\n",
    "    for j in range(5):\n",
    "        count_inner += 1\n",
    "count_outer, count_inner"
   ]
  },
  {
   "cell_type": "markdown",
   "metadata": {},
   "source": [
    "### Exercise 19 \n",
    "\n",
    "A well-known property of right triangles is that the hypotenuse squared equals the sum of the squares of the other two sides. This is known as the Pythagorean theorem and is usually written as  𝑎2+𝑏2=𝑐2 . A Pythagorean triple is a set of three integers that satisfy the theorem. For instance, 3, 4, and 5 are a Pythagorean triple as 9 + 16 = 25. Can you find all the Pythagorean triples where all sides are less than 20."
   ]
  },
  {
   "cell_type": "code",
   "execution_count": 1,
   "metadata": {
    "ExecuteTime": {
     "end_time": "2020-11-06T16:09:49.741776Z",
     "start_time": "2020-11-06T16:09:49.724077Z"
    }
   },
   "outputs": [
    {
     "name": "stdout",
     "output_type": "stream",
     "text": [
      "3 4 5\n",
      "4 3 5\n",
      "5 12 13\n",
      "6 8 10\n",
      "8 6 10\n",
      "8 15 17\n",
      "9 12 15\n",
      "12 5 13\n",
      "12 9 15\n",
      "15 8 17\n"
     ]
    }
   ],
   "source": [
    "for a in range(1, 20):\n",
    "    for b in range(1, 20):\n",
    "        for c in range(1, 20):\n",
    "            if a ** 2 + b ** 2 == c ** 2:\n",
    "                print(a, b, c)"
   ]
  },
  {
   "cell_type": "markdown",
   "metadata": {},
   "source": [
    "## Exercise 5\n",
    "Is the number 87,649 a member of a sequence defined as every 113th integer from 0 to 100,000"
   ]
  },
  {
   "cell_type": "code",
   "execution_count": 9,
   "metadata": {
    "ExecuteTime": {
     "end_time": "2020-11-06T16:13:48.093241Z",
     "start_time": "2020-11-06T16:13:48.086669Z"
    }
   },
   "outputs": [
    {
     "data": {
      "text/plain": [
       "False"
      ]
     },
     "execution_count": 9,
     "metadata": {},
     "output_type": "execute_result"
    }
   ],
   "source": [
    "r = range(0, 100000, 113)\n",
    "87649 in r"
   ]
  },
  {
   "cell_type": "markdown",
   "metadata": {
    "ExecuteTime": {
     "end_time": "2020-11-06T16:18:10.390665Z",
     "start_time": "2020-11-06T16:18:10.381432Z"
    }
   },
   "source": [
    "## training\n",
    "Write a function that takes a single string (word) as argument. The function must return an ordered list containing the indexes of all capital letters in the string."
   ]
  },
  {
   "cell_type": "code",
   "execution_count": 6,
   "metadata": {
    "ExecuteTime": {
     "end_time": "2020-11-06T16:19:42.994068Z",
     "start_time": "2020-11-06T16:19:42.989604Z"
    }
   },
   "outputs": [],
   "source": [
    "def capitals(word):\n",
    "    uppers = []\n",
    "    for i in range(len(word)):\n",
    "        if word[i].isupper():\n",
    "            uppers.append(i)\n",
    "    return uppers"
   ]
  },
  {
   "cell_type": "code",
   "execution_count": 11,
   "metadata": {
    "ExecuteTime": {
     "end_time": "2020-11-06T16:21:55.897715Z",
     "start_time": "2020-11-06T16:21:55.889833Z"
    }
   },
   "outputs": [
    {
     "data": {
      "text/plain": [
       "[0, 2, 4]"
      ]
     },
     "execution_count": 11,
     "metadata": {},
     "output_type": "execute_result"
    }
   ],
   "source": [
    "capitals(\"SoLeDad\")"
   ]
  },
  {
   "cell_type": "code",
   "execution_count": 12,
   "metadata": {
    "ExecuteTime": {
     "end_time": "2020-11-06T16:22:08.587057Z",
     "start_time": "2020-11-06T16:22:08.583186Z"
    }
   },
   "outputs": [],
   "source": [
    "def capitals(word):\n",
    "    return [i for (i, c) in enumerate(word) if c.isupper()]"
   ]
  },
  {
   "cell_type": "code",
   "execution_count": 13,
   "metadata": {
    "ExecuteTime": {
     "end_time": "2020-11-06T16:22:22.304573Z",
     "start_time": "2020-11-06T16:22:22.298169Z"
    }
   },
   "outputs": [
    {
     "data": {
      "text/plain": [
       "[0, 2, 4]"
      ]
     },
     "execution_count": 13,
     "metadata": {},
     "output_type": "execute_result"
    }
   ],
   "source": [
    "capitals(\"MuSeLla\")"
   ]
  },
  {
   "cell_type": "markdown",
   "metadata": {},
   "source": [
    "## Exercise 13\n",
    "Create a list of three items and assign it to variable a. Concatenate it to itself 4 times."
   ]
  },
  {
   "cell_type": "code",
   "execution_count": 14,
   "metadata": {
    "ExecuteTime": {
     "end_time": "2020-11-06T16:23:13.582145Z",
     "start_time": "2020-11-06T16:23:13.574607Z"
    }
   },
   "outputs": [
    {
     "data": {
      "text/plain": [
       "[1, 2, 3, 1, 2, 3, 1, 2, 3, 1, 2, 3]"
      ]
     },
     "execution_count": 14,
     "metadata": {},
     "output_type": "execute_result"
    }
   ],
   "source": [
    "a = [1, 2, 3]\n",
    "a * 4"
   ]
  },
  {
   "cell_type": "markdown",
   "metadata": {},
   "source": [
    "## 2\n",
    "This program tests the life of an evaporator containing a gas.\n",
    "\n",
    "We know the content of the evaporator (content in ml), the percentage of foam or gas lost every day (evap_per_day) and the threshold (threshold) in percentage beyond which the evaporator is no longer useful. All numbers are strictly positive.\n",
    "\n",
    "The program reports the nth day (as an integer) on which the evaporator will be out of use.\n",
    "\n"
   ]
  },
  {
   "cell_type": "code",
   "execution_count": 1,
   "metadata": {
    "ExecuteTime": {
     "end_time": "2020-11-06T16:28:36.800171Z",
     "start_time": "2020-11-06T16:28:36.794201Z"
    }
   },
   "outputs": [],
   "source": [
    "def evaporator(content, evap_per_day, threshold):\n",
    "    n = 0\n",
    "    current = 100\n",
    "    percent = 1 - evap_per_day / 100.0\n",
    "    while current > threshold:\n",
    "        current *= percent\n",
    "        n += 1\n",
    "    return n"
   ]
  },
  {
   "cell_type": "code",
   "execution_count": 2,
   "metadata": {
    "ExecuteTime": {
     "end_time": "2020-11-06T16:29:10.386029Z",
     "start_time": "2020-11-06T16:29:10.380830Z"
    }
   },
   "outputs": [],
   "source": [
    "import math\n",
    "\n",
    "def evaporator(content, evap_per_day, threshold):\n",
    "    return math.ceil(math.log(threshold / 100.0) / math.log(1.0 - evap_per_day / 100.0))"
   ]
  },
  {
   "cell_type": "markdown",
   "metadata": {},
   "source": [
    "## Exercise 15\n",
    "Use a method chain to do the following to the given string: Strip each letter 'a' from the left side and then switch the case of each letter (from lower to upper and from upper to lower)."
   ]
  },
  {
   "cell_type": "code",
   "execution_count": 3,
   "metadata": {
    "ExecuteTime": {
     "end_time": "2020-11-06T16:29:46.504187Z",
     "start_time": "2020-11-06T16:29:46.491749Z"
    }
   },
   "outputs": [
    {
     "data": {
      "text/plain": [
       "' too MANY AAAAAAAAA'"
      ]
     },
     "execution_count": 3,
     "metadata": {},
     "output_type": "execute_result"
    }
   ],
   "source": [
    "test_string = 'aaaa TOO many aaaaaaaaa'\n",
    "test_string.lstrip('a').swapcase()"
   ]
  },
  {
   "cell_type": "markdown",
   "metadata": {},
   "source": [
    "## Exercise 13\n",
    "Find and use a method that will strip away all the exclamation points from either end of the following string."
   ]
  },
  {
   "cell_type": "code",
   "execution_count": 4,
   "metadata": {
    "ExecuteTime": {
     "end_time": "2020-11-06T16:30:26.081668Z",
     "start_time": "2020-11-06T16:30:26.074529Z"
    }
   },
   "outputs": [
    {
     "data": {
      "text/plain": [
       "'a string with a dull message'"
      ]
     },
     "execution_count": 4,
     "metadata": {},
     "output_type": "execute_result"
    }
   ],
   "source": [
    "s = '!!!!a string with a dull message!!!!'\n",
    "s.strip('!')"
   ]
  },
  {
   "cell_type": "markdown",
   "metadata": {
    "ExecuteTime": {
     "end_time": "2020-11-06T16:32:53.508089Z",
     "start_time": "2020-11-06T16:32:53.500347Z"
    }
   },
   "source": [
    "## 3 codewars\n",
    "Instructions\n",
    "Output\n",
    "Given an integer as input, can you round it to the next (meaning, \"higher\") multiple of 5?"
   ]
  },
  {
   "cell_type": "code",
   "execution_count": 3,
   "metadata": {
    "ExecuteTime": {
     "end_time": "2020-11-06T16:33:28.978306Z",
     "start_time": "2020-11-06T16:33:28.974542Z"
    }
   },
   "outputs": [],
   "source": [
    "def round_to_next5(n):\n",
    "    while n%5!=0:\n",
    "        n+=1\n",
    "    return n"
   ]
  },
  {
   "cell_type": "code",
   "execution_count": 9,
   "metadata": {
    "ExecuteTime": {
     "end_time": "2020-11-06T16:34:40.626397Z",
     "start_time": "2020-11-06T16:34:40.621039Z"
    }
   },
   "outputs": [
    {
     "data": {
      "text/plain": [
       "5"
      ]
     },
     "execution_count": 9,
     "metadata": {},
     "output_type": "execute_result"
    }
   ],
   "source": [
    "round_to_next5(3)"
   ]
  },
  {
   "cell_type": "code",
   "execution_count": 11,
   "metadata": {
    "ExecuteTime": {
     "end_time": "2020-11-06T16:34:51.629061Z",
     "start_time": "2020-11-06T16:34:51.625361Z"
    }
   },
   "outputs": [],
   "source": [
    "import math\n",
    "\n",
    "def round_to_next5(n):\n",
    "    \n",
    "    return math.ceil(n/5.0) * 5"
   ]
  },
  {
   "cell_type": "code",
   "execution_count": 12,
   "metadata": {
    "ExecuteTime": {
     "end_time": "2020-11-06T16:34:58.801140Z",
     "start_time": "2020-11-06T16:34:58.793912Z"
    }
   },
   "outputs": [
    {
     "data": {
      "text/plain": [
       "5"
      ]
     },
     "execution_count": 12,
     "metadata": {},
     "output_type": "execute_result"
    }
   ],
   "source": [
    "round_to_next5(2)"
   ]
  },
  {
   "cell_type": "code",
   "execution_count": 13,
   "metadata": {
    "ExecuteTime": {
     "end_time": "2020-11-06T16:35:13.589704Z",
     "start_time": "2020-11-06T16:35:13.586023Z"
    }
   },
   "outputs": [],
   "source": [
    "def round_to_next5(n):\n",
    "    return n if n%5 == 0 else round_to_next5(n+1)"
   ]
  },
  {
   "cell_type": "code",
   "execution_count": 14,
   "metadata": {
    "ExecuteTime": {
     "end_time": "2020-11-06T16:35:22.888227Z",
     "start_time": "2020-11-06T16:35:22.882451Z"
    }
   },
   "outputs": [
    {
     "data": {
      "text/plain": [
       "10"
      ]
     },
     "execution_count": 14,
     "metadata": {},
     "output_type": "execute_result"
    }
   ],
   "source": [
    "round_to_next5(7)"
   ]
  },
  {
   "cell_type": "code",
   "execution_count": 17,
   "metadata": {
    "ExecuteTime": {
     "end_time": "2020-11-06T16:36:00.121000Z",
     "start_time": "2020-11-06T16:36:00.117506Z"
    }
   },
   "outputs": [],
   "source": [
    "def round_to_next5(n):\n",
    "    x, y = divmod(n, 5)\n",
    "    return (x + (y > 0)) * 5"
   ]
  },
  {
   "cell_type": "code",
   "execution_count": 20,
   "metadata": {
    "ExecuteTime": {
     "end_time": "2020-11-06T16:36:08.141637Z",
     "start_time": "2020-11-06T16:36:08.136034Z"
    }
   },
   "outputs": [
    {
     "ename": "SyntaxError",
     "evalue": "invalid syntax (<ipython-input-20-d63df34f55ac>, line 1)",
     "output_type": "error",
     "traceback": [
      "\u001b[0;36m  File \u001b[0;32m\"<ipython-input-20-d63df34f55ac>\"\u001b[0;36m, line \u001b[0;32m1\u001b[0m\n\u001b[0;31m    def round_to_next5(3)\u001b[0m\n\u001b[0m                       ^\u001b[0m\n\u001b[0;31mSyntaxError\u001b[0m\u001b[0;31m:\u001b[0m invalid syntax\n"
     ]
    }
   ],
   "source": [
    "def round_to_next5(3)"
   ]
  },
  {
   "cell_type": "markdown",
   "metadata": {
    "ExecuteTime": {
     "end_time": "2020-11-06T16:40:42.447577Z",
     "start_time": "2020-11-06T16:40:42.439772Z"
    }
   },
   "source": [
    "## Codewars\n",
    "The two oldest ages function/method needs to be completed. It should take an array of numbers as its argument and return the two highest numbers within the array. The returned value should be an array in the format [second oldest age, oldest age].\n",
    "\n",
    "The order of the numbers passed in could be any order. The array will always include at least 2 items."
   ]
  },
  {
   "cell_type": "code",
   "execution_count": 4,
   "metadata": {
    "ExecuteTime": {
     "end_time": "2020-11-06T16:41:23.113258Z",
     "start_time": "2020-11-06T16:41:23.109563Z"
    }
   },
   "outputs": [],
   "source": [
    "def two_oldest_ages(ages):\n",
    "    return sorted(ages)[-2:]"
   ]
  },
  {
   "cell_type": "code",
   "execution_count": 10,
   "metadata": {
    "ExecuteTime": {
     "end_time": "2020-11-06T16:43:19.042059Z",
     "start_time": "2020-11-06T16:43:19.035525Z"
    }
   },
   "outputs": [
    {
     "data": {
      "text/plain": [
       "[67, 345]"
      ]
     },
     "execution_count": 10,
     "metadata": {},
     "output_type": "execute_result"
    }
   ],
   "source": [
    "two_oldest_ages([23,45,67,345])"
   ]
  },
  {
   "cell_type": "code",
   "execution_count": 6,
   "metadata": {
    "ExecuteTime": {
     "end_time": "2020-11-06T16:42:16.148614Z",
     "start_time": "2020-11-06T16:42:16.143703Z"
    }
   },
   "outputs": [],
   "source": [
    "from heapq import nlargest\n",
    "\n",
    "def two_oldest_ages(ages):\n",
    "    return sorted(nlargest(2,ages))\n"
   ]
  },
  {
   "cell_type": "code",
   "execution_count": 11,
   "metadata": {
    "ExecuteTime": {
     "end_time": "2020-11-06T16:43:29.008368Z",
     "start_time": "2020-11-06T16:43:28.998809Z"
    }
   },
   "outputs": [
    {
     "data": {
      "text/plain": [
       "[34, 57]"
      ]
     },
     "execution_count": 11,
     "metadata": {},
     "output_type": "execute_result"
    }
   ],
   "source": [
    "two_oldest_ages([20,34,33,57])"
   ]
  },
  {
   "cell_type": "code",
   "execution_count": 12,
   "metadata": {
    "ExecuteTime": {
     "end_time": "2020-11-06T16:43:53.789420Z",
     "start_time": "2020-11-06T16:43:53.785657Z"
    }
   },
   "outputs": [],
   "source": [
    "def two_oldest_ages(ages):\n",
    "    mass = []\n",
    "    for i in range(2):\n",
    "        mass.append(max(ages))\n",
    "        ages.remove(max(ages))\n",
    "    return sorted(mass)"
   ]
  },
  {
   "cell_type": "code",
   "execution_count": 15,
   "metadata": {
    "ExecuteTime": {
     "end_time": "2020-11-06T16:44:19.350397Z",
     "start_time": "2020-11-06T16:44:19.344840Z"
    }
   },
   "outputs": [
    {
     "data": {
      "text/plain": [
       "[23, 678]"
      ]
     },
     "execution_count": 15,
     "metadata": {},
     "output_type": "execute_result"
    }
   ],
   "source": [
    "two_oldest_ages([23,4,678])"
   ]
  },
  {
   "cell_type": "markdown",
   "metadata": {
    "ExecuteTime": {
     "end_time": "2020-11-06T16:44:39.672999Z",
     "start_time": "2020-11-06T16:44:39.667304Z"
    }
   },
   "source": [
    "## Exercise 8\n",
    "In the following code, both list_1 and list_2 are defined to have the same items. Mutate list_1. Does list_2 also get mutated?"
   ]
  },
  {
   "cell_type": "code",
   "execution_count": 17,
   "metadata": {
    "ExecuteTime": {
     "end_time": "2020-11-06T16:45:00.317421Z",
     "start_time": "2020-11-06T16:45:00.308927Z"
    }
   },
   "outputs": [
    {
     "data": {
      "text/plain": [
       "[1, 3, 5]"
      ]
     },
     "execution_count": 17,
     "metadata": {},
     "output_type": "execute_result"
    }
   ],
   "source": [
    "list_1 = [1, 3, 5]\n",
    "list_2 = [1, 3, 5]\n",
    "list_1[0] = -99\n",
    "list_2 "
   ]
  },
  {
   "cell_type": "markdown",
   "metadata": {},
   "source": [
    "## Exercise 29\n",
    "Create a report similar to the one in the String Formatting section of this chapter with the following financial information. Make columns for company, shares, earnings, and earnings per share.\n",
    "\n",
    "Use 'EPS' as the column name for earnings per share\n",
    "Center-align the column names\n",
    "Use 12 as the width for each column\n",
    "Display shares and earnings in scientific notation\n",
    "Limit all numeric fields to two decimal places\n",
    "Calculate EPS within the replacement field\n"
   ]
  },
  {
   "cell_type": "code",
   "execution_count": 18,
   "metadata": {
    "ExecuteTime": {
     "end_time": "2020-11-06T16:45:29.907009Z",
     "start_time": "2020-11-06T16:45:29.903133Z"
    }
   },
   "outputs": [],
   "source": [
    "# company\n",
    "c1 = 'Apple'\n",
    "c2 = 'Sclumberger'\n",
    "# shares\n",
    "s1 = 2345123776\n",
    "s2 = 1955452766\n",
    "# earnings\n",
    "e1 = 5100000000\n",
    "e2 = -899233640.33"
   ]
  },
  {
   "cell_type": "code",
   "execution_count": 19,
   "metadata": {
    "ExecuteTime": {
     "end_time": "2020-11-06T16:45:37.557192Z",
     "start_time": "2020-11-06T16:45:37.551758Z"
    }
   },
   "outputs": [
    {
     "name": "stdout",
     "output_type": "stream",
     "text": [
      "  Company   |   Shares   |  Earnings  |    EPS     \n",
      "---------------------------------------------------\n",
      "Apple       |    2.35e+09|    5.10e+09|        2.17\n",
      "Sclumberger |    1.96e+09|   -8.99e+08|       -0.46\n"
     ]
    }
   ],
   "source": [
    "print(f'{\"Company\":^12}|{\"Shares\":^12}|{\"Earnings\":^12}|{\"EPS\":^12}')\n",
    "print('-' * 51)\n",
    "print(f'{c1:<12}|{s1:>12.2e}|{e1:>12.2e}|{e1 / s1:>12.2f}')\n",
    "print(f'{c2:<12}|{s2:>12.2e}|{e2:>12.2e}|{e2 / s2:>12.2f}')"
   ]
  },
  {
   "cell_type": "code",
   "execution_count": 4,
   "metadata": {
    "ExecuteTime": {
     "end_time": "2020-11-10T14:22:52.005606Z",
     "start_time": "2020-11-10T14:22:51.996307Z"
    }
   },
   "outputs": [
    {
     "data": {
      "text/plain": [
       "120"
      ]
     },
     "execution_count": 4,
     "metadata": {},
     "output_type": "execute_result"
    }
   ],
   "source": [
    "import numpy as np\n",
    "\n",
    "def factorial (n):\n",
    "    if n>12 or n<0:\n",
    "        raise ValueError\n",
    "    x = list(range(1,n+1))\n",
    "    j = np.prod(x)\n",
    "    return j \n",
    "factorial(5)"
   ]
  },
  {
   "cell_type": "code",
   "execution_count": 1,
   "metadata": {
    "ExecuteTime": {
     "end_time": "2020-11-11T14:59:51.383322Z",
     "start_time": "2020-11-11T14:59:51.363080Z"
    }
   },
   "outputs": [
    {
     "data": {
      "text/plain": [
       "[0, 1, 4, 9, 16]"
      ]
     },
     "execution_count": 1,
     "metadata": {},
     "output_type": "execute_result"
    }
   ],
   "source": [
    "squared = []\n",
    "for i in range(5):\n",
    "    squared.append(i**2)\n",
    "squared"
   ]
  },
  {
   "cell_type": "code",
   "execution_count": 3,
   "metadata": {
    "ExecuteTime": {
     "end_time": "2020-11-11T15:01:38.014845Z",
     "start_time": "2020-11-11T15:01:25.932274Z"
    }
   },
   "outputs": [
    {
     "name": "stdout",
     "output_type": "stream",
     "text": [
      "5\n",
      "0\n",
      "1\n",
      "4\n",
      "9\n",
      "16\n"
     ]
    }
   ],
   "source": [
    "n=int(input())\n",
    "for i in range(n):\n",
    "    print (i**2)"
   ]
  },
  {
   "cell_type": "markdown",
   "metadata": {},
   "source": [
    "Given an integer,n, perform the following conditional actions:\n",
    "\n",
    "- If n is odd, print Weird\n",
    "- If n is even and in the inclusive range of 2 to 5 , print Not Weird\n",
    "- If n is even and in the inclusive range of 6 to 20, print Weird\n",
    "- If n is even and greater than 20, print Not Weird"
   ]
  },
  {
   "cell_type": "code",
   "execution_count": 7,
   "metadata": {
    "ExecuteTime": {
     "end_time": "2020-11-11T15:37:32.520607Z",
     "start_time": "2020-11-11T15:37:32.513757Z"
    }
   },
   "outputs": [
    {
     "name": "stdout",
     "output_type": "stream",
     "text": [
      "Not Weird\n"
     ]
    }
   ],
   "source": [
    "n = 240\n",
    "if n % 16 != 0:\n",
    "    print (\"Weird\")\n",
    "elif n % 16 == 0 and 2 < n <5:\n",
    "    print (\"Not Weird\")\n",
    "elif n % 16 == 0 and 6 < n <20:\n",
    "    print (\"Weird\")\n",
    "elif n % 16 == 0 and n> 20:\n",
    "    print (\"Not Weird\")"
   ]
  },
  {
   "cell_type": "code",
   "execution_count": 14,
   "metadata": {
    "ExecuteTime": {
     "end_time": "2020-11-11T15:54:37.374188Z",
     "start_time": "2020-11-11T15:54:37.362952Z"
    }
   },
   "outputs": [
    {
     "ename": "NameError",
     "evalue": "name 'raw_input' is not defined",
     "output_type": "error",
     "traceback": [
      "\u001b[0;31m---------------------------------------------------------------------------\u001b[0m",
      "\u001b[0;31mNameError\u001b[0m                                 Traceback (most recent call last)",
      "\u001b[0;32m<ipython-input-14-6e78e64ad3d0>\u001b[0m in \u001b[0;36m<module>\u001b[0;34m()\u001b[0m\n\u001b[1;32m      3\u001b[0m \u001b[0;34m\u001b[0m\u001b[0m\n\u001b[1;32m      4\u001b[0m \u001b[0;34m\u001b[0m\u001b[0m\n\u001b[0;32m----> 5\u001b[0;31m \u001b[0mN\u001b[0m \u001b[0;34m=\u001b[0m \u001b[0mint\u001b[0m\u001b[0;34m(\u001b[0m\u001b[0mraw_input\u001b[0m\u001b[0;34m(\u001b[0m\u001b[0;34m)\u001b[0m\u001b[0;34m.\u001b[0m\u001b[0mstrip\u001b[0m\u001b[0;34m(\u001b[0m\u001b[0;34m)\u001b[0m\u001b[0;34m)\u001b[0m\u001b[0;34m\u001b[0m\u001b[0m\n\u001b[0m\u001b[1;32m      6\u001b[0m \u001b[0;34m\u001b[0m\u001b[0m\n\u001b[1;32m      7\u001b[0m \u001b[0;32mif\u001b[0m \u001b[0;34m(\u001b[0m\u001b[0mN\u001b[0m\u001b[0;34m%\u001b[0m\u001b[0;36m2\u001b[0m\u001b[0;34m)\u001b[0m\u001b[0;34m:\u001b[0m\u001b[0;34m\u001b[0m\u001b[0m\n",
      "\u001b[0;31mNameError\u001b[0m: name 'raw_input' is not defined"
     ]
    }
   ],
   "source": [
    "import sys\n",
    "\n",
    "\n",
    "N = int(raw_input().strip())\n",
    "\n",
    "if (N%2):\n",
    "    print (\"Weird\")\n",
    "elif (N>=2 and N<=5):\n",
    "    print (\"Not Weird\")\n",
    "elif (N>=6 and N<=20):\n",
    "    print (\"Weird\")\n",
    "else: print (\"Not Weird\")"
   ]
  },
  {
   "cell_type": "code",
   "execution_count": 15,
   "metadata": {
    "ExecuteTime": {
     "end_time": "2020-11-11T17:29:33.151283Z",
     "start_time": "2020-11-11T17:29:26.913731Z"
    }
   },
   "outputs": [
    {
     "name": "stdout",
     "output_type": "stream",
     "text": [
      "20\n"
     ]
    }
   ],
   "source": [
    "a = int(input())"
   ]
  },
  {
   "cell_type": "markdown",
   "metadata": {},
   "source": [
    "## Task\n",
    "The provided code stub reads two integers from STDIN, a and b. Add code to print three lines where:\n",
    "\n",
    "- The first line contains the sum of the two numbers.\n",
    "- The second line contains the difference of the two numbers (first - second).\n",
    "- The third line contains the product of the two numbers."
   ]
  },
  {
   "cell_type": "code",
   "execution_count": null,
   "metadata": {
    "ExecuteTime": {
     "end_time": "2020-11-12T10:34:17.145398Z",
     "start_time": "2020-11-12T10:32:19.877Z"
    }
   },
   "outputs": [],
   "source": [
    "a = int(input())\n",
    "b = int(input())\n",
    "print (a + b)\n",
    "print (a - b)\n",
    "print (a * b)"
   ]
  },
  {
   "cell_type": "code",
   "execution_count": 31,
   "metadata": {
    "ExecuteTime": {
     "end_time": "2020-11-13T13:15:40.802830Z",
     "start_time": "2020-11-13T13:15:40.779258Z"
    }
   },
   "outputs": [],
   "source": [
    "a = [2,3,4,5,6,7]\n"
   ]
  },
  {
   "cell_type": "code",
   "execution_count": 34,
   "metadata": {
    "ExecuteTime": {
     "end_time": "2020-11-13T13:16:09.715911Z",
     "start_time": "2020-11-13T13:16:09.698923Z"
    }
   },
   "outputs": [
    {
     "data": {
      "text/plain": [
       "3"
      ]
     },
     "execution_count": 34,
     "metadata": {},
     "output_type": "execute_result"
    }
   ],
   "source": [
    "m = max(a[0],a[1])\n",
    "m"
   ]
  },
  {
   "cell_type": "code",
   "execution_count": 28,
   "metadata": {
    "ExecuteTime": {
     "end_time": "2020-11-13T13:15:11.128687Z",
     "start_time": "2020-11-13T13:15:11.114173Z"
    }
   },
   "outputs": [],
   "source": [
    "list1 = [10, 20, 4, 45, 99]\n",
    " \n",
    "mx=max(list1[0],list1[1])"
   ]
  },
  {
   "cell_type": "code",
   "execution_count": 29,
   "metadata": {
    "ExecuteTime": {
     "end_time": "2020-11-13T13:15:17.094969Z",
     "start_time": "2020-11-13T13:15:17.084732Z"
    }
   },
   "outputs": [
    {
     "data": {
      "text/plain": [
       "20"
      ]
     },
     "execution_count": 29,
     "metadata": {},
     "output_type": "execute_result"
    }
   ],
   "source": [
    "mx"
   ]
  },
  {
   "cell_type": "markdown",
   "metadata": {
    "ExecuteTime": {
     "end_time": "2020-11-13T13:37:44.541233Z",
     "start_time": "2020-11-13T13:37:44.518245Z"
    }
   },
   "source": [
    "## execise "
   ]
  },
  {
   "cell_type": "code",
   "execution_count": 37,
   "metadata": {
    "ExecuteTime": {
     "end_time": "2020-11-13T13:37:26.895365Z",
     "start_time": "2020-11-13T13:37:26.891923Z"
    }
   },
   "outputs": [],
   "source": [
    "records = [(\"sole\",24),(\"can\",20),(\"silvio\",50)]"
   ]
  },
  {
   "cell_type": "code",
   "execution_count": 38,
   "metadata": {
    "ExecuteTime": {
     "end_time": "2020-11-13T13:37:27.135770Z",
     "start_time": "2020-11-13T13:37:27.107951Z"
    }
   },
   "outputs": [
    {
     "name": "stdout",
     "output_type": "stream",
     "text": [
      "can\n"
     ]
    }
   ],
   "source": [
    "x = []\n",
    "for i in records:\n",
    "    x.append(i[1])\n",
    "    z = min(x)\n",
    "for y in records:\n",
    "    if y[1] == z:\n",
    "        print(y[0])"
   ]
  },
  {
   "cell_type": "markdown",
   "metadata": {},
   "source": [
    "1. Write a Python program to find those numbers which are divisible by 7 and multiple of 5, between 1500 and 2700 (both included). "
   ]
  },
  {
   "cell_type": "code",
   "execution_count": 40,
   "metadata": {
    "ExecuteTime": {
     "end_time": "2020-11-13T13:41:43.026647Z",
     "start_time": "2020-11-13T13:41:43.013226Z"
    }
   },
   "outputs": [
    {
     "name": "stdout",
     "output_type": "stream",
     "text": [
      "1505\n",
      "1540\n",
      "1575\n",
      "1610\n",
      "1645\n",
      "1680\n",
      "1715\n",
      "1750\n",
      "1785\n",
      "1820\n",
      "1855\n",
      "1890\n",
      "1925\n",
      "1960\n",
      "1995\n",
      "2030\n",
      "2065\n",
      "2100\n",
      "2135\n",
      "2170\n",
      "2205\n",
      "2240\n",
      "2275\n",
      "2310\n",
      "2345\n",
      "2380\n",
      "2415\n",
      "2450\n",
      "2485\n",
      "2520\n",
      "2555\n",
      "2590\n",
      "2625\n",
      "2660\n",
      "2695\n"
     ]
    }
   ],
   "source": [
    "for i in range(1500,2701):\n",
    "    if i%7 == 0 and i%5 == 0:\n",
    "        print (i)"
   ]
  },
  {
   "cell_type": "markdown",
   "metadata": {},
   "source": [
    "## Write a Python program that accepts a word from the user and reverse it."
   ]
  },
  {
   "cell_type": "code",
   "execution_count": 64,
   "metadata": {
    "ExecuteTime": {
     "end_time": "2020-11-13T13:53:43.017803Z",
     "start_time": "2020-11-13T13:53:43.012167Z"
    }
   },
   "outputs": [],
   "source": [
    "def rev(n):\n",
    "    x = n[::-1]\n",
    "    return x"
   ]
  },
  {
   "cell_type": "code",
   "execution_count": 65,
   "metadata": {
    "ExecuteTime": {
     "end_time": "2020-11-13T13:53:43.558600Z",
     "start_time": "2020-11-13T13:53:43.543287Z"
    }
   },
   "outputs": [
    {
     "data": {
      "text/plain": [
       "'dadelos'"
      ]
     },
     "execution_count": 65,
     "metadata": {},
     "output_type": "execute_result"
    }
   ],
   "source": [
    "rev(\"soledad\")\n",
    "    "
   ]
  },
  {
   "cell_type": "markdown",
   "metadata": {},
   "source": [
    "Write a Python program which iterates the integers from 1 to 50. For multiples of three print \"Fizz\" instead of the number and for the multiples of five print \"Buzz\". For numbers which are multiples of both three and five print \"FizzBuzz\". "
   ]
  },
  {
   "cell_type": "code",
   "execution_count": 77,
   "metadata": {
    "ExecuteTime": {
     "end_time": "2020-11-13T14:04:22.209813Z",
     "start_time": "2020-11-13T14:04:22.151208Z"
    }
   },
   "outputs": [
    {
     "name": "stdout",
     "output_type": "stream",
     "text": [
      "FizzBuzz\n",
      "1\n",
      "2\n",
      "Fizz\n",
      "4\n",
      "Buzz\n",
      "Fizz\n",
      "7\n",
      "8\n",
      "Fizz\n",
      "Buzz\n",
      "11\n",
      "Fizz\n",
      "13\n",
      "14\n",
      "FizzBuzz\n",
      "16\n",
      "17\n",
      "Fizz\n",
      "19\n",
      "Buzz\n",
      "Fizz\n",
      "22\n",
      "23\n",
      "Fizz\n",
      "Buzz\n",
      "26\n",
      "Fizz\n",
      "28\n",
      "29\n",
      "FizzBuzz\n",
      "31\n",
      "32\n",
      "Fizz\n",
      "34\n",
      "Buzz\n",
      "Fizz\n",
      "37\n",
      "38\n",
      "Fizz\n",
      "Buzz\n",
      "41\n",
      "Fizz\n",
      "43\n",
      "44\n",
      "FizzBuzz\n",
      "46\n",
      "47\n",
      "Fizz\n",
      "49\n",
      "Buzz\n"
     ]
    }
   ],
   "source": [
    "for i in range(0,51):\n",
    "    if i%3 == 0 and i%5 == 0:\n",
    "        print (\"FizzBuzz\")\n",
    "    elif i%3 == 0:\n",
    "        print (\"Fizz\")\n",
    "    elif i%5 == 0:\n",
    "        print (\"Buzz\")\n",
    "    else:\n",
    "        print (i)\n",
    "        "
   ]
  },
  {
   "cell_type": "markdown",
   "metadata": {},
   "source": [
    " ## Write a Python program to calculate a dog's age in dog's years. Go to the editor ",
    "Note: For the first two years, a dog year is equal to 10.5 human years. After that, each dog year equals 4 human years."
   ]
  },
  {
   "cell_type": "code",
   "execution_count": 83,
   "metadata": {
    "ExecuteTime": {
     "end_time": "2020-11-13T14:21:29.509471Z",
     "start_time": "2020-11-13T14:21:29.478573Z"
    }
   },
   "outputs": [],
   "source": [
    "def dog(x):\n",
    "    if x <=2:\n",
    "        age = 10.5\n",
    "    else:\n",
    "        age = 10.5 +(4*(x-2))\n",
    "    return age"
   ]
  },
  {
   "cell_type": "code",
   "execution_count": 84,
   "metadata": {
    "ExecuteTime": {
     "end_time": "2020-11-13T14:21:35.328835Z",
     "start_time": "2020-11-13T14:21:35.316877Z"
    }
   },
   "outputs": [
    {
     "data": {
      "text/plain": [
       "18.5"
      ]
     },
     "execution_count": 84,
     "metadata": {},
     "output_type": "execute_result"
    }
   ],
   "source": [
    "dog(4)"
   ]
  },
  {
   "cell_type": "markdown",
   "metadata": {},
   "source": [
    "## Complete the solution so that it returns true if the first argument(string) passed in ends with the 2nd argument (also a string).\n"
   ]
  },
  {
   "cell_type": "code",
   "execution_count": 1,
   "metadata": {
    "ExecuteTime": {
     "end_time": "2020-11-13T16:37:51.141001Z",
     "start_time": "2020-11-13T16:37:51.136667Z"
    }
   },
   "outputs": [],
   "source": [
    "def solution(string, ending):\n",
    "    return string.endswith(ending)"
   ]
  },
  {
   "cell_type": "code",
   "execution_count": 2,
   "metadata": {
    "ExecuteTime": {
     "end_time": "2020-11-13T16:38:07.791112Z",
     "start_time": "2020-11-13T16:38:07.775390Z"
    }
   },
   "outputs": [
    {
     "data": {
      "text/plain": [
       "True"
      ]
     },
     "execution_count": 2,
     "metadata": {},
     "output_type": "execute_result"
    }
   ],
   "source": [
    "solution(\"soledad\",\"dad\")"
   ]
  },
  {
   "cell_type": "markdown",
   "metadata": {},
   "source": [
    "## Take 2 strings s1 and s2 including only letters from a to z. Return a new sorted string, the longest possible, containing distinct letters, each taken only once - coming from s1 or s2."
   ]
  },
  {
   "cell_type": "code",
   "execution_count": 11,
   "metadata": {
    "ExecuteTime": {
     "end_time": "2020-11-13T16:55:06.700294Z",
     "start_time": "2020-11-13T16:55:06.693552Z"
    }
   },
   "outputs": [
    {
     "data": {
      "text/plain": [
       "'adelmosu'"
      ]
     },
     "execution_count": 11,
     "metadata": {},
     "output_type": "execute_result"
    }
   ],
   "source": [
    "def longest(a1, a2):\n",
    "    return \"\".join(sorted(set(a1 + a2)))\n",
    "longest(\"soledad\",\"musella\")"
   ]
  },
  {
   "cell_type": "code",
   "execution_count": 9,
   "metadata": {
    "ExecuteTime": {
     "end_time": "2020-11-13T16:54:40.011714Z",
     "start_time": "2020-11-13T16:54:40.004624Z"
    }
   },
   "outputs": [
    {
     "data": {
      "text/plain": [
       "['s', 'o', 'l', 'e', 'd', 'd', 'a']"
      ]
     },
     "execution_count": 9,
     "metadata": {},
     "output_type": "execute_result"
    }
   ],
   "source": [
    "a = \"soledad\"\n",
    "sorted(a, reverse = True)"
   ]
  },
  {
   "cell_type": "code",
   "execution_count": 8,
   "metadata": {
    "ExecuteTime": {
     "end_time": "2020-11-13T16:53:36.573123Z",
     "start_time": "2020-11-13T16:53:36.565647Z"
    }
   },
   "outputs": [
    {
     "name": "stdout",
     "output_type": "stream",
     "text": [
      "['a', 'b', 'c', 'd', 'e', 'f', 'g', 'h']\n"
     ]
    }
   ],
   "source": [
    "a = (\"b\", \"g\", \"a\", \"d\", \"f\", \"c\", \"h\", \"e\")\n",
    "x = sorted(a)\n",
    "print(x)"
   ]
  },
  {
   "cell_type": "markdown",
   "metadata": {},
   "source": [
    "## Create a function that returns the name of the winner in a fight between two fighters.\n",
    "\n",
    "Each fighter takes turns attacking the other and whoever kills the other first is victorious. Death is defined as having health <= 0.\n",
    "\n",
    "Each fighter will be a Fighter object/instance. See the Fighter class below in your chosen language.\n",
    "\n",
    "Both health and damagePerAttack (damage_per_attack for python) will be integers larger than 0. You can mutate the Fighter objects."
   ]
  },
  {
   "cell_type": "markdown",
   "metadata": {},
   "source": [
    "### 1"
   ]
  },
  {
   "cell_type": "code",
   "execution_count": 1,
   "metadata": {
    "ExecuteTime": {
     "end_time": "2020-11-13T17:12:00.197841Z",
     "start_time": "2020-11-13T17:12:00.192101Z"
    }
   },
   "outputs": [],
   "source": [
    "def declare_winner(fighter1, fighter2, first_attacker):\n",
    "    cur, opp = (fighter1, fighter2) if first_attacker == fighter1.name else (fighter2, fighter1)\n",
    "    while cur.health > 0:        \n",
    "        opp.health -= cur.damage_per_attack\n",
    "        cur, opp = opp, cur\n",
    "    return opp.name"
   ]
  },
  {
   "cell_type": "markdown",
   "metadata": {
    "ExecuteTime": {
     "end_time": "2020-11-13T17:14:23.424209Z",
     "start_time": "2020-11-13T17:14:23.420550Z"
    }
   },
   "source": [
    "### 2"
   ]
  },
  {
   "cell_type": "code",
   "execution_count": 2,
   "metadata": {
    "ExecuteTime": {
     "end_time": "2020-11-13T17:13:00.878925Z",
     "start_time": "2020-11-13T17:13:00.874306Z"
    }
   },
   "outputs": [],
   "source": [
    "from math import ceil\n",
    "from operator import attrgetter\n",
    "\n",
    "\n",
    "def declare_winner(fighter1, fighter2, first_attacker):\n",
    "    fighter1.turns = ceil(fighter1.health / float(fighter2.damage_per_attack))\n",
    "    fighter2.turns = ceil(fighter2.health / float(fighter1.damage_per_attack))\n",
    "    if fighter1.turns == fighter2.turns:\n",
    "        return first_attacker\n",
    "    return max(fighter1, fighter2, key=attrgetter('turns')).name"
   ]
  },
  {
   "cell_type": "markdown",
   "metadata": {},
   "source": [
    "### 3"
   ]
  },
  {
   "cell_type": "code",
   "execution_count": 3,
   "metadata": {
    "ExecuteTime": {
     "end_time": "2020-11-13T17:13:28.799247Z",
     "start_time": "2020-11-13T17:13:28.793247Z"
    }
   },
   "outputs": [],
   "source": [
    "def declare_winner(fighter1, fighter2, first_attacker):\n",
    "    # Code your solution here\n",
    "    if(fighter1.name == first_attacker):\n",
    "        winner = fight(fighter1,fighter2)\n",
    "    elif(fighter2.name == first_attacker):\n",
    "        winner = fight(fighter2,fighter1)\n",
    "    return winner.name\n",
    "    \n",
    "def fight(attacker,defender):\n",
    "    print('defender: ' + defender.name + ' current health: ' + str(defender.health))\n",
    "    print('attacker: ' + attacker.name + ' attacks for: ' + str(attacker.damage_per_attack))\n",
    "\n",
    "    defender.health = defender.health - attacker.damage_per_attack\n",
    "    print(defender.name + ' health after being attacked is: ' + str(defender.health))\n",
    "    \n",
    "    if(defender.health <= 0):\n",
    "        print('\\r\\n')\n",
    "        print(defender.name + ' has been defeated')\n",
    "        print(attacker.name + ' is the winner!')\n",
    "        return attacker\n",
    "    else:\n",
    "        print('\\r\\n')\n",
    "        return fight(defender,attacker)"
   ]
  },
  {
   "cell_type": "markdown",
   "metadata": {},
   "source": [
    "#### 4"
   ]
  },
  {
   "cell_type": "code",
   "execution_count": 4,
   "metadata": {
    "ExecuteTime": {
     "end_time": "2020-11-13T17:13:55.996288Z",
     "start_time": "2020-11-13T17:13:55.988700Z"
    }
   },
   "outputs": [],
   "source": [
    "def declare_winner(fighter1, fighter2, first_attacker):\n",
    "    if fighter1.name == first_attacker:\n",
    "        attacker, defender = fighter1, fighter2\n",
    "    else:\n",
    "        attacker, defender = fighter2, fighter1\n",
    "    while True:\n",
    "        defender.health -= attacker.damage_per_attack\n",
    "        if defender.health <= 0:\n",
    "            return attacker.name\n",
    "        else:\n",
    "            attacker, defender = defender, attacker"
   ]
  },
  {
   "cell_type": "markdown",
   "metadata": {},
   "source": [
    "#### Exercise\n",
    "#### Given a two integer numbers return their product and if the product is greater than 1000, then return their sum\n"
   ]
  },
  {
   "cell_type": "code",
   "execution_count": 2,
   "metadata": {
    "ExecuteTime": {
     "end_time": "2020-11-21T13:23:41.814477Z",
     "start_time": "2020-11-21T13:23:41.810773Z"
    }
   },
   "outputs": [],
   "source": [
    "a = 20\n",
    "b = 30"
   ]
  },
  {
   "cell_type": "code",
   "execution_count": 3,
   "metadata": {
    "ExecuteTime": {
     "end_time": "2020-11-21T13:23:50.132098Z",
     "start_time": "2020-11-21T13:23:50.119230Z"
    }
   },
   "outputs": [
    {
     "data": {
      "text/plain": [
       "600"
      ]
     },
     "execution_count": 3,
     "metadata": {},
     "output_type": "execute_result"
    }
   ],
   "source": [
    "def numbers(a,b):\n",
    "    product = a*b\n",
    "    a = 20\n",
    "    b = 30\n",
    "    if product <= 1000:\n",
    "        return product\n",
    "    else :\n",
    "        return a+b\n",
    "numbers(a,b)"
   ]
  },
  {
   "cell_type": "markdown",
   "metadata": {
    "ExecuteTime": {
     "end_time": "2020-11-21T13:24:34.681530Z",
     "start_time": "2020-11-21T13:24:34.677328Z"
    }
   },
   "source": [
    "#### Question 2: Given a range of first 10 numbers, Iterate from start number to the end number and print the sum of the current number and previous number"
   ]
  },
  {
   "cell_type": "code",
   "execution_count": 5,
   "metadata": {
    "ExecuteTime": {
     "end_time": "2020-11-21T13:24:53.261699Z",
     "start_time": "2020-11-21T13:24:53.254663Z"
    }
   },
   "outputs": [
    {
     "data": {
      "text/plain": [
       "[1, 2, 3, 4, 5, 6, 7, 8, 9, 10]"
      ]
     },
     "execution_count": 5,
     "metadata": {},
     "output_type": "execute_result"
    }
   ],
   "source": [
    "z = list(range(1,11))\n",
    "z"
   ]
  },
  {
   "cell_type": "code",
   "execution_count": 6,
   "metadata": {
    "ExecuteTime": {
     "end_time": "2020-11-21T13:25:03.527661Z",
     "start_time": "2020-11-21T13:25:03.514134Z"
    }
   },
   "outputs": [
    {
     "name": "stdout",
     "output_type": "stream",
     "text": [
      "Current Number 0 Previous Number  0  Sum:  0\n",
      "Current Number 1 Previous Number  0  Sum:  1\n",
      "Current Number 2 Previous Number  1  Sum:  3\n",
      "Current Number 3 Previous Number  2  Sum:  5\n",
      "Current Number 4 Previous Number  3  Sum:  7\n",
      "Current Number 5 Previous Number  4  Sum:  9\n",
      "Current Number 6 Previous Number  5  Sum:  11\n",
      "Current Number 7 Previous Number  6  Sum:  13\n",
      "Current Number 8 Previous Number  7  Sum:  15\n",
      "Current Number 9 Previous Number  8  Sum:  17\n"
     ]
    }
   ],
   "source": [
    "def sumNum(num):\n",
    "    previousNum = 0\n",
    "    for i in range(num):\n",
    "        sum = previousNum + i\n",
    "        print(\"Current Number\", i, \"Previous Number \", previousNum,\" Sum: \", sum)\n",
    "        previousNum = i\n",
    "\n",
    "sumNum(10)"
   ]
  },
  {
   "cell_type": "markdown",
   "metadata": {},
   "source": [
    "#### Question 3: Given a string, display only those characters which are present at an even index number."
   ]
  },
  {
   "cell_type": "code",
   "execution_count": 7,
   "metadata": {
    "ExecuteTime": {
     "end_time": "2020-11-21T13:27:08.891086Z",
     "start_time": "2020-11-21T13:27:08.882064Z"
    }
   },
   "outputs": [
    {
     "name": "stdout",
     "output_type": "stream",
     "text": [
      "Orginal String is  pynative\n",
      "Printing only even index chars\n",
      "index[ 0 ] p\n",
      "index[ 2 ] n\n",
      "index[ 4 ] t\n",
      "index[ 6 ] v\n"
     ]
    }
   ],
   "source": [
    "def printEveIndexChar(str):\n",
    "  for i in range(0, len(str)-1, 2):\n",
    "    print(\"index[\",i,\"]\", str[i] )\n",
    "\n",
    "inputStr = \"pynative\" \n",
    "print(\"Orginal String is \", inputStr)\n",
    "\n",
    "print(\"Printing only even index chars\")\n",
    "printEveIndexChar(inputStr)"
   ]
  },
  {
   "cell_type": "markdown",
   "metadata": {},
   "source": [
    "#### Print First 10 natural numbers using while loop"
   ]
  },
  {
   "cell_type": "code",
   "execution_count": 8,
   "metadata": {
    "ExecuteTime": {
     "end_time": "2020-11-21T13:27:34.197875Z",
     "start_time": "2020-11-21T13:27:34.188891Z"
    }
   },
   "outputs": [
    {
     "name": "stdout",
     "output_type": "stream",
     "text": [
      "0\n",
      "1\n",
      "2\n",
      "3\n",
      "4\n",
      "5\n",
      "6\n",
      "7\n",
      "8\n",
      "9\n",
      "10\n"
     ]
    }
   ],
   "source": [
    "i = 0\n",
    "while i <= 10:\n",
    "    print(i)\n",
    "    i += 1"
   ]
  },
  {
   "cell_type": "markdown",
   "metadata": {},
   "source": [
    "#### Accept number from user and calculate the sum of all number between 1 and given number"
   ]
  },
  {
   "cell_type": "code",
   "execution_count": 9,
   "metadata": {
    "ExecuteTime": {
     "end_time": "2020-11-21T13:28:08.024481Z",
     "start_time": "2020-11-21T13:28:04.090320Z"
    }
   },
   "outputs": [
    {
     "name": "stdout",
     "output_type": "stream",
     "text": [
      "Please enter number 123\n",
      "\n",
      "\n",
      "Sum is:  7626\n"
     ]
    }
   ],
   "source": [
    "sum1 = 0\n",
    "n = int(input(\"Please enter number \"))\n",
    "for i in range(1, n + 1, 1):\n",
    "    sum1 += i\n",
    "print(\"\\n\")\n",
    "print(\"Sum is: \", sum1)"
   ]
  },
  {
   "cell_type": "markdown",
   "metadata": {},
   "source": [
    "#### Write a Python function that takes a list of words and returns the length of the longest one"
   ]
  },
  {
   "cell_type": "code",
   "execution_count": 10,
   "metadata": {
    "ExecuteTime": {
     "end_time": "2020-11-21T13:32:22.275016Z",
     "start_time": "2020-11-21T13:32:22.258310Z"
    }
   },
   "outputs": [
    {
     "name": "stdout",
     "output_type": "stream",
     "text": [
      "SOLEDAD\n"
     ]
    }
   ],
   "source": [
    "def find_longest_word(words_list):\n",
    "    word_len = []\n",
    "    for n in words_list:\n",
    "        word_len.append((len(n), n))\n",
    "    word_len.sort()\n",
    "    return word_len[-1][1]\n",
    "\n",
    "print(find_longest_word([\"SOLEDAD\", \"IRENE\", \"MARIA\"]))"
   ]
  },
  {
   "cell_type": "markdown",
   "metadata": {},
   "source": [
    "#### Write a Python program to get a single string from two given strings, separated by a space and swap the first two characters of each string"
   ]
  },
  {
   "cell_type": "code",
   "execution_count": 11,
   "metadata": {
    "ExecuteTime": {
     "end_time": "2020-11-21T13:33:15.003456Z",
     "start_time": "2020-11-21T13:33:14.996174Z"
    }
   },
   "outputs": [
    {
     "name": "stdout",
     "output_type": "stream",
     "text": [
      "xyc abz\n"
     ]
    }
   ],
   "source": [
    "def chars_mix_up(a, b):\n",
    "  new_a = b[:2] + a[2:]\n",
    "  new_b = a[:2] + b[2:]\n",
    "\n",
    "  return new_a + ' ' + new_b\n",
    "print(chars_mix_up('abc', 'xyz'))"
   ]
  },
  {
   "cell_type": "markdown",
   "metadata": {},
   "source": [
    "#### Multiplies all the items in a list"
   ]
  },
  {
   "cell_type": "code",
   "execution_count": 12,
   "metadata": {
    "ExecuteTime": {
     "end_time": "2020-11-21T13:38:18.861468Z",
     "start_time": "2020-11-21T13:38:18.856389Z"
    }
   },
   "outputs": [
    {
     "name": "stdout",
     "output_type": "stream",
     "text": [
      "960\n"
     ]
    }
   ],
   "source": [
    "def multiply_list(items):\n",
    "    tot = 1\n",
    "    for x in items:\n",
    "        tot *= x\n",
    "    return tot\n",
    "print(multiply_list([4,2,-8,5,-3]))"
   ]
  },
  {
   "cell_type": "markdown",
   "metadata": {
    "ExecuteTime": {
     "end_time": "2020-11-21T13:38:36.521603Z",
     "start_time": "2020-11-21T13:38:36.518446Z"
    }
   },
   "source": [
    "#### Write a Python program to get the smallest number from a list."
   ]
  },
  {
   "cell_type": "code",
   "execution_count": 14,
   "metadata": {
    "ExecuteTime": {
     "end_time": "2020-11-21T13:38:47.666036Z",
     "start_time": "2020-11-21T13:38:47.660627Z"
    }
   },
   "outputs": [
    {
     "name": "stdout",
     "output_type": "stream",
     "text": [
      "-10\n"
     ]
    }
   ],
   "source": [
    "def smallest_num_in_list( list ):\n",
    "    min = list[ 0 ]\n",
    "    for a in list:\n",
    "        if a < min:\n",
    "            min = a\n",
    "    return min\n",
    "print(smallest_num_in_list([4, 2, -10, 1]))"
   ]
  },
  {
   "cell_type": "code",
   "execution_count": null,
   "metadata": {},
   "outputs": [],
   "source": []
  }
 ],
 "metadata": {
  "kernelspec": {
   "display_name": "Python [conda env:learn-env] *",
   "language": "python",
   "name": "conda-env-learn-env-py"
  },
  "language_info": {
   "codemirror_mode": {
    "name": "ipython",
    "version": 3
   },
   "file_extension": ".py",
   "mimetype": "text/x-python",
   "name": "python",
   "nbconvert_exporter": "python",
   "pygments_lexer": "ipython3",
   "version": "3.6.6"
  }
 },
 "nbformat": 4,
 "nbformat_minor": 2
}
