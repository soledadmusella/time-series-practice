{
 "cells": [
  {
   "cell_type": "markdown",
   "metadata": {
    "ExecuteTime": {
     "end_time": "2020-07-23T10:25:44.369860Z",
     "start_time": "2020-07-23T10:25:44.361192Z"
    }
   },
   "source": [
    "### SENTIMENT ANALYSIS "
   ]
  },
  {
   "cell_type": "code",
   "execution_count": 1,
   "metadata": {
    "ExecuteTime": {
     "end_time": "2020-07-24T10:13:53.185333Z",
     "start_time": "2020-07-24T10:13:53.177864Z"
    }
   },
   "outputs": [],
   "source": [
    "#!pip install nltk"
   ]
  },
  {
   "cell_type": "code",
   "execution_count": 2,
   "metadata": {
    "ExecuteTime": {
     "end_time": "2020-07-24T10:13:53.632178Z",
     "start_time": "2020-07-24T10:13:53.626026Z"
    }
   },
   "outputs": [],
   "source": [
    "review = 'From the beginning of the movie, it gives the feeling the director is trying to portray something, what I mean to say that instead of the story dictating the style in which the movie should be made, he has gone in the opposite way, he had a type of move that he wanted to make, and wrote a story to suite it. And he has failed in it very badly. I guess he was trying to make a stylish movie. Any way I think this movie is a total waste of time and effort. In the credit of the director, he knows the media that he is working with, what I am trying to say is I have seen worst movies than this. Here at least the director knows to maintain the continuity in the movie. And the actors also have given a decent performance.'"
   ]
  },
  {
   "cell_type": "code",
   "execution_count": 3,
   "metadata": {
    "ExecuteTime": {
     "end_time": "2020-07-24T10:13:56.410348Z",
     "start_time": "2020-07-24T10:13:54.167774Z"
    }
   },
   "outputs": [
    {
     "name": "stderr",
     "output_type": "stream",
     "text": [
      "[nltk_data] Downloading package stopwords to\n",
      "[nltk_data]     /Users/soledadmusella/nltk_data...\n",
      "[nltk_data]   Package stopwords is already up-to-date!\n",
      "[nltk_data] Downloading package punkt to\n",
      "[nltk_data]     /Users/soledadmusella/nltk_data...\n",
      "[nltk_data]   Package punkt is already up-to-date!\n",
      "[nltk_data] Downloading package wordnet to\n",
      "[nltk_data]     /Users/soledadmusella/nltk_data...\n",
      "[nltk_data]   Package wordnet is already up-to-date!\n"
     ]
    },
    {
     "data": {
      "text/plain": [
       "True"
      ]
     },
     "execution_count": 3,
     "metadata": {},
     "output_type": "execute_result"
    }
   ],
   "source": [
    "import nltk\n",
    "import matplotlib.pyplot as plt\n",
    "import pandas as pd\n",
    "from sklearn.feature_extraction.text import CountVectorizer\n",
    "from sklearn.feature_extraction.text import TfidfVectorizer\n",
    "from sklearn.feature_extraction.text import TfidfTransformer\n",
    "from nltk.probability import FreqDist\n",
    "from nltk.corpus import stopwords\n",
    "from nltk.stem import PorterStemmer\n",
    "from sklearn.metrics import confusion_matrix\n",
    "import seaborn as sns\n",
    "from sklearn.naive_bayes import MultinomialNB\n",
    "from sklearn import metrics\n",
    "from sklearn.model_selection import train_test_split\n",
    "from matplotlib import cm\n",
    "import numpy as np\n",
    "from sklearn.ensemble import RandomForestClassifier\n",
    "from sklearn.metrics import accuracy_score\n",
    "from sklearn.metrics import f1_score\n",
    "from sklearn.naive_bayes import GaussianNB\n",
    "\n",
    "nltk.download('stopwords')\n",
    "nltk.download('punkt')\n",
    "nltk.download('wordnet')"
   ]
  },
  {
   "cell_type": "markdown",
   "metadata": {},
   "source": [
    "First step is Tokenization. "
   ]
  },
  {
   "cell_type": "code",
   "execution_count": 4,
   "metadata": {
    "ExecuteTime": {
     "end_time": "2020-07-24T10:13:56.427973Z",
     "start_time": "2020-07-24T10:13:56.420271Z"
    }
   },
   "outputs": [],
   "source": [
    "from nltk.tokenize import RegexpTokenizer\n",
    "tokenizer = RegexpTokenizer(r'[a-zA-Z0-9]+')\n",
    "\n",
    "tokenized_review = tokenizer.tokenize(review)"
   ]
  },
  {
   "cell_type": "code",
   "execution_count": 5,
   "metadata": {
    "ExecuteTime": {
     "end_time": "2020-07-24T10:13:57.480745Z",
     "start_time": "2020-07-24T10:13:57.473777Z"
    }
   },
   "outputs": [
    {
     "name": "stdout",
     "output_type": "stream",
     "text": [
      "['From', 'the', 'beginning', 'of', 'the', 'movie', 'it', 'gives', 'the', 'feeling', 'the', 'director', 'is', 'trying', 'to', 'portray', 'something', 'what', 'I', 'mean', 'to', 'say', 'that', 'instead', 'of', 'the', 'story', 'dictating', 'the', 'style', 'in', 'which', 'the', 'movie', 'should', 'be', 'made', 'he', 'has', 'gone', 'in', 'the', 'opposite', 'way', 'he', 'had', 'a', 'type', 'of', 'move', 'that', 'he', 'wanted', 'to', 'make', 'and', 'wrote', 'a', 'story', 'to', 'suite', 'it', 'And', 'he', 'has', 'failed', 'in', 'it', 'very', 'badly', 'I', 'guess', 'he', 'was', 'trying', 'to', 'make', 'a', 'stylish', 'movie', 'Any', 'way', 'I', 'think', 'this', 'movie', 'is', 'a', 'total', 'waste', 'of', 'time', 'and', 'effort', 'In', 'the', 'credit', 'of', 'the', 'director', 'he', 'knows', 'the', 'media', 'that', 'he', 'is', 'working', 'with', 'what', 'I', 'am', 'trying', 'to', 'say', 'is', 'I', 'have', 'seen', 'worst', 'movies', 'than', 'this', 'Here', 'at', 'least', 'the', 'director', 'knows', 'to', 'maintain', 'the', 'continuity', 'in', 'the', 'movie', 'And', 'the', 'actors', 'also', 'have', 'given', 'a', 'decent', 'performance']\n"
     ]
    }
   ],
   "source": [
    "print(tokenized_review)"
   ]
  },
  {
   "cell_type": "code",
   "execution_count": 6,
   "metadata": {
    "ExecuteTime": {
     "end_time": "2020-07-24T10:13:58.432289Z",
     "start_time": "2020-07-24T10:13:58.428092Z"
    }
   },
   "outputs": [
    {
     "name": "stdout",
     "output_type": "stream",
     "text": [
      "<FreqDist with 78 samples and 145 outcomes>\n"
     ]
    }
   ],
   "source": [
    "fdist = FreqDist(tokenized_review)\n",
    "print(fdist)"
   ]
  },
  {
   "cell_type": "code",
   "execution_count": 7,
   "metadata": {
    "ExecuteTime": {
     "end_time": "2020-07-24T10:13:59.368342Z",
     "start_time": "2020-07-24T10:13:59.029190Z"
    }
   },
   "outputs": [
    {
     "data": {
      "image/png": "[encoded data removed]",
      "text/plain": [
       "<Figure size 720x720 with 1 Axes>"
      ]
     },
     "metadata": {
      "needs_background": "light"
     },
     "output_type": "display_data"
    },
    {
     "data": {
      "text/plain": [
       "<matplotlib.axes._subplots.AxesSubplot at 0x1a25de7278>"
      ]
     },
     "execution_count": 7,
     "metadata": {},
     "output_type": "execute_result"
    }
   ],
   "source": [
    "plt.figure(figsize=(10,10))\n",
    "fdist.plot(30)"
   ]
  },
  {
   "cell_type": "code",
   "execution_count": 8,
   "metadata": {
    "ExecuteTime": {
     "end_time": "2020-07-24T10:13:59.548936Z",
     "start_time": "2020-07-24T10:13:59.545884Z"
    }
   },
   "outputs": [],
   "source": [
    "# La Farola example review"
   ]
  },
  {
   "cell_type": "code",
   "execution_count": 9,
   "metadata": {
    "ExecuteTime": {
     "end_time": "2020-07-24T10:14:01.637847Z",
     "start_time": "2020-07-24T10:14:01.633470Z"
    }
   },
   "outputs": [],
   "source": [
    "la_farola_review = \"This place is super busy and you should book a table. We didn’t but we were lucky enough that they had space for us. Originally we were going to sit at the central table but these are bar stools and when staff saw that I was quite heavily pregnant they gave us a table of our own which was very kind.I’ve wanted to try the food here for a while as it is always packed in here and it was really good. We ordered a selection of plates and there are larger dishes like paella available too. The pig cheeks were absolutely delicious and we ordered another plate of them.Hopefully this place will be up and running again after lockdown and we’ll be able to enjoy the food in the sunshine.\""
   ]
  },
  {
   "cell_type": "code",
   "execution_count": 10,
   "metadata": {
    "ExecuteTime": {
     "end_time": "2020-07-24T10:14:01.862781Z",
     "start_time": "2020-07-24T10:14:01.856002Z"
    }
   },
   "outputs": [],
   "source": [
    "tokenizer = RegexpTokenizer(r'[a-zA-Z0-9]+')\n",
    "\n",
    "tokenized_review_la_farola = tokenizer.tokenize(la_farola_review)"
   ]
  },
  {
   "cell_type": "code",
   "execution_count": 11,
   "metadata": {
    "ExecuteTime": {
     "end_time": "2020-07-24T10:14:02.076750Z",
     "start_time": "2020-07-24T10:14:02.068506Z"
    }
   },
   "outputs": [
    {
     "name": "stdout",
     "output_type": "stream",
     "text": [
      "['This', 'place', 'is', 'super', 'busy', 'and', 'you', 'should', 'book', 'a', 'table', 'We', 'didn', 't', 'but', 'we', 'were', 'lucky', 'enough', 'that', 'they', 'had', 'space', 'for', 'us', 'Originally', 'we', 'were', 'going', 'to', 'sit', 'at', 'the', 'central', 'table', 'but', 'these', 'are', 'bar', 'stools', 'and', 'when', 'staff', 'saw', 'that', 'I', 'was', 'quite', 'heavily', 'pregnant', 'they', 'gave', 'us', 'a', 'table', 'of', 'our', 'own', 'which', 'was', 'very', 'kind', 'I', 've', 'wanted', 'to', 'try', 'the', 'food', 'here', 'for', 'a', 'while', 'as', 'it', 'is', 'always', 'packed', 'in', 'here', 'and', 'it', 'was', 'really', 'good', 'We', 'ordered', 'a', 'selection', 'of', 'plates', 'and', 'there', 'are', 'larger', 'dishes', 'like', 'paella', 'available', 'too', 'The', 'pig', 'cheeks', 'were', 'absolutely', 'delicious', 'and', 'we', 'ordered', 'another', 'plate', 'of', 'them', 'Hopefully', 'this', 'place', 'will', 'be', 'up', 'and', 'running', 'again', 'after', 'lockdown', 'and', 'we', 'll', 'be', 'able', 'to', 'enjoy', 'the', 'food', 'in', 'the', 'sunshine']\n"
     ]
    }
   ],
   "source": [
    "print(tokenized_review_la_farola)"
   ]
  },
  {
   "cell_type": "code",
   "execution_count": 12,
   "metadata": {
    "ExecuteTime": {
     "end_time": "2020-07-24T10:14:02.287921Z",
     "start_time": "2020-07-24T10:14:02.282449Z"
    }
   },
   "outputs": [
    {
     "name": "stdout",
     "output_type": "stream",
     "text": [
      "<FreqDist with 95 samples and 136 outcomes>\n"
     ]
    }
   ],
   "source": [
    "fdist = FreqDist(tokenized_review_la_farola)\n",
    "print(fdist)"
   ]
  },
  {
   "cell_type": "code",
   "execution_count": 13,
   "metadata": {
    "ExecuteTime": {
     "end_time": "2020-07-24T10:14:02.951852Z",
     "start_time": "2020-07-24T10:14:02.592479Z"
    }
   },
   "outputs": [
    {
     "data": {
      "image/png": "[encoded data removed]",
      "text/plain": [
       "<Figure size 720x720 with 1 Axes>"
      ]
     },
     "metadata": {
      "needs_background": "light"
     },
     "output_type": "display_data"
    },
    {
     "data": {
      "text/plain": [
       "<matplotlib.axes._subplots.AxesSubplot at 0x1a26341588>"
      ]
     },
     "execution_count": 13,
     "metadata": {},
     "output_type": "execute_result"
    }
   ],
   "source": [
    "plt.figure(figsize=(10,10))\n",
    "fdist.plot(30)"
   ]
  },
  {
   "cell_type": "markdown",
   "metadata": {},
   "source": [
    "## STOPWORD REMOVAL"
   ]
  },
  {
   "cell_type": "code",
   "execution_count": 14,
   "metadata": {
    "ExecuteTime": {
     "end_time": "2020-07-24T10:14:03.431772Z",
     "start_time": "2020-07-24T10:14:03.428559Z"
    }
   },
   "outputs": [],
   "source": [
    "# remove semantically meaningless words"
   ]
  },
  {
   "cell_type": "code",
   "execution_count": 15,
   "metadata": {
    "ExecuteTime": {
     "end_time": "2020-07-24T10:14:03.678916Z",
     "start_time": "2020-07-24T10:14:03.667069Z"
    }
   },
   "outputs": [
    {
     "name": "stdout",
     "output_type": "stream",
     "text": [
      "{'have', 'there', 'how', 'until', 'than', 'yourself', 'weren', 'now', 'some', 'against', \"isn't\", 'themselves', 'again', 'this', 'the', 'who', 'each', 'when', 'because', 'him', 'd', \"she's\", 'it', 'after', 'yours', \"aren't\", 'its', 'nor', 'or', 'into', 'that', 'being', 'were', 'at', \"don't\", 'their', 'with', 'any', 'doesn', 'but', 've', 'mustn', 'having', 'we', 'do', 'does', 'from', 'o', 'so', \"that'll\", 'needn', 'will', 'out', 'above', 'wasn', 'those', 'himself', 'of', 'i', 'which', 'in', 'me', 'couldn', \"needn't\", 'he', 'while', \"haven't\", 'more', \"shouldn't\", \"you'd\", 'they', 'them', 'she', \"you're\", 's', 'yourselves', 'll', \"wouldn't\", 'my', 'aren', 'these', 'theirs', 'further', 'all', 'wouldn', 'no', 'both', 'shan', 'to', 'if', \"hasn't\", 'hasn', 'shouldn', 'myself', 'hadn', 'where', 'you', 'for', 'is', 't', 'isn', 'same', 'didn', 'ourselves', 'am', 'our', 'whom', 'are', 'most', 'only', 'then', \"weren't\", 'here', 'very', 'been', 'too', \"you'll\", 'on', 'be', 'mightn', 'itself', 'was', \"you've\", 'few', 'his', 'through', 'between', 'your', 'off', \"won't\", 'such', \"didn't\", 'other', 'an', 'before', 'once', 'as', \"mustn't\", 'has', 'own', 'a', 'ain', 'about', 'won', 'down', 'and', 'should', 'what', 'did', \"doesn't\", 'had', 'not', 'hers', \"it's\", 'over', 'don', 'why', 'by', 're', 'during', \"hadn't\", 'haven', 'just', \"couldn't\", 'under', 'ours', 'm', 'up', \"wasn't\", 'ma', 'can', 'doing', 'y', \"shan't\", \"should've\", \"mightn't\", 'below', 'herself', 'her'}\n"
     ]
    }
   ],
   "source": [
    "stop_words=set(stopwords.words(\"english\"))\n",
    "print(stop_words)"
   ]
  },
  {
   "cell_type": "code",
   "execution_count": 16,
   "metadata": {
    "ExecuteTime": {
     "end_time": "2020-07-24T10:14:03.873167Z",
     "start_time": "2020-07-24T10:14:03.868038Z"
    }
   },
   "outputs": [
    {
     "name": "stdout",
     "output_type": "stream",
     "text": [
      "Filterd Sentence: ['This', 'place', 'super', 'busy', 'book', 'table', 'We', 'lucky', 'enough', 'space', 'us', 'Originally', 'going', 'sit', 'central', 'table', 'bar', 'stools', 'staff', 'saw', 'I', 'quite', 'heavily', 'pregnant', 'gave', 'us', 'table', 'kind', 'I', 'wanted', 'try', 'food', 'always', 'packed', 'really', 'good', 'We', 'ordered', 'selection', 'plates', 'larger', 'dishes', 'like', 'paella', 'available', 'The', 'pig', 'cheeks', 'absolutely', 'delicious', 'ordered', 'another', 'plate', 'Hopefully', 'place', 'running', 'lockdown', 'able', 'enjoy', 'food', 'sunshine']\n"
     ]
    }
   ],
   "source": [
    "filtered_review=[]\n",
    "for word in tokenized_review_la_farola:\n",
    "    if word not in stop_words:\n",
    "        filtered_review.append(word)\n",
    "print(\"Filterd Sentence:\",filtered_review)"
   ]
  },
  {
   "cell_type": "code",
   "execution_count": 17,
   "metadata": {
    "ExecuteTime": {
     "end_time": "2020-07-24T10:14:04.361530Z",
     "start_time": "2020-07-24T10:14:04.049141Z"
    }
   },
   "outputs": [
    {
     "data": {
      "image/png": "[encoded data removed]",
      "text/plain": [
       "<Figure size 720x720 with 1 Axes>"
      ]
     },
     "metadata": {
      "needs_background": "light"
     },
     "output_type": "display_data"
    },
    {
     "data": {
      "text/plain": [
       "<matplotlib.axes._subplots.AxesSubplot at 0x110d3d860>"
      ]
     },
     "execution_count": 17,
     "metadata": {},
     "output_type": "execute_result"
    }
   ],
   "source": [
    "fdist = FreqDist(filtered_review)\n",
    "plt.figure(figsize=(10,10))\n",
    "fdist.plot(10)"
   ]
  },
  {
   "cell_type": "markdown",
   "metadata": {
    "ExecuteTime": {
     "end_time": "2020-07-24T10:03:31.766317Z",
     "start_time": "2020-07-24T10:03:31.761101Z"
    }
   },
   "source": [
    "## Stemming"
   ]
  },
  {
   "cell_type": "markdown",
   "metadata": {},
   "source": [
    "Remove different variations of the same word and reduces inflection"
   ]
  },
  {
   "cell_type": "code",
   "execution_count": 18,
   "metadata": {
    "ExecuteTime": {
     "end_time": "2020-07-24T10:14:04.744779Z",
     "start_time": "2020-07-24T10:14:04.740638Z"
    }
   },
   "outputs": [],
   "source": [
    "from nltk.stem import PorterStemmer"
   ]
  },
  {
   "cell_type": "code",
   "execution_count": 19,
   "metadata": {
    "ExecuteTime": {
     "end_time": "2020-07-24T10:14:04.955952Z",
     "start_time": "2020-07-24T10:14:04.944206Z"
    }
   },
   "outputs": [
    {
     "name": "stdout",
     "output_type": "stream",
     "text": [
      "['thi', 'place', 'super', 'busi', 'book', 'tabl', 'We', 'lucki', 'enough', 'space', 'us', 'origin', 'go', 'sit', 'central', 'tabl', 'bar', 'stool', 'staff', 'saw', 'I', 'quit', 'heavili', 'pregnant', 'gave', 'us', 'tabl', 'kind', 'I', 'want', 'tri', 'food', 'alway', 'pack', 'realli', 'good', 'We', 'order', 'select', 'plate', 'larger', 'dish', 'like', 'paella', 'avail', 'the', 'pig', 'cheek', 'absolut', 'delici', 'order', 'anoth', 'plate', 'hope', 'place', 'run', 'lockdown', 'abl', 'enjoy', 'food', 'sunshin']\n"
     ]
    }
   ],
   "source": [
    "ps = PorterStemmer()\n",
    "\n",
    "stemmed_review=[]\n",
    "for word in filtered_review:\n",
    "    stemmed_review.append(ps.stem(word))\n",
    "\n",
    "print(stemmed_review)"
   ]
  },
  {
   "cell_type": "code",
   "execution_count": 20,
   "metadata": {
    "ExecuteTime": {
     "end_time": "2020-07-24T10:14:05.478473Z",
     "start_time": "2020-07-24T10:14:05.145527Z"
    }
   },
   "outputs": [
    {
     "data": {
      "image/png": "[encoded data removed]",
      "text/plain": [
       "<Figure size 432x288 with 1 Axes>"
      ]
     },
     "metadata": {
      "needs_background": "light"
     },
     "output_type": "display_data"
    },
    {
     "data": {
      "text/plain": [
       "<matplotlib.axes._subplots.AxesSubplot at 0x110d9dd30>"
      ]
     },
     "execution_count": 20,
     "metadata": {},
     "output_type": "execute_result"
    }
   ],
   "source": [
    "fdist = FreqDist(stemmed_review)\n",
    "fdist.plot(30)"
   ]
  },
  {
   "cell_type": "markdown",
   "metadata": {
    "ExecuteTime": {
     "end_time": "2020-07-24T10:15:20.129229Z",
     "start_time": "2020-07-24T10:15:20.125501Z"
    }
   },
   "source": [
    "## Lemmatization"
   ]
  },
  {
   "cell_type": "markdown",
   "metadata": {},
   "source": [
    "Lemmatization returns real words. It reduces the inflected words properly ensuring that the root word belongs to the language."
   ]
  },
  {
   "cell_type": "code",
   "execution_count": 22,
   "metadata": {
    "ExecuteTime": {
     "end_time": "2020-07-24T10:16:50.043605Z",
     "start_time": "2020-07-24T10:16:50.036632Z"
    }
   },
   "outputs": [],
   "source": [
    "from nltk.stem import WordNetLemmatizer \n",
    "  \n",
    "lemmatizer = WordNetLemmatizer()"
   ]
  },
  {
   "cell_type": "code",
   "execution_count": 23,
   "metadata": {
    "ExecuteTime": {
     "end_time": "2020-07-24T10:18:47.804827Z",
     "start_time": "2020-07-24T10:18:45.656881Z"
    }
   },
   "outputs": [
    {
     "name": "stdout",
     "output_type": "stream",
     "text": [
      "['This', 'place', 'super', 'busy', 'book', 'table', 'We', 'lucky', 'enough', 'space', 'u', 'Originally', 'going', 'sit', 'central', 'table', 'bar', 'stool', 'staff', 'saw', 'I', 'quite', 'heavily', 'pregnant', 'gave', 'u', 'table', 'kind', 'I', 'wanted', 'try', 'food', 'always', 'packed', 'really', 'good', 'We', 'ordered', 'selection', 'plate', 'larger', 'dish', 'like', 'paella', 'available', 'The', 'pig', 'cheek', 'absolutely', 'delicious', 'ordered', 'another', 'plate', 'Hopefully', 'place', 'running', 'lockdown', 'able', 'enjoy', 'food', 'sunshine']\n"
     ]
    }
   ],
   "source": [
    "lemmatized_review=[]\n",
    "for word in filtered_review:\n",
    "    lemmatized_review.append(lemmatizer.lemmatize(word))\n",
    "\n",
    "print(lemmatized_review)"
   ]
  },
  {
   "cell_type": "code",
   "execution_count": 24,
   "metadata": {
    "ExecuteTime": {
     "end_time": "2020-07-24T10:20:25.477964Z",
     "start_time": "2020-07-24T10:20:25.183156Z"
    }
   },
   "outputs": [
    {
     "data": {
      "image/png": "[encoded data removed]",
      "text/plain": [
       "<Figure size 432x288 with 1 Axes>"
      ]
     },
     "metadata": {
      "needs_background": "light"
     },
     "output_type": "display_data"
    },
    {
     "data": {
      "text/plain": [
       "<matplotlib.axes._subplots.AxesSubplot at 0x1a2b2985f8>"
      ]
     },
     "execution_count": 24,
     "metadata": {},
     "output_type": "execute_result"
    }
   ],
   "source": [
    "fdist = FreqDist(lemmatized_review)\n",
    "fdist.plot(30)"
   ]
  },
  {
   "cell_type": "code",
   "execution_count": null,
   "metadata": {},
   "outputs": [],
   "source": []
  }
 ],
 "metadata": {
  "kernelspec": {
   "display_name": "Python [conda env:learn-env] *",
   "language": "python",
   "name": "conda-env-learn-env-py"
  },
  "language_info": {
   "codemirror_mode": {
    "name": "ipython",
    "version": 3
   },
   "file_extension": ".py",
   "mimetype": "text/x-python",
   "name": "python",
   "nbconvert_exporter": "python",
   "pygments_lexer": "ipython3",
   "version": "3.6.6"
  }
 },
 "nbformat": 4,
 "nbformat_minor": 2
}
