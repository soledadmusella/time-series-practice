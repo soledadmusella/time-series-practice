{
 "cells": [
  {
   "cell_type": "markdown",
   "metadata": {},
   "source": [
    "### For loops "
   ]
  },
  {
   "cell_type": "code",
   "execution_count": 3,
   "metadata": {
    "ExecuteTime": {
     "end_time": "2020-07-17T09:28:26.230072Z",
     "start_time": "2020-07-17T09:28:26.225796Z"
    }
   },
   "outputs": [],
   "source": [
    "x = range(1,10)"
   ]
  },
  {
   "cell_type": "code",
   "execution_count": 5,
   "metadata": {
    "ExecuteTime": {
     "end_time": "2020-07-17T09:28:36.292156Z",
     "start_time": "2020-07-17T09:28:36.282747Z"
    }
   },
   "outputs": [
    {
     "name": "stdout",
     "output_type": "stream",
     "text": [
      "2\n",
      "4\n",
      "6\n",
      "8\n",
      "10\n",
      "12\n",
      "14\n",
      "16\n",
      "18\n"
     ]
    }
   ],
   "source": [
    "for i in x:\n",
    "    print (i+i)"
   ]
  },
  {
   "cell_type": "code",
   "execution_count": 19,
   "metadata": {
    "ExecuteTime": {
     "end_time": "2020-07-17T09:34:23.492956Z",
     "start_time": "2020-07-17T09:34:23.486112Z"
    }
   },
   "outputs": [
    {
     "name": "stdout",
     "output_type": "stream",
     "text": [
      "1\n",
      "2\n",
      "3\n",
      "4\n"
     ]
    }
   ],
   "source": [
    "for val in x:\n",
    "    if val<5:\n",
    "         print(val) "
   ]
  },
  {
   "cell_type": "markdown",
   "metadata": {},
   "source": [
    "## Exercises:\n",
    "\n",
    "1. Build a list of the integers from 1 to 20. And then, for each number in your list, print it out if it's even; otherwise print out its double."
   ]
  },
  {
   "cell_type": "code",
   "execution_count": 29,
   "metadata": {
    "ExecuteTime": {
     "end_time": "2020-07-17T09:40:36.701793Z",
     "start_time": "2020-07-17T09:40:36.692797Z"
    }
   },
   "outputs": [
    {
     "name": "stdout",
     "output_type": "stream",
     "text": [
      "1\n",
      "2\n",
      "3\n",
      "4\n",
      "5\n",
      "6\n",
      "7\n",
      "8\n",
      "9\n",
      "10\n",
      "11\n",
      "12\n",
      "13\n",
      "14\n",
      "15\n",
      "16\n",
      "17\n",
      "18\n",
      "19\n",
      "20\n"
     ]
    }
   ],
   "source": [
    "y = range(1,21)\n",
    "for i in y:\n",
    "    print(i)"
   ]
  },
  {
   "cell_type": "code",
   "execution_count": 40,
   "metadata": {
    "ExecuteTime": {
     "end_time": "2020-07-17T10:06:58.475055Z",
     "start_time": "2020-07-17T10:06:58.466460Z"
    }
   },
   "outputs": [
    {
     "name": "stdout",
     "output_type": "stream",
     "text": [
      "2\n",
      "2\n",
      "6\n",
      "4\n",
      "10\n",
      "6\n",
      "14\n",
      "8\n",
      "18\n",
      "10\n",
      "22\n",
      "12\n",
      "26\n",
      "14\n",
      "30\n",
      "16\n",
      "34\n",
      "18\n",
      "38\n",
      "20\n"
     ]
    }
   ],
   "source": [
    "for i in y:\n",
    "    if i % 2 == 0:\n",
    "        print(i)\n",
    "        \n",
    "    else:\n",
    "        print(i+i)\n",
    "   "
   ]
  },
  {
   "cell_type": "markdown",
   "metadata": {},
   "source": [
    "2. Here is a dictionary of the classmembers' names:"
   ]
  },
  {
   "cell_type": "markdown",
   "metadata": {
    "ExecuteTime": {
     "end_time": "2020-07-17T10:08:29.657565Z",
     "start_time": "2020-07-17T10:08:29.650827Z"
    }
   },
   "source": [
    "Print out each key whose value is not equal to the length of the key."
   ]
  },
  {
   "cell_type": "code",
   "execution_count": 43,
   "metadata": {
    "ExecuteTime": {
     "end_time": "2020-07-17T10:09:24.915513Z",
     "start_time": "2020-07-17T10:09:24.911972Z"
    }
   },
   "outputs": [],
   "source": [
    "staff = {'dave': 5, 'javi': 4, 'wachira': 6, 'ioana': 5, 'dan': 9,\n",
    "         'dan k': 4}\n"
   ]
  },
  {
   "cell_type": "code",
   "execution_count": 61,
   "metadata": {
    "ExecuteTime": {
     "end_time": "2020-07-17T10:52:07.349661Z",
     "start_time": "2020-07-17T10:52:07.342116Z"
    }
   },
   "outputs": [
    {
     "data": {
      "text/plain": [
       "6"
      ]
     },
     "execution_count": 61,
     "metadata": {},
     "output_type": "execute_result"
    }
   ],
   "source": [
    "for key in staff:\n",
    "    if staff.keys() == len(staff.keys()):\n",
    "        print(key)\n",
    "        \n",
    "list(staff.keys()) \n",
    "len(list(staff.keys()))"
   ]
  },
  {
   "cell_type": "code",
   "execution_count": 64,
   "metadata": {
    "ExecuteTime": {
     "end_time": "2020-07-17T10:57:10.588728Z",
     "start_time": "2020-07-17T10:57:10.581428Z"
    }
   },
   "outputs": [
    {
     "data": {
      "text/plain": [
       "6"
      ]
     },
     "execution_count": 64,
     "metadata": {},
     "output_type": "execute_result"
    }
   ],
   "source": [
    "len(staff.items())"
   ]
  },
  {
   "cell_type": "markdown",
   "metadata": {
    "ExecuteTime": {
     "end_time": "2020-07-17T11:05:18.580321Z",
     "start_time": "2020-07-17T11:05:18.573239Z"
    }
   },
   "source": [
    "#### f-Strings\n",
    "\n",
    "f-Strings are a convenient way to bring variables into strings."
   ]
  },
  {
   "cell_type": "code",
   "execution_count": 67,
   "metadata": {
    "ExecuteTime": {
     "end_time": "2020-07-17T11:07:49.009105Z",
     "start_time": "2020-07-17T11:07:49.003366Z"
    }
   },
   "outputs": [
    {
     "name": "stdout",
     "output_type": "stream",
     "text": [
      "my name is Soledad and I am 30\n"
     ]
    }
   ],
   "source": [
    "age = 30\n",
    "name = \"Soledad\"\n",
    "print(f\"my name is {name} and I am {age}\")\n"
   ]
  },
  {
   "cell_type": "markdown",
   "metadata": {
    "ExecuteTime": {
     "end_time": "2020-07-17T11:25:53.047875Z",
     "start_time": "2020-07-17T11:25:53.036151Z"
    }
   },
   "source": [
    "### Functions"
   ]
  },
  {
   "cell_type": "code",
   "execution_count": null,
   "metadata": {},
   "outputs": [],
   "source": []
  }
 ],
 "metadata": {
  "kernelspec": {
   "display_name": "Python [conda env:learn-env] *",
   "language": "python",
   "name": "conda-env-learn-env-py"
  },
  "language_info": {
   "codemirror_mode": {
    "name": "ipython",
    "version": 3
   },
   "file_extension": ".py",
   "mimetype": "text/x-python",
   "name": "python",
   "nbconvert_exporter": "python",
   "pygments_lexer": "ipython3",
   "version": "3.6.6"
  }
 },
 "nbformat": 4,
 "nbformat_minor": 2
}
