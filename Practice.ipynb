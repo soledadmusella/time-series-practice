{
 "cells": [
  {
   "cell_type": "markdown",
   "metadata": {
    "ExecuteTime": {
     "end_time": "2020-07-10T15:11:14.826040Z",
     "start_time": "2020-07-10T15:11:14.818122Z"
    }
   },
   "source": [
    "I will do some practice with Time Series. A Series is STATIONARY when the following statical averages are COSTANT:\n",
    "\n",
    "- MEAN\n",
    "- VARIANCE\n",
    "- AUTOCORRELATION"
   ]
  },
  {
   "cell_type": "markdown",
   "metadata": {
    "ExecuteTime": {
     "end_time": "2020-07-10T15:11:27.752208Z",
     "start_time": "2020-07-10T15:11:27.743829Z"
    }
   },
   "source": [
    "If one of theese statistical concepts are not CONSTANT mean that there is not stationarity. \n",
    "Also a TIME SERIES is not STATIONARY if there is a TREND"
   ]
  },
  {
   "cell_type": "code",
   "execution_count": 1,
   "metadata": {
    "ExecuteTime": {
     "end_time": "2020-07-16T08:41:41.269798Z",
     "start_time": "2020-07-16T08:41:40.116276Z"
    }
   },
   "outputs": [],
   "source": [
    "import pandas as pd\n",
    "import numpy as np\n",
    "import matplotlib.pyplot as plt"
   ]
  },
  {
   "cell_type": "code",
   "execution_count": 2,
   "metadata": {
    "ExecuteTime": {
     "end_time": "2020-07-16T08:41:41.372231Z",
     "start_time": "2020-07-16T08:41:41.275591Z"
    }
   },
   "outputs": [
    {
     "data": {
      "text/html": [
       "<div>\n",
       "<style scoped>\n",
       "    .dataframe tbody tr th:only-of-type {\n",
       "        vertical-align: middle;\n",
       "    }\n",
       "\n",
       "    .dataframe tbody tr th {\n",
       "        vertical-align: top;\n",
       "    }\n",
       "\n",
       "    .dataframe thead th {\n",
       "        text-align: right;\n",
       "    }\n",
       "</style>\n",
       "<table border=\"1\" class=\"dataframe\">\n",
       "  <thead>\n",
       "    <tr style=\"text-align: right;\">\n",
       "      <th></th>\n",
       "      <th>date</th>\n",
       "      <th>open</th>\n",
       "      <th>high</th>\n",
       "      <th>low</th>\n",
       "      <th>close</th>\n",
       "      <th>volume</th>\n",
       "    </tr>\n",
       "  </thead>\n",
       "  <tbody>\n",
       "    <tr>\n",
       "      <th>10105</th>\n",
       "      <td>2020-04-13</td>\n",
       "      <td>290950.01</td>\n",
       "      <td>290950.01</td>\n",
       "      <td>279060.00</td>\n",
       "      <td>282800.00</td>\n",
       "      <td>565</td>\n",
       "    </tr>\n",
       "    <tr>\n",
       "      <th>10106</th>\n",
       "      <td>2020-04-14</td>\n",
       "      <td>291400.00</td>\n",
       "      <td>291533.33</td>\n",
       "      <td>286392.75</td>\n",
       "      <td>289730.26</td>\n",
       "      <td>672</td>\n",
       "    </tr>\n",
       "    <tr>\n",
       "      <th>10107</th>\n",
       "      <td>2020-04-15</td>\n",
       "      <td>284500.00</td>\n",
       "      <td>284500.00</td>\n",
       "      <td>281201.01</td>\n",
       "      <td>283750.00</td>\n",
       "      <td>562</td>\n",
       "    </tr>\n",
       "    <tr>\n",
       "      <th>10108</th>\n",
       "      <td>2020-04-16</td>\n",
       "      <td>283750.00</td>\n",
       "      <td>283750.99</td>\n",
       "      <td>278800.00</td>\n",
       "      <td>282281.99</td>\n",
       "      <td>779</td>\n",
       "    </tr>\n",
       "    <tr>\n",
       "      <th>10109</th>\n",
       "      <td>2020-04-17</td>\n",
       "      <td>289585.01</td>\n",
       "      <td>289585.01</td>\n",
       "      <td>283600.00</td>\n",
       "      <td>284400.00</td>\n",
       "      <td>819</td>\n",
       "    </tr>\n",
       "  </tbody>\n",
       "</table>\n",
       "</div>"
      ],
      "text/plain": [
       "             date       open       high        low      close  volume\n",
       "10105  2020-04-13  290950.01  290950.01  279060.00  282800.00     565\n",
       "10106  2020-04-14  291400.00  291533.33  286392.75  289730.26     672\n",
       "10107  2020-04-15  284500.00  284500.00  281201.01  283750.00     562\n",
       "10108  2020-04-16  283750.00  283750.99  278800.00  282281.99     779\n",
       "10109  2020-04-17  289585.01  289585.01  283600.00  284400.00     819"
      ]
     },
     "execution_count": 2,
     "metadata": {},
     "output_type": "execute_result"
    }
   ],
   "source": [
    "brk = pd.read_csv('/Users/soledadmusella/Desktop/time-series-practice/brk_stock_data_ copy.csv',skiprows=14)\n",
    "brk.tail()"
   ]
  },
  {
   "cell_type": "code",
   "execution_count": 3,
   "metadata": {
    "ExecuteTime": {
     "end_time": "2020-07-16T08:41:41.397238Z",
     "start_time": "2020-07-16T08:41:41.378400Z"
    }
   },
   "outputs": [
    {
     "data": {
      "text/plain": [
       "date       object\n",
       "open      float64\n",
       "high      float64\n",
       "low       float64\n",
       "close     float64\n",
       "volume      int64\n",
       "dtype: object"
      ]
     },
     "execution_count": 3,
     "metadata": {},
     "output_type": "execute_result"
    }
   ],
   "source": [
    "brk.dtypes"
   ]
  },
  {
   "cell_type": "markdown",
   "metadata": {},
   "source": [
    "First step is to reversing date format into string"
   ]
  },
  {
   "cell_type": "code",
   "execution_count": 4,
   "metadata": {
    "ExecuteTime": {
     "end_time": "2020-07-16T08:41:41.445177Z",
     "start_time": "2020-07-16T08:41:41.401300Z"
    }
   },
   "outputs": [
    {
     "name": "stdout",
     "output_type": "stream",
     "text": [
      "1980-03-17 00:00:00 datetime64[ns]\n"
     ]
    }
   ],
   "source": [
    "brk['date'] = pd.to_datetime(brk['date'],format='%Y-%m-%d')\n",
    "print(brk['date'][0],brk['date'].dtype)"
   ]
  },
  {
   "cell_type": "markdown",
   "metadata": {},
   "source": [
    "Second step is to set the date as an Index"
   ]
  },
  {
   "cell_type": "code",
   "execution_count": 5,
   "metadata": {
    "ExecuteTime": {
     "end_time": "2020-07-16T08:41:41.561204Z",
     "start_time": "2020-07-16T08:41:41.511090Z"
    }
   },
   "outputs": [
    {
     "data": {
      "text/html": [
       "<div>\n",
       "<style scoped>\n",
       "    .dataframe tbody tr th:only-of-type {\n",
       "        vertical-align: middle;\n",
       "    }\n",
       "\n",
       "    .dataframe tbody tr th {\n",
       "        vertical-align: top;\n",
       "    }\n",
       "\n",
       "    .dataframe thead th {\n",
       "        text-align: right;\n",
       "    }\n",
       "</style>\n",
       "<table border=\"1\" class=\"dataframe\">\n",
       "  <thead>\n",
       "    <tr style=\"text-align: right;\">\n",
       "      <th></th>\n",
       "      <th>open</th>\n",
       "      <th>high</th>\n",
       "      <th>low</th>\n",
       "      <th>close</th>\n",
       "      <th>volume</th>\n",
       "    </tr>\n",
       "    <tr>\n",
       "      <th>date</th>\n",
       "      <th></th>\n",
       "      <th></th>\n",
       "      <th></th>\n",
       "      <th></th>\n",
       "      <th></th>\n",
       "    </tr>\n",
       "  </thead>\n",
       "  <tbody>\n",
       "    <tr>\n",
       "      <th>1980-03-17</th>\n",
       "      <td>290.0</td>\n",
       "      <td>310.0</td>\n",
       "      <td>290.0</td>\n",
       "      <td>290.0</td>\n",
       "      <td>10000</td>\n",
       "    </tr>\n",
       "    <tr>\n",
       "      <th>1980-03-18</th>\n",
       "      <td>290.0</td>\n",
       "      <td>290.0</td>\n",
       "      <td>290.0</td>\n",
       "      <td>290.0</td>\n",
       "      <td>0</td>\n",
       "    </tr>\n",
       "    <tr>\n",
       "      <th>1980-03-19</th>\n",
       "      <td>290.0</td>\n",
       "      <td>310.0</td>\n",
       "      <td>290.0</td>\n",
       "      <td>290.0</td>\n",
       "      <td>20000</td>\n",
       "    </tr>\n",
       "  </tbody>\n",
       "</table>\n",
       "</div>"
      ],
      "text/plain": [
       "             open   high    low  close  volume\n",
       "date                                          \n",
       "1980-03-17  290.0  310.0  290.0  290.0   10000\n",
       "1980-03-18  290.0  290.0  290.0  290.0       0\n",
       "1980-03-19  290.0  310.0  290.0  290.0   20000"
      ]
     },
     "execution_count": 5,
     "metadata": {},
     "output_type": "execute_result"
    }
   ],
   "source": [
    "brk = brk.set_index('date')\n",
    "brk.head(3)"
   ]
  },
  {
   "cell_type": "markdown",
   "metadata": {
    "ExecuteTime": {
     "end_time": "2020-07-10T16:19:07.954127Z",
     "start_time": "2020-07-10T16:19:07.950507Z"
    }
   },
   "source": [
    "### First method to solve NON STATIONARITY: DIFFERENCING"
   ]
  },
  {
   "cell_type": "markdown",
   "metadata": {},
   "source": [
    "In this technique, we take the difference of an observation at a particular time instant with that at the previous instant"
   ]
  },
  {
   "cell_type": "markdown",
   "metadata": {},
   "source": [
    "Use when there is an existing trend. The drift will became the average\n",
    "- X(t)-X(t-n)\n"
   ]
  },
  {
   "cell_type": "code",
   "execution_count": 6,
   "metadata": {
    "ExecuteTime": {
     "end_time": "2020-07-16T08:41:42.704080Z",
     "start_time": "2020-07-16T08:41:42.676337Z"
    }
   },
   "outputs": [
    {
     "data": {
      "text/html": [
       "<div>\n",
       "<style scoped>\n",
       "    .dataframe tbody tr th:only-of-type {\n",
       "        vertical-align: middle;\n",
       "    }\n",
       "\n",
       "    .dataframe tbody tr th {\n",
       "        vertical-align: top;\n",
       "    }\n",
       "\n",
       "    .dataframe thead th {\n",
       "        text-align: right;\n",
       "    }\n",
       "</style>\n",
       "<table border=\"1\" class=\"dataframe\">\n",
       "  <thead>\n",
       "    <tr style=\"text-align: right;\">\n",
       "      <th></th>\n",
       "      <th>open</th>\n",
       "      <th>high</th>\n",
       "      <th>low</th>\n",
       "      <th>close</th>\n",
       "      <th>volume</th>\n",
       "      <th>volume_diff</th>\n",
       "    </tr>\n",
       "    <tr>\n",
       "      <th>date</th>\n",
       "      <th></th>\n",
       "      <th></th>\n",
       "      <th></th>\n",
       "      <th></th>\n",
       "      <th></th>\n",
       "      <th></th>\n",
       "    </tr>\n",
       "  </thead>\n",
       "  <tbody>\n",
       "    <tr>\n",
       "      <th>1980-03-17</th>\n",
       "      <td>290.0</td>\n",
       "      <td>310.0</td>\n",
       "      <td>290.0</td>\n",
       "      <td>290.0</td>\n",
       "      <td>10000</td>\n",
       "      <td>NaN</td>\n",
       "    </tr>\n",
       "    <tr>\n",
       "      <th>1980-03-18</th>\n",
       "      <td>290.0</td>\n",
       "      <td>290.0</td>\n",
       "      <td>290.0</td>\n",
       "      <td>290.0</td>\n",
       "      <td>0</td>\n",
       "      <td>-10000.0</td>\n",
       "    </tr>\n",
       "    <tr>\n",
       "      <th>1980-03-19</th>\n",
       "      <td>290.0</td>\n",
       "      <td>310.0</td>\n",
       "      <td>290.0</td>\n",
       "      <td>290.0</td>\n",
       "      <td>20000</td>\n",
       "      <td>20000.0</td>\n",
       "    </tr>\n",
       "    <tr>\n",
       "      <th>1980-03-20</th>\n",
       "      <td>290.0</td>\n",
       "      <td>290.0</td>\n",
       "      <td>290.0</td>\n",
       "      <td>290.0</td>\n",
       "      <td>0</td>\n",
       "      <td>-20000.0</td>\n",
       "    </tr>\n",
       "    <tr>\n",
       "      <th>1980-03-21</th>\n",
       "      <td>290.0</td>\n",
       "      <td>290.0</td>\n",
       "      <td>290.0</td>\n",
       "      <td>290.0</td>\n",
       "      <td>0</td>\n",
       "      <td>0.0</td>\n",
       "    </tr>\n",
       "  </tbody>\n",
       "</table>\n",
       "</div>"
      ],
      "text/plain": [
       "             open   high    low  close  volume  volume_diff\n",
       "date                                                       \n",
       "1980-03-17  290.0  310.0  290.0  290.0   10000          NaN\n",
       "1980-03-18  290.0  290.0  290.0  290.0       0     -10000.0\n",
       "1980-03-19  290.0  310.0  290.0  290.0   20000      20000.0\n",
       "1980-03-20  290.0  290.0  290.0  290.0       0     -20000.0\n",
       "1980-03-21  290.0  290.0  290.0  290.0       0          0.0"
      ]
     },
     "execution_count": 6,
     "metadata": {},
     "output_type": "execute_result"
    }
   ],
   "source": [
    "brk['volume_diff'] = brk['volume'].diff(1)\n",
    "brk.head()"
   ]
  },
  {
   "cell_type": "markdown",
   "metadata": {},
   "source": [
    "let's make it as a loop"
   ]
  },
  {
   "cell_type": "code",
   "execution_count": 7,
   "metadata": {
    "ExecuteTime": {
     "end_time": "2020-07-16T08:41:43.362086Z",
     "start_time": "2020-07-16T08:41:43.283924Z"
    }
   },
   "outputs": [
    {
     "data": {
      "text/html": [
       "<div>\n",
       "<style scoped>\n",
       "    .dataframe tbody tr th:only-of-type {\n",
       "        vertical-align: middle;\n",
       "    }\n",
       "\n",
       "    .dataframe tbody tr th {\n",
       "        vertical-align: top;\n",
       "    }\n",
       "\n",
       "    .dataframe thead th {\n",
       "        text-align: right;\n",
       "    }\n",
       "</style>\n",
       "<table border=\"1\" class=\"dataframe\">\n",
       "  <thead>\n",
       "    <tr style=\"text-align: right;\">\n",
       "      <th></th>\n",
       "      <th>close_diff</th>\n",
       "      <th>volume_diff</th>\n",
       "    </tr>\n",
       "    <tr>\n",
       "      <th>date</th>\n",
       "      <th></th>\n",
       "      <th></th>\n",
       "    </tr>\n",
       "  </thead>\n",
       "  <tbody>\n",
       "    <tr>\n",
       "      <th>1980-03-23</th>\n",
       "      <td>NaN</td>\n",
       "      <td>NaN</td>\n",
       "    </tr>\n",
       "    <tr>\n",
       "      <th>1980-03-30</th>\n",
       "      <td>-20.0</td>\n",
       "      <td>-4000.0</td>\n",
       "    </tr>\n",
       "    <tr>\n",
       "      <th>1980-04-06</th>\n",
       "      <td>-10.0</td>\n",
       "      <td>10500.0</td>\n",
       "    </tr>\n",
       "    <tr>\n",
       "      <th>1980-04-13</th>\n",
       "      <td>3.0</td>\n",
       "      <td>11500.0</td>\n",
       "    </tr>\n",
       "    <tr>\n",
       "      <th>1980-04-20</th>\n",
       "      <td>-12.0</td>\n",
       "      <td>-10000.0</td>\n",
       "    </tr>\n",
       "  </tbody>\n",
       "</table>\n",
       "</div>"
      ],
      "text/plain": [
       "            close_diff  volume_diff\n",
       "date                               \n",
       "1980-03-23         NaN          NaN\n",
       "1980-03-30       -20.0      -4000.0\n",
       "1980-04-06       -10.0      10500.0\n",
       "1980-04-13         3.0      11500.0\n",
       "1980-04-20       -12.0     -10000.0"
      ]
     },
     "execution_count": 7,
     "metadata": {},
     "output_type": "execute_result"
    }
   ],
   "source": [
    "brk = brk.resample('1w').mean()\n",
    "for col in list(['close','volume']):\n",
    "    brk[col+'_diff'] = brk[col].diff(1)\n",
    "brk[['close_diff','volume_diff']].head()"
   ]
  },
  {
   "cell_type": "code",
   "execution_count": 8,
   "metadata": {
    "ExecuteTime": {
     "end_time": "2020-07-16T08:41:43.745245Z",
     "start_time": "2020-07-16T08:41:43.730629Z"
    }
   },
   "outputs": [],
   "source": [
    "brk['prev_day_close'] =  brk['close'].shift(1)\n",
    "brk['close_diff'] =  brk['close'] - brk['prev_day_close']\n",
    "brk['daily_returns'] = (brk['close'] / brk['prev_day_close'] -1) *100"
   ]
  },
  {
   "cell_type": "code",
   "execution_count": 9,
   "metadata": {
    "ExecuteTime": {
     "end_time": "2020-07-16T08:41:44.155663Z",
     "start_time": "2020-07-16T08:41:44.135445Z"
    }
   },
   "outputs": [
    {
     "data": {
      "text/html": [
       "<div>\n",
       "<style scoped>\n",
       "    .dataframe tbody tr th:only-of-type {\n",
       "        vertical-align: middle;\n",
       "    }\n",
       "\n",
       "    .dataframe tbody tr th {\n",
       "        vertical-align: top;\n",
       "    }\n",
       "\n",
       "    .dataframe thead th {\n",
       "        text-align: right;\n",
       "    }\n",
       "</style>\n",
       "<table border=\"1\" class=\"dataframe\">\n",
       "  <thead>\n",
       "    <tr style=\"text-align: right;\">\n",
       "      <th></th>\n",
       "      <th>open</th>\n",
       "      <th>high</th>\n",
       "      <th>low</th>\n",
       "      <th>close</th>\n",
       "      <th>volume</th>\n",
       "      <th>volume_diff</th>\n",
       "      <th>close_diff</th>\n",
       "      <th>prev_day_close</th>\n",
       "      <th>daily_returns</th>\n",
       "    </tr>\n",
       "    <tr>\n",
       "      <th>date</th>\n",
       "      <th></th>\n",
       "      <th></th>\n",
       "      <th></th>\n",
       "      <th></th>\n",
       "      <th></th>\n",
       "      <th></th>\n",
       "      <th></th>\n",
       "      <th></th>\n",
       "      <th></th>\n",
       "    </tr>\n",
       "  </thead>\n",
       "  <tbody>\n",
       "    <tr>\n",
       "      <th>1980-03-23</th>\n",
       "      <td>290.0</td>\n",
       "      <td>298.0</td>\n",
       "      <td>290.0</td>\n",
       "      <td>290.0</td>\n",
       "      <td>6000.0</td>\n",
       "      <td>NaN</td>\n",
       "      <td>NaN</td>\n",
       "      <td>NaN</td>\n",
       "      <td>NaN</td>\n",
       "    </tr>\n",
       "    <tr>\n",
       "      <th>1980-03-30</th>\n",
       "      <td>274.0</td>\n",
       "      <td>274.0</td>\n",
       "      <td>270.0</td>\n",
       "      <td>270.0</td>\n",
       "      <td>2000.0</td>\n",
       "      <td>-4000.0</td>\n",
       "      <td>-20.0</td>\n",
       "      <td>290.0</td>\n",
       "      <td>-6.896552</td>\n",
       "    </tr>\n",
       "    <tr>\n",
       "      <th>1980-04-06</th>\n",
       "      <td>262.5</td>\n",
       "      <td>275.0</td>\n",
       "      <td>260.0</td>\n",
       "      <td>260.0</td>\n",
       "      <td>12500.0</td>\n",
       "      <td>10500.0</td>\n",
       "      <td>-10.0</td>\n",
       "      <td>270.0</td>\n",
       "      <td>-3.703704</td>\n",
       "    </tr>\n",
       "    <tr>\n",
       "      <th>1980-04-13</th>\n",
       "      <td>264.0</td>\n",
       "      <td>279.0</td>\n",
       "      <td>263.0</td>\n",
       "      <td>263.0</td>\n",
       "      <td>24000.0</td>\n",
       "      <td>11500.0</td>\n",
       "      <td>3.0</td>\n",
       "      <td>260.0</td>\n",
       "      <td>1.153846</td>\n",
       "    </tr>\n",
       "    <tr>\n",
       "      <th>1980-04-20</th>\n",
       "      <td>254.0</td>\n",
       "      <td>267.0</td>\n",
       "      <td>251.0</td>\n",
       "      <td>251.0</td>\n",
       "      <td>14000.0</td>\n",
       "      <td>-10000.0</td>\n",
       "      <td>-12.0</td>\n",
       "      <td>263.0</td>\n",
       "      <td>-4.562738</td>\n",
       "    </tr>\n",
       "  </tbody>\n",
       "</table>\n",
       "</div>"
      ],
      "text/plain": [
       "             open   high    low  close   volume  volume_diff  close_diff  \\\n",
       "date                                                                       \n",
       "1980-03-23  290.0  298.0  290.0  290.0   6000.0          NaN         NaN   \n",
       "1980-03-30  274.0  274.0  270.0  270.0   2000.0      -4000.0       -20.0   \n",
       "1980-04-06  262.5  275.0  260.0  260.0  12500.0      10500.0       -10.0   \n",
       "1980-04-13  264.0  279.0  263.0  263.0  24000.0      11500.0         3.0   \n",
       "1980-04-20  254.0  267.0  251.0  251.0  14000.0     -10000.0       -12.0   \n",
       "\n",
       "            prev_day_close  daily_returns  \n",
       "date                                       \n",
       "1980-03-23             NaN            NaN  \n",
       "1980-03-30           290.0      -6.896552  \n",
       "1980-04-06           270.0      -3.703704  \n",
       "1980-04-13           260.0       1.153846  \n",
       "1980-04-20           263.0      -4.562738  "
      ]
     },
     "execution_count": 9,
     "metadata": {},
     "output_type": "execute_result"
    }
   ],
   "source": [
    "brk.head()"
   ]
  },
  {
   "cell_type": "markdown",
   "metadata": {},
   "source": [
    "### Substracting the rolling mean"
   ]
  },
  {
   "cell_type": "markdown",
   "metadata": {},
   "source": [
    "With this method you can calculate the rolling mean and subtract it from the time series to make sure your time series is stationary"
   ]
  },
  {
   "cell_type": "markdown",
   "metadata": {},
   "source": [
    "By moving average/variance we mean at any point in time  𝑡 , we can take the average/variance of the  𝑚  last time periods.  𝑚  is then known as the window size."
   ]
  },
  {
   "cell_type": "code",
   "execution_count": 10,
   "metadata": {
    "ExecuteTime": {
     "end_time": "2020-07-16T08:41:45.886527Z",
     "start_time": "2020-07-16T08:41:45.864942Z"
    }
   },
   "outputs": [
    {
     "data": {
      "text/html": [
       "<div>\n",
       "<style scoped>\n",
       "    .dataframe tbody tr th:only-of-type {\n",
       "        vertical-align: middle;\n",
       "    }\n",
       "\n",
       "    .dataframe tbody tr th {\n",
       "        vertical-align: top;\n",
       "    }\n",
       "\n",
       "    .dataframe thead th {\n",
       "        text-align: right;\n",
       "    }\n",
       "</style>\n",
       "<table border=\"1\" class=\"dataframe\">\n",
       "  <thead>\n",
       "    <tr style=\"text-align: right;\">\n",
       "      <th></th>\n",
       "      <th>open</th>\n",
       "      <th>high</th>\n",
       "      <th>low</th>\n",
       "      <th>close</th>\n",
       "      <th>volume</th>\n",
       "      <th>volume_diff</th>\n",
       "      <th>close_diff</th>\n",
       "      <th>prev_day_close</th>\n",
       "      <th>daily_returns</th>\n",
       "    </tr>\n",
       "    <tr>\n",
       "      <th>date</th>\n",
       "      <th></th>\n",
       "      <th></th>\n",
       "      <th></th>\n",
       "      <th></th>\n",
       "      <th></th>\n",
       "      <th></th>\n",
       "      <th></th>\n",
       "      <th></th>\n",
       "      <th></th>\n",
       "    </tr>\n",
       "  </thead>\n",
       "  <tbody>\n",
       "    <tr>\n",
       "      <th>2020-02-16</th>\n",
       "      <td>NaN</td>\n",
       "      <td>NaN</td>\n",
       "      <td>NaN</td>\n",
       "      <td>NaN</td>\n",
       "      <td>NaN</td>\n",
       "      <td>NaN</td>\n",
       "      <td>NaN</td>\n",
       "      <td>NaN</td>\n",
       "      <td>NaN</td>\n",
       "    </tr>\n",
       "    <tr>\n",
       "      <th>2020-02-23</th>\n",
       "      <td>NaN</td>\n",
       "      <td>NaN</td>\n",
       "      <td>NaN</td>\n",
       "      <td>NaN</td>\n",
       "      <td>NaN</td>\n",
       "      <td>NaN</td>\n",
       "      <td>NaN</td>\n",
       "      <td>NaN</td>\n",
       "      <td>NaN</td>\n",
       "    </tr>\n",
       "    <tr>\n",
       "      <th>2020-03-01</th>\n",
       "      <td>NaN</td>\n",
       "      <td>NaN</td>\n",
       "      <td>NaN</td>\n",
       "      <td>NaN</td>\n",
       "      <td>NaN</td>\n",
       "      <td>NaN</td>\n",
       "      <td>NaN</td>\n",
       "      <td>NaN</td>\n",
       "      <td>NaN</td>\n",
       "    </tr>\n",
       "    <tr>\n",
       "      <th>2020-03-08</th>\n",
       "      <td>NaN</td>\n",
       "      <td>NaN</td>\n",
       "      <td>NaN</td>\n",
       "      <td>NaN</td>\n",
       "      <td>NaN</td>\n",
       "      <td>NaN</td>\n",
       "      <td>NaN</td>\n",
       "      <td>NaN</td>\n",
       "      <td>NaN</td>\n",
       "    </tr>\n",
       "    <tr>\n",
       "      <th>2020-03-15</th>\n",
       "      <td>NaN</td>\n",
       "      <td>NaN</td>\n",
       "      <td>NaN</td>\n",
       "      <td>NaN</td>\n",
       "      <td>NaN</td>\n",
       "      <td>NaN</td>\n",
       "      <td>NaN</td>\n",
       "      <td>NaN</td>\n",
       "      <td>NaN</td>\n",
       "    </tr>\n",
       "    <tr>\n",
       "      <th>2020-03-22</th>\n",
       "      <td>312907.382417</td>\n",
       "      <td>317206.514500</td>\n",
       "      <td>307659.405083</td>\n",
       "      <td>312680.964667</td>\n",
       "      <td>606.425000</td>\n",
       "      <td>154.066667</td>\n",
       "      <td>-12543.100333</td>\n",
       "      <td>325224.065000</td>\n",
       "      <td>-4.000141</td>\n",
       "    </tr>\n",
       "    <tr>\n",
       "      <th>2020-03-29</th>\n",
       "      <td>299796.849083</td>\n",
       "      <td>305444.138500</td>\n",
       "      <td>294182.247083</td>\n",
       "      <td>300054.466667</td>\n",
       "      <td>736.825000</td>\n",
       "      <td>130.400000</td>\n",
       "      <td>-12626.498000</td>\n",
       "      <td>312680.964667</td>\n",
       "      <td>-4.028892</td>\n",
       "    </tr>\n",
       "    <tr>\n",
       "      <th>2020-04-05</th>\n",
       "      <td>287486.077000</td>\n",
       "      <td>293639.589333</td>\n",
       "      <td>281659.921667</td>\n",
       "      <td>287889.633333</td>\n",
       "      <td>797.733333</td>\n",
       "      <td>60.908333</td>\n",
       "      <td>-12164.833333</td>\n",
       "      <td>300054.466667</td>\n",
       "      <td>-3.824027</td>\n",
       "    </tr>\n",
       "    <tr>\n",
       "      <th>2020-04-12</th>\n",
       "      <td>280532.366667</td>\n",
       "      <td>287045.803583</td>\n",
       "      <td>274915.355167</td>\n",
       "      <td>281460.225000</td>\n",
       "      <td>794.825000</td>\n",
       "      <td>-2.908333</td>\n",
       "      <td>-6429.408333</td>\n",
       "      <td>287889.633333</td>\n",
       "      <td>-1.970174</td>\n",
       "    </tr>\n",
       "    <tr>\n",
       "      <th>2020-04-19</th>\n",
       "      <td>275700.034000</td>\n",
       "      <td>281321.589583</td>\n",
       "      <td>270259.661833</td>\n",
       "      <td>275877.866667</td>\n",
       "      <td>837.825000</td>\n",
       "      <td>43.000000</td>\n",
       "      <td>-5582.358333</td>\n",
       "      <td>281460.225000</td>\n",
       "      <td>-1.694441</td>\n",
       "    </tr>\n",
       "  </tbody>\n",
       "</table>\n",
       "</div>"
      ],
      "text/plain": [
       "                     open           high            low          close  \\\n",
       "date                                                                     \n",
       "2020-02-16            NaN            NaN            NaN            NaN   \n",
       "2020-02-23            NaN            NaN            NaN            NaN   \n",
       "2020-03-01            NaN            NaN            NaN            NaN   \n",
       "2020-03-08            NaN            NaN            NaN            NaN   \n",
       "2020-03-15            NaN            NaN            NaN            NaN   \n",
       "2020-03-22  312907.382417  317206.514500  307659.405083  312680.964667   \n",
       "2020-03-29  299796.849083  305444.138500  294182.247083  300054.466667   \n",
       "2020-04-05  287486.077000  293639.589333  281659.921667  287889.633333   \n",
       "2020-04-12  280532.366667  287045.803583  274915.355167  281460.225000   \n",
       "2020-04-19  275700.034000  281321.589583  270259.661833  275877.866667   \n",
       "\n",
       "                volume  volume_diff    close_diff  prev_day_close  \\\n",
       "date                                                                \n",
       "2020-02-16         NaN          NaN           NaN             NaN   \n",
       "2020-02-23         NaN          NaN           NaN             NaN   \n",
       "2020-03-01         NaN          NaN           NaN             NaN   \n",
       "2020-03-08         NaN          NaN           NaN             NaN   \n",
       "2020-03-15         NaN          NaN           NaN             NaN   \n",
       "2020-03-22  606.425000   154.066667 -12543.100333   325224.065000   \n",
       "2020-03-29  736.825000   130.400000 -12626.498000   312680.964667   \n",
       "2020-04-05  797.733333    60.908333 -12164.833333   300054.466667   \n",
       "2020-04-12  794.825000    -2.908333  -6429.408333   287889.633333   \n",
       "2020-04-19  837.825000    43.000000  -5582.358333   281460.225000   \n",
       "\n",
       "            daily_returns  \n",
       "date                       \n",
       "2020-02-16            NaN  \n",
       "2020-02-23            NaN  \n",
       "2020-03-01            NaN  \n",
       "2020-03-08            NaN  \n",
       "2020-03-15            NaN  \n",
       "2020-03-22      -4.000141  \n",
       "2020-03-29      -4.028892  \n",
       "2020-04-05      -3.824027  \n",
       "2020-04-12      -1.970174  \n",
       "2020-04-19      -1.694441  "
      ]
     },
     "execution_count": 10,
     "metadata": {},
     "output_type": "execute_result"
    }
   ],
   "source": [
    "brk[-10:].rolling(window = 6).mean()"
   ]
  },
  {
   "cell_type": "code",
   "execution_count": 11,
   "metadata": {
    "ExecuteTime": {
     "end_time": "2020-07-16T08:41:46.086451Z",
     "start_time": "2020-07-16T08:41:46.061987Z"
    }
   },
   "outputs": [
    {
     "data": {
      "text/html": [
       "<div>\n",
       "<style scoped>\n",
       "    .dataframe tbody tr th:only-of-type {\n",
       "        vertical-align: middle;\n",
       "    }\n",
       "\n",
       "    .dataframe tbody tr th {\n",
       "        vertical-align: top;\n",
       "    }\n",
       "\n",
       "    .dataframe thead th {\n",
       "        text-align: right;\n",
       "    }\n",
       "</style>\n",
       "<table border=\"1\" class=\"dataframe\">\n",
       "  <thead>\n",
       "    <tr style=\"text-align: right;\">\n",
       "      <th></th>\n",
       "      <th>open</th>\n",
       "      <th>high</th>\n",
       "      <th>low</th>\n",
       "      <th>close</th>\n",
       "      <th>volume</th>\n",
       "      <th>volume_diff</th>\n",
       "      <th>close_diff</th>\n",
       "      <th>prev_day_close</th>\n",
       "      <th>daily_returns</th>\n",
       "    </tr>\n",
       "    <tr>\n",
       "      <th>date</th>\n",
       "      <th></th>\n",
       "      <th></th>\n",
       "      <th></th>\n",
       "      <th></th>\n",
       "      <th></th>\n",
       "      <th></th>\n",
       "      <th></th>\n",
       "      <th></th>\n",
       "      <th></th>\n",
       "    </tr>\n",
       "  </thead>\n",
       "  <tbody>\n",
       "    <tr>\n",
       "      <th>2020-02-16</th>\n",
       "      <td>NaN</td>\n",
       "      <td>NaN</td>\n",
       "      <td>NaN</td>\n",
       "      <td>NaN</td>\n",
       "      <td>NaN</td>\n",
       "      <td>NaN</td>\n",
       "      <td>NaN</td>\n",
       "      <td>NaN</td>\n",
       "      <td>NaN</td>\n",
       "    </tr>\n",
       "    <tr>\n",
       "      <th>2020-02-23</th>\n",
       "      <td>NaN</td>\n",
       "      <td>NaN</td>\n",
       "      <td>NaN</td>\n",
       "      <td>NaN</td>\n",
       "      <td>NaN</td>\n",
       "      <td>NaN</td>\n",
       "      <td>NaN</td>\n",
       "      <td>NaN</td>\n",
       "      <td>NaN</td>\n",
       "    </tr>\n",
       "    <tr>\n",
       "      <th>2020-03-01</th>\n",
       "      <td>NaN</td>\n",
       "      <td>NaN</td>\n",
       "      <td>NaN</td>\n",
       "      <td>NaN</td>\n",
       "      <td>NaN</td>\n",
       "      <td>NaN</td>\n",
       "      <td>NaN</td>\n",
       "      <td>NaN</td>\n",
       "      <td>NaN</td>\n",
       "    </tr>\n",
       "    <tr>\n",
       "      <th>2020-03-08</th>\n",
       "      <td>NaN</td>\n",
       "      <td>NaN</td>\n",
       "      <td>NaN</td>\n",
       "      <td>NaN</td>\n",
       "      <td>NaN</td>\n",
       "      <td>NaN</td>\n",
       "      <td>NaN</td>\n",
       "      <td>NaN</td>\n",
       "      <td>NaN</td>\n",
       "    </tr>\n",
       "    <tr>\n",
       "      <th>2020-03-15</th>\n",
       "      <td>NaN</td>\n",
       "      <td>NaN</td>\n",
       "      <td>NaN</td>\n",
       "      <td>NaN</td>\n",
       "      <td>NaN</td>\n",
       "      <td>NaN</td>\n",
       "      <td>NaN</td>\n",
       "      <td>NaN</td>\n",
       "      <td>NaN</td>\n",
       "    </tr>\n",
       "    <tr>\n",
       "      <th>2020-03-22</th>\n",
       "      <td>NaN</td>\n",
       "      <td>NaN</td>\n",
       "      <td>NaN</td>\n",
       "      <td>NaN</td>\n",
       "      <td>NaN</td>\n",
       "      <td>NaN</td>\n",
       "      <td>NaN</td>\n",
       "      <td>NaN</td>\n",
       "      <td>NaN</td>\n",
       "    </tr>\n",
       "    <tr>\n",
       "      <th>2020-03-29</th>\n",
       "      <td>NaN</td>\n",
       "      <td>NaN</td>\n",
       "      <td>NaN</td>\n",
       "      <td>NaN</td>\n",
       "      <td>NaN</td>\n",
       "      <td>NaN</td>\n",
       "      <td>NaN</td>\n",
       "      <td>NaN</td>\n",
       "      <td>NaN</td>\n",
       "    </tr>\n",
       "    <tr>\n",
       "      <th>2020-04-05</th>\n",
       "      <td>NaN</td>\n",
       "      <td>NaN</td>\n",
       "      <td>NaN</td>\n",
       "      <td>NaN</td>\n",
       "      <td>NaN</td>\n",
       "      <td>NaN</td>\n",
       "      <td>NaN</td>\n",
       "      <td>NaN</td>\n",
       "      <td>NaN</td>\n",
       "    </tr>\n",
       "    <tr>\n",
       "      <th>2020-04-12</th>\n",
       "      <td>NaN</td>\n",
       "      <td>NaN</td>\n",
       "      <td>NaN</td>\n",
       "      <td>NaN</td>\n",
       "      <td>NaN</td>\n",
       "      <td>NaN</td>\n",
       "      <td>NaN</td>\n",
       "      <td>NaN</td>\n",
       "      <td>NaN</td>\n",
       "    </tr>\n",
       "    <tr>\n",
       "      <th>2020-04-19</th>\n",
       "      <td>NaN</td>\n",
       "      <td>NaN</td>\n",
       "      <td>NaN</td>\n",
       "      <td>NaN</td>\n",
       "      <td>NaN</td>\n",
       "      <td>NaN</td>\n",
       "      <td>NaN</td>\n",
       "      <td>NaN</td>\n",
       "      <td>NaN</td>\n",
       "    </tr>\n",
       "  </tbody>\n",
       "</table>\n",
       "</div>"
      ],
      "text/plain": [
       "            open  high  low  close  volume  volume_diff  close_diff  \\\n",
       "date                                                                  \n",
       "2020-02-16   NaN   NaN  NaN    NaN     NaN          NaN         NaN   \n",
       "2020-02-23   NaN   NaN  NaN    NaN     NaN          NaN         NaN   \n",
       "2020-03-01   NaN   NaN  NaN    NaN     NaN          NaN         NaN   \n",
       "2020-03-08   NaN   NaN  NaN    NaN     NaN          NaN         NaN   \n",
       "2020-03-15   NaN   NaN  NaN    NaN     NaN          NaN         NaN   \n",
       "2020-03-22   NaN   NaN  NaN    NaN     NaN          NaN         NaN   \n",
       "2020-03-29   NaN   NaN  NaN    NaN     NaN          NaN         NaN   \n",
       "2020-04-05   NaN   NaN  NaN    NaN     NaN          NaN         NaN   \n",
       "2020-04-12   NaN   NaN  NaN    NaN     NaN          NaN         NaN   \n",
       "2020-04-19   NaN   NaN  NaN    NaN     NaN          NaN         NaN   \n",
       "\n",
       "            prev_day_close  daily_returns  \n",
       "date                                       \n",
       "2020-02-16             NaN            NaN  \n",
       "2020-02-23             NaN            NaN  \n",
       "2020-03-01             NaN            NaN  \n",
       "2020-03-08             NaN            NaN  \n",
       "2020-03-15             NaN            NaN  \n",
       "2020-03-22             NaN            NaN  \n",
       "2020-03-29             NaN            NaN  \n",
       "2020-04-05             NaN            NaN  \n",
       "2020-04-12             NaN            NaN  \n",
       "2020-04-19             NaN            NaN  "
      ]
     },
     "execution_count": 11,
     "metadata": {},
     "output_type": "execute_result"
    }
   ],
   "source": [
    "brk[-10:].rolling(window = '6d',min_periods=6).mean()"
   ]
  },
  {
   "cell_type": "markdown",
   "metadata": {},
   "source": [
    "### Checking for Stationarity: The Dickey-Fuller Test"
   ]
  },
  {
   "cell_type": "markdown",
   "metadata": {},
   "source": [
    "The Dickey-Fuller test is a statistical test for testing stationarity. The null-hypothesis for the test is that the time series is not stationary. So if the test statistic is less than the critical value, we reject the null hypothesis and say that the series is stationary."
   ]
  },
  {
   "cell_type": "code",
   "execution_count": 12,
   "metadata": {
    "ExecuteTime": {
     "end_time": "2020-07-16T08:41:47.686460Z",
     "start_time": "2020-07-16T08:41:47.058176Z"
    }
   },
   "outputs": [],
   "source": [
    "from statsmodels.tsa.stattools import adfuller\n"
   ]
  },
  {
   "cell_type": "code",
   "execution_count": 13,
   "metadata": {
    "ExecuteTime": {
     "end_time": "2020-07-16T08:41:48.867760Z",
     "start_time": "2020-07-16T08:41:48.424532Z"
    }
   },
   "outputs": [
    {
     "data": {
      "text/plain": [
       "<matplotlib.axes._subplots.AxesSubplot at 0x1c1657a1d0>"
      ]
     },
     "execution_count": 13,
     "metadata": {},
     "output_type": "execute_result"
    },
    {
     "data": {
      "image/png": "[encoded data removed]",
      "text/plain": [
       "<Figure size 432x288 with 1 Axes>"
      ]
     },
     "metadata": {
      "needs_background": "light"
     },
     "output_type": "display_data"
    }
   ],
   "source": [
    "brk = brk.resample('1w').mean()\n",
    "ts = brk['close']\n",
    "ts.plot()"
   ]
  },
  {
   "cell_type": "code",
   "execution_count": 17,
   "metadata": {
    "ExecuteTime": {
     "end_time": "2020-07-16T08:53:26.026561Z",
     "start_time": "2020-07-16T08:53:25.911924Z"
    }
   },
   "outputs": [
    {
     "data": {
      "text/plain": [
       "(1.7387387886846526,\n",
       " 0.9982194516556845,\n",
       " 26,\n",
       " 2065,\n",
       " {'1%': -3.4335206767270354,\n",
       "  '5%': -2.862940658476002,\n",
       "  '10%': -2.5675156466298095},\n",
       " 38099.688098799576)"
      ]
     },
     "execution_count": 17,
     "metadata": {},
     "output_type": "execute_result"
    }
   ],
   "source": [
    "from statsmodels.tsa.stattools import adfuller\n",
    "adfuller(ts)"
   ]
  },
  {
   "cell_type": "code",
   "execution_count": null,
   "metadata": {},
   "outputs": [],
   "source": [
    "# first value is the test statistic : 1.738738788684652\n",
    "# is much higher that all the values that we have for alfa that is the critical value 1%': -3.4335206767270354,\n",
    "# '5%': -2.862940658476002,\n",
    "# '10%': -2.5675156466298095\n",
    "# This mean that we have to reject the null hp of stationarity "
   ]
  },
  {
   "cell_type": "markdown",
   "metadata": {},
   "source": [
    "The time series is not stationary"
   ]
  },
  {
   "cell_type": "markdown",
   "metadata": {},
   "source": [
    "### Detrending"
   ]
  },
  {
   "cell_type": "markdown",
   "metadata": {},
   "source": [
    "### log"
   ]
  },
  {
   "cell_type": "code",
   "execution_count": 15,
   "metadata": {
    "ExecuteTime": {
     "end_time": "2020-07-16T08:49:49.146858Z",
     "start_time": "2020-07-16T08:49:48.715770Z"
    }
   },
   "outputs": [
    {
     "data": {
      "text/plain": [
       "0.006375347657070067"
      ]
     },
     "execution_count": 15,
     "metadata": {},
     "output_type": "execute_result"
    },
    {
     "data": {
      "image/png": "[encoded data removed]",
      "text/plain": [
       "<Figure size 432x288 with 1 Axes>"
      ]
     },
     "metadata": {
      "needs_background": "light"
     },
     "output_type": "display_data"
    }
   ],
   "source": [
    "ts_log = np.log10(ts)\n",
    "ts_log.plot()\n",
    "adfuller(ts_log)[1]"
   ]
  },
  {
   "cell_type": "code",
   "execution_count": 16,
   "metadata": {
    "ExecuteTime": {
     "end_time": "2020-07-16T08:51:58.723535Z",
     "start_time": "2020-07-16T08:51:58.719817Z"
    }
   },
   "outputs": [],
   "source": [
    "# after applying log to our data is possible to see that the time series is not anymore steep as it was before\n",
    "# and become much flatter"
   ]
  },
  {
   "cell_type": "code",
   "execution_count": 18,
   "metadata": {
    "ExecuteTime": {
     "end_time": "2020-07-16T08:53:39.238649Z",
     "start_time": "2020-07-16T08:53:39.128363Z"
    }
   },
   "outputs": [
    {
     "data": {
      "text/plain": [
       "(-3.56932201220813,\n",
       " 0.006375347657070067,\n",
       " 2,\n",
       " 2089,\n",
       " {'1%': -3.4334842047036167,\n",
       "  '5%': -2.8629245552811486,\n",
       "  '10%': -2.5675070726005353},\n",
       " -12837.023226421727)"
      ]
     },
     "execution_count": 18,
     "metadata": {},
     "output_type": "execute_result"
    }
   ],
   "source": [
    "from statsmodels.tsa.stattools import adfuller\n",
    "adfuller(ts_log)"
   ]
  },
  {
   "cell_type": "code",
   "execution_count": 19,
   "metadata": {
    "ExecuteTime": {
     "end_time": "2020-07-16T08:54:51.124227Z",
     "start_time": "2020-07-16T08:54:51.120486Z"
    }
   },
   "outputs": [],
   "source": [
    "# if I calculate again adfuller test I can see that now the test statistic is much lower than before: -3.56932201220813\n",
    "# and I can reject the null hp for all the 3 values of alpha"
   ]
  },
  {
   "cell_type": "code",
   "execution_count": 20,
   "metadata": {
    "ExecuteTime": {
     "end_time": "2020-07-16T08:55:39.367855Z",
     "start_time": "2020-07-16T08:55:39.363468Z"
    }
   },
   "outputs": [],
   "source": [
    "# I still have a trend but DK Fuller is not that good in detecting trends"
   ]
  },
  {
   "cell_type": "markdown",
   "metadata": {
    "ExecuteTime": {
     "end_time": "2020-07-15T16:41:27.440545Z",
     "start_time": "2020-07-15T16:41:27.437277Z"
    }
   },
   "source": [
    "### Decomposing"
   ]
  },
  {
   "cell_type": "code",
   "execution_count": 30,
   "metadata": {
    "ExecuteTime": {
     "end_time": "2020-07-15T16:47:20.212528Z",
     "start_time": "2020-07-15T16:47:19.556287Z"
    },
    "scrolled": true
   },
   "outputs": [
    {
     "name": "stdout",
     "output_type": "stream",
     "text": [
      "80531.6179403257 1.0000515794553082 0.9972339488739259\n"
     ]
    },
    {
     "data": {
      "image/png": "[encoded data removed]",
      "text/plain": [
       "<Figure size 432x288 with 1 Axes>"
      ]
     },
     "metadata": {
      "needs_background": "light"
     },
     "output_type": "display_data"
    },
    {
     "data": {
      "image/png": "[encoded data removed]",
      "text/plain": [
       "<Figure size 432x288 with 1 Axes>"
      ]
     },
     "metadata": {
      "needs_background": "light"
     },
     "output_type": "display_data"
    }
   ],
   "source": [
    "from statsmodels.tsa.seasonal import seasonal_decompose\n",
    "decomposition = seasonal_decompose(ts,model='multiplicative')\n",
    "\n",
    "trend = decomposition.trend\n",
    "seasonal = decomposition.seasonal\n",
    "residual = decomposition.resid\n",
    "\n",
    "print(trend.mean(),seasonal.mean(),residual.mean())\n",
    "\n",
    "trend.plot()\n",
    "plt.show()\n",
    "seasonal.plot()\n",
    "residual.plot()\n",
    "plt.show()\n"
   ]
  },
  {
   "cell_type": "code",
   "execution_count": 21,
   "metadata": {
    "ExecuteTime": {
     "end_time": "2020-07-16T09:06:29.557183Z",
     "start_time": "2020-07-16T09:06:28.870727Z"
    }
   },
   "outputs": [
    {
     "name": "stdout",
     "output_type": "stream",
     "text": [
      "4.457514455213187 1.0000056104038584 1.000053951397574\n"
     ]
    },
    {
     "data": {
      "image/png": "[encoded data removed]",
      "text/plain": [
       "<Figure size 432x288 with 1 Axes>"
      ]
     },
     "metadata": {
      "needs_background": "light"
     },
     "output_type": "display_data"
    },
    {
     "data": {
      "image/png": "[encoded data removed]",
      "text/plain": [
       "<Figure size 432x288 with 1 Axes>"
      ]
     },
     "metadata": {
      "needs_background": "light"
     },
     "output_type": "display_data"
    }
   ],
   "source": [
    "from statsmodels.tsa.seasonal import seasonal_decompose\n",
    "decomposition = seasonal_decompose(ts_log,model='multiplicative')\n",
    "\n",
    "trend = decomposition.trend\n",
    "seasonal = decomposition.seasonal\n",
    "residual = decomposition.resid\n",
    "\n",
    "print(trend.mean(),seasonal.mean(),residual.mean())\n",
    "\n",
    "trend.plot()\n",
    "plt.show()\n",
    "seasonal.plot()\n",
    "residual.plot()\n",
    "plt.show()"
   ]
  },
  {
   "cell_type": "code",
   "execution_count": 22,
   "metadata": {
    "ExecuteTime": {
     "end_time": "2020-07-16T09:07:54.725355Z",
     "start_time": "2020-07-16T09:07:54.720655Z"
    }
   },
   "outputs": [],
   "source": [
    "# this time by applying the decomposition to ts_log I can see that the time series is less steep"
   ]
  },
  {
   "cell_type": "code",
   "execution_count": null,
   "metadata": {},
   "outputs": [],
   "source": []
  }
 ],
 "metadata": {
  "kernelspec": {
   "display_name": "Python [conda env:learn-env] *",
   "language": "python",
   "name": "conda-env-learn-env-py"
  },
  "language_info": {
   "codemirror_mode": {
    "name": "ipython",
    "version": 3
   },
   "file_extension": ".py",
   "mimetype": "text/x-python",
   "name": "python",
   "nbconvert_exporter": "python",
   "pygments_lexer": "ipython3",
   "version": "3.6.6"
  }
 },
 "nbformat": 4,
 "nbformat_minor": 2
}
